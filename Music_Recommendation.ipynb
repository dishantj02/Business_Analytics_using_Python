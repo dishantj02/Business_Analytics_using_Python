{
 "cells": [
  {
   "cell_type": "code",
   "execution_count": 24,
   "id": "0d8bd27e",
   "metadata": {},
   "outputs": [],
   "source": [
    "import numpy as np \n",
    "import pandas as pd\n",
    "import seaborn as sns\n",
    "import matplotlib.pyplot as plt"
   ]
  },
  {
   "cell_type": "code",
   "execution_count": 25,
   "id": "29231939",
   "metadata": {},
   "outputs": [],
   "source": [
    "data = pd.read_csv(r\"C:\\Users\\disha\\Downloads\\Musicdata.csv\")\n",
    "data_by_genre = pd.read_csv(r\"C:\\Users\\disha\\Downloads\\data_by_genres.csv\")\n",
    "data_by_year = pd.read_csv(r\"C:\\Users\\disha\\Downloads\\data_by_year.csv\")\n"
   ]
  },
  {
   "cell_type": "code",
   "execution_count": 26,
   "id": "c433a445",
   "metadata": {},
   "outputs": [
    {
     "data": {
      "text/html": [
       "<div>\n",
       "<style scoped>\n",
       "    .dataframe tbody tr th:only-of-type {\n",
       "        vertical-align: middle;\n",
       "    }\n",
       "\n",
       "    .dataframe tbody tr th {\n",
       "        vertical-align: top;\n",
       "    }\n",
       "\n",
       "    .dataframe thead th {\n",
       "        text-align: right;\n",
       "    }\n",
       "</style>\n",
       "<table border=\"1\" class=\"dataframe\">\n",
       "  <thead>\n",
       "    <tr style=\"text-align: right;\">\n",
       "      <th></th>\n",
       "      <th>valence</th>\n",
       "      <th>year</th>\n",
       "      <th>acousticness</th>\n",
       "      <th>artists</th>\n",
       "      <th>danceability</th>\n",
       "      <th>duration_ms</th>\n",
       "      <th>energy</th>\n",
       "      <th>explicit</th>\n",
       "      <th>id</th>\n",
       "      <th>instrumentalness</th>\n",
       "      <th>key</th>\n",
       "      <th>liveness</th>\n",
       "      <th>loudness</th>\n",
       "      <th>mode</th>\n",
       "      <th>name</th>\n",
       "      <th>popularity</th>\n",
       "      <th>release_date</th>\n",
       "      <th>speechiness</th>\n",
       "      <th>tempo</th>\n",
       "    </tr>\n",
       "  </thead>\n",
       "  <tbody>\n",
       "    <tr>\n",
       "      <th>0</th>\n",
       "      <td>0.0594</td>\n",
       "      <td>1921</td>\n",
       "      <td>0.982</td>\n",
       "      <td>['Sergei Rachmaninoff', 'James Levine', 'Berli...</td>\n",
       "      <td>0.279</td>\n",
       "      <td>831667</td>\n",
       "      <td>0.211</td>\n",
       "      <td>0</td>\n",
       "      <td>4BJqT0PrAfrxzMOxytFOIz</td>\n",
       "      <td>0.878000</td>\n",
       "      <td>10</td>\n",
       "      <td>0.665</td>\n",
       "      <td>-20.096</td>\n",
       "      <td>1</td>\n",
       "      <td>Piano Concerto No. 3 in D Minor, Op. 30: III. ...</td>\n",
       "      <td>4</td>\n",
       "      <td>1921</td>\n",
       "      <td>0.0366</td>\n",
       "      <td>80.954</td>\n",
       "    </tr>\n",
       "    <tr>\n",
       "      <th>1</th>\n",
       "      <td>0.9630</td>\n",
       "      <td>1921</td>\n",
       "      <td>0.732</td>\n",
       "      <td>['Dennis Day']</td>\n",
       "      <td>0.819</td>\n",
       "      <td>180533</td>\n",
       "      <td>0.341</td>\n",
       "      <td>0</td>\n",
       "      <td>7xPhfUan2yNtyFG0cUWkt8</td>\n",
       "      <td>0.000000</td>\n",
       "      <td>7</td>\n",
       "      <td>0.160</td>\n",
       "      <td>-12.441</td>\n",
       "      <td>1</td>\n",
       "      <td>Clancy Lowered the Boom</td>\n",
       "      <td>5</td>\n",
       "      <td>1921</td>\n",
       "      <td>0.4150</td>\n",
       "      <td>60.936</td>\n",
       "    </tr>\n",
       "    <tr>\n",
       "      <th>2</th>\n",
       "      <td>0.0394</td>\n",
       "      <td>1921</td>\n",
       "      <td>0.961</td>\n",
       "      <td>['KHP Kridhamardawa Karaton Ngayogyakarta Hadi...</td>\n",
       "      <td>0.328</td>\n",
       "      <td>500062</td>\n",
       "      <td>0.166</td>\n",
       "      <td>0</td>\n",
       "      <td>1o6I8BglA6ylDMrIELygv1</td>\n",
       "      <td>0.913000</td>\n",
       "      <td>3</td>\n",
       "      <td>0.101</td>\n",
       "      <td>-14.850</td>\n",
       "      <td>1</td>\n",
       "      <td>Gati Bali</td>\n",
       "      <td>5</td>\n",
       "      <td>1921</td>\n",
       "      <td>0.0339</td>\n",
       "      <td>110.339</td>\n",
       "    </tr>\n",
       "    <tr>\n",
       "      <th>3</th>\n",
       "      <td>0.1650</td>\n",
       "      <td>1921</td>\n",
       "      <td>0.967</td>\n",
       "      <td>['Frank Parker']</td>\n",
       "      <td>0.275</td>\n",
       "      <td>210000</td>\n",
       "      <td>0.309</td>\n",
       "      <td>0</td>\n",
       "      <td>3ftBPsC5vPBKxYSee08FDH</td>\n",
       "      <td>0.000028</td>\n",
       "      <td>5</td>\n",
       "      <td>0.381</td>\n",
       "      <td>-9.316</td>\n",
       "      <td>1</td>\n",
       "      <td>Danny Boy</td>\n",
       "      <td>3</td>\n",
       "      <td>1921</td>\n",
       "      <td>0.0354</td>\n",
       "      <td>100.109</td>\n",
       "    </tr>\n",
       "    <tr>\n",
       "      <th>4</th>\n",
       "      <td>0.2530</td>\n",
       "      <td>1921</td>\n",
       "      <td>0.957</td>\n",
       "      <td>['Phil Regan']</td>\n",
       "      <td>0.418</td>\n",
       "      <td>166693</td>\n",
       "      <td>0.193</td>\n",
       "      <td>0</td>\n",
       "      <td>4d6HGyGT8e121BsdKmw9v6</td>\n",
       "      <td>0.000002</td>\n",
       "      <td>3</td>\n",
       "      <td>0.229</td>\n",
       "      <td>-10.096</td>\n",
       "      <td>1</td>\n",
       "      <td>When Irish Eyes Are Smiling</td>\n",
       "      <td>2</td>\n",
       "      <td>1921</td>\n",
       "      <td>0.0380</td>\n",
       "      <td>101.665</td>\n",
       "    </tr>\n",
       "  </tbody>\n",
       "</table>\n",
       "</div>"
      ],
      "text/plain": [
       "   valence  year  acousticness  \\\n",
       "0   0.0594  1921         0.982   \n",
       "1   0.9630  1921         0.732   \n",
       "2   0.0394  1921         0.961   \n",
       "3   0.1650  1921         0.967   \n",
       "4   0.2530  1921         0.957   \n",
       "\n",
       "                                             artists  danceability  \\\n",
       "0  ['Sergei Rachmaninoff', 'James Levine', 'Berli...         0.279   \n",
       "1                                     ['Dennis Day']         0.819   \n",
       "2  ['KHP Kridhamardawa Karaton Ngayogyakarta Hadi...         0.328   \n",
       "3                                   ['Frank Parker']         0.275   \n",
       "4                                     ['Phil Regan']         0.418   \n",
       "\n",
       "   duration_ms  energy  explicit                      id  instrumentalness  \\\n",
       "0       831667   0.211         0  4BJqT0PrAfrxzMOxytFOIz          0.878000   \n",
       "1       180533   0.341         0  7xPhfUan2yNtyFG0cUWkt8          0.000000   \n",
       "2       500062   0.166         0  1o6I8BglA6ylDMrIELygv1          0.913000   \n",
       "3       210000   0.309         0  3ftBPsC5vPBKxYSee08FDH          0.000028   \n",
       "4       166693   0.193         0  4d6HGyGT8e121BsdKmw9v6          0.000002   \n",
       "\n",
       "   key  liveness  loudness  mode  \\\n",
       "0   10     0.665   -20.096     1   \n",
       "1    7     0.160   -12.441     1   \n",
       "2    3     0.101   -14.850     1   \n",
       "3    5     0.381    -9.316     1   \n",
       "4    3     0.229   -10.096     1   \n",
       "\n",
       "                                                name  popularity release_date  \\\n",
       "0  Piano Concerto No. 3 in D Minor, Op. 30: III. ...           4         1921   \n",
       "1                            Clancy Lowered the Boom           5         1921   \n",
       "2                                          Gati Bali           5         1921   \n",
       "3                                          Danny Boy           3         1921   \n",
       "4                        When Irish Eyes Are Smiling           2         1921   \n",
       "\n",
       "   speechiness    tempo  \n",
       "0       0.0366   80.954  \n",
       "1       0.4150   60.936  \n",
       "2       0.0339  110.339  \n",
       "3       0.0354  100.109  \n",
       "4       0.0380  101.665  "
      ]
     },
     "execution_count": 26,
     "metadata": {},
     "output_type": "execute_result"
    }
   ],
   "source": [
    "data.head()"
   ]
  },
  {
   "cell_type": "code",
   "execution_count": 27,
   "id": "fac951ec",
   "metadata": {},
   "outputs": [
    {
     "data": {
      "text/html": [
       "<div>\n",
       "<style scoped>\n",
       "    .dataframe tbody tr th:only-of-type {\n",
       "        vertical-align: middle;\n",
       "    }\n",
       "\n",
       "    .dataframe tbody tr th {\n",
       "        vertical-align: top;\n",
       "    }\n",
       "\n",
       "    .dataframe thead th {\n",
       "        text-align: right;\n",
       "    }\n",
       "</style>\n",
       "<table border=\"1\" class=\"dataframe\">\n",
       "  <thead>\n",
       "    <tr style=\"text-align: right;\">\n",
       "      <th></th>\n",
       "      <th>mode</th>\n",
       "      <th>genres</th>\n",
       "      <th>acousticness</th>\n",
       "      <th>danceability</th>\n",
       "      <th>duration_ms</th>\n",
       "      <th>energy</th>\n",
       "      <th>instrumentalness</th>\n",
       "      <th>liveness</th>\n",
       "      <th>loudness</th>\n",
       "      <th>speechiness</th>\n",
       "      <th>tempo</th>\n",
       "      <th>valence</th>\n",
       "      <th>popularity</th>\n",
       "      <th>key</th>\n",
       "    </tr>\n",
       "  </thead>\n",
       "  <tbody>\n",
       "    <tr>\n",
       "      <th>0</th>\n",
       "      <td>1</td>\n",
       "      <td>21st century classical</td>\n",
       "      <td>0.979333</td>\n",
       "      <td>0.162883</td>\n",
       "      <td>1.602977e+05</td>\n",
       "      <td>0.071317</td>\n",
       "      <td>0.606834</td>\n",
       "      <td>0.361600</td>\n",
       "      <td>-31.514333</td>\n",
       "      <td>0.040567</td>\n",
       "      <td>75.336500</td>\n",
       "      <td>0.103783</td>\n",
       "      <td>27.833333</td>\n",
       "      <td>6</td>\n",
       "    </tr>\n",
       "    <tr>\n",
       "      <th>1</th>\n",
       "      <td>1</td>\n",
       "      <td>432hz</td>\n",
       "      <td>0.494780</td>\n",
       "      <td>0.299333</td>\n",
       "      <td>1.048887e+06</td>\n",
       "      <td>0.450678</td>\n",
       "      <td>0.477762</td>\n",
       "      <td>0.131000</td>\n",
       "      <td>-16.854000</td>\n",
       "      <td>0.076817</td>\n",
       "      <td>120.285667</td>\n",
       "      <td>0.221750</td>\n",
       "      <td>52.500000</td>\n",
       "      <td>5</td>\n",
       "    </tr>\n",
       "    <tr>\n",
       "      <th>2</th>\n",
       "      <td>1</td>\n",
       "      <td>8-bit</td>\n",
       "      <td>0.762000</td>\n",
       "      <td>0.712000</td>\n",
       "      <td>1.151770e+05</td>\n",
       "      <td>0.818000</td>\n",
       "      <td>0.876000</td>\n",
       "      <td>0.126000</td>\n",
       "      <td>-9.180000</td>\n",
       "      <td>0.047000</td>\n",
       "      <td>133.444000</td>\n",
       "      <td>0.975000</td>\n",
       "      <td>48.000000</td>\n",
       "      <td>7</td>\n",
       "    </tr>\n",
       "    <tr>\n",
       "      <th>3</th>\n",
       "      <td>1</td>\n",
       "      <td>[]</td>\n",
       "      <td>0.651417</td>\n",
       "      <td>0.529093</td>\n",
       "      <td>2.328809e+05</td>\n",
       "      <td>0.419146</td>\n",
       "      <td>0.205309</td>\n",
       "      <td>0.218696</td>\n",
       "      <td>-12.288965</td>\n",
       "      <td>0.107872</td>\n",
       "      <td>112.857352</td>\n",
       "      <td>0.513604</td>\n",
       "      <td>20.859882</td>\n",
       "      <td>7</td>\n",
       "    </tr>\n",
       "    <tr>\n",
       "      <th>4</th>\n",
       "      <td>1</td>\n",
       "      <td>a cappella</td>\n",
       "      <td>0.676557</td>\n",
       "      <td>0.538961</td>\n",
       "      <td>1.906285e+05</td>\n",
       "      <td>0.316434</td>\n",
       "      <td>0.003003</td>\n",
       "      <td>0.172254</td>\n",
       "      <td>-12.479387</td>\n",
       "      <td>0.082851</td>\n",
       "      <td>112.110362</td>\n",
       "      <td>0.448249</td>\n",
       "      <td>45.820071</td>\n",
       "      <td>7</td>\n",
       "    </tr>\n",
       "  </tbody>\n",
       "</table>\n",
       "</div>"
      ],
      "text/plain": [
       "   mode                  genres  acousticness  danceability   duration_ms  \\\n",
       "0     1  21st century classical      0.979333      0.162883  1.602977e+05   \n",
       "1     1                   432hz      0.494780      0.299333  1.048887e+06   \n",
       "2     1                   8-bit      0.762000      0.712000  1.151770e+05   \n",
       "3     1                      []      0.651417      0.529093  2.328809e+05   \n",
       "4     1              a cappella      0.676557      0.538961  1.906285e+05   \n",
       "\n",
       "     energy  instrumentalness  liveness   loudness  speechiness       tempo  \\\n",
       "0  0.071317          0.606834  0.361600 -31.514333     0.040567   75.336500   \n",
       "1  0.450678          0.477762  0.131000 -16.854000     0.076817  120.285667   \n",
       "2  0.818000          0.876000  0.126000  -9.180000     0.047000  133.444000   \n",
       "3  0.419146          0.205309  0.218696 -12.288965     0.107872  112.857352   \n",
       "4  0.316434          0.003003  0.172254 -12.479387     0.082851  112.110362   \n",
       "\n",
       "    valence  popularity  key  \n",
       "0  0.103783   27.833333    6  \n",
       "1  0.221750   52.500000    5  \n",
       "2  0.975000   48.000000    7  \n",
       "3  0.513604   20.859882    7  \n",
       "4  0.448249   45.820071    7  "
      ]
     },
     "execution_count": 27,
     "metadata": {},
     "output_type": "execute_result"
    }
   ],
   "source": [
    "data_by_genre.head()"
   ]
  },
  {
   "cell_type": "code",
   "execution_count": 28,
   "id": "98c610e0",
   "metadata": {},
   "outputs": [
    {
     "data": {
      "text/html": [
       "<div>\n",
       "<style scoped>\n",
       "    .dataframe tbody tr th:only-of-type {\n",
       "        vertical-align: middle;\n",
       "    }\n",
       "\n",
       "    .dataframe tbody tr th {\n",
       "        vertical-align: top;\n",
       "    }\n",
       "\n",
       "    .dataframe thead th {\n",
       "        text-align: right;\n",
       "    }\n",
       "</style>\n",
       "<table border=\"1\" class=\"dataframe\">\n",
       "  <thead>\n",
       "    <tr style=\"text-align: right;\">\n",
       "      <th></th>\n",
       "      <th>mode</th>\n",
       "      <th>year</th>\n",
       "      <th>acousticness</th>\n",
       "      <th>danceability</th>\n",
       "      <th>duration_ms</th>\n",
       "      <th>energy</th>\n",
       "      <th>instrumentalness</th>\n",
       "      <th>liveness</th>\n",
       "      <th>loudness</th>\n",
       "      <th>speechiness</th>\n",
       "      <th>tempo</th>\n",
       "      <th>valence</th>\n",
       "      <th>popularity</th>\n",
       "      <th>key</th>\n",
       "    </tr>\n",
       "  </thead>\n",
       "  <tbody>\n",
       "    <tr>\n",
       "      <th>0</th>\n",
       "      <td>1</td>\n",
       "      <td>1921</td>\n",
       "      <td>0.886896</td>\n",
       "      <td>0.418597</td>\n",
       "      <td>260537.166667</td>\n",
       "      <td>0.231815</td>\n",
       "      <td>0.344878</td>\n",
       "      <td>0.205710</td>\n",
       "      <td>-17.048667</td>\n",
       "      <td>0.073662</td>\n",
       "      <td>101.531493</td>\n",
       "      <td>0.379327</td>\n",
       "      <td>0.653333</td>\n",
       "      <td>2</td>\n",
       "    </tr>\n",
       "    <tr>\n",
       "      <th>1</th>\n",
       "      <td>1</td>\n",
       "      <td>1922</td>\n",
       "      <td>0.938592</td>\n",
       "      <td>0.482042</td>\n",
       "      <td>165469.746479</td>\n",
       "      <td>0.237815</td>\n",
       "      <td>0.434195</td>\n",
       "      <td>0.240720</td>\n",
       "      <td>-19.275282</td>\n",
       "      <td>0.116655</td>\n",
       "      <td>100.884521</td>\n",
       "      <td>0.535549</td>\n",
       "      <td>0.140845</td>\n",
       "      <td>10</td>\n",
       "    </tr>\n",
       "    <tr>\n",
       "      <th>2</th>\n",
       "      <td>1</td>\n",
       "      <td>1923</td>\n",
       "      <td>0.957247</td>\n",
       "      <td>0.577341</td>\n",
       "      <td>177942.362162</td>\n",
       "      <td>0.262406</td>\n",
       "      <td>0.371733</td>\n",
       "      <td>0.227462</td>\n",
       "      <td>-14.129211</td>\n",
       "      <td>0.093949</td>\n",
       "      <td>114.010730</td>\n",
       "      <td>0.625492</td>\n",
       "      <td>5.389189</td>\n",
       "      <td>0</td>\n",
       "    </tr>\n",
       "    <tr>\n",
       "      <th>3</th>\n",
       "      <td>1</td>\n",
       "      <td>1924</td>\n",
       "      <td>0.940200</td>\n",
       "      <td>0.549894</td>\n",
       "      <td>191046.707627</td>\n",
       "      <td>0.344347</td>\n",
       "      <td>0.581701</td>\n",
       "      <td>0.235219</td>\n",
       "      <td>-14.231343</td>\n",
       "      <td>0.092089</td>\n",
       "      <td>120.689572</td>\n",
       "      <td>0.663725</td>\n",
       "      <td>0.661017</td>\n",
       "      <td>10</td>\n",
       "    </tr>\n",
       "    <tr>\n",
       "      <th>4</th>\n",
       "      <td>1</td>\n",
       "      <td>1925</td>\n",
       "      <td>0.962607</td>\n",
       "      <td>0.573863</td>\n",
       "      <td>184986.924460</td>\n",
       "      <td>0.278594</td>\n",
       "      <td>0.418297</td>\n",
       "      <td>0.237668</td>\n",
       "      <td>-14.146414</td>\n",
       "      <td>0.111918</td>\n",
       "      <td>115.521921</td>\n",
       "      <td>0.621929</td>\n",
       "      <td>2.604317</td>\n",
       "      <td>5</td>\n",
       "    </tr>\n",
       "  </tbody>\n",
       "</table>\n",
       "</div>"
      ],
      "text/plain": [
       "   mode  year  acousticness  danceability    duration_ms    energy  \\\n",
       "0     1  1921      0.886896      0.418597  260537.166667  0.231815   \n",
       "1     1  1922      0.938592      0.482042  165469.746479  0.237815   \n",
       "2     1  1923      0.957247      0.577341  177942.362162  0.262406   \n",
       "3     1  1924      0.940200      0.549894  191046.707627  0.344347   \n",
       "4     1  1925      0.962607      0.573863  184986.924460  0.278594   \n",
       "\n",
       "   instrumentalness  liveness   loudness  speechiness       tempo   valence  \\\n",
       "0          0.344878  0.205710 -17.048667     0.073662  101.531493  0.379327   \n",
       "1          0.434195  0.240720 -19.275282     0.116655  100.884521  0.535549   \n",
       "2          0.371733  0.227462 -14.129211     0.093949  114.010730  0.625492   \n",
       "3          0.581701  0.235219 -14.231343     0.092089  120.689572  0.663725   \n",
       "4          0.418297  0.237668 -14.146414     0.111918  115.521921  0.621929   \n",
       "\n",
       "   popularity  key  \n",
       "0    0.653333    2  \n",
       "1    0.140845   10  \n",
       "2    5.389189    0  \n",
       "3    0.661017   10  \n",
       "4    2.604317    5  "
      ]
     },
     "execution_count": 28,
     "metadata": {},
     "output_type": "execute_result"
    }
   ],
   "source": [
    "data_by_year.head()"
   ]
  },
  {
   "cell_type": "code",
   "execution_count": 29,
   "id": "240501d9",
   "metadata": {},
   "outputs": [
    {
     "name": "stdout",
     "output_type": "stream",
     "text": [
      "Correlation between acousticness and popularity: -0.5731617749444357\n",
      "Correlation between danceability and popularity: 0.19960616547094606\n",
      "Correlation between energy and popularity: 0.4850050396532583\n",
      "Correlation between instrumentalness and popularity: -0.2967502543259347\n",
      "Correlation between liveness and popularity: -0.07646407487238238\n",
      "Correlation between loudness and popularity: 0.45705061592165314\n",
      "Correlation between speechiness and popularity: -0.17197871776654766\n",
      "Correlation between tempo and popularity: 0.13331015465969295\n",
      "Correlation between valence and popularity: 0.014200433403751303\n",
      "Correlation between duration_ms and popularity: 0.05959666650440118\n",
      "Correlation between explicit and popularity: 0.19154277307896425\n",
      "Correlation between key and popularity: 0.007825642605897727\n",
      "Correlation between mode and popularity: -0.028897057067006873\n",
      "Correlation between year and popularity: 0.8624420111063581\n"
     ]
    }
   ],
   "source": [
    "feature_names = ['acousticness', 'danceability', 'energy', 'instrumentalness','liveness', 'loudness', 'speechiness', 'tempo', 'valence','duration_ms','explicit','key','mode','year']\n",
    "corr_col = []\n",
    "for col in feature_names:\n",
    "    correlation = data[col].corr(data[\"popularity\"])\n",
    "    corr_col.append(correlation)\n",
    "    print(\"Correlation between\", col, \"and popularity:\", correlation)"
   ]
  },
  {
   "cell_type": "code",
   "execution_count": 30,
   "id": "5c0174b4",
   "metadata": {},
   "outputs": [
    {
     "data": {
      "image/png": "[encoded data removed]",
      "text/plain": [
       "<Figure size 720x432 with 1 Axes>"
      ]
     },
     "metadata": {
      "needs_background": "light"
     },
     "output_type": "display_data"
    }
   ],
   "source": [
    "fig, ax = plt.subplots(figsize=(10, 6))\n",
    "ax.barh(range(len(corr_col)), corr_col, align='center')\n",
    "ax.set_yticks(range(len(corr_col)))\n",
    "ax.set_yticklabels(feature_names)\n",
    "ax.set_xlabel('Correlation')\n",
    "ax.set_ylabel('Features')\n",
    "ax.set_title('Correlation between Features and Popularity')\n",
    "plt.tight_layout()\n",
    "plt.show()"
   ]
  },
  {
   "cell_type": "code",
   "execution_count": 31,
   "id": "7c525a75",
   "metadata": {},
   "outputs": [
    {
     "data": {
      "application/vnd.plotly.v1+json": {
       "config": {
        "plotlyServerURL": "https://plot.ly"
       },
       "data": [
        {
         "hovertemplate": "variable=acousticness<br>year=%{x}<br>value=%{y}<extra></extra>",
         "legendgroup": "acousticness",
         "line": {
          "color": "#636efa",
          "dash": "solid"
         },
         "marker": {
          "symbol": "circle"
         },
         "mode": "lines",
         "name": "acousticness",
         "orientation": "v",
         "showlegend": true,
         "type": "scatter",
         "x": [
          1921,
          1922,
          1923,
          1924,
          1925,
          1926,
          1927,
          1928,
          1929,
          1930,
          1931,
          1932,
          1933,
          1934,
          1935,
          1936,
          1937,
          1938,
          1939,
          1940,
          1941,
          1942,
          1943,
          1944,
          1945,
          1946,
          1947,
          1948,
          1949,
          1950,
          1951,
          1952,
          1953,
          1954,
          1955,
          1956,
          1957,
          1958,
          1959,
          1960,
          1961,
          1962,
          1963,
          1964,
          1965,
          1966,
          1967,
          1968,
          1969,
          1970,
          1971,
          1972,
          1973,
          1974,
          1975,
          1976,
          1977,
          1978,
          1979,
          1980,
          1981,
          1982,
          1983,
          1984,
          1985,
          1986,
          1987,
          1988,
          1989,
          1990,
          1991,
          1992,
          1993,
          1994,
          1995,
          1996,
          1997,
          1998,
          1999,
          2000,
          2001,
          2002,
          2003,
          2004,
          2005,
          2006,
          2007,
          2008,
          2009,
          2010,
          2011,
          2012,
          2013,
          2014,
          2015,
          2016,
          2017,
          2018,
          2019,
          2020
         ],
         "xaxis": "x",
         "y": [
          0.8868960000000005,
          0.9385915492957748,
          0.9572467913513516,
          0.940199860169493,
          0.9626070503597138,
          0.660817216981134,
          0.9361794552845558,
          0.9386165035685952,
          0.6014265861344558,
          0.936714937370057,
          0.8330399585921336,
          0.9357705179282878,
          0.899897909117222,
          0.8911487501730107,
          0.7783855599472987,
          0.7723120800000008,
          0.8654357853881286,
          0.9192803908646014,
          0.9087381000000004,
          0.8476440499999951,
          0.8957376562500025,
          0.8529343703923857,
          0.9027523185915528,
          0.9076531914893636,
          0.7096568630000005,
          0.9199445823665852,
          0.9139650224242392,
          0.9221549999999956,
          0.9075328949999956,
          0.8539413005999965,
          0.9022971956499974,
          0.8743009244999965,
          0.8909223502564074,
          0.8650197272999992,
          0.8405510069999986,
          0.8230569899999975,
          0.7928023589743608,
          0.7796118650000005,
          0.7793927897435907,
          0.7671814843243259,
          0.7519038684210535,
          0.720607806842106,
          0.7227048300000004,
          0.6941005307692291,
          0.6099113295384619,
          0.5248094599699997,
          0.5296103243521767,
          0.4937702403500001,
          0.4488463039999994,
          0.4600571139500007,
          0.4583362981000009,
          0.4600428051999994,
          0.4165241889999992,
          0.4472074226000001,
          0.4337738871950005,
          0.3614706321099993,
          0.3393025333750004,
          0.3289685734499993,
          0.29593224063,
          0.284955397635897,
          0.3012042267400006,
          0.2895800382050001,
          0.2947778916300001,
          0.2877095803450008,
          0.2965709032099995,
          0.2850806564249999,
          0.3116640663948722,
          0.322009946512821,
          0.3133512518150009,
          0.3328699505850001,
          0.3327652916307699,
          0.3208087638250009,
          0.3090685537400004,
          0.3062343630899999,
          0.3025118061200004,
          0.3010268798000006,
          0.3067156934549995,
          0.2914894615700001,
          0.2715901110661201,
          0.2893227005163599,
          0.2868424748428934,
          0.282624289885001,
          0.2564705181729783,
          0.2805589466225845,
          0.2557635068666665,
          0.2799863520256408,
          0.2540809575538463,
          0.2491917627212275,
          0.261928619096939,
          0.2426866435515872,
          0.2731826625185919,
          0.2499530443804624,
          0.2574880859564779,
          0.249312645880299,
          0.2539522577102332,
          0.2841710299554814,
          0.2860990665261043,
          0.2676329907750836,
          0.2782985863365824,
          0.2199308880935964
         ],
         "yaxis": "y"
        },
        {
         "hovertemplate": "variable=danceability<br>year=%{x}<br>value=%{y}<extra></extra>",
         "legendgroup": "danceability",
         "line": {
          "color": "#EF553B",
          "dash": "solid"
         },
         "marker": {
          "symbol": "circle"
         },
         "mode": "lines",
         "name": "danceability",
         "orientation": "v",
         "showlegend": true,
         "type": "scatter",
         "x": [
          1921,
          1922,
          1923,
          1924,
          1925,
          1926,
          1927,
          1928,
          1929,
          1930,
          1931,
          1932,
          1933,
          1934,
          1935,
          1936,
          1937,
          1938,
          1939,
          1940,
          1941,
          1942,
          1943,
          1944,
          1945,
          1946,
          1947,
          1948,
          1949,
          1950,
          1951,
          1952,
          1953,
          1954,
          1955,
          1956,
          1957,
          1958,
          1959,
          1960,
          1961,
          1962,
          1963,
          1964,
          1965,
          1966,
          1967,
          1968,
          1969,
          1970,
          1971,
          1972,
          1973,
          1974,
          1975,
          1976,
          1977,
          1978,
          1979,
          1980,
          1981,
          1982,
          1983,
          1984,
          1985,
          1986,
          1987,
          1988,
          1989,
          1990,
          1991,
          1992,
          1993,
          1994,
          1995,
          1996,
          1997,
          1998,
          1999,
          2000,
          2001,
          2002,
          2003,
          2004,
          2005,
          2006,
          2007,
          2008,
          2009,
          2010,
          2011,
          2012,
          2013,
          2014,
          2015,
          2016,
          2017,
          2018,
          2019,
          2020
         ],
         "xaxis": "x",
         "y": [
          0.4185973333333336,
          0.4820422535211267,
          0.5773405405405401,
          0.5498940677966102,
          0.5738633093525181,
          0.5998802612481859,
          0.6482682926829262,
          0.5342878667724027,
          0.6476698529411761,
          0.5181758835758836,
          0.5952217391304357,
          0.5577976095617526,
          0.57029030390738,
          0.528705882352941,
          0.5558691699604746,
          0.5580055454545453,
          0.5421572298325723,
          0.479977977161501,
          0.5126828,
          0.52189235,
          0.4804813541666676,
          0.4646338882282997,
          0.4551456338028168,
          0.5001744680851068,
          0.5191431500000011,
          0.4144450116009276,
          0.4713208484848491,
          0.4633694736842109,
          0.4421993999999996,
          0.5042531000000008,
          0.4624800999999999,
          0.4570322000000001,
          0.4374260512820513,
          0.4656388999999994,
          0.4881312,
          0.4878145000000007,
          0.5034812307692305,
          0.4800213999999995,
          0.4821143076923083,
          0.4860292432432435,
          0.4891655789473678,
          0.4931643684210523,
          0.48162135,
          0.5041769743589742,
          0.5034505641025638,
          0.5070204999999981,
          0.4926885942971483,
          0.5010080999999997,
          0.4880977999999999,
          0.5063075000000004,
          0.5042738499999999,
          0.5209994499999997,
          0.5154494500000005,
          0.51533975,
          0.5209980000000007,
          0.5297624999999999,
          0.5333237000000017,
          0.5407746000000005,
          0.5620453000000001,
          0.5561523589743594,
          0.5421846999999999,
          0.5642594000000005,
          0.5456292999999998,
          0.5303089499999987,
          0.5556424000000012,
          0.5409334000000001,
          0.5410193333333342,
          0.5404594358974372,
          0.5472274499999988,
          0.5352986500000001,
          0.5558243589743591,
          0.5550648499999989,
          0.5698781500000001,
          0.5528299500000016,
          0.5590457500000001,
          0.5878306000000001,
          0.5768138499999994,
          0.5862116499999998,
          0.5821579190158892,
          0.590918047034764,
          0.5833178553615969,
          0.5761602999999997,
          0.5757633060388944,
          0.5676803662258397,
          0.5722805641025652,
          0.5682301538461539,
          0.5634143589743592,
          0.5791928388746803,
          0.5641903571428577,
          0.5724883432539687,
          0.5528669806643526,
          0.5708818508997433,
          0.5711480263157896,
          0.5899476807980057,
          0.5937740628166152,
          0.6002023928770179,
          0.6122170180722886,
          0.6635004755111744,
          0.6448141097998967,
          0.6929043349753701
         ],
         "yaxis": "y"
        },
        {
         "hovertemplate": "variable=energy<br>year=%{x}<br>value=%{y}<extra></extra>",
         "legendgroup": "energy",
         "line": {
          "color": "#00cc96",
          "dash": "solid"
         },
         "marker": {
          "symbol": "circle"
         },
         "mode": "lines",
         "name": "energy",
         "orientation": "v",
         "showlegend": true,
         "type": "scatter",
         "x": [
          1921,
          1922,
          1923,
          1924,
          1925,
          1926,
          1927,
          1928,
          1929,
          1930,
          1931,
          1932,
          1933,
          1934,
          1935,
          1936,
          1937,
          1938,
          1939,
          1940,
          1941,
          1942,
          1943,
          1944,
          1945,
          1946,
          1947,
          1948,
          1949,
          1950,
          1951,
          1952,
          1953,
          1954,
          1955,
          1956,
          1957,
          1958,
          1959,
          1960,
          1961,
          1962,
          1963,
          1964,
          1965,
          1966,
          1967,
          1968,
          1969,
          1970,
          1971,
          1972,
          1973,
          1974,
          1975,
          1976,
          1977,
          1978,
          1979,
          1980,
          1981,
          1982,
          1983,
          1984,
          1985,
          1986,
          1987,
          1988,
          1989,
          1990,
          1991,
          1992,
          1993,
          1994,
          1995,
          1996,
          1997,
          1998,
          1999,
          2000,
          2001,
          2002,
          2003,
          2004,
          2005,
          2006,
          2007,
          2008,
          2009,
          2010,
          2011,
          2012,
          2013,
          2014,
          2015,
          2016,
          2017,
          2018,
          2019,
          2020
         ],
         "xaxis": "x",
         "y": [
          0.2318151333333333,
          0.2378153521126759,
          0.2624064864864865,
          0.3443466101694912,
          0.2785935251798561,
          0.2114670907111756,
          0.2643213008130081,
          0.2079477954004757,
          0.2418007352941172,
          0.3335239189189189,
          0.2344967732919257,
          0.3020677290836656,
          0.2798994211287988,
          0.2621313148788928,
          0.2463669762845848,
          0.3083886092727274,
          0.3110482952815827,
          0.2809812398042416,
          0.2826715000000002,
          0.3108928949999999,
          0.2656431979166666,
          0.2560794708680144,
          0.2799900422535211,
          0.2534414494680852,
          0.2260444155,
          0.2221723085846866,
          0.2635512000000002,
          0.242464841052632,
          0.2461146149999996,
          0.3140711950000003,
          0.254665655,
          0.2536260100000002,
          0.2661968307692306,
          0.264347385,
          0.2950963400000001,
          0.3047611200000001,
          0.2952791333333324,
          0.3087957550000006,
          0.3109944051282049,
          0.3411423783783781,
          0.3395318673684203,
          0.3710257,
          0.3653538849999999,
          0.394438825641026,
          0.4490272461538461,
          0.482208465,
          0.4468238319159585,
          0.4569696500000004,
          0.4876251299999994,
          0.495633050000001,
          0.4963612550000003,
          0.5045261799999999,
          0.5361382499999989,
          0.5147236550000011,
          0.5232085050000003,
          0.5538432500000001,
          0.560287959000001,
          0.5614288650000007,
          0.5910127149999996,
          0.5977773948717964,
          0.5993827249999998,
          0.5909193894999996,
          0.6014252350000012,
          0.5910916750000013,
          0.6015154800000013,
          0.6149545999999998,
          0.5798395538461533,
          0.5856792461538458,
          0.584046375000001,
          0.5715913950000007,
          0.5594023641025635,
          0.5828642050000001,
          0.5625599100000002,
          0.578772685000001,
          0.5785795100000009,
          0.5860684750000011,
          0.5986987151000001,
          0.6051975050000015,
          0.6375226022552535,
          0.6254128323108387,
          0.6269855221945144,
          0.6412697960000012,
          0.6601652610030712,
          0.6488679450661226,
          0.653208511282051,
          0.6503262820512825,
          0.6683047743589737,
          0.6714608207672623,
          0.6707487551020408,
          0.6817778026289684,
          0.6483008934060499,
          0.6565714601542408,
          0.6455968914473688,
          0.6487954437905223,
          0.6270642715298895,
          0.5928552316082347,
          0.5904210208835337,
          0.6024346220161672,
          0.5932240360184717,
          0.6312316354679793
         ],
         "yaxis": "y"
        },
        {
         "hovertemplate": "variable=instrumentalness<br>year=%{x}<br>value=%{y}<extra></extra>",
         "legendgroup": "instrumentalness",
         "line": {
          "color": "#ab63fa",
          "dash": "solid"
         },
         "marker": {
          "symbol": "circle"
         },
         "mode": "lines",
         "name": "instrumentalness",
         "orientation": "v",
         "showlegend": true,
         "type": "scatter",
         "x": [
          1921,
          1922,
          1923,
          1924,
          1925,
          1926,
          1927,
          1928,
          1929,
          1930,
          1931,
          1932,
          1933,
          1934,
          1935,
          1936,
          1937,
          1938,
          1939,
          1940,
          1941,
          1942,
          1943,
          1944,
          1945,
          1946,
          1947,
          1948,
          1949,
          1950,
          1951,
          1952,
          1953,
          1954,
          1955,
          1956,
          1957,
          1958,
          1959,
          1960,
          1961,
          1962,
          1963,
          1964,
          1965,
          1966,
          1967,
          1968,
          1969,
          1970,
          1971,
          1972,
          1973,
          1974,
          1975,
          1976,
          1977,
          1978,
          1979,
          1980,
          1981,
          1982,
          1983,
          1984,
          1985,
          1986,
          1987,
          1988,
          1989,
          1990,
          1991,
          1992,
          1993,
          1994,
          1995,
          1996,
          1997,
          1998,
          1999,
          2000,
          2001,
          2002,
          2003,
          2004,
          2005,
          2006,
          2007,
          2008,
          2009,
          2010,
          2011,
          2012,
          2013,
          2014,
          2015,
          2016,
          2017,
          2018,
          2019,
          2020
         ],
         "xaxis": "x",
         "y": [
          0.3448780588666665,
          0.4341948697183099,
          0.371732725027027,
          0.5817009136440677,
          0.4182973612230215,
          0.3330931111175616,
          0.3913284986504065,
          0.4948354801348136,
          0.2152040310609246,
          0.3522059281652805,
          0.2214196416149072,
          0.2263565791633467,
          0.1839489396816208,
          0.276382266643599,
          0.2258732980895915,
          0.2571099957181816,
          0.3270876216438359,
          0.3784246349265906,
          0.2776824694100001,
          0.3168486998649998,
          0.4449516393124999,
          0.392882047871581,
          0.4098969234647892,
          0.4492919654122334,
          0.2758942570149996,
          0.4861264096461711,
          0.3475934179090908,
          0.3554848223842104,
          0.2977615361899994,
          0.245000820015,
          0.3084378555850002,
          0.2884126469300002,
          0.3183223943230766,
          0.2974400082799999,
          0.2166044216900002,
          0.2387634177800001,
          0.1945206161692309,
          0.1812411100599998,
          0.1881481940615383,
          0.1765021594216216,
          0.2646232531421054,
          0.1714715509421054,
          0.18543231468,
          0.1595978017794872,
          0.1183659460923078,
          0.1151259555649999,
          0.1189468546723362,
          0.112776949285,
          0.1594527081650001,
          0.1275670030849998,
          0.12501788923,
          0.1148803337599997,
          0.0996802232299999,
          0.11636098351,
          0.1113220337449999,
          0.12162904398,
          0.1277210319449999,
          0.1003812145099999,
          0.1157513720150001,
          0.1287510612717948,
          0.1468379466199998,
          0.100016383,
          0.1454105232900004,
          0.1451730397350004,
          0.1137385580749998,
          0.1099408543649999,
          0.1019745174666666,
          0.117190380220513,
          0.1131825446149999,
          0.1258262680949997,
          0.1150923397999999,
          0.1006900830649998,
          0.11529396538,
          0.1118857599499999,
          0.1232687960699999,
          0.0950528120350001,
          0.1046901786199999,
          0.1113257503499999,
          0.0940681410661199,
          0.1011677687934559,
          0.1072140189925186,
          0.0880483503149999,
          0.0830492746673491,
          0.0779340349084435,
          0.0901943611846154,
          0.0777014718769231,
          0.0729572680512819,
          0.0636620903171356,
          0.0758720736836735,
          0.0829805682192461,
          0.103772332166584,
          0.0852055206786631,
          0.0983650539170038,
          0.0765695548379051,
          0.1067868780547114,
          0.0939843871174179,
          0.0970906090662649,
          0.0542171216690441,
          0.0776402469728064,
          0.0163755243054187
         ],
         "yaxis": "y"
        },
        {
         "hovertemplate": "variable=liveness<br>year=%{x}<br>value=%{y}<extra></extra>",
         "legendgroup": "liveness",
         "line": {
          "color": "#FFA15A",
          "dash": "solid"
         },
         "marker": {
          "symbol": "circle"
         },
         "mode": "lines",
         "name": "liveness",
         "orientation": "v",
         "showlegend": true,
         "type": "scatter",
         "x": [
          1921,
          1922,
          1923,
          1924,
          1925,
          1926,
          1927,
          1928,
          1929,
          1930,
          1931,
          1932,
          1933,
          1934,
          1935,
          1936,
          1937,
          1938,
          1939,
          1940,
          1941,
          1942,
          1943,
          1944,
          1945,
          1946,
          1947,
          1948,
          1949,
          1950,
          1951,
          1952,
          1953,
          1954,
          1955,
          1956,
          1957,
          1958,
          1959,
          1960,
          1961,
          1962,
          1963,
          1964,
          1965,
          1966,
          1967,
          1968,
          1969,
          1970,
          1971,
          1972,
          1973,
          1974,
          1975,
          1976,
          1977,
          1978,
          1979,
          1980,
          1981,
          1982,
          1983,
          1984,
          1985,
          1986,
          1987,
          1988,
          1989,
          1990,
          1991,
          1992,
          1993,
          1994,
          1995,
          1996,
          1997,
          1998,
          1999,
          2000,
          2001,
          2002,
          2003,
          2004,
          2005,
          2006,
          2007,
          2008,
          2009,
          2010,
          2011,
          2012,
          2013,
          2014,
          2015,
          2016,
          2017,
          2018,
          2019,
          2020
         ],
         "xaxis": "x",
         "y": [
          0.20571,
          0.2407197183098592,
          0.2274621621621621,
          0.2352190677966101,
          0.2376679856115108,
          0.2323695936139332,
          0.1684502439024389,
          0.1752893735130848,
          0.2360002100840333,
          0.2213108627858629,
          0.2274279503105589,
          0.2324962151394422,
          0.2090719247467437,
          0.2134525951557092,
          0.2292998682476943,
          0.2214382727272726,
          0.2259677321156773,
          0.237111092985318,
          0.2391015999999999,
          0.2643351000000004,
          0.2018398958333331,
          0.2128784185493456,
          0.2392107042253524,
          0.2387719414893616,
          0.2030099500000001,
          0.2108183294663576,
          0.2238293939393936,
          0.2196935789473678,
          0.2088585500000004,
          0.2169584000000004,
          0.2177773999999999,
          0.2329722999999998,
          0.221734051282051,
          0.2178411499999996,
          0.2214353500000001,
          0.1822571500000002,
          0.1827485641025636,
          0.2058408500000003,
          0.1918429230769232,
          0.2078637297297298,
          0.2089125789473681,
          0.2018957368421054,
          0.2037453000000002,
          0.2172323589743596,
          0.2138391282051284,
          0.2180930999999999,
          0.190917658829415,
          0.2173509500000005,
          0.2069658999999999,
          0.2122688000000002,
          0.2149145500000001,
          0.2069549500000001,
          0.2013747499999997,
          0.2093463499999996,
          0.2154413500000002,
          0.2490321999999999,
          0.2232140500000004,
          0.2180709499999994,
          0.2134431000000002,
          0.2037541025641026,
          0.2250998999999999,
          0.20100675,
          0.1989224500000002,
          0.1977062,
          0.1992064499999998,
          0.2118794500000001,
          0.202018102564103,
          0.207707538461538,
          0.1990802,
          0.1909609,
          0.1886289230769235,
          0.2002455000000007,
          0.1949322500000003,
          0.1921651000000001,
          0.2013737000000004,
          0.1986863000000002,
          0.1984788000000003,
          0.1937308999999996,
          0.206308047155305,
          0.1976860429447853,
          0.1870256359102248,
          0.1939111999999998,
          0.196976305015353,
          0.2021994404883014,
          0.1900816256410258,
          0.1882892820512821,
          0.1961265641025642,
          0.1984314066496162,
          0.2052522959183674,
          0.1997006448412699,
          0.2033088249876056,
          0.1897330077120824,
          0.1996308198380571,
          0.1918215960099752,
          0.1888564336372847,
          0.181169894268225,
          0.1917126004016064,
          0.1763255349500711,
          0.1726164186762446,
          0.1785354187192117
         ],
         "yaxis": "y"
        },
        {
         "hovertemplate": "variable=valence<br>year=%{x}<br>value=%{y}<extra></extra>",
         "legendgroup": "valence",
         "line": {
          "color": "#19d3f3",
          "dash": "solid"
         },
         "marker": {
          "symbol": "circle"
         },
         "mode": "lines",
         "name": "valence",
         "orientation": "v",
         "showlegend": true,
         "type": "scatter",
         "x": [
          1921,
          1922,
          1923,
          1924,
          1925,
          1926,
          1927,
          1928,
          1929,
          1930,
          1931,
          1932,
          1933,
          1934,
          1935,
          1936,
          1937,
          1938,
          1939,
          1940,
          1941,
          1942,
          1943,
          1944,
          1945,
          1946,
          1947,
          1948,
          1949,
          1950,
          1951,
          1952,
          1953,
          1954,
          1955,
          1956,
          1957,
          1958,
          1959,
          1960,
          1961,
          1962,
          1963,
          1964,
          1965,
          1966,
          1967,
          1968,
          1969,
          1970,
          1971,
          1972,
          1973,
          1974,
          1975,
          1976,
          1977,
          1978,
          1979,
          1980,
          1981,
          1982,
          1983,
          1984,
          1985,
          1986,
          1987,
          1988,
          1989,
          1990,
          1991,
          1992,
          1993,
          1994,
          1995,
          1996,
          1997,
          1998,
          1999,
          2000,
          2001,
          2002,
          2003,
          2004,
          2005,
          2006,
          2007,
          2008,
          2009,
          2010,
          2011,
          2012,
          2013,
          2014,
          2015,
          2016,
          2017,
          2018,
          2019,
          2020
         ],
         "xaxis": "x",
         "y": [
          0.3793266666666666,
          0.5355492957746479,
          0.6254924324324328,
          0.6637254237288139,
          0.6219287769784171,
          0.4369104571843251,
          0.6597004878048782,
          0.4957126883425853,
          0.6365298319327733,
          0.6162376299376306,
          0.5131170807453418,
          0.5881599601593626,
          0.5994099855282197,
          0.5588046712802772,
          0.5455777997364957,
          0.5640635454545455,
          0.5857894977168944,
          0.5149111092985317,
          0.5599248999999992,
          0.6167094700000009,
          0.4794560416666661,
          0.4774088585017848,
          0.4954545070422531,
          0.5406954787234041,
          0.4913613500000002,
          0.3982538283062647,
          0.5082125454545455,
          0.4621423684210526,
          0.4304195000000001,
          0.5516497000000001,
          0.44134755,
          0.4431349620499994,
          0.4291420512820513,
          0.4523410500000002,
          0.4724154999999997,
          0.5084230500000003,
          0.5110101538461542,
          0.4976614999999994,
          0.4784156410256422,
          0.5239316756756759,
          0.5128512105263155,
          0.5477920526315792,
          0.5415274500000008,
          0.55726042051282,
          0.5809506666666668,
          0.5801445499999996,
          0.5507916958479243,
          0.5659936500000002,
          0.5547452849999999,
          0.5720753999999992,
          0.5749132500000002,
          0.5956881500000009,
          0.5921162000000004,
          0.5812744000000009,
          0.5694151500000002,
          0.5807332499999998,
          0.58524655,
          0.5895352500000014,
          0.6099818000000005,
          0.5980580512820513,
          0.5829518500000006,
          0.5864384500000001,
          0.5721198999999989,
          0.5516387100000003,
          0.5655964500000001,
          0.5509485500000019,
          0.5414511794871785,
          0.5464853897435901,
          0.5483329000000007,
          0.5265268499999999,
          0.5486552307692295,
          0.5590983000000014,
          0.5555684500000001,
          0.5266491500000006,
          0.5302466999999994,
          0.5608732500000001,
          0.5485525000000002,
          0.5377209,
          0.5564528446950284,
          0.5594754601226991,
          0.541479107231919,
          0.5423971500000008,
          0.5305042476970324,
          0.5244885554425227,
          0.5325309230769236,
          0.5200283076923078,
          0.5167938461538473,
          0.5275418925831203,
          0.5071696617346935,
          0.5208951587301589,
          0.4724536787307882,
          0.4627090128534706,
          0.4547411943319834,
          0.4630487780548628,
          0.4320983687943254,
          0.4315320589872012,
          0.4164763112449793,
          0.4479212743699474,
          0.4588176295536167,
          0.5010478078817729
         ],
         "yaxis": "y"
        }
       ],
       "layout": {
        "legend": {
         "title": {
          "text": "variable"
         },
         "tracegroupgap": 0
        },
        "margin": {
         "t": 60
        },
        "template": {
         "data": {
          "bar": [
           {
            "error_x": {
             "color": "#2a3f5f"
            },
            "error_y": {
             "color": "#2a3f5f"
            },
            "marker": {
             "line": {
              "color": "#E5ECF6",
              "width": 0.5
             },
             "pattern": {
              "fillmode": "overlay",
              "size": 10,
              "solidity": 0.2
             }
            },
            "type": "bar"
           }
          ],
          "barpolar": [
           {
            "marker": {
             "line": {
              "color": "#E5ECF6",
              "width": 0.5
             },
             "pattern": {
              "fillmode": "overlay",
              "size": 10,
              "solidity": 0.2
             }
            },
            "type": "barpolar"
           }
          ],
          "carpet": [
           {
            "aaxis": {
             "endlinecolor": "#2a3f5f",
             "gridcolor": "white",
             "linecolor": "white",
             "minorgridcolor": "white",
             "startlinecolor": "#2a3f5f"
            },
            "baxis": {
             "endlinecolor": "#2a3f5f",
             "gridcolor": "white",
             "linecolor": "white",
             "minorgridcolor": "white",
             "startlinecolor": "#2a3f5f"
            },
            "type": "carpet"
           }
          ],
          "choropleth": [
           {
            "colorbar": {
             "outlinewidth": 0,
             "ticks": ""
            },
            "type": "choropleth"
           }
          ],
          "contour": [
           {
            "colorbar": {
             "outlinewidth": 0,
             "ticks": ""
            },
            "colorscale": [
             [
              0,
              "#0d0887"
             ],
             [
              0.1111111111111111,
              "#46039f"
             ],
             [
              0.2222222222222222,
              "#7201a8"
             ],
             [
              0.3333333333333333,
              "#9c179e"
             ],
             [
              0.4444444444444444,
              "#bd3786"
             ],
             [
              0.5555555555555556,
              "#d8576b"
             ],
             [
              0.6666666666666666,
              "#ed7953"
             ],
             [
              0.7777777777777778,
              "#fb9f3a"
             ],
             [
              0.8888888888888888,
              "#fdca26"
             ],
             [
              1,
              "#f0f921"
             ]
            ],
            "type": "contour"
           }
          ],
          "contourcarpet": [
           {
            "colorbar": {
             "outlinewidth": 0,
             "ticks": ""
            },
            "type": "contourcarpet"
           }
          ],
          "heatmap": [
           {
            "colorbar": {
             "outlinewidth": 0,
             "ticks": ""
            },
            "colorscale": [
             [
              0,
              "#0d0887"
             ],
             [
              0.1111111111111111,
              "#46039f"
             ],
             [
              0.2222222222222222,
              "#7201a8"
             ],
             [
              0.3333333333333333,
              "#9c179e"
             ],
             [
              0.4444444444444444,
              "#bd3786"
             ],
             [
              0.5555555555555556,
              "#d8576b"
             ],
             [
              0.6666666666666666,
              "#ed7953"
             ],
             [
              0.7777777777777778,
              "#fb9f3a"
             ],
             [
              0.8888888888888888,
              "#fdca26"
             ],
             [
              1,
              "#f0f921"
             ]
            ],
            "type": "heatmap"
           }
          ],
          "heatmapgl": [
           {
            "colorbar": {
             "outlinewidth": 0,
             "ticks": ""
            },
            "colorscale": [
             [
              0,
              "#0d0887"
             ],
             [
              0.1111111111111111,
              "#46039f"
             ],
             [
              0.2222222222222222,
              "#7201a8"
             ],
             [
              0.3333333333333333,
              "#9c179e"
             ],
             [
              0.4444444444444444,
              "#bd3786"
             ],
             [
              0.5555555555555556,
              "#d8576b"
             ],
             [
              0.6666666666666666,
              "#ed7953"
             ],
             [
              0.7777777777777778,
              "#fb9f3a"
             ],
             [
              0.8888888888888888,
              "#fdca26"
             ],
             [
              1,
              "#f0f921"
             ]
            ],
            "type": "heatmapgl"
           }
          ],
          "histogram": [
           {
            "marker": {
             "pattern": {
              "fillmode": "overlay",
              "size": 10,
              "solidity": 0.2
             }
            },
            "type": "histogram"
           }
          ],
          "histogram2d": [
           {
            "colorbar": {
             "outlinewidth": 0,
             "ticks": ""
            },
            "colorscale": [
             [
              0,
              "#0d0887"
             ],
             [
              0.1111111111111111,
              "#46039f"
             ],
             [
              0.2222222222222222,
              "#7201a8"
             ],
             [
              0.3333333333333333,
              "#9c179e"
             ],
             [
              0.4444444444444444,
              "#bd3786"
             ],
             [
              0.5555555555555556,
              "#d8576b"
             ],
             [
              0.6666666666666666,
              "#ed7953"
             ],
             [
              0.7777777777777778,
              "#fb9f3a"
             ],
             [
              0.8888888888888888,
              "#fdca26"
             ],
             [
              1,
              "#f0f921"
             ]
            ],
            "type": "histogram2d"
           }
          ],
          "histogram2dcontour": [
           {
            "colorbar": {
             "outlinewidth": 0,
             "ticks": ""
            },
            "colorscale": [
             [
              0,
              "#0d0887"
             ],
             [
              0.1111111111111111,
              "#46039f"
             ],
             [
              0.2222222222222222,
              "#7201a8"
             ],
             [
              0.3333333333333333,
              "#9c179e"
             ],
             [
              0.4444444444444444,
              "#bd3786"
             ],
             [
              0.5555555555555556,
              "#d8576b"
             ],
             [
              0.6666666666666666,
              "#ed7953"
             ],
             [
              0.7777777777777778,
              "#fb9f3a"
             ],
             [
              0.8888888888888888,
              "#fdca26"
             ],
             [
              1,
              "#f0f921"
             ]
            ],
            "type": "histogram2dcontour"
           }
          ],
          "mesh3d": [
           {
            "colorbar": {
             "outlinewidth": 0,
             "ticks": ""
            },
            "type": "mesh3d"
           }
          ],
          "parcoords": [
           {
            "line": {
             "colorbar": {
              "outlinewidth": 0,
              "ticks": ""
             }
            },
            "type": "parcoords"
           }
          ],
          "pie": [
           {
            "automargin": true,
            "type": "pie"
           }
          ],
          "scatter": [
           {
            "marker": {
             "colorbar": {
              "outlinewidth": 0,
              "ticks": ""
             }
            },
            "type": "scatter"
           }
          ],
          "scatter3d": [
           {
            "line": {
             "colorbar": {
              "outlinewidth": 0,
              "ticks": ""
             }
            },
            "marker": {
             "colorbar": {
              "outlinewidth": 0,
              "ticks": ""
             }
            },
            "type": "scatter3d"
           }
          ],
          "scattercarpet": [
           {
            "marker": {
             "colorbar": {
              "outlinewidth": 0,
              "ticks": ""
             }
            },
            "type": "scattercarpet"
           }
          ],
          "scattergeo": [
           {
            "marker": {
             "colorbar": {
              "outlinewidth": 0,
              "ticks": ""
             }
            },
            "type": "scattergeo"
           }
          ],
          "scattergl": [
           {
            "marker": {
             "colorbar": {
              "outlinewidth": 0,
              "ticks": ""
             }
            },
            "type": "scattergl"
           }
          ],
          "scattermapbox": [
           {
            "marker": {
             "colorbar": {
              "outlinewidth": 0,
              "ticks": ""
             }
            },
            "type": "scattermapbox"
           }
          ],
          "scatterpolar": [
           {
            "marker": {
             "colorbar": {
              "outlinewidth": 0,
              "ticks": ""
             }
            },
            "type": "scatterpolar"
           }
          ],
          "scatterpolargl": [
           {
            "marker": {
             "colorbar": {
              "outlinewidth": 0,
              "ticks": ""
             }
            },
            "type": "scatterpolargl"
           }
          ],
          "scatterternary": [
           {
            "marker": {
             "colorbar": {
              "outlinewidth": 0,
              "ticks": ""
             }
            },
            "type": "scatterternary"
           }
          ],
          "surface": [
           {
            "colorbar": {
             "outlinewidth": 0,
             "ticks": ""
            },
            "colorscale": [
             [
              0,
              "#0d0887"
             ],
             [
              0.1111111111111111,
              "#46039f"
             ],
             [
              0.2222222222222222,
              "#7201a8"
             ],
             [
              0.3333333333333333,
              "#9c179e"
             ],
             [
              0.4444444444444444,
              "#bd3786"
             ],
             [
              0.5555555555555556,
              "#d8576b"
             ],
             [
              0.6666666666666666,
              "#ed7953"
             ],
             [
              0.7777777777777778,
              "#fb9f3a"
             ],
             [
              0.8888888888888888,
              "#fdca26"
             ],
             [
              1,
              "#f0f921"
             ]
            ],
            "type": "surface"
           }
          ],
          "table": [
           {
            "cells": {
             "fill": {
              "color": "#EBF0F8"
             },
             "line": {
              "color": "white"
             }
            },
            "header": {
             "fill": {
              "color": "#C8D4E3"
             },
             "line": {
              "color": "white"
             }
            },
            "type": "table"
           }
          ]
         },
         "layout": {
          "annotationdefaults": {
           "arrowcolor": "#2a3f5f",
           "arrowhead": 0,
           "arrowwidth": 1
          },
          "autotypenumbers": "strict",
          "coloraxis": {
           "colorbar": {
            "outlinewidth": 0,
            "ticks": ""
           }
          },
          "colorscale": {
           "diverging": [
            [
             0,
             "#8e0152"
            ],
            [
             0.1,
             "#c51b7d"
            ],
            [
             0.2,
             "#de77ae"
            ],
            [
             0.3,
             "#f1b6da"
            ],
            [
             0.4,
             "#fde0ef"
            ],
            [
             0.5,
             "#f7f7f7"
            ],
            [
             0.6,
             "#e6f5d0"
            ],
            [
             0.7,
             "#b8e186"
            ],
            [
             0.8,
             "#7fbc41"
            ],
            [
             0.9,
             "#4d9221"
            ],
            [
             1,
             "#276419"
            ]
           ],
           "sequential": [
            [
             0,
             "#0d0887"
            ],
            [
             0.1111111111111111,
             "#46039f"
            ],
            [
             0.2222222222222222,
             "#7201a8"
            ],
            [
             0.3333333333333333,
             "#9c179e"
            ],
            [
             0.4444444444444444,
             "#bd3786"
            ],
            [
             0.5555555555555556,
             "#d8576b"
            ],
            [
             0.6666666666666666,
             "#ed7953"
            ],
            [
             0.7777777777777778,
             "#fb9f3a"
            ],
            [
             0.8888888888888888,
             "#fdca26"
            ],
            [
             1,
             "#f0f921"
            ]
           ],
           "sequentialminus": [
            [
             0,
             "#0d0887"
            ],
            [
             0.1111111111111111,
             "#46039f"
            ],
            [
             0.2222222222222222,
             "#7201a8"
            ],
            [
             0.3333333333333333,
             "#9c179e"
            ],
            [
             0.4444444444444444,
             "#bd3786"
            ],
            [
             0.5555555555555556,
             "#d8576b"
            ],
            [
             0.6666666666666666,
             "#ed7953"
            ],
            [
             0.7777777777777778,
             "#fb9f3a"
            ],
            [
             0.8888888888888888,
             "#fdca26"
            ],
            [
             1,
             "#f0f921"
            ]
           ]
          },
          "colorway": [
           "#636efa",
           "#EF553B",
           "#00cc96",
           "#ab63fa",
           "#FFA15A",
           "#19d3f3",
           "#FF6692",
           "#B6E880",
           "#FF97FF",
           "#FECB52"
          ],
          "font": {
           "color": "#2a3f5f"
          },
          "geo": {
           "bgcolor": "white",
           "lakecolor": "white",
           "landcolor": "#E5ECF6",
           "showlakes": true,
           "showland": true,
           "subunitcolor": "white"
          },
          "hoverlabel": {
           "align": "left"
          },
          "hovermode": "closest",
          "mapbox": {
           "style": "light"
          },
          "paper_bgcolor": "white",
          "plot_bgcolor": "#E5ECF6",
          "polar": {
           "angularaxis": {
            "gridcolor": "white",
            "linecolor": "white",
            "ticks": ""
           },
           "bgcolor": "#E5ECF6",
           "radialaxis": {
            "gridcolor": "white",
            "linecolor": "white",
            "ticks": ""
           }
          },
          "scene": {
           "xaxis": {
            "backgroundcolor": "#E5ECF6",
            "gridcolor": "white",
            "gridwidth": 2,
            "linecolor": "white",
            "showbackground": true,
            "ticks": "",
            "zerolinecolor": "white"
           },
           "yaxis": {
            "backgroundcolor": "#E5ECF6",
            "gridcolor": "white",
            "gridwidth": 2,
            "linecolor": "white",
            "showbackground": true,
            "ticks": "",
            "zerolinecolor": "white"
           },
           "zaxis": {
            "backgroundcolor": "#E5ECF6",
            "gridcolor": "white",
            "gridwidth": 2,
            "linecolor": "white",
            "showbackground": true,
            "ticks": "",
            "zerolinecolor": "white"
           }
          },
          "shapedefaults": {
           "line": {
            "color": "#2a3f5f"
           }
          },
          "ternary": {
           "aaxis": {
            "gridcolor": "white",
            "linecolor": "white",
            "ticks": ""
           },
           "baxis": {
            "gridcolor": "white",
            "linecolor": "white",
            "ticks": ""
           },
           "bgcolor": "#E5ECF6",
           "caxis": {
            "gridcolor": "white",
            "linecolor": "white",
            "ticks": ""
           }
          },
          "title": {
           "x": 0.05
          },
          "xaxis": {
           "automargin": true,
           "gridcolor": "white",
           "linecolor": "white",
           "ticks": "",
           "title": {
            "standoff": 15
           },
           "zerolinecolor": "white",
           "zerolinewidth": 2
          },
          "yaxis": {
           "automargin": true,
           "gridcolor": "white",
           "linecolor": "white",
           "ticks": "",
           "title": {
            "standoff": 15
           },
           "zerolinecolor": "white",
           "zerolinewidth": 2
          }
         }
        },
        "xaxis": {
         "anchor": "y",
         "domain": [
          0,
          1
         ],
         "title": {
          "text": "year"
         }
        },
        "yaxis": {
         "anchor": "x",
         "domain": [
          0,
          1
         ],
         "title": {
          "text": "value"
         }
        }
       }
      },
      "text/html": [
       "<div>                            <div id=\"143d84a9-5cc9-429b-877a-200dbb8ae0ea\" class=\"plotly-graph-div\" style=\"height:525px; width:100%;\"></div>            <script type=\"text/javascript\">                require([\"plotly\"], function(Plotly) {                    window.PLOTLYENV=window.PLOTLYENV || {};                                    if (document.getElementById(\"143d84a9-5cc9-429b-877a-200dbb8ae0ea\")) {                    Plotly.newPlot(                        \"143d84a9-5cc9-429b-877a-200dbb8ae0ea\",                        [{\"hovertemplate\":\"variable=acousticness<br>year=%{x}<br>value=%{y}<extra></extra>\",\"legendgroup\":\"acousticness\",\"line\":{\"color\":\"#636efa\",\"dash\":\"solid\"},\"marker\":{\"symbol\":\"circle\"},\"mode\":\"lines\",\"name\":\"acousticness\",\"orientation\":\"v\",\"showlegend\":true,\"x\":[1921,1922,1923,1924,1925,1926,1927,1928,1929,1930,1931,1932,1933,1934,1935,1936,1937,1938,1939,1940,1941,1942,1943,1944,1945,1946,1947,1948,1949,1950,1951,1952,1953,1954,1955,1956,1957,1958,1959,1960,1961,1962,1963,1964,1965,1966,1967,1968,1969,1970,1971,1972,1973,1974,1975,1976,1977,1978,1979,1980,1981,1982,1983,1984,1985,1986,1987,1988,1989,1990,1991,1992,1993,1994,1995,1996,1997,1998,1999,2000,2001,2002,2003,2004,2005,2006,2007,2008,2009,2010,2011,2012,2013,2014,2015,2016,2017,2018,2019,2020],\"xaxis\":\"x\",\"y\":[0.8868960000000005,0.9385915492957748,0.9572467913513516,0.940199860169493,0.9626070503597138,0.660817216981134,0.9361794552845558,0.9386165035685952,0.6014265861344558,0.936714937370057,0.8330399585921336,0.9357705179282878,0.899897909117222,0.8911487501730107,0.7783855599472987,0.7723120800000008,0.8654357853881286,0.9192803908646014,0.9087381000000004,0.8476440499999951,0.8957376562500025,0.8529343703923857,0.9027523185915528,0.9076531914893636,0.7096568630000005,0.9199445823665852,0.9139650224242392,0.9221549999999956,0.9075328949999956,0.8539413005999965,0.9022971956499974,0.8743009244999965,0.8909223502564074,0.8650197272999992,0.8405510069999986,0.8230569899999975,0.7928023589743608,0.7796118650000005,0.7793927897435907,0.7671814843243259,0.7519038684210535,0.720607806842106,0.7227048300000004,0.6941005307692291,0.6099113295384619,0.5248094599699997,0.5296103243521767,0.4937702403500001,0.4488463039999994,0.4600571139500007,0.4583362981000009,0.4600428051999994,0.4165241889999992,0.4472074226000001,0.4337738871950005,0.3614706321099993,0.3393025333750004,0.3289685734499993,0.29593224063,0.284955397635897,0.3012042267400006,0.2895800382050001,0.2947778916300001,0.2877095803450008,0.2965709032099995,0.2850806564249999,0.3116640663948722,0.322009946512821,0.3133512518150009,0.3328699505850001,0.3327652916307699,0.3208087638250009,0.3090685537400004,0.3062343630899999,0.3025118061200004,0.3010268798000006,0.3067156934549995,0.2914894615700001,0.2715901110661201,0.2893227005163599,0.2868424748428934,0.282624289885001,0.2564705181729783,0.2805589466225845,0.2557635068666665,0.2799863520256408,0.2540809575538463,0.2491917627212275,0.261928619096939,0.2426866435515872,0.2731826625185919,0.2499530443804624,0.2574880859564779,0.249312645880299,0.2539522577102332,0.2841710299554814,0.2860990665261043,0.2676329907750836,0.2782985863365824,0.2199308880935964],\"yaxis\":\"y\",\"type\":\"scatter\"},{\"hovertemplate\":\"variable=danceability<br>year=%{x}<br>value=%{y}<extra></extra>\",\"legendgroup\":\"danceability\",\"line\":{\"color\":\"#EF553B\",\"dash\":\"solid\"},\"marker\":{\"symbol\":\"circle\"},\"mode\":\"lines\",\"name\":\"danceability\",\"orientation\":\"v\",\"showlegend\":true,\"x\":[1921,1922,1923,1924,1925,1926,1927,1928,1929,1930,1931,1932,1933,1934,1935,1936,1937,1938,1939,1940,1941,1942,1943,1944,1945,1946,1947,1948,1949,1950,1951,1952,1953,1954,1955,1956,1957,1958,1959,1960,1961,1962,1963,1964,1965,1966,1967,1968,1969,1970,1971,1972,1973,1974,1975,1976,1977,1978,1979,1980,1981,1982,1983,1984,1985,1986,1987,1988,1989,1990,1991,1992,1993,1994,1995,1996,1997,1998,1999,2000,2001,2002,2003,2004,2005,2006,2007,2008,2009,2010,2011,2012,2013,2014,2015,2016,2017,2018,2019,2020],\"xaxis\":\"x\",\"y\":[0.4185973333333336,0.4820422535211267,0.5773405405405401,0.5498940677966102,0.5738633093525181,0.5998802612481859,0.6482682926829262,0.5342878667724027,0.6476698529411761,0.5181758835758836,0.5952217391304357,0.5577976095617526,0.57029030390738,0.528705882352941,0.5558691699604746,0.5580055454545453,0.5421572298325723,0.479977977161501,0.5126828,0.52189235,0.4804813541666676,0.4646338882282997,0.4551456338028168,0.5001744680851068,0.5191431500000011,0.4144450116009276,0.4713208484848491,0.4633694736842109,0.4421993999999996,0.5042531000000008,0.4624800999999999,0.4570322000000001,0.4374260512820513,0.4656388999999994,0.4881312,0.4878145000000007,0.5034812307692305,0.4800213999999995,0.4821143076923083,0.4860292432432435,0.4891655789473678,0.4931643684210523,0.48162135,0.5041769743589742,0.5034505641025638,0.5070204999999981,0.4926885942971483,0.5010080999999997,0.4880977999999999,0.5063075000000004,0.5042738499999999,0.5209994499999997,0.5154494500000005,0.51533975,0.5209980000000007,0.5297624999999999,0.5333237000000017,0.5407746000000005,0.5620453000000001,0.5561523589743594,0.5421846999999999,0.5642594000000005,0.5456292999999998,0.5303089499999987,0.5556424000000012,0.5409334000000001,0.5410193333333342,0.5404594358974372,0.5472274499999988,0.5352986500000001,0.5558243589743591,0.5550648499999989,0.5698781500000001,0.5528299500000016,0.5590457500000001,0.5878306000000001,0.5768138499999994,0.5862116499999998,0.5821579190158892,0.590918047034764,0.5833178553615969,0.5761602999999997,0.5757633060388944,0.5676803662258397,0.5722805641025652,0.5682301538461539,0.5634143589743592,0.5791928388746803,0.5641903571428577,0.5724883432539687,0.5528669806643526,0.5708818508997433,0.5711480263157896,0.5899476807980057,0.5937740628166152,0.6002023928770179,0.6122170180722886,0.6635004755111744,0.6448141097998967,0.6929043349753701],\"yaxis\":\"y\",\"type\":\"scatter\"},{\"hovertemplate\":\"variable=energy<br>year=%{x}<br>value=%{y}<extra></extra>\",\"legendgroup\":\"energy\",\"line\":{\"color\":\"#00cc96\",\"dash\":\"solid\"},\"marker\":{\"symbol\":\"circle\"},\"mode\":\"lines\",\"name\":\"energy\",\"orientation\":\"v\",\"showlegend\":true,\"x\":[1921,1922,1923,1924,1925,1926,1927,1928,1929,1930,1931,1932,1933,1934,1935,1936,1937,1938,1939,1940,1941,1942,1943,1944,1945,1946,1947,1948,1949,1950,1951,1952,1953,1954,1955,1956,1957,1958,1959,1960,1961,1962,1963,1964,1965,1966,1967,1968,1969,1970,1971,1972,1973,1974,1975,1976,1977,1978,1979,1980,1981,1982,1983,1984,1985,1986,1987,1988,1989,1990,1991,1992,1993,1994,1995,1996,1997,1998,1999,2000,2001,2002,2003,2004,2005,2006,2007,2008,2009,2010,2011,2012,2013,2014,2015,2016,2017,2018,2019,2020],\"xaxis\":\"x\",\"y\":[0.2318151333333333,0.2378153521126759,0.2624064864864865,0.3443466101694912,0.2785935251798561,0.2114670907111756,0.2643213008130081,0.2079477954004757,0.2418007352941172,0.3335239189189189,0.2344967732919257,0.3020677290836656,0.2798994211287988,0.2621313148788928,0.2463669762845848,0.3083886092727274,0.3110482952815827,0.2809812398042416,0.2826715000000002,0.3108928949999999,0.2656431979166666,0.2560794708680144,0.2799900422535211,0.2534414494680852,0.2260444155,0.2221723085846866,0.2635512000000002,0.242464841052632,0.2461146149999996,0.3140711950000003,0.254665655,0.2536260100000002,0.2661968307692306,0.264347385,0.2950963400000001,0.3047611200000001,0.2952791333333324,0.3087957550000006,0.3109944051282049,0.3411423783783781,0.3395318673684203,0.3710257,0.3653538849999999,0.394438825641026,0.4490272461538461,0.482208465,0.4468238319159585,0.4569696500000004,0.4876251299999994,0.495633050000001,0.4963612550000003,0.5045261799999999,0.5361382499999989,0.5147236550000011,0.5232085050000003,0.5538432500000001,0.560287959000001,0.5614288650000007,0.5910127149999996,0.5977773948717964,0.5993827249999998,0.5909193894999996,0.6014252350000012,0.5910916750000013,0.6015154800000013,0.6149545999999998,0.5798395538461533,0.5856792461538458,0.584046375000001,0.5715913950000007,0.5594023641025635,0.5828642050000001,0.5625599100000002,0.578772685000001,0.5785795100000009,0.5860684750000011,0.5986987151000001,0.6051975050000015,0.6375226022552535,0.6254128323108387,0.6269855221945144,0.6412697960000012,0.6601652610030712,0.6488679450661226,0.653208511282051,0.6503262820512825,0.6683047743589737,0.6714608207672623,0.6707487551020408,0.6817778026289684,0.6483008934060499,0.6565714601542408,0.6455968914473688,0.6487954437905223,0.6270642715298895,0.5928552316082347,0.5904210208835337,0.6024346220161672,0.5932240360184717,0.6312316354679793],\"yaxis\":\"y\",\"type\":\"scatter\"},{\"hovertemplate\":\"variable=instrumentalness<br>year=%{x}<br>value=%{y}<extra></extra>\",\"legendgroup\":\"instrumentalness\",\"line\":{\"color\":\"#ab63fa\",\"dash\":\"solid\"},\"marker\":{\"symbol\":\"circle\"},\"mode\":\"lines\",\"name\":\"instrumentalness\",\"orientation\":\"v\",\"showlegend\":true,\"x\":[1921,1922,1923,1924,1925,1926,1927,1928,1929,1930,1931,1932,1933,1934,1935,1936,1937,1938,1939,1940,1941,1942,1943,1944,1945,1946,1947,1948,1949,1950,1951,1952,1953,1954,1955,1956,1957,1958,1959,1960,1961,1962,1963,1964,1965,1966,1967,1968,1969,1970,1971,1972,1973,1974,1975,1976,1977,1978,1979,1980,1981,1982,1983,1984,1985,1986,1987,1988,1989,1990,1991,1992,1993,1994,1995,1996,1997,1998,1999,2000,2001,2002,2003,2004,2005,2006,2007,2008,2009,2010,2011,2012,2013,2014,2015,2016,2017,2018,2019,2020],\"xaxis\":\"x\",\"y\":[0.3448780588666665,0.4341948697183099,0.371732725027027,0.5817009136440677,0.4182973612230215,0.3330931111175616,0.3913284986504065,0.4948354801348136,0.2152040310609246,0.3522059281652805,0.2214196416149072,0.2263565791633467,0.1839489396816208,0.276382266643599,0.2258732980895915,0.2571099957181816,0.3270876216438359,0.3784246349265906,0.2776824694100001,0.3168486998649998,0.4449516393124999,0.392882047871581,0.4098969234647892,0.4492919654122334,0.2758942570149996,0.4861264096461711,0.3475934179090908,0.3554848223842104,0.2977615361899994,0.245000820015,0.3084378555850002,0.2884126469300002,0.3183223943230766,0.2974400082799999,0.2166044216900002,0.2387634177800001,0.1945206161692309,0.1812411100599998,0.1881481940615383,0.1765021594216216,0.2646232531421054,0.1714715509421054,0.18543231468,0.1595978017794872,0.1183659460923078,0.1151259555649999,0.1189468546723362,0.112776949285,0.1594527081650001,0.1275670030849998,0.12501788923,0.1148803337599997,0.0996802232299999,0.11636098351,0.1113220337449999,0.12162904398,0.1277210319449999,0.1003812145099999,0.1157513720150001,0.1287510612717948,0.1468379466199998,0.100016383,0.1454105232900004,0.1451730397350004,0.1137385580749998,0.1099408543649999,0.1019745174666666,0.117190380220513,0.1131825446149999,0.1258262680949997,0.1150923397999999,0.1006900830649998,0.11529396538,0.1118857599499999,0.1232687960699999,0.0950528120350001,0.1046901786199999,0.1113257503499999,0.0940681410661199,0.1011677687934559,0.1072140189925186,0.0880483503149999,0.0830492746673491,0.0779340349084435,0.0901943611846154,0.0777014718769231,0.0729572680512819,0.0636620903171356,0.0758720736836735,0.0829805682192461,0.103772332166584,0.0852055206786631,0.0983650539170038,0.0765695548379051,0.1067868780547114,0.0939843871174179,0.0970906090662649,0.0542171216690441,0.0776402469728064,0.0163755243054187],\"yaxis\":\"y\",\"type\":\"scatter\"},{\"hovertemplate\":\"variable=liveness<br>year=%{x}<br>value=%{y}<extra></extra>\",\"legendgroup\":\"liveness\",\"line\":{\"color\":\"#FFA15A\",\"dash\":\"solid\"},\"marker\":{\"symbol\":\"circle\"},\"mode\":\"lines\",\"name\":\"liveness\",\"orientation\":\"v\",\"showlegend\":true,\"x\":[1921,1922,1923,1924,1925,1926,1927,1928,1929,1930,1931,1932,1933,1934,1935,1936,1937,1938,1939,1940,1941,1942,1943,1944,1945,1946,1947,1948,1949,1950,1951,1952,1953,1954,1955,1956,1957,1958,1959,1960,1961,1962,1963,1964,1965,1966,1967,1968,1969,1970,1971,1972,1973,1974,1975,1976,1977,1978,1979,1980,1981,1982,1983,1984,1985,1986,1987,1988,1989,1990,1991,1992,1993,1994,1995,1996,1997,1998,1999,2000,2001,2002,2003,2004,2005,2006,2007,2008,2009,2010,2011,2012,2013,2014,2015,2016,2017,2018,2019,2020],\"xaxis\":\"x\",\"y\":[0.20571,0.2407197183098592,0.2274621621621621,0.2352190677966101,0.2376679856115108,0.2323695936139332,0.1684502439024389,0.1752893735130848,0.2360002100840333,0.2213108627858629,0.2274279503105589,0.2324962151394422,0.2090719247467437,0.2134525951557092,0.2292998682476943,0.2214382727272726,0.2259677321156773,0.237111092985318,0.2391015999999999,0.2643351000000004,0.2018398958333331,0.2128784185493456,0.2392107042253524,0.2387719414893616,0.2030099500000001,0.2108183294663576,0.2238293939393936,0.2196935789473678,0.2088585500000004,0.2169584000000004,0.2177773999999999,0.2329722999999998,0.221734051282051,0.2178411499999996,0.2214353500000001,0.1822571500000002,0.1827485641025636,0.2058408500000003,0.1918429230769232,0.2078637297297298,0.2089125789473681,0.2018957368421054,0.2037453000000002,0.2172323589743596,0.2138391282051284,0.2180930999999999,0.190917658829415,0.2173509500000005,0.2069658999999999,0.2122688000000002,0.2149145500000001,0.2069549500000001,0.2013747499999997,0.2093463499999996,0.2154413500000002,0.2490321999999999,0.2232140500000004,0.2180709499999994,0.2134431000000002,0.2037541025641026,0.2250998999999999,0.20100675,0.1989224500000002,0.1977062,0.1992064499999998,0.2118794500000001,0.202018102564103,0.207707538461538,0.1990802,0.1909609,0.1886289230769235,0.2002455000000007,0.1949322500000003,0.1921651000000001,0.2013737000000004,0.1986863000000002,0.1984788000000003,0.1937308999999996,0.206308047155305,0.1976860429447853,0.1870256359102248,0.1939111999999998,0.196976305015353,0.2021994404883014,0.1900816256410258,0.1882892820512821,0.1961265641025642,0.1984314066496162,0.2052522959183674,0.1997006448412699,0.2033088249876056,0.1897330077120824,0.1996308198380571,0.1918215960099752,0.1888564336372847,0.181169894268225,0.1917126004016064,0.1763255349500711,0.1726164186762446,0.1785354187192117],\"yaxis\":\"y\",\"type\":\"scatter\"},{\"hovertemplate\":\"variable=valence<br>year=%{x}<br>value=%{y}<extra></extra>\",\"legendgroup\":\"valence\",\"line\":{\"color\":\"#19d3f3\",\"dash\":\"solid\"},\"marker\":{\"symbol\":\"circle\"},\"mode\":\"lines\",\"name\":\"valence\",\"orientation\":\"v\",\"showlegend\":true,\"x\":[1921,1922,1923,1924,1925,1926,1927,1928,1929,1930,1931,1932,1933,1934,1935,1936,1937,1938,1939,1940,1941,1942,1943,1944,1945,1946,1947,1948,1949,1950,1951,1952,1953,1954,1955,1956,1957,1958,1959,1960,1961,1962,1963,1964,1965,1966,1967,1968,1969,1970,1971,1972,1973,1974,1975,1976,1977,1978,1979,1980,1981,1982,1983,1984,1985,1986,1987,1988,1989,1990,1991,1992,1993,1994,1995,1996,1997,1998,1999,2000,2001,2002,2003,2004,2005,2006,2007,2008,2009,2010,2011,2012,2013,2014,2015,2016,2017,2018,2019,2020],\"xaxis\":\"x\",\"y\":[0.3793266666666666,0.5355492957746479,0.6254924324324328,0.6637254237288139,0.6219287769784171,0.4369104571843251,0.6597004878048782,0.4957126883425853,0.6365298319327733,0.6162376299376306,0.5131170807453418,0.5881599601593626,0.5994099855282197,0.5588046712802772,0.5455777997364957,0.5640635454545455,0.5857894977168944,0.5149111092985317,0.5599248999999992,0.6167094700000009,0.4794560416666661,0.4774088585017848,0.4954545070422531,0.5406954787234041,0.4913613500000002,0.3982538283062647,0.5082125454545455,0.4621423684210526,0.4304195000000001,0.5516497000000001,0.44134755,0.4431349620499994,0.4291420512820513,0.4523410500000002,0.4724154999999997,0.5084230500000003,0.5110101538461542,0.4976614999999994,0.4784156410256422,0.5239316756756759,0.5128512105263155,0.5477920526315792,0.5415274500000008,0.55726042051282,0.5809506666666668,0.5801445499999996,0.5507916958479243,0.5659936500000002,0.5547452849999999,0.5720753999999992,0.5749132500000002,0.5956881500000009,0.5921162000000004,0.5812744000000009,0.5694151500000002,0.5807332499999998,0.58524655,0.5895352500000014,0.6099818000000005,0.5980580512820513,0.5829518500000006,0.5864384500000001,0.5721198999999989,0.5516387100000003,0.5655964500000001,0.5509485500000019,0.5414511794871785,0.5464853897435901,0.5483329000000007,0.5265268499999999,0.5486552307692295,0.5590983000000014,0.5555684500000001,0.5266491500000006,0.5302466999999994,0.5608732500000001,0.5485525000000002,0.5377209,0.5564528446950284,0.5594754601226991,0.541479107231919,0.5423971500000008,0.5305042476970324,0.5244885554425227,0.5325309230769236,0.5200283076923078,0.5167938461538473,0.5275418925831203,0.5071696617346935,0.5208951587301589,0.4724536787307882,0.4627090128534706,0.4547411943319834,0.4630487780548628,0.4320983687943254,0.4315320589872012,0.4164763112449793,0.4479212743699474,0.4588176295536167,0.5010478078817729],\"yaxis\":\"y\",\"type\":\"scatter\"}],                        {\"template\":{\"data\":{\"bar\":[{\"error_x\":{\"color\":\"#2a3f5f\"},\"error_y\":{\"color\":\"#2a3f5f\"},\"marker\":{\"line\":{\"color\":\"#E5ECF6\",\"width\":0.5},\"pattern\":{\"fillmode\":\"overlay\",\"size\":10,\"solidity\":0.2}},\"type\":\"bar\"}],\"barpolar\":[{\"marker\":{\"line\":{\"color\":\"#E5ECF6\",\"width\":0.5},\"pattern\":{\"fillmode\":\"overlay\",\"size\":10,\"solidity\":0.2}},\"type\":\"barpolar\"}],\"carpet\":[{\"aaxis\":{\"endlinecolor\":\"#2a3f5f\",\"gridcolor\":\"white\",\"linecolor\":\"white\",\"minorgridcolor\":\"white\",\"startlinecolor\":\"#2a3f5f\"},\"baxis\":{\"endlinecolor\":\"#2a3f5f\",\"gridcolor\":\"white\",\"linecolor\":\"white\",\"minorgridcolor\":\"white\",\"startlinecolor\":\"#2a3f5f\"},\"type\":\"carpet\"}],\"choropleth\":[{\"colorbar\":{\"outlinewidth\":0,\"ticks\":\"\"},\"type\":\"choropleth\"}],\"contour\":[{\"colorbar\":{\"outlinewidth\":0,\"ticks\":\"\"},\"colorscale\":[[0.0,\"#0d0887\"],[0.1111111111111111,\"#46039f\"],[0.2222222222222222,\"#7201a8\"],[0.3333333333333333,\"#9c179e\"],[0.4444444444444444,\"#bd3786\"],[0.5555555555555556,\"#d8576b\"],[0.6666666666666666,\"#ed7953\"],[0.7777777777777778,\"#fb9f3a\"],[0.8888888888888888,\"#fdca26\"],[1.0,\"#f0f921\"]],\"type\":\"contour\"}],\"contourcarpet\":[{\"colorbar\":{\"outlinewidth\":0,\"ticks\":\"\"},\"type\":\"contourcarpet\"}],\"heatmap\":[{\"colorbar\":{\"outlinewidth\":0,\"ticks\":\"\"},\"colorscale\":[[0.0,\"#0d0887\"],[0.1111111111111111,\"#46039f\"],[0.2222222222222222,\"#7201a8\"],[0.3333333333333333,\"#9c179e\"],[0.4444444444444444,\"#bd3786\"],[0.5555555555555556,\"#d8576b\"],[0.6666666666666666,\"#ed7953\"],[0.7777777777777778,\"#fb9f3a\"],[0.8888888888888888,\"#fdca26\"],[1.0,\"#f0f921\"]],\"type\":\"heatmap\"}],\"heatmapgl\":[{\"colorbar\":{\"outlinewidth\":0,\"ticks\":\"\"},\"colorscale\":[[0.0,\"#0d0887\"],[0.1111111111111111,\"#46039f\"],[0.2222222222222222,\"#7201a8\"],[0.3333333333333333,\"#9c179e\"],[0.4444444444444444,\"#bd3786\"],[0.5555555555555556,\"#d8576b\"],[0.6666666666666666,\"#ed7953\"],[0.7777777777777778,\"#fb9f3a\"],[0.8888888888888888,\"#fdca26\"],[1.0,\"#f0f921\"]],\"type\":\"heatmapgl\"}],\"histogram\":[{\"marker\":{\"pattern\":{\"fillmode\":\"overlay\",\"size\":10,\"solidity\":0.2}},\"type\":\"histogram\"}],\"histogram2d\":[{\"colorbar\":{\"outlinewidth\":0,\"ticks\":\"\"},\"colorscale\":[[0.0,\"#0d0887\"],[0.1111111111111111,\"#46039f\"],[0.2222222222222222,\"#7201a8\"],[0.3333333333333333,\"#9c179e\"],[0.4444444444444444,\"#bd3786\"],[0.5555555555555556,\"#d8576b\"],[0.6666666666666666,\"#ed7953\"],[0.7777777777777778,\"#fb9f3a\"],[0.8888888888888888,\"#fdca26\"],[1.0,\"#f0f921\"]],\"type\":\"histogram2d\"}],\"histogram2dcontour\":[{\"colorbar\":{\"outlinewidth\":0,\"ticks\":\"\"},\"colorscale\":[[0.0,\"#0d0887\"],[0.1111111111111111,\"#46039f\"],[0.2222222222222222,\"#7201a8\"],[0.3333333333333333,\"#9c179e\"],[0.4444444444444444,\"#bd3786\"],[0.5555555555555556,\"#d8576b\"],[0.6666666666666666,\"#ed7953\"],[0.7777777777777778,\"#fb9f3a\"],[0.8888888888888888,\"#fdca26\"],[1.0,\"#f0f921\"]],\"type\":\"histogram2dcontour\"}],\"mesh3d\":[{\"colorbar\":{\"outlinewidth\":0,\"ticks\":\"\"},\"type\":\"mesh3d\"}],\"parcoords\":[{\"line\":{\"colorbar\":{\"outlinewidth\":0,\"ticks\":\"\"}},\"type\":\"parcoords\"}],\"pie\":[{\"automargin\":true,\"type\":\"pie\"}],\"scatter\":[{\"marker\":{\"colorbar\":{\"outlinewidth\":0,\"ticks\":\"\"}},\"type\":\"scatter\"}],\"scatter3d\":[{\"line\":{\"colorbar\":{\"outlinewidth\":0,\"ticks\":\"\"}},\"marker\":{\"colorbar\":{\"outlinewidth\":0,\"ticks\":\"\"}},\"type\":\"scatter3d\"}],\"scattercarpet\":[{\"marker\":{\"colorbar\":{\"outlinewidth\":0,\"ticks\":\"\"}},\"type\":\"scattercarpet\"}],\"scattergeo\":[{\"marker\":{\"colorbar\":{\"outlinewidth\":0,\"ticks\":\"\"}},\"type\":\"scattergeo\"}],\"scattergl\":[{\"marker\":{\"colorbar\":{\"outlinewidth\":0,\"ticks\":\"\"}},\"type\":\"scattergl\"}],\"scattermapbox\":[{\"marker\":{\"colorbar\":{\"outlinewidth\":0,\"ticks\":\"\"}},\"type\":\"scattermapbox\"}],\"scatterpolar\":[{\"marker\":{\"colorbar\":{\"outlinewidth\":0,\"ticks\":\"\"}},\"type\":\"scatterpolar\"}],\"scatterpolargl\":[{\"marker\":{\"colorbar\":{\"outlinewidth\":0,\"ticks\":\"\"}},\"type\":\"scatterpolargl\"}],\"scatterternary\":[{\"marker\":{\"colorbar\":{\"outlinewidth\":0,\"ticks\":\"\"}},\"type\":\"scatterternary\"}],\"surface\":[{\"colorbar\":{\"outlinewidth\":0,\"ticks\":\"\"},\"colorscale\":[[0.0,\"#0d0887\"],[0.1111111111111111,\"#46039f\"],[0.2222222222222222,\"#7201a8\"],[0.3333333333333333,\"#9c179e\"],[0.4444444444444444,\"#bd3786\"],[0.5555555555555556,\"#d8576b\"],[0.6666666666666666,\"#ed7953\"],[0.7777777777777778,\"#fb9f3a\"],[0.8888888888888888,\"#fdca26\"],[1.0,\"#f0f921\"]],\"type\":\"surface\"}],\"table\":[{\"cells\":{\"fill\":{\"color\":\"#EBF0F8\"},\"line\":{\"color\":\"white\"}},\"header\":{\"fill\":{\"color\":\"#C8D4E3\"},\"line\":{\"color\":\"white\"}},\"type\":\"table\"}]},\"layout\":{\"annotationdefaults\":{\"arrowcolor\":\"#2a3f5f\",\"arrowhead\":0,\"arrowwidth\":1},\"autotypenumbers\":\"strict\",\"coloraxis\":{\"colorbar\":{\"outlinewidth\":0,\"ticks\":\"\"}},\"colorscale\":{\"diverging\":[[0,\"#8e0152\"],[0.1,\"#c51b7d\"],[0.2,\"#de77ae\"],[0.3,\"#f1b6da\"],[0.4,\"#fde0ef\"],[0.5,\"#f7f7f7\"],[0.6,\"#e6f5d0\"],[0.7,\"#b8e186\"],[0.8,\"#7fbc41\"],[0.9,\"#4d9221\"],[1,\"#276419\"]],\"sequential\":[[0.0,\"#0d0887\"],[0.1111111111111111,\"#46039f\"],[0.2222222222222222,\"#7201a8\"],[0.3333333333333333,\"#9c179e\"],[0.4444444444444444,\"#bd3786\"],[0.5555555555555556,\"#d8576b\"],[0.6666666666666666,\"#ed7953\"],[0.7777777777777778,\"#fb9f3a\"],[0.8888888888888888,\"#fdca26\"],[1.0,\"#f0f921\"]],\"sequentialminus\":[[0.0,\"#0d0887\"],[0.1111111111111111,\"#46039f\"],[0.2222222222222222,\"#7201a8\"],[0.3333333333333333,\"#9c179e\"],[0.4444444444444444,\"#bd3786\"],[0.5555555555555556,\"#d8576b\"],[0.6666666666666666,\"#ed7953\"],[0.7777777777777778,\"#fb9f3a\"],[0.8888888888888888,\"#fdca26\"],[1.0,\"#f0f921\"]]},\"colorway\":[\"#636efa\",\"#EF553B\",\"#00cc96\",\"#ab63fa\",\"#FFA15A\",\"#19d3f3\",\"#FF6692\",\"#B6E880\",\"#FF97FF\",\"#FECB52\"],\"font\":{\"color\":\"#2a3f5f\"},\"geo\":{\"bgcolor\":\"white\",\"lakecolor\":\"white\",\"landcolor\":\"#E5ECF6\",\"showlakes\":true,\"showland\":true,\"subunitcolor\":\"white\"},\"hoverlabel\":{\"align\":\"left\"},\"hovermode\":\"closest\",\"mapbox\":{\"style\":\"light\"},\"paper_bgcolor\":\"white\",\"plot_bgcolor\":\"#E5ECF6\",\"polar\":{\"angularaxis\":{\"gridcolor\":\"white\",\"linecolor\":\"white\",\"ticks\":\"\"},\"bgcolor\":\"#E5ECF6\",\"radialaxis\":{\"gridcolor\":\"white\",\"linecolor\":\"white\",\"ticks\":\"\"}},\"scene\":{\"xaxis\":{\"backgroundcolor\":\"#E5ECF6\",\"gridcolor\":\"white\",\"gridwidth\":2,\"linecolor\":\"white\",\"showbackground\":true,\"ticks\":\"\",\"zerolinecolor\":\"white\"},\"yaxis\":{\"backgroundcolor\":\"#E5ECF6\",\"gridcolor\":\"white\",\"gridwidth\":2,\"linecolor\":\"white\",\"showbackground\":true,\"ticks\":\"\",\"zerolinecolor\":\"white\"},\"zaxis\":{\"backgroundcolor\":\"#E5ECF6\",\"gridcolor\":\"white\",\"gridwidth\":2,\"linecolor\":\"white\",\"showbackground\":true,\"ticks\":\"\",\"zerolinecolor\":\"white\"}},\"shapedefaults\":{\"line\":{\"color\":\"#2a3f5f\"}},\"ternary\":{\"aaxis\":{\"gridcolor\":\"white\",\"linecolor\":\"white\",\"ticks\":\"\"},\"baxis\":{\"gridcolor\":\"white\",\"linecolor\":\"white\",\"ticks\":\"\"},\"bgcolor\":\"#E5ECF6\",\"caxis\":{\"gridcolor\":\"white\",\"linecolor\":\"white\",\"ticks\":\"\"}},\"title\":{\"x\":0.05},\"xaxis\":{\"automargin\":true,\"gridcolor\":\"white\",\"linecolor\":\"white\",\"ticks\":\"\",\"title\":{\"standoff\":15},\"zerolinecolor\":\"white\",\"zerolinewidth\":2},\"yaxis\":{\"automargin\":true,\"gridcolor\":\"white\",\"linecolor\":\"white\",\"ticks\":\"\",\"title\":{\"standoff\":15},\"zerolinecolor\":\"white\",\"zerolinewidth\":2}}},\"xaxis\":{\"anchor\":\"y\",\"domain\":[0.0,1.0],\"title\":{\"text\":\"year\"}},\"yaxis\":{\"anchor\":\"x\",\"domain\":[0.0,1.0],\"title\":{\"text\":\"value\"}},\"legend\":{\"title\":{\"text\":\"variable\"},\"tracegroupgap\":0},\"margin\":{\"t\":60}},                        {\"responsive\": true}                    ).then(function(){\n",
       "                            \n",
       "var gd = document.getElementById('143d84a9-5cc9-429b-877a-200dbb8ae0ea');\n",
       "var x = new MutationObserver(function (mutations, observer) {{\n",
       "        var display = window.getComputedStyle(gd).display;\n",
       "        if (!display || display === 'none') {{\n",
       "            console.log([gd, 'removed!']);\n",
       "            Plotly.purge(gd);\n",
       "            observer.disconnect();\n",
       "        }}\n",
       "}});\n",
       "\n",
       "// Listen for the removal of the full notebook cells\n",
       "var notebookContainer = gd.closest('#notebook-container');\n",
       "if (notebookContainer) {{\n",
       "    x.observe(notebookContainer, {childList: true});\n",
       "}}\n",
       "\n",
       "// Listen for the clearing of the current output cell\n",
       "var outputEl = gd.closest('.output');\n",
       "if (outputEl) {{\n",
       "    x.observe(outputEl, {childList: true});\n",
       "}}\n",
       "\n",
       "                        })                };                });            </script>        </div>"
      ]
     },
     "metadata": {},
     "output_type": "display_data"
    }
   ],
   "source": [
    "import plotly.express as px\n",
    "sound_features = ['acousticness', 'danceability', 'energy', 'instrumentalness', 'liveness', 'valence']\n",
    "fig = px.line(data_by_year, x='year', y=sound_features)\n",
    "fig.show()"
   ]
  },
  {
   "cell_type": "code",
   "execution_count": 36,
   "id": "a29243b4",
   "metadata": {
    "scrolled": true
   },
   "outputs": [
    {
     "data": {
      "text/html": [
       "<div>\n",
       "<style scoped>\n",
       "    .dataframe tbody tr th:only-of-type {\n",
       "        vertical-align: middle;\n",
       "    }\n",
       "\n",
       "    .dataframe tbody tr th {\n",
       "        vertical-align: top;\n",
       "    }\n",
       "\n",
       "    .dataframe thead th {\n",
       "        text-align: right;\n",
       "    }\n",
       "</style>\n",
       "<table border=\"1\" class=\"dataframe\">\n",
       "  <thead>\n",
       "    <tr style=\"text-align: right;\">\n",
       "      <th></th>\n",
       "      <th>mode</th>\n",
       "      <th>genres</th>\n",
       "      <th>acousticness</th>\n",
       "      <th>danceability</th>\n",
       "      <th>duration_ms</th>\n",
       "      <th>energy</th>\n",
       "      <th>instrumentalness</th>\n",
       "      <th>liveness</th>\n",
       "      <th>loudness</th>\n",
       "      <th>speechiness</th>\n",
       "      <th>tempo</th>\n",
       "      <th>valence</th>\n",
       "      <th>popularity</th>\n",
       "      <th>key</th>\n",
       "    </tr>\n",
       "  </thead>\n",
       "  <tbody>\n",
       "    <tr>\n",
       "      <th>237</th>\n",
       "      <td>1</td>\n",
       "      <td>basshall</td>\n",
       "      <td>0.213167</td>\n",
       "      <td>0.81800</td>\n",
       "      <td>169799.166667</td>\n",
       "      <td>0.630167</td>\n",
       "      <td>0.000020</td>\n",
       "      <td>0.081067</td>\n",
       "      <td>-6.627833</td>\n",
       "      <td>0.134833</td>\n",
       "      <td>115.092500</td>\n",
       "      <td>0.588667</td>\n",
       "      <td>80.666667</td>\n",
       "      <td>2</td>\n",
       "    </tr>\n",
       "    <tr>\n",
       "      <th>2533</th>\n",
       "      <td>1</td>\n",
       "      <td>south african house</td>\n",
       "      <td>0.043833</td>\n",
       "      <td>0.84700</td>\n",
       "      <td>311854.333333</td>\n",
       "      <td>0.562333</td>\n",
       "      <td>0.130339</td>\n",
       "      <td>0.075133</td>\n",
       "      <td>-7.719000</td>\n",
       "      <td>0.050733</td>\n",
       "      <td>123.676333</td>\n",
       "      <td>0.834333</td>\n",
       "      <td>80.000000</td>\n",
       "      <td>1</td>\n",
       "    </tr>\n",
       "    <tr>\n",
       "      <th>2755</th>\n",
       "      <td>1</td>\n",
       "      <td>trap venezolano</td>\n",
       "      <td>0.044600</td>\n",
       "      <td>0.87700</td>\n",
       "      <td>231848.000000</td>\n",
       "      <td>0.777000</td>\n",
       "      <td>0.000035</td>\n",
       "      <td>0.086300</td>\n",
       "      <td>-4.246000</td>\n",
       "      <td>0.117000</td>\n",
       "      <td>102.020000</td>\n",
       "      <td>0.706000</td>\n",
       "      <td>80.000000</td>\n",
       "      <td>1</td>\n",
       "    </tr>\n",
       "    <tr>\n",
       "      <th>2778</th>\n",
       "      <td>0</td>\n",
       "      <td>turkish edm</td>\n",
       "      <td>0.008290</td>\n",
       "      <td>0.69800</td>\n",
       "      <td>186700.000000</td>\n",
       "      <td>0.719000</td>\n",
       "      <td>0.000004</td>\n",
       "      <td>0.326000</td>\n",
       "      <td>-4.923000</td>\n",
       "      <td>0.045500</td>\n",
       "      <td>120.062000</td>\n",
       "      <td>0.364000</td>\n",
       "      <td>80.000000</td>\n",
       "      <td>0</td>\n",
       "    </tr>\n",
       "    <tr>\n",
       "      <th>46</th>\n",
       "      <td>0</td>\n",
       "      <td>alberta hip hop</td>\n",
       "      <td>0.330000</td>\n",
       "      <td>0.88500</td>\n",
       "      <td>144000.000000</td>\n",
       "      <td>0.685000</td>\n",
       "      <td>0.000000</td>\n",
       "      <td>0.148000</td>\n",
       "      <td>-6.429000</td>\n",
       "      <td>0.062700</td>\n",
       "      <td>99.954000</td>\n",
       "      <td>0.937000</td>\n",
       "      <td>78.500000</td>\n",
       "      <td>11</td>\n",
       "    </tr>\n",
       "    <tr>\n",
       "      <th>536</th>\n",
       "      <td>0</td>\n",
       "      <td>chinese electropop</td>\n",
       "      <td>0.002570</td>\n",
       "      <td>0.66000</td>\n",
       "      <td>217088.000000</td>\n",
       "      <td>0.787000</td>\n",
       "      <td>0.000000</td>\n",
       "      <td>0.323000</td>\n",
       "      <td>-4.592000</td>\n",
       "      <td>0.032000</td>\n",
       "      <td>142.018000</td>\n",
       "      <td>0.199000</td>\n",
       "      <td>78.500000</td>\n",
       "      <td>1</td>\n",
       "    </tr>\n",
       "    <tr>\n",
       "      <th>37</th>\n",
       "      <td>0</td>\n",
       "      <td>afroswing</td>\n",
       "      <td>0.318450</td>\n",
       "      <td>0.71175</td>\n",
       "      <td>179995.375000</td>\n",
       "      <td>0.580187</td>\n",
       "      <td>0.000258</td>\n",
       "      <td>0.189950</td>\n",
       "      <td>-7.016687</td>\n",
       "      <td>0.195563</td>\n",
       "      <td>83.250125</td>\n",
       "      <td>0.676625</td>\n",
       "      <td>77.312500</td>\n",
       "      <td>11</td>\n",
       "    </tr>\n",
       "    <tr>\n",
       "      <th>31</th>\n",
       "      <td>0</td>\n",
       "      <td>afro soul</td>\n",
       "      <td>0.006270</td>\n",
       "      <td>0.76600</td>\n",
       "      <td>202627.000000</td>\n",
       "      <td>0.873000</td>\n",
       "      <td>0.000000</td>\n",
       "      <td>0.076400</td>\n",
       "      <td>-6.381000</td>\n",
       "      <td>0.143000</td>\n",
       "      <td>126.988000</td>\n",
       "      <td>0.743000</td>\n",
       "      <td>77.000000</td>\n",
       "      <td>11</td>\n",
       "    </tr>\n",
       "    <tr>\n",
       "      <th>575</th>\n",
       "      <td>1</td>\n",
       "      <td>circuit</td>\n",
       "      <td>0.009030</td>\n",
       "      <td>0.74500</td>\n",
       "      <td>189818.000000</td>\n",
       "      <td>0.972000</td>\n",
       "      <td>0.465000</td>\n",
       "      <td>0.297000</td>\n",
       "      <td>-3.506000</td>\n",
       "      <td>0.077400</td>\n",
       "      <td>128.031000</td>\n",
       "      <td>0.556000</td>\n",
       "      <td>77.000000</td>\n",
       "      <td>7</td>\n",
       "    </tr>\n",
       "    <tr>\n",
       "      <th>1239</th>\n",
       "      <td>1</td>\n",
       "      <td>guaracha</td>\n",
       "      <td>0.009030</td>\n",
       "      <td>0.74500</td>\n",
       "      <td>189818.000000</td>\n",
       "      <td>0.972000</td>\n",
       "      <td>0.465000</td>\n",
       "      <td>0.297000</td>\n",
       "      <td>-3.506000</td>\n",
       "      <td>0.077400</td>\n",
       "      <td>128.031000</td>\n",
       "      <td>0.556000</td>\n",
       "      <td>77.000000</td>\n",
       "      <td>7</td>\n",
       "    </tr>\n",
       "  </tbody>\n",
       "</table>\n",
       "</div>"
      ],
      "text/plain": [
       "      mode               genres  acousticness  danceability    duration_ms  \\\n",
       "237      1             basshall      0.213167       0.81800  169799.166667   \n",
       "2533     1  south african house      0.043833       0.84700  311854.333333   \n",
       "2755     1      trap venezolano      0.044600       0.87700  231848.000000   \n",
       "2778     0          turkish edm      0.008290       0.69800  186700.000000   \n",
       "46       0      alberta hip hop      0.330000       0.88500  144000.000000   \n",
       "536      0   chinese electropop      0.002570       0.66000  217088.000000   \n",
       "37       0            afroswing      0.318450       0.71175  179995.375000   \n",
       "31       0            afro soul      0.006270       0.76600  202627.000000   \n",
       "575      1              circuit      0.009030       0.74500  189818.000000   \n",
       "1239     1             guaracha      0.009030       0.74500  189818.000000   \n",
       "\n",
       "        energy  instrumentalness  liveness  loudness  speechiness       tempo  \\\n",
       "237   0.630167          0.000020  0.081067 -6.627833     0.134833  115.092500   \n",
       "2533  0.562333          0.130339  0.075133 -7.719000     0.050733  123.676333   \n",
       "2755  0.777000          0.000035  0.086300 -4.246000     0.117000  102.020000   \n",
       "2778  0.719000          0.000004  0.326000 -4.923000     0.045500  120.062000   \n",
       "46    0.685000          0.000000  0.148000 -6.429000     0.062700   99.954000   \n",
       "536   0.787000          0.000000  0.323000 -4.592000     0.032000  142.018000   \n",
       "37    0.580187          0.000258  0.189950 -7.016687     0.195563   83.250125   \n",
       "31    0.873000          0.000000  0.076400 -6.381000     0.143000  126.988000   \n",
       "575   0.972000          0.465000  0.297000 -3.506000     0.077400  128.031000   \n",
       "1239  0.972000          0.465000  0.297000 -3.506000     0.077400  128.031000   \n",
       "\n",
       "       valence  popularity  key  \n",
       "237   0.588667   80.666667    2  \n",
       "2533  0.834333   80.000000    1  \n",
       "2755  0.706000   80.000000    1  \n",
       "2778  0.364000   80.000000    0  \n",
       "46    0.937000   78.500000   11  \n",
       "536   0.199000   78.500000    1  \n",
       "37    0.676625   77.312500   11  \n",
       "31    0.743000   77.000000   11  \n",
       "575   0.556000   77.000000    7  \n",
       "1239  0.556000   77.000000    7  "
      ]
     },
     "execution_count": 36,
     "metadata": {},
     "output_type": "execute_result"
    }
   ],
   "source": [
    "top_genre = data_by_genre.nlargest(10,\"popularity\")\n",
    "top_genre"
   ]
  },
  {
   "cell_type": "code",
   "execution_count": 40,
   "id": "7c34b9bf",
   "metadata": {
    "scrolled": true
   },
   "outputs": [
    {
     "data": {
      "application/vnd.plotly.v1+json": {
       "config": {
        "plotlyServerURL": "https://plot.ly"
       },
       "data": [
        {
         "alignmentgroup": "True",
         "hovertemplate": "variable=acousticness<br>genres=%{x}<br>value=%{y}<extra></extra>",
         "legendgroup": "acousticness",
         "marker": {
          "color": "#636efa",
          "pattern": {
           "shape": ""
          }
         },
         "name": "acousticness",
         "offsetgroup": "acousticness",
         "orientation": "v",
         "showlegend": true,
         "textposition": "auto",
         "type": "bar",
         "x": [
          "basshall",
          "south african house",
          "trap venezolano",
          "turkish edm",
          "alberta hip hop",
          "chinese electropop",
          "afroswing",
          "afro soul",
          "circuit",
          "guaracha"
         ],
         "xaxis": "x",
         "y": [
          0.2131666666666666,
          0.0438333333333333,
          0.0446,
          0.00829,
          0.33,
          0.00257,
          0.31845,
          0.00627,
          0.00903,
          0.00903
         ],
         "yaxis": "y"
        },
        {
         "alignmentgroup": "True",
         "hovertemplate": "variable=danceability<br>genres=%{x}<br>value=%{y}<extra></extra>",
         "legendgroup": "danceability",
         "marker": {
          "color": "#EF553B",
          "pattern": {
           "shape": ""
          }
         },
         "name": "danceability",
         "offsetgroup": "danceability",
         "orientation": "v",
         "showlegend": true,
         "textposition": "auto",
         "type": "bar",
         "x": [
          "basshall",
          "south african house",
          "trap venezolano",
          "turkish edm",
          "alberta hip hop",
          "chinese electropop",
          "afroswing",
          "afro soul",
          "circuit",
          "guaracha"
         ],
         "xaxis": "x",
         "y": [
          0.8180000000000001,
          0.847,
          0.877,
          0.698,
          0.885,
          0.66,
          0.71175,
          0.7659999999999999,
          0.745,
          0.745
         ],
         "yaxis": "y"
        },
        {
         "alignmentgroup": "True",
         "hovertemplate": "variable=energy<br>genres=%{x}<br>value=%{y}<extra></extra>",
         "legendgroup": "energy",
         "marker": {
          "color": "#00cc96",
          "pattern": {
           "shape": ""
          }
         },
         "name": "energy",
         "offsetgroup": "energy",
         "orientation": "v",
         "showlegend": true,
         "textposition": "auto",
         "type": "bar",
         "x": [
          "basshall",
          "south african house",
          "trap venezolano",
          "turkish edm",
          "alberta hip hop",
          "chinese electropop",
          "afroswing",
          "afro soul",
          "circuit",
          "guaracha"
         ],
         "xaxis": "x",
         "y": [
          0.6301666666666668,
          0.5623333333333332,
          0.777,
          0.7190000000000001,
          0.685,
          0.787,
          0.5801875,
          0.873,
          0.972,
          0.972
         ],
         "yaxis": "y"
        },
        {
         "alignmentgroup": "True",
         "hovertemplate": "variable=instrumentalness<br>genres=%{x}<br>value=%{y}<extra></extra>",
         "legendgroup": "instrumentalness",
         "marker": {
          "color": "#ab63fa",
          "pattern": {
           "shape": ""
          }
         },
         "name": "instrumentalness",
         "offsetgroup": "instrumentalness",
         "orientation": "v",
         "showlegend": true,
         "textposition": "auto",
         "type": "bar",
         "x": [
          "basshall",
          "south african house",
          "trap venezolano",
          "turkish edm",
          "alberta hip hop",
          "chinese electropop",
          "afroswing",
          "afro soul",
          "circuit",
          "guaracha"
         ],
         "xaxis": "x",
         "y": [
          2e-05,
          0.1303391666666666,
          3.46e-05,
          4.01e-06,
          0,
          0,
          0.000257895,
          0,
          0.465,
          0.465
         ],
         "yaxis": "y"
        },
        {
         "alignmentgroup": "True",
         "hovertemplate": "variable=liveness<br>genres=%{x}<br>value=%{y}<extra></extra>",
         "legendgroup": "liveness",
         "marker": {
          "color": "#FFA15A",
          "pattern": {
           "shape": ""
          }
         },
         "name": "liveness",
         "offsetgroup": "liveness",
         "orientation": "v",
         "showlegend": true,
         "textposition": "auto",
         "type": "bar",
         "x": [
          "basshall",
          "south african house",
          "trap venezolano",
          "turkish edm",
          "alberta hip hop",
          "chinese electropop",
          "afroswing",
          "afro soul",
          "circuit",
          "guaracha"
         ],
         "xaxis": "x",
         "y": [
          0.0810666666666666,
          0.0751333333333333,
          0.0863,
          0.326,
          0.148,
          0.3229999999999999,
          0.18995,
          0.0764,
          0.297,
          0.297
         ],
         "yaxis": "y"
        },
        {
         "alignmentgroup": "True",
         "hovertemplate": "variable=valence<br>genres=%{x}<br>value=%{y}<extra></extra>",
         "legendgroup": "valence",
         "marker": {
          "color": "#19d3f3",
          "pattern": {
           "shape": ""
          }
         },
         "name": "valence",
         "offsetgroup": "valence",
         "orientation": "v",
         "showlegend": true,
         "textposition": "auto",
         "type": "bar",
         "x": [
          "basshall",
          "south african house",
          "trap venezolano",
          "turkish edm",
          "alberta hip hop",
          "chinese electropop",
          "afroswing",
          "afro soul",
          "circuit",
          "guaracha"
         ],
         "xaxis": "x",
         "y": [
          0.5886666666666667,
          0.8343333333333334,
          0.706,
          0.364,
          0.937,
          0.199,
          0.676625,
          0.743,
          0.556,
          0.556
         ],
         "yaxis": "y"
        }
       ],
       "layout": {
        "barmode": "relative",
        "legend": {
         "title": {
          "text": "variable"
         },
         "tracegroupgap": 0
        },
        "margin": {
         "t": 60
        },
        "template": {
         "data": {
          "bar": [
           {
            "error_x": {
             "color": "#2a3f5f"
            },
            "error_y": {
             "color": "#2a3f5f"
            },
            "marker": {
             "line": {
              "color": "#E5ECF6",
              "width": 0.5
             },
             "pattern": {
              "fillmode": "overlay",
              "size": 10,
              "solidity": 0.2
             }
            },
            "type": "bar"
           }
          ],
          "barpolar": [
           {
            "marker": {
             "line": {
              "color": "#E5ECF6",
              "width": 0.5
             },
             "pattern": {
              "fillmode": "overlay",
              "size": 10,
              "solidity": 0.2
             }
            },
            "type": "barpolar"
           }
          ],
          "carpet": [
           {
            "aaxis": {
             "endlinecolor": "#2a3f5f",
             "gridcolor": "white",
             "linecolor": "white",
             "minorgridcolor": "white",
             "startlinecolor": "#2a3f5f"
            },
            "baxis": {
             "endlinecolor": "#2a3f5f",
             "gridcolor": "white",
             "linecolor": "white",
             "minorgridcolor": "white",
             "startlinecolor": "#2a3f5f"
            },
            "type": "carpet"
           }
          ],
          "choropleth": [
           {
            "colorbar": {
             "outlinewidth": 0,
             "ticks": ""
            },
            "type": "choropleth"
           }
          ],
          "contour": [
           {
            "colorbar": {
             "outlinewidth": 0,
             "ticks": ""
            },
            "colorscale": [
             [
              0,
              "#0d0887"
             ],
             [
              0.1111111111111111,
              "#46039f"
             ],
             [
              0.2222222222222222,
              "#7201a8"
             ],
             [
              0.3333333333333333,
              "#9c179e"
             ],
             [
              0.4444444444444444,
              "#bd3786"
             ],
             [
              0.5555555555555556,
              "#d8576b"
             ],
             [
              0.6666666666666666,
              "#ed7953"
             ],
             [
              0.7777777777777778,
              "#fb9f3a"
             ],
             [
              0.8888888888888888,
              "#fdca26"
             ],
             [
              1,
              "#f0f921"
             ]
            ],
            "type": "contour"
           }
          ],
          "contourcarpet": [
           {
            "colorbar": {
             "outlinewidth": 0,
             "ticks": ""
            },
            "type": "contourcarpet"
           }
          ],
          "heatmap": [
           {
            "colorbar": {
             "outlinewidth": 0,
             "ticks": ""
            },
            "colorscale": [
             [
              0,
              "#0d0887"
             ],
             [
              0.1111111111111111,
              "#46039f"
             ],
             [
              0.2222222222222222,
              "#7201a8"
             ],
             [
              0.3333333333333333,
              "#9c179e"
             ],
             [
              0.4444444444444444,
              "#bd3786"
             ],
             [
              0.5555555555555556,
              "#d8576b"
             ],
             [
              0.6666666666666666,
              "#ed7953"
             ],
             [
              0.7777777777777778,
              "#fb9f3a"
             ],
             [
              0.8888888888888888,
              "#fdca26"
             ],
             [
              1,
              "#f0f921"
             ]
            ],
            "type": "heatmap"
           }
          ],
          "heatmapgl": [
           {
            "colorbar": {
             "outlinewidth": 0,
             "ticks": ""
            },
            "colorscale": [
             [
              0,
              "#0d0887"
             ],
             [
              0.1111111111111111,
              "#46039f"
             ],
             [
              0.2222222222222222,
              "#7201a8"
             ],
             [
              0.3333333333333333,
              "#9c179e"
             ],
             [
              0.4444444444444444,
              "#bd3786"
             ],
             [
              0.5555555555555556,
              "#d8576b"
             ],
             [
              0.6666666666666666,
              "#ed7953"
             ],
             [
              0.7777777777777778,
              "#fb9f3a"
             ],
             [
              0.8888888888888888,
              "#fdca26"
             ],
             [
              1,
              "#f0f921"
             ]
            ],
            "type": "heatmapgl"
           }
          ],
          "histogram": [
           {
            "marker": {
             "pattern": {
              "fillmode": "overlay",
              "size": 10,
              "solidity": 0.2
             }
            },
            "type": "histogram"
           }
          ],
          "histogram2d": [
           {
            "colorbar": {
             "outlinewidth": 0,
             "ticks": ""
            },
            "colorscale": [
             [
              0,
              "#0d0887"
             ],
             [
              0.1111111111111111,
              "#46039f"
             ],
             [
              0.2222222222222222,
              "#7201a8"
             ],
             [
              0.3333333333333333,
              "#9c179e"
             ],
             [
              0.4444444444444444,
              "#bd3786"
             ],
             [
              0.5555555555555556,
              "#d8576b"
             ],
             [
              0.6666666666666666,
              "#ed7953"
             ],
             [
              0.7777777777777778,
              "#fb9f3a"
             ],
             [
              0.8888888888888888,
              "#fdca26"
             ],
             [
              1,
              "#f0f921"
             ]
            ],
            "type": "histogram2d"
           }
          ],
          "histogram2dcontour": [
           {
            "colorbar": {
             "outlinewidth": 0,
             "ticks": ""
            },
            "colorscale": [
             [
              0,
              "#0d0887"
             ],
             [
              0.1111111111111111,
              "#46039f"
             ],
             [
              0.2222222222222222,
              "#7201a8"
             ],
             [
              0.3333333333333333,
              "#9c179e"
             ],
             [
              0.4444444444444444,
              "#bd3786"
             ],
             [
              0.5555555555555556,
              "#d8576b"
             ],
             [
              0.6666666666666666,
              "#ed7953"
             ],
             [
              0.7777777777777778,
              "#fb9f3a"
             ],
             [
              0.8888888888888888,
              "#fdca26"
             ],
             [
              1,
              "#f0f921"
             ]
            ],
            "type": "histogram2dcontour"
           }
          ],
          "mesh3d": [
           {
            "colorbar": {
             "outlinewidth": 0,
             "ticks": ""
            },
            "type": "mesh3d"
           }
          ],
          "parcoords": [
           {
            "line": {
             "colorbar": {
              "outlinewidth": 0,
              "ticks": ""
             }
            },
            "type": "parcoords"
           }
          ],
          "pie": [
           {
            "automargin": true,
            "type": "pie"
           }
          ],
          "scatter": [
           {
            "marker": {
             "colorbar": {
              "outlinewidth": 0,
              "ticks": ""
             }
            },
            "type": "scatter"
           }
          ],
          "scatter3d": [
           {
            "line": {
             "colorbar": {
              "outlinewidth": 0,
              "ticks": ""
             }
            },
            "marker": {
             "colorbar": {
              "outlinewidth": 0,
              "ticks": ""
             }
            },
            "type": "scatter3d"
           }
          ],
          "scattercarpet": [
           {
            "marker": {
             "colorbar": {
              "outlinewidth": 0,
              "ticks": ""
             }
            },
            "type": "scattercarpet"
           }
          ],
          "scattergeo": [
           {
            "marker": {
             "colorbar": {
              "outlinewidth": 0,
              "ticks": ""
             }
            },
            "type": "scattergeo"
           }
          ],
          "scattergl": [
           {
            "marker": {
             "colorbar": {
              "outlinewidth": 0,
              "ticks": ""
             }
            },
            "type": "scattergl"
           }
          ],
          "scattermapbox": [
           {
            "marker": {
             "colorbar": {
              "outlinewidth": 0,
              "ticks": ""
             }
            },
            "type": "scattermapbox"
           }
          ],
          "scatterpolar": [
           {
            "marker": {
             "colorbar": {
              "outlinewidth": 0,
              "ticks": ""
             }
            },
            "type": "scatterpolar"
           }
          ],
          "scatterpolargl": [
           {
            "marker": {
             "colorbar": {
              "outlinewidth": 0,
              "ticks": ""
             }
            },
            "type": "scatterpolargl"
           }
          ],
          "scatterternary": [
           {
            "marker": {
             "colorbar": {
              "outlinewidth": 0,
              "ticks": ""
             }
            },
            "type": "scatterternary"
           }
          ],
          "surface": [
           {
            "colorbar": {
             "outlinewidth": 0,
             "ticks": ""
            },
            "colorscale": [
             [
              0,
              "#0d0887"
             ],
             [
              0.1111111111111111,
              "#46039f"
             ],
             [
              0.2222222222222222,
              "#7201a8"
             ],
             [
              0.3333333333333333,
              "#9c179e"
             ],
             [
              0.4444444444444444,
              "#bd3786"
             ],
             [
              0.5555555555555556,
              "#d8576b"
             ],
             [
              0.6666666666666666,
              "#ed7953"
             ],
             [
              0.7777777777777778,
              "#fb9f3a"
             ],
             [
              0.8888888888888888,
              "#fdca26"
             ],
             [
              1,
              "#f0f921"
             ]
            ],
            "type": "surface"
           }
          ],
          "table": [
           {
            "cells": {
             "fill": {
              "color": "#EBF0F8"
             },
             "line": {
              "color": "white"
             }
            },
            "header": {
             "fill": {
              "color": "#C8D4E3"
             },
             "line": {
              "color": "white"
             }
            },
            "type": "table"
           }
          ]
         },
         "layout": {
          "annotationdefaults": {
           "arrowcolor": "#2a3f5f",
           "arrowhead": 0,
           "arrowwidth": 1
          },
          "autotypenumbers": "strict",
          "coloraxis": {
           "colorbar": {
            "outlinewidth": 0,
            "ticks": ""
           }
          },
          "colorscale": {
           "diverging": [
            [
             0,
             "#8e0152"
            ],
            [
             0.1,
             "#c51b7d"
            ],
            [
             0.2,
             "#de77ae"
            ],
            [
             0.3,
             "#f1b6da"
            ],
            [
             0.4,
             "#fde0ef"
            ],
            [
             0.5,
             "#f7f7f7"
            ],
            [
             0.6,
             "#e6f5d0"
            ],
            [
             0.7,
             "#b8e186"
            ],
            [
             0.8,
             "#7fbc41"
            ],
            [
             0.9,
             "#4d9221"
            ],
            [
             1,
             "#276419"
            ]
           ],
           "sequential": [
            [
             0,
             "#0d0887"
            ],
            [
             0.1111111111111111,
             "#46039f"
            ],
            [
             0.2222222222222222,
             "#7201a8"
            ],
            [
             0.3333333333333333,
             "#9c179e"
            ],
            [
             0.4444444444444444,
             "#bd3786"
            ],
            [
             0.5555555555555556,
             "#d8576b"
            ],
            [
             0.6666666666666666,
             "#ed7953"
            ],
            [
             0.7777777777777778,
             "#fb9f3a"
            ],
            [
             0.8888888888888888,
             "#fdca26"
            ],
            [
             1,
             "#f0f921"
            ]
           ],
           "sequentialminus": [
            [
             0,
             "#0d0887"
            ],
            [
             0.1111111111111111,
             "#46039f"
            ],
            [
             0.2222222222222222,
             "#7201a8"
            ],
            [
             0.3333333333333333,
             "#9c179e"
            ],
            [
             0.4444444444444444,
             "#bd3786"
            ],
            [
             0.5555555555555556,
             "#d8576b"
            ],
            [
             0.6666666666666666,
             "#ed7953"
            ],
            [
             0.7777777777777778,
             "#fb9f3a"
            ],
            [
             0.8888888888888888,
             "#fdca26"
            ],
            [
             1,
             "#f0f921"
            ]
           ]
          },
          "colorway": [
           "#636efa",
           "#EF553B",
           "#00cc96",
           "#ab63fa",
           "#FFA15A",
           "#19d3f3",
           "#FF6692",
           "#B6E880",
           "#FF97FF",
           "#FECB52"
          ],
          "font": {
           "color": "#2a3f5f"
          },
          "geo": {
           "bgcolor": "white",
           "lakecolor": "white",
           "landcolor": "#E5ECF6",
           "showlakes": true,
           "showland": true,
           "subunitcolor": "white"
          },
          "hoverlabel": {
           "align": "left"
          },
          "hovermode": "closest",
          "mapbox": {
           "style": "light"
          },
          "paper_bgcolor": "white",
          "plot_bgcolor": "#E5ECF6",
          "polar": {
           "angularaxis": {
            "gridcolor": "white",
            "linecolor": "white",
            "ticks": ""
           },
           "bgcolor": "#E5ECF6",
           "radialaxis": {
            "gridcolor": "white",
            "linecolor": "white",
            "ticks": ""
           }
          },
          "scene": {
           "xaxis": {
            "backgroundcolor": "#E5ECF6",
            "gridcolor": "white",
            "gridwidth": 2,
            "linecolor": "white",
            "showbackground": true,
            "ticks": "",
            "zerolinecolor": "white"
           },
           "yaxis": {
            "backgroundcolor": "#E5ECF6",
            "gridcolor": "white",
            "gridwidth": 2,
            "linecolor": "white",
            "showbackground": true,
            "ticks": "",
            "zerolinecolor": "white"
           },
           "zaxis": {
            "backgroundcolor": "#E5ECF6",
            "gridcolor": "white",
            "gridwidth": 2,
            "linecolor": "white",
            "showbackground": true,
            "ticks": "",
            "zerolinecolor": "white"
           }
          },
          "shapedefaults": {
           "line": {
            "color": "#2a3f5f"
           }
          },
          "ternary": {
           "aaxis": {
            "gridcolor": "white",
            "linecolor": "white",
            "ticks": ""
           },
           "baxis": {
            "gridcolor": "white",
            "linecolor": "white",
            "ticks": ""
           },
           "bgcolor": "#E5ECF6",
           "caxis": {
            "gridcolor": "white",
            "linecolor": "white",
            "ticks": ""
           }
          },
          "title": {
           "x": 0.05
          },
          "xaxis": {
           "automargin": true,
           "gridcolor": "white",
           "linecolor": "white",
           "ticks": "",
           "title": {
            "standoff": 15
           },
           "zerolinecolor": "white",
           "zerolinewidth": 2
          },
          "yaxis": {
           "automargin": true,
           "gridcolor": "white",
           "linecolor": "white",
           "ticks": "",
           "title": {
            "standoff": 15
           },
           "zerolinecolor": "white",
           "zerolinewidth": 2
          }
         }
        },
        "xaxis": {
         "anchor": "y",
         "domain": [
          0,
          1
         ],
         "title": {
          "text": "genres"
         }
        },
        "yaxis": {
         "anchor": "x",
         "domain": [
          0,
          1
         ],
         "title": {
          "text": "value"
         }
        }
       }
      },
      "text/html": [
       "<div>                            <div id=\"cd978e67-87b2-4f4e-92d3-4a288f145c7e\" class=\"plotly-graph-div\" style=\"height:525px; width:100%;\"></div>            <script type=\"text/javascript\">                require([\"plotly\"], function(Plotly) {                    window.PLOTLYENV=window.PLOTLYENV || {};                                    if (document.getElementById(\"cd978e67-87b2-4f4e-92d3-4a288f145c7e\")) {                    Plotly.newPlot(                        \"cd978e67-87b2-4f4e-92d3-4a288f145c7e\",                        [{\"alignmentgroup\":\"True\",\"hovertemplate\":\"variable=acousticness<br>genres=%{x}<br>value=%{y}<extra></extra>\",\"legendgroup\":\"acousticness\",\"marker\":{\"color\":\"#636efa\",\"pattern\":{\"shape\":\"\"}},\"name\":\"acousticness\",\"offsetgroup\":\"acousticness\",\"orientation\":\"v\",\"showlegend\":true,\"textposition\":\"auto\",\"x\":[\"basshall\",\"south african house\",\"trap venezolano\",\"turkish edm\",\"alberta hip hop\",\"chinese electropop\",\"afroswing\",\"afro soul\",\"circuit\",\"guaracha\"],\"xaxis\":\"x\",\"y\":[0.2131666666666666,0.0438333333333333,0.0446,0.00829,0.33,0.00257,0.31845,0.00627,0.00903,0.00903],\"yaxis\":\"y\",\"type\":\"bar\"},{\"alignmentgroup\":\"True\",\"hovertemplate\":\"variable=danceability<br>genres=%{x}<br>value=%{y}<extra></extra>\",\"legendgroup\":\"danceability\",\"marker\":{\"color\":\"#EF553B\",\"pattern\":{\"shape\":\"\"}},\"name\":\"danceability\",\"offsetgroup\":\"danceability\",\"orientation\":\"v\",\"showlegend\":true,\"textposition\":\"auto\",\"x\":[\"basshall\",\"south african house\",\"trap venezolano\",\"turkish edm\",\"alberta hip hop\",\"chinese electropop\",\"afroswing\",\"afro soul\",\"circuit\",\"guaracha\"],\"xaxis\":\"x\",\"y\":[0.8180000000000001,0.847,0.877,0.698,0.885,0.66,0.71175,0.7659999999999999,0.745,0.745],\"yaxis\":\"y\",\"type\":\"bar\"},{\"alignmentgroup\":\"True\",\"hovertemplate\":\"variable=energy<br>genres=%{x}<br>value=%{y}<extra></extra>\",\"legendgroup\":\"energy\",\"marker\":{\"color\":\"#00cc96\",\"pattern\":{\"shape\":\"\"}},\"name\":\"energy\",\"offsetgroup\":\"energy\",\"orientation\":\"v\",\"showlegend\":true,\"textposition\":\"auto\",\"x\":[\"basshall\",\"south african house\",\"trap venezolano\",\"turkish edm\",\"alberta hip hop\",\"chinese electropop\",\"afroswing\",\"afro soul\",\"circuit\",\"guaracha\"],\"xaxis\":\"x\",\"y\":[0.6301666666666668,0.5623333333333332,0.777,0.7190000000000001,0.685,0.787,0.5801875,0.873,0.972,0.972],\"yaxis\":\"y\",\"type\":\"bar\"},{\"alignmentgroup\":\"True\",\"hovertemplate\":\"variable=instrumentalness<br>genres=%{x}<br>value=%{y}<extra></extra>\",\"legendgroup\":\"instrumentalness\",\"marker\":{\"color\":\"#ab63fa\",\"pattern\":{\"shape\":\"\"}},\"name\":\"instrumentalness\",\"offsetgroup\":\"instrumentalness\",\"orientation\":\"v\",\"showlegend\":true,\"textposition\":\"auto\",\"x\":[\"basshall\",\"south african house\",\"trap venezolano\",\"turkish edm\",\"alberta hip hop\",\"chinese electropop\",\"afroswing\",\"afro soul\",\"circuit\",\"guaracha\"],\"xaxis\":\"x\",\"y\":[2e-05,0.1303391666666666,3.46e-05,4.01e-06,0.0,0.0,0.000257895,0.0,0.465,0.465],\"yaxis\":\"y\",\"type\":\"bar\"},{\"alignmentgroup\":\"True\",\"hovertemplate\":\"variable=liveness<br>genres=%{x}<br>value=%{y}<extra></extra>\",\"legendgroup\":\"liveness\",\"marker\":{\"color\":\"#FFA15A\",\"pattern\":{\"shape\":\"\"}},\"name\":\"liveness\",\"offsetgroup\":\"liveness\",\"orientation\":\"v\",\"showlegend\":true,\"textposition\":\"auto\",\"x\":[\"basshall\",\"south african house\",\"trap venezolano\",\"turkish edm\",\"alberta hip hop\",\"chinese electropop\",\"afroswing\",\"afro soul\",\"circuit\",\"guaracha\"],\"xaxis\":\"x\",\"y\":[0.0810666666666666,0.0751333333333333,0.0863,0.326,0.148,0.3229999999999999,0.18995,0.0764,0.297,0.297],\"yaxis\":\"y\",\"type\":\"bar\"},{\"alignmentgroup\":\"True\",\"hovertemplate\":\"variable=valence<br>genres=%{x}<br>value=%{y}<extra></extra>\",\"legendgroup\":\"valence\",\"marker\":{\"color\":\"#19d3f3\",\"pattern\":{\"shape\":\"\"}},\"name\":\"valence\",\"offsetgroup\":\"valence\",\"orientation\":\"v\",\"showlegend\":true,\"textposition\":\"auto\",\"x\":[\"basshall\",\"south african house\",\"trap venezolano\",\"turkish edm\",\"alberta hip hop\",\"chinese electropop\",\"afroswing\",\"afro soul\",\"circuit\",\"guaracha\"],\"xaxis\":\"x\",\"y\":[0.5886666666666667,0.8343333333333334,0.706,0.364,0.937,0.199,0.676625,0.743,0.556,0.556],\"yaxis\":\"y\",\"type\":\"bar\"}],                        {\"template\":{\"data\":{\"bar\":[{\"error_x\":{\"color\":\"#2a3f5f\"},\"error_y\":{\"color\":\"#2a3f5f\"},\"marker\":{\"line\":{\"color\":\"#E5ECF6\",\"width\":0.5},\"pattern\":{\"fillmode\":\"overlay\",\"size\":10,\"solidity\":0.2}},\"type\":\"bar\"}],\"barpolar\":[{\"marker\":{\"line\":{\"color\":\"#E5ECF6\",\"width\":0.5},\"pattern\":{\"fillmode\":\"overlay\",\"size\":10,\"solidity\":0.2}},\"type\":\"barpolar\"}],\"carpet\":[{\"aaxis\":{\"endlinecolor\":\"#2a3f5f\",\"gridcolor\":\"white\",\"linecolor\":\"white\",\"minorgridcolor\":\"white\",\"startlinecolor\":\"#2a3f5f\"},\"baxis\":{\"endlinecolor\":\"#2a3f5f\",\"gridcolor\":\"white\",\"linecolor\":\"white\",\"minorgridcolor\":\"white\",\"startlinecolor\":\"#2a3f5f\"},\"type\":\"carpet\"}],\"choropleth\":[{\"colorbar\":{\"outlinewidth\":0,\"ticks\":\"\"},\"type\":\"choropleth\"}],\"contour\":[{\"colorbar\":{\"outlinewidth\":0,\"ticks\":\"\"},\"colorscale\":[[0.0,\"#0d0887\"],[0.1111111111111111,\"#46039f\"],[0.2222222222222222,\"#7201a8\"],[0.3333333333333333,\"#9c179e\"],[0.4444444444444444,\"#bd3786\"],[0.5555555555555556,\"#d8576b\"],[0.6666666666666666,\"#ed7953\"],[0.7777777777777778,\"#fb9f3a\"],[0.8888888888888888,\"#fdca26\"],[1.0,\"#f0f921\"]],\"type\":\"contour\"}],\"contourcarpet\":[{\"colorbar\":{\"outlinewidth\":0,\"ticks\":\"\"},\"type\":\"contourcarpet\"}],\"heatmap\":[{\"colorbar\":{\"outlinewidth\":0,\"ticks\":\"\"},\"colorscale\":[[0.0,\"#0d0887\"],[0.1111111111111111,\"#46039f\"],[0.2222222222222222,\"#7201a8\"],[0.3333333333333333,\"#9c179e\"],[0.4444444444444444,\"#bd3786\"],[0.5555555555555556,\"#d8576b\"],[0.6666666666666666,\"#ed7953\"],[0.7777777777777778,\"#fb9f3a\"],[0.8888888888888888,\"#fdca26\"],[1.0,\"#f0f921\"]],\"type\":\"heatmap\"}],\"heatmapgl\":[{\"colorbar\":{\"outlinewidth\":0,\"ticks\":\"\"},\"colorscale\":[[0.0,\"#0d0887\"],[0.1111111111111111,\"#46039f\"],[0.2222222222222222,\"#7201a8\"],[0.3333333333333333,\"#9c179e\"],[0.4444444444444444,\"#bd3786\"],[0.5555555555555556,\"#d8576b\"],[0.6666666666666666,\"#ed7953\"],[0.7777777777777778,\"#fb9f3a\"],[0.8888888888888888,\"#fdca26\"],[1.0,\"#f0f921\"]],\"type\":\"heatmapgl\"}],\"histogram\":[{\"marker\":{\"pattern\":{\"fillmode\":\"overlay\",\"size\":10,\"solidity\":0.2}},\"type\":\"histogram\"}],\"histogram2d\":[{\"colorbar\":{\"outlinewidth\":0,\"ticks\":\"\"},\"colorscale\":[[0.0,\"#0d0887\"],[0.1111111111111111,\"#46039f\"],[0.2222222222222222,\"#7201a8\"],[0.3333333333333333,\"#9c179e\"],[0.4444444444444444,\"#bd3786\"],[0.5555555555555556,\"#d8576b\"],[0.6666666666666666,\"#ed7953\"],[0.7777777777777778,\"#fb9f3a\"],[0.8888888888888888,\"#fdca26\"],[1.0,\"#f0f921\"]],\"type\":\"histogram2d\"}],\"histogram2dcontour\":[{\"colorbar\":{\"outlinewidth\":0,\"ticks\":\"\"},\"colorscale\":[[0.0,\"#0d0887\"],[0.1111111111111111,\"#46039f\"],[0.2222222222222222,\"#7201a8\"],[0.3333333333333333,\"#9c179e\"],[0.4444444444444444,\"#bd3786\"],[0.5555555555555556,\"#d8576b\"],[0.6666666666666666,\"#ed7953\"],[0.7777777777777778,\"#fb9f3a\"],[0.8888888888888888,\"#fdca26\"],[1.0,\"#f0f921\"]],\"type\":\"histogram2dcontour\"}],\"mesh3d\":[{\"colorbar\":{\"outlinewidth\":0,\"ticks\":\"\"},\"type\":\"mesh3d\"}],\"parcoords\":[{\"line\":{\"colorbar\":{\"outlinewidth\":0,\"ticks\":\"\"}},\"type\":\"parcoords\"}],\"pie\":[{\"automargin\":true,\"type\":\"pie\"}],\"scatter\":[{\"marker\":{\"colorbar\":{\"outlinewidth\":0,\"ticks\":\"\"}},\"type\":\"scatter\"}],\"scatter3d\":[{\"line\":{\"colorbar\":{\"outlinewidth\":0,\"ticks\":\"\"}},\"marker\":{\"colorbar\":{\"outlinewidth\":0,\"ticks\":\"\"}},\"type\":\"scatter3d\"}],\"scattercarpet\":[{\"marker\":{\"colorbar\":{\"outlinewidth\":0,\"ticks\":\"\"}},\"type\":\"scattercarpet\"}],\"scattergeo\":[{\"marker\":{\"colorbar\":{\"outlinewidth\":0,\"ticks\":\"\"}},\"type\":\"scattergeo\"}],\"scattergl\":[{\"marker\":{\"colorbar\":{\"outlinewidth\":0,\"ticks\":\"\"}},\"type\":\"scattergl\"}],\"scattermapbox\":[{\"marker\":{\"colorbar\":{\"outlinewidth\":0,\"ticks\":\"\"}},\"type\":\"scattermapbox\"}],\"scatterpolar\":[{\"marker\":{\"colorbar\":{\"outlinewidth\":0,\"ticks\":\"\"}},\"type\":\"scatterpolar\"}],\"scatterpolargl\":[{\"marker\":{\"colorbar\":{\"outlinewidth\":0,\"ticks\":\"\"}},\"type\":\"scatterpolargl\"}],\"scatterternary\":[{\"marker\":{\"colorbar\":{\"outlinewidth\":0,\"ticks\":\"\"}},\"type\":\"scatterternary\"}],\"surface\":[{\"colorbar\":{\"outlinewidth\":0,\"ticks\":\"\"},\"colorscale\":[[0.0,\"#0d0887\"],[0.1111111111111111,\"#46039f\"],[0.2222222222222222,\"#7201a8\"],[0.3333333333333333,\"#9c179e\"],[0.4444444444444444,\"#bd3786\"],[0.5555555555555556,\"#d8576b\"],[0.6666666666666666,\"#ed7953\"],[0.7777777777777778,\"#fb9f3a\"],[0.8888888888888888,\"#fdca26\"],[1.0,\"#f0f921\"]],\"type\":\"surface\"}],\"table\":[{\"cells\":{\"fill\":{\"color\":\"#EBF0F8\"},\"line\":{\"color\":\"white\"}},\"header\":{\"fill\":{\"color\":\"#C8D4E3\"},\"line\":{\"color\":\"white\"}},\"type\":\"table\"}]},\"layout\":{\"annotationdefaults\":{\"arrowcolor\":\"#2a3f5f\",\"arrowhead\":0,\"arrowwidth\":1},\"autotypenumbers\":\"strict\",\"coloraxis\":{\"colorbar\":{\"outlinewidth\":0,\"ticks\":\"\"}},\"colorscale\":{\"diverging\":[[0,\"#8e0152\"],[0.1,\"#c51b7d\"],[0.2,\"#de77ae\"],[0.3,\"#f1b6da\"],[0.4,\"#fde0ef\"],[0.5,\"#f7f7f7\"],[0.6,\"#e6f5d0\"],[0.7,\"#b8e186\"],[0.8,\"#7fbc41\"],[0.9,\"#4d9221\"],[1,\"#276419\"]],\"sequential\":[[0.0,\"#0d0887\"],[0.1111111111111111,\"#46039f\"],[0.2222222222222222,\"#7201a8\"],[0.3333333333333333,\"#9c179e\"],[0.4444444444444444,\"#bd3786\"],[0.5555555555555556,\"#d8576b\"],[0.6666666666666666,\"#ed7953\"],[0.7777777777777778,\"#fb9f3a\"],[0.8888888888888888,\"#fdca26\"],[1.0,\"#f0f921\"]],\"sequentialminus\":[[0.0,\"#0d0887\"],[0.1111111111111111,\"#46039f\"],[0.2222222222222222,\"#7201a8\"],[0.3333333333333333,\"#9c179e\"],[0.4444444444444444,\"#bd3786\"],[0.5555555555555556,\"#d8576b\"],[0.6666666666666666,\"#ed7953\"],[0.7777777777777778,\"#fb9f3a\"],[0.8888888888888888,\"#fdca26\"],[1.0,\"#f0f921\"]]},\"colorway\":[\"#636efa\",\"#EF553B\",\"#00cc96\",\"#ab63fa\",\"#FFA15A\",\"#19d3f3\",\"#FF6692\",\"#B6E880\",\"#FF97FF\",\"#FECB52\"],\"font\":{\"color\":\"#2a3f5f\"},\"geo\":{\"bgcolor\":\"white\",\"lakecolor\":\"white\",\"landcolor\":\"#E5ECF6\",\"showlakes\":true,\"showland\":true,\"subunitcolor\":\"white\"},\"hoverlabel\":{\"align\":\"left\"},\"hovermode\":\"closest\",\"mapbox\":{\"style\":\"light\"},\"paper_bgcolor\":\"white\",\"plot_bgcolor\":\"#E5ECF6\",\"polar\":{\"angularaxis\":{\"gridcolor\":\"white\",\"linecolor\":\"white\",\"ticks\":\"\"},\"bgcolor\":\"#E5ECF6\",\"radialaxis\":{\"gridcolor\":\"white\",\"linecolor\":\"white\",\"ticks\":\"\"}},\"scene\":{\"xaxis\":{\"backgroundcolor\":\"#E5ECF6\",\"gridcolor\":\"white\",\"gridwidth\":2,\"linecolor\":\"white\",\"showbackground\":true,\"ticks\":\"\",\"zerolinecolor\":\"white\"},\"yaxis\":{\"backgroundcolor\":\"#E5ECF6\",\"gridcolor\":\"white\",\"gridwidth\":2,\"linecolor\":\"white\",\"showbackground\":true,\"ticks\":\"\",\"zerolinecolor\":\"white\"},\"zaxis\":{\"backgroundcolor\":\"#E5ECF6\",\"gridcolor\":\"white\",\"gridwidth\":2,\"linecolor\":\"white\",\"showbackground\":true,\"ticks\":\"\",\"zerolinecolor\":\"white\"}},\"shapedefaults\":{\"line\":{\"color\":\"#2a3f5f\"}},\"ternary\":{\"aaxis\":{\"gridcolor\":\"white\",\"linecolor\":\"white\",\"ticks\":\"\"},\"baxis\":{\"gridcolor\":\"white\",\"linecolor\":\"white\",\"ticks\":\"\"},\"bgcolor\":\"#E5ECF6\",\"caxis\":{\"gridcolor\":\"white\",\"linecolor\":\"white\",\"ticks\":\"\"}},\"title\":{\"x\":0.05},\"xaxis\":{\"automargin\":true,\"gridcolor\":\"white\",\"linecolor\":\"white\",\"ticks\":\"\",\"title\":{\"standoff\":15},\"zerolinecolor\":\"white\",\"zerolinewidth\":2},\"yaxis\":{\"automargin\":true,\"gridcolor\":\"white\",\"linecolor\":\"white\",\"ticks\":\"\",\"title\":{\"standoff\":15},\"zerolinecolor\":\"white\",\"zerolinewidth\":2}}},\"xaxis\":{\"anchor\":\"y\",\"domain\":[0.0,1.0],\"title\":{\"text\":\"genres\"}},\"yaxis\":{\"anchor\":\"x\",\"domain\":[0.0,1.0],\"title\":{\"text\":\"value\"}},\"legend\":{\"title\":{\"text\":\"variable\"},\"tracegroupgap\":0},\"margin\":{\"t\":60},\"barmode\":\"relative\"},                        {\"responsive\": true}                    ).then(function(){\n",
       "                            \n",
       "var gd = document.getElementById('cd978e67-87b2-4f4e-92d3-4a288f145c7e');\n",
       "var x = new MutationObserver(function (mutations, observer) {{\n",
       "        var display = window.getComputedStyle(gd).display;\n",
       "        if (!display || display === 'none') {{\n",
       "            console.log([gd, 'removed!']);\n",
       "            Plotly.purge(gd);\n",
       "            observer.disconnect();\n",
       "        }}\n",
       "}});\n",
       "\n",
       "// Listen for the removal of the full notebook cells\n",
       "var notebookContainer = gd.closest('#notebook-container');\n",
       "if (notebookContainer) {{\n",
       "    x.observe(notebookContainer, {childList: true});\n",
       "}}\n",
       "\n",
       "// Listen for the clearing of the current output cell\n",
       "var outputEl = gd.closest('.output');\n",
       "if (outputEl) {{\n",
       "    x.observe(outputEl, {childList: true});\n",
       "}}\n",
       "\n",
       "                        })                };                });            </script>        </div>"
      ]
     },
     "metadata": {},
     "output_type": "display_data"
    }
   ],
   "source": [
    "fig = px.bar(top_genre, x='genres', y=sound_features)\n",
    "fig.show()"
   ]
  },
  {
   "cell_type": "code",
   "execution_count": 51,
   "id": "ce672b85",
   "metadata": {},
   "outputs": [
    {
     "data": {
      "text/html": [
       "<div>\n",
       "<style scoped>\n",
       "    .dataframe tbody tr th:only-of-type {\n",
       "        vertical-align: middle;\n",
       "    }\n",
       "\n",
       "    .dataframe tbody tr th {\n",
       "        vertical-align: top;\n",
       "    }\n",
       "\n",
       "    .dataframe thead th {\n",
       "        text-align: right;\n",
       "    }\n",
       "</style>\n",
       "<table border=\"1\" class=\"dataframe\">\n",
       "  <thead>\n",
       "    <tr style=\"text-align: right;\">\n",
       "      <th></th>\n",
       "      <th>mode</th>\n",
       "      <th>genres</th>\n",
       "      <th>acousticness</th>\n",
       "      <th>danceability</th>\n",
       "      <th>duration_ms</th>\n",
       "      <th>energy</th>\n",
       "      <th>instrumentalness</th>\n",
       "      <th>liveness</th>\n",
       "      <th>loudness</th>\n",
       "      <th>speechiness</th>\n",
       "      <th>tempo</th>\n",
       "      <th>valence</th>\n",
       "      <th>popularity</th>\n",
       "      <th>key</th>\n",
       "      <th>cluster</th>\n",
       "    </tr>\n",
       "  </thead>\n",
       "  <tbody>\n",
       "    <tr>\n",
       "      <th>0</th>\n",
       "      <td>1</td>\n",
       "      <td>21st century classical</td>\n",
       "      <td>0.979333</td>\n",
       "      <td>0.162883</td>\n",
       "      <td>1.602977e+05</td>\n",
       "      <td>0.071317</td>\n",
       "      <td>0.606834</td>\n",
       "      <td>0.361600</td>\n",
       "      <td>-31.514333</td>\n",
       "      <td>0.040567</td>\n",
       "      <td>75.336500</td>\n",
       "      <td>0.103783</td>\n",
       "      <td>27.833333</td>\n",
       "      <td>6</td>\n",
       "      <td>0</td>\n",
       "    </tr>\n",
       "    <tr>\n",
       "      <th>1</th>\n",
       "      <td>1</td>\n",
       "      <td>432hz</td>\n",
       "      <td>0.494780</td>\n",
       "      <td>0.299333</td>\n",
       "      <td>1.048887e+06</td>\n",
       "      <td>0.450678</td>\n",
       "      <td>0.477762</td>\n",
       "      <td>0.131000</td>\n",
       "      <td>-16.854000</td>\n",
       "      <td>0.076817</td>\n",
       "      <td>120.285667</td>\n",
       "      <td>0.221750</td>\n",
       "      <td>52.500000</td>\n",
       "      <td>5</td>\n",
       "      <td>8</td>\n",
       "    </tr>\n",
       "    <tr>\n",
       "      <th>2</th>\n",
       "      <td>1</td>\n",
       "      <td>8-bit</td>\n",
       "      <td>0.762000</td>\n",
       "      <td>0.712000</td>\n",
       "      <td>1.151770e+05</td>\n",
       "      <td>0.818000</td>\n",
       "      <td>0.876000</td>\n",
       "      <td>0.126000</td>\n",
       "      <td>-9.180000</td>\n",
       "      <td>0.047000</td>\n",
       "      <td>133.444000</td>\n",
       "      <td>0.975000</td>\n",
       "      <td>48.000000</td>\n",
       "      <td>7</td>\n",
       "      <td>4</td>\n",
       "    </tr>\n",
       "    <tr>\n",
       "      <th>3</th>\n",
       "      <td>1</td>\n",
       "      <td>[]</td>\n",
       "      <td>0.651417</td>\n",
       "      <td>0.529093</td>\n",
       "      <td>2.328809e+05</td>\n",
       "      <td>0.419146</td>\n",
       "      <td>0.205309</td>\n",
       "      <td>0.218696</td>\n",
       "      <td>-12.288965</td>\n",
       "      <td>0.107872</td>\n",
       "      <td>112.857352</td>\n",
       "      <td>0.513604</td>\n",
       "      <td>20.859882</td>\n",
       "      <td>7</td>\n",
       "      <td>2</td>\n",
       "    </tr>\n",
       "    <tr>\n",
       "      <th>4</th>\n",
       "      <td>1</td>\n",
       "      <td>a cappella</td>\n",
       "      <td>0.676557</td>\n",
       "      <td>0.538961</td>\n",
       "      <td>1.906285e+05</td>\n",
       "      <td>0.316434</td>\n",
       "      <td>0.003003</td>\n",
       "      <td>0.172254</td>\n",
       "      <td>-12.479387</td>\n",
       "      <td>0.082851</td>\n",
       "      <td>112.110362</td>\n",
       "      <td>0.448249</td>\n",
       "      <td>45.820071</td>\n",
       "      <td>7</td>\n",
       "      <td>6</td>\n",
       "    </tr>\n",
       "    <tr>\n",
       "      <th>...</th>\n",
       "      <td>...</td>\n",
       "      <td>...</td>\n",
       "      <td>...</td>\n",
       "      <td>...</td>\n",
       "      <td>...</td>\n",
       "      <td>...</td>\n",
       "      <td>...</td>\n",
       "      <td>...</td>\n",
       "      <td>...</td>\n",
       "      <td>...</td>\n",
       "      <td>...</td>\n",
       "      <td>...</td>\n",
       "      <td>...</td>\n",
       "      <td>...</td>\n",
       "      <td>...</td>\n",
       "    </tr>\n",
       "    <tr>\n",
       "      <th>2968</th>\n",
       "      <td>1</td>\n",
       "      <td>zolo</td>\n",
       "      <td>0.222625</td>\n",
       "      <td>0.547082</td>\n",
       "      <td>2.580991e+05</td>\n",
       "      <td>0.610240</td>\n",
       "      <td>0.143872</td>\n",
       "      <td>0.204206</td>\n",
       "      <td>-11.295878</td>\n",
       "      <td>0.061088</td>\n",
       "      <td>125.494919</td>\n",
       "      <td>0.596155</td>\n",
       "      <td>33.778943</td>\n",
       "      <td>9</td>\n",
       "      <td>4</td>\n",
       "    </tr>\n",
       "    <tr>\n",
       "      <th>2969</th>\n",
       "      <td>0</td>\n",
       "      <td>zouglou</td>\n",
       "      <td>0.161000</td>\n",
       "      <td>0.863000</td>\n",
       "      <td>2.063200e+05</td>\n",
       "      <td>0.909000</td>\n",
       "      <td>0.000000</td>\n",
       "      <td>0.108000</td>\n",
       "      <td>-5.985000</td>\n",
       "      <td>0.081300</td>\n",
       "      <td>119.038000</td>\n",
       "      <td>0.845000</td>\n",
       "      <td>58.000000</td>\n",
       "      <td>7</td>\n",
       "      <td>3</td>\n",
       "    </tr>\n",
       "    <tr>\n",
       "      <th>2970</th>\n",
       "      <td>1</td>\n",
       "      <td>zouk</td>\n",
       "      <td>0.263261</td>\n",
       "      <td>0.748889</td>\n",
       "      <td>3.060728e+05</td>\n",
       "      <td>0.622444</td>\n",
       "      <td>0.257227</td>\n",
       "      <td>0.089678</td>\n",
       "      <td>-10.289222</td>\n",
       "      <td>0.038778</td>\n",
       "      <td>101.965222</td>\n",
       "      <td>0.824111</td>\n",
       "      <td>46.666667</td>\n",
       "      <td>5</td>\n",
       "      <td>4</td>\n",
       "    </tr>\n",
       "    <tr>\n",
       "      <th>2971</th>\n",
       "      <td>0</td>\n",
       "      <td>zurich indie</td>\n",
       "      <td>0.993000</td>\n",
       "      <td>0.705667</td>\n",
       "      <td>1.984173e+05</td>\n",
       "      <td>0.172667</td>\n",
       "      <td>0.468633</td>\n",
       "      <td>0.179667</td>\n",
       "      <td>-11.453333</td>\n",
       "      <td>0.348667</td>\n",
       "      <td>91.278000</td>\n",
       "      <td>0.739000</td>\n",
       "      <td>0.000000</td>\n",
       "      <td>7</td>\n",
       "      <td>2</td>\n",
       "    </tr>\n",
       "    <tr>\n",
       "      <th>2972</th>\n",
       "      <td>1</td>\n",
       "      <td>zydeco</td>\n",
       "      <td>0.421038</td>\n",
       "      <td>0.629409</td>\n",
       "      <td>1.716717e+05</td>\n",
       "      <td>0.609369</td>\n",
       "      <td>0.019248</td>\n",
       "      <td>0.255877</td>\n",
       "      <td>-9.854825</td>\n",
       "      <td>0.050491</td>\n",
       "      <td>126.366087</td>\n",
       "      <td>0.808544</td>\n",
       "      <td>30.261905</td>\n",
       "      <td>7</td>\n",
       "      <td>4</td>\n",
       "    </tr>\n",
       "  </tbody>\n",
       "</table>\n",
       "<p>2973 rows × 15 columns</p>\n",
       "</div>"
      ],
      "text/plain": [
       "      mode                  genres  acousticness  danceability   duration_ms  \\\n",
       "0        1  21st century classical      0.979333      0.162883  1.602977e+05   \n",
       "1        1                   432hz      0.494780      0.299333  1.048887e+06   \n",
       "2        1                   8-bit      0.762000      0.712000  1.151770e+05   \n",
       "3        1                      []      0.651417      0.529093  2.328809e+05   \n",
       "4        1              a cappella      0.676557      0.538961  1.906285e+05   \n",
       "...    ...                     ...           ...           ...           ...   \n",
       "2968     1                    zolo      0.222625      0.547082  2.580991e+05   \n",
       "2969     0                 zouglou      0.161000      0.863000  2.063200e+05   \n",
       "2970     1                    zouk      0.263261      0.748889  3.060728e+05   \n",
       "2971     0            zurich indie      0.993000      0.705667  1.984173e+05   \n",
       "2972     1                  zydeco      0.421038      0.629409  1.716717e+05   \n",
       "\n",
       "        energy  instrumentalness  liveness   loudness  speechiness  \\\n",
       "0     0.071317          0.606834  0.361600 -31.514333     0.040567   \n",
       "1     0.450678          0.477762  0.131000 -16.854000     0.076817   \n",
       "2     0.818000          0.876000  0.126000  -9.180000     0.047000   \n",
       "3     0.419146          0.205309  0.218696 -12.288965     0.107872   \n",
       "4     0.316434          0.003003  0.172254 -12.479387     0.082851   \n",
       "...        ...               ...       ...        ...          ...   \n",
       "2968  0.610240          0.143872  0.204206 -11.295878     0.061088   \n",
       "2969  0.909000          0.000000  0.108000  -5.985000     0.081300   \n",
       "2970  0.622444          0.257227  0.089678 -10.289222     0.038778   \n",
       "2971  0.172667          0.468633  0.179667 -11.453333     0.348667   \n",
       "2972  0.609369          0.019248  0.255877  -9.854825     0.050491   \n",
       "\n",
       "           tempo   valence  popularity  key  cluster  \n",
       "0      75.336500  0.103783   27.833333    6        0  \n",
       "1     120.285667  0.221750   52.500000    5        8  \n",
       "2     133.444000  0.975000   48.000000    7        4  \n",
       "3     112.857352  0.513604   20.859882    7        2  \n",
       "4     112.110362  0.448249   45.820071    7        6  \n",
       "...          ...       ...         ...  ...      ...  \n",
       "2968  125.494919  0.596155   33.778943    9        4  \n",
       "2969  119.038000  0.845000   58.000000    7        3  \n",
       "2970  101.965222  0.824111   46.666667    5        4  \n",
       "2971   91.278000  0.739000    0.000000    7        2  \n",
       "2972  126.366087  0.808544   30.261905    7        4  \n",
       "\n",
       "[2973 rows x 15 columns]"
      ]
     },
     "execution_count": 51,
     "metadata": {},
     "output_type": "execute_result"
    }
   ],
   "source": [
    "from sklearn.cluster import KMeans\n",
    "from sklearn.preprocessing import StandardScaler\n",
    "from sklearn.pipeline import Pipeline\n",
    "\n",
    "cluster_pipeline = Pipeline([('scaler', StandardScaler()), ('kmeans', KMeans(n_clusters=10))])\n",
    "X = data_by_genre.select_dtypes(np.number)\n",
    "cluster_pipeline.fit(X)\n",
    "data_by_genre['cluster'] = cluster_pipeline.predict(X)\n",
    "data_by_genre"
   ]
  },
  {
   "cell_type": "code",
   "execution_count": 52,
   "id": "0ce9e347",
   "metadata": {},
   "outputs": [
    {
     "name": "stderr",
     "output_type": "stream",
     "text": [
      "C:\\Users\\disha\\anaconda3\\lib\\site-packages\\sklearn\\manifold\\_t_sne.py:780: FutureWarning:\n",
      "\n",
      "The default initialization in TSNE will change from 'random' to 'pca' in 1.2.\n",
      "\n",
      "C:\\Users\\disha\\anaconda3\\lib\\site-packages\\sklearn\\manifold\\_t_sne.py:790: FutureWarning:\n",
      "\n",
      "The default learning rate in TSNE will change from 200.0 to 'auto' in 1.2.\n",
      "\n"
     ]
    },
    {
     "name": "stdout",
     "output_type": "stream",
     "text": [
      "[t-SNE] Computing 91 nearest neighbors...\n",
      "[t-SNE] Indexed 2973 samples in 0.015s...\n",
      "[t-SNE] Computed neighbors for 2973 samples in 0.251s...\n",
      "[t-SNE] Computed conditional probabilities for sample 1000 / 2973\n",
      "[t-SNE] Computed conditional probabilities for sample 2000 / 2973\n",
      "[t-SNE] Computed conditional probabilities for sample 2973 / 2973\n",
      "[t-SNE] Mean sigma: 0.819353\n",
      "[t-SNE] KL divergence after 250 iterations with early exaggeration: 68.485252\n",
      "[t-SNE] KL divergence after 1000 iterations: 1.138087\n"
     ]
    },
    {
     "data": {
      "application/vnd.plotly.v1+json": {
       "config": {
        "plotlyServerURL": "https://plot.ly"
       },
       "data": [
        {
         "customdata": [
          [
           "21st century classical"
          ],
          [
           "432hz"
          ],
          [
           "8-bit"
          ],
          [
           "[]"
          ],
          [
           "a cappella"
          ],
          [
           "abstract"
          ],
          [
           "abstract beats"
          ],
          [
           "abstract hip hop"
          ],
          [
           "accordeon"
          ],
          [
           "accordion"
          ],
          [
           "acid house"
          ],
          [
           "acid rock"
          ],
          [
           "acid trance"
          ],
          [
           "acousmatic"
          ],
          [
           "acoustic blues"
          ],
          [
           "acoustic pop"
          ],
          [
           "acoustic punk"
          ],
          [
           "acoustic rock"
          ],
          [
           "action rock"
          ],
          [
           "adoracion"
          ],
          [
           "adult standards"
          ],
          [
           "adventista"
          ],
          [
           "afghan pop"
          ],
          [
           "afghan traditional"
          ],
          [
           "african percussion"
          ],
          [
           "african reggae"
          ],
          [
           "african rock"
          ],
          [
           "african-american classical"
          ],
          [
           "afro dancehall"
          ],
          [
           "afro house"
          ],
          [
           "afro psych"
          ],
          [
           "afro soul"
          ],
          [
           "afro-funk"
          ],
          [
           "afrobeat"
          ],
          [
           "afrofuturism"
          ],
          [
           "afrofuturismo brasileiro"
          ],
          [
           "afropop"
          ],
          [
           "afroswing"
          ],
          [
           "aggrotech"
          ],
          [
           "alabama indie"
          ],
          [
           "alabama metal"
          ],
          [
           "alabama rap"
          ],
          [
           "alaska indie"
          ],
          [
           "albanian pop"
          ],
          [
           "albany ny indie"
          ],
          [
           "alberta country"
          ],
          [
           "alberta hip hop"
          ],
          [
           "album rock"
          ],
          [
           "albuquerque indie"
          ],
          [
           "alt-idol"
          ],
          [
           "alte"
          ],
          [
           "alternative americana"
          ],
          [
           "alternative country"
          ],
          [
           "alternative dance"
          ],
          [
           "alternative emo"
          ],
          [
           "alternative hip hop"
          ],
          [
           "alternative metal"
          ],
          [
           "alternative pop"
          ],
          [
           "alternative pop rock"
          ],
          [
           "alternative r&b"
          ],
          [
           "alternative rock"
          ],
          [
           "alternative roots rock"
          ],
          [
           "ambeat"
          ],
          [
           "ambient"
          ],
          [
           "ambient black metal"
          ],
          [
           "ambient folk"
          ],
          [
           "ambient house"
          ],
          [
           "ambient idm"
          ],
          [
           "ambient industrial"
          ],
          [
           "ambient pop"
          ],
          [
           "ambient techno"
          ],
          [
           "ambient worship"
          ],
          [
           "american 21st century classical"
          ],
          [
           "american choir"
          ],
          [
           "american classical piano"
          ],
          [
           "american contemporary classical"
          ],
          [
           "american early music"
          ],
          [
           "american folk revival"
          ],
          [
           "american metalcore"
          ],
          [
           "american modern classical"
          ],
          [
           "american oi"
          ],
          [
           "american orchestra"
          ],
          [
           "american post-rock"
          ],
          [
           "american primitive"
          ],
          [
           "american romanticism"
          ],
          [
           "american shoegaze"
          ],
          [
           "anadolu rock"
          ],
          [
           "anarcho-punk"
          ],
          [
           "anglican liturgy"
          ],
          [
           "animal singing"
          ],
          [
           "anime"
          ],
          [
           "anime latino"
          ],
          [
           "anime rock"
          ],
          [
           "anime score"
          ],
          [
           "ann arbor indie"
          ],
          [
           "anthem emo"
          ],
          [
           "anthem worship"
          ],
          [
           "anti-folk"
          ],
          [
           "antilliaanse folklore"
          ],
          [
           "antiviral pop"
          ],
          [
           "appalachian folk"
          ],
          [
           "arab folk"
          ],
          [
           "arab groove"
          ],
          [
           "arab pop"
          ],
          [
           "arabesk"
          ],
          [
           "arabic hip hop"
          ],
          [
           "arabic jazz"
          ],
          [
           "argentine ambient"
          ],
          [
           "argentine hardcore"
          ],
          [
           "argentine heavy metal"
          ],
          [
           "argentine hip hop"
          ],
          [
           "argentine indie"
          ],
          [
           "argentine metal"
          ],
          [
           "argentine punk"
          ],
          [
           "argentine reggae"
          ],
          [
           "argentine rock"
          ],
          [
           "argentine telepop"
          ],
          [
           "arizona punk"
          ],
          [
           "arkansas country"
          ],
          [
           "arkansas hip hop"
          ],
          [
           "arkansas indie"
          ],
          [
           "armenian folk"
          ],
          [
           "art pop"
          ],
          [
           "art punk"
          ],
          [
           "art rock"
          ],
          [
           "art song"
          ],
          [
           "asbury park indie"
          ],
          [
           "asheville indie"
          ],
          [
           "asian american hip hop"
          ],
          [
           "asmr"
          ],
          [
           "athens indie"
          ],
          [
           "atl hip hop"
          ],
          [
           "atl trap"
          ],
          [
           "atlanta indie"
          ],
          [
           "atlanta metal"
          ],
          [
           "atlanta punk"
          ],
          [
           "atmosphere"
          ],
          [
           "atmospheric black metal"
          ],
          [
           "atmospheric dnb"
          ],
          [
           "atmospheric post-metal"
          ],
          [
           "atmospheric post-rock"
          ],
          [
           "atmospheric sludge"
          ],
          [
           "auckland indie"
          ],
          [
           "audiophile vocal"
          ],
          [
           "aussietronica"
          ],
          [
           "austin americana"
          ],
          [
           "austin singer-songwriter"
          ],
          [
           "austindie"
          ],
          [
           "australian alternative pop"
          ],
          [
           "australian alternative rock"
          ],
          [
           "australian ambient"
          ],
          [
           "australian children's music"
          ],
          [
           "australian choir"
          ],
          [
           "australian classical"
          ],
          [
           "australian classical piano"
          ],
          [
           "australian country"
          ],
          [
           "australian dance"
          ],
          [
           "australian electropop"
          ],
          [
           "australian garage punk"
          ],
          [
           "australian hip hop"
          ],
          [
           "australian house"
          ],
          [
           "australian indie"
          ],
          [
           "australian indie folk"
          ],
          [
           "australian indie rock"
          ],
          [
           "australian indigenous"
          ],
          [
           "australian metal"
          ],
          [
           "australian metalcore"
          ],
          [
           "australian pop"
          ],
          [
           "australian post-hardcore"
          ],
          [
           "australian post-punk"
          ],
          [
           "australian psych"
          ],
          [
           "australian r&b"
          ],
          [
           "australian reggae fusion"
          ],
          [
           "australian rock"
          ],
          [
           "australian singer-songwriter"
          ],
          [
           "australian ska"
          ],
          [
           "australian talent show"
          ],
          [
           "australian trap"
          ],
          [
           "australian underground hip hop"
          ],
          [
           "austrian choir"
          ],
          [
           "austrian classical piano"
          ],
          [
           "austrian orchestra"
          ],
          [
           "austrian pop"
          ],
          [
           "austro-german modernism"
          ],
          [
           "austropop"
          ],
          [
           "autoharp"
          ],
          [
           "autonomous black metal"
          ],
          [
           "avant-garde"
          ],
          [
           "avant-garde jazz"
          ],
          [
           "avant-garde metal"
          ],
          [
           "axe"
          ],
          [
           "azeri traditional"
          ],
          [
           "azonto"
          ],
          [
           "azontobeats"
          ],
          [
           "bachata"
          ],
          [
           "bachata dominicana"
          ],
          [
           "background music"
          ],
          [
           "background piano"
          ],
          [
           "baglama"
          ],
          [
           "bahai"
          ],
          [
           "bahamian folk"
          ],
          [
           "bahamian pop"
          ],
          [
           "baiao"
          ],
          [
           "bajki"
          ],
          [
           "bakersfield sound"
          ],
          [
           "balearic"
          ],
          [
           "balkan brass"
          ],
          [
           "balkan classical piano"
          ],
          [
           "ballet class"
          ],
          [
           "ballroom"
          ],
          [
           "baltic classical"
          ],
          [
           "baltimore hip hop"
          ],
          [
           "baltimore indie"
          ],
          [
           "banda"
          ],
          [
           "banda caliente"
          ],
          [
           "banda carnavalera"
          ],
          [
           "bandinhas"
          ],
          [
           "bandolim"
          ],
          [
           "bandoneon"
          ],
          [
           "bangla"
          ],
          [
           "banjo"
          ],
          [
           "bansuri"
          ],
          [
           "barbadian pop"
          ],
          [
           "barbershop"
          ],
          [
           "bard"
          ],
          [
           "barnmusik"
          ],
          [
           "barockinterpreten"
          ],
          [
           "baroque"
          ],
          [
           "baroque brass"
          ],
          [
           "baroque ensemble"
          ],
          [
           "baroque pop"
          ],
          [
           "baroque singing"
          ],
          [
           "baroque violin"
          ],
          [
           "baroque woodwind"
          ],
          [
           "bass house"
          ],
          [
           "bass music"
          ],
          [
           "bass trap"
          ],
          [
           "basshall"
          ],
          [
           "bassline"
          ],
          [
           "bath indie"
          ],
          [
           "baton rouge indie"
          ],
          [
           "baton rouge rap"
          ],
          [
           "battle rap"
          ],
          [
           "bay area hip hop"
          ],
          [
           "bay area indie"
          ],
          [
           "bboy"
          ],
          [
           "bc underground hip hop"
          ],
          [
           "beach music"
          ],
          [
           "beat italiano"
          ],
          [
           "beat poetry"
          ],
          [
           "beatboxing"
          ],
          [
           "beatlesque"
          ],
          [
           "bebop"
          ],
          [
           "bedroom pop"
          ],
          [
           "bedroom soul"
          ],
          [
           "belarusian indie"
          ],
          [
           "belarusian pop"
          ],
          [
           "belarusian rock"
          ],
          [
           "belgian classical piano"
          ],
          [
           "belgian contemporary classical"
          ],
          [
           "belgian dance"
          ],
          [
           "belgian edm"
          ],
          [
           "belgian hardcore"
          ],
          [
           "belgian indie"
          ],
          [
           "belgian indie rock"
          ],
          [
           "belgian jazz"
          ],
          [
           "belgian new wave"
          ],
          [
           "belgian pop"
          ],
          [
           "belgian rock"
          ],
          [
           "belgian singer-songwriter"
          ],
          [
           "belgian techno"
          ],
          [
           "belly dance"
          ],
          [
           "bengali folk"
          ],
          [
           "beninese pop"
          ],
          [
           "bergen indie"
          ],
          [
           "berlin minimal techno"
          ],
          [
           "berlin school"
          ],
          [
           "bhajan"
          ],
          [
           "bhangra"
          ],
          [
           "bible"
          ],
          [
           "big band"
          ],
          [
           "big beat"
          ],
          [
           "big room"
          ],
          [
           "binaural"
          ],
          [
           "birdsong"
          ],
          [
           "birmingham grime"
          ],
          [
           "birmingham hip hop"
          ],
          [
           "birmingham metal"
          ],
          [
           "bitpop"
          ],
          [
           "black 'n' roll"
          ],
          [
           "black comedy"
          ],
          [
           "black metal"
          ],
          [
           "black punk"
          ],
          [
           "black thrash"
          ],
          [
           "blackened crust"
          ],
          [
           "blackgaze"
          ],
          [
           "bleep techno"
          ],
          [
           "bluegrass"
          ],
          [
           "bluegrass fiddle"
          ],
          [
           "bluegrass gospel"
          ],
          [
           "blues"
          ],
          [
           "blues latinoamericano"
          ],
          [
           "blues mexicano"
          ],
          [
           "blues rock"
          ],
          [
           "bmore"
          ],
          [
           "bolero"
          ],
          [
           "bolero cubano"
          ],
          [
           "boogaloo"
          ],
          [
           "boogie"
          ],
          [
           "boogie-woogie"
          ],
          [
           "boom bap"
          ],
          [
           "boom bap brasileiro"
          ],
          [
           "bossa nova"
          ],
          [
           "bossa nova jazz"
          ],
          [
           "boston folk"
          ],
          [
           "boston hardcore"
          ],
          [
           "boston hip hop"
          ],
          [
           "boston indie"
          ],
          [
           "boston metal"
          ],
          [
           "boston punk"
          ],
          [
           "boston rock"
          ],
          [
           "bounce"
          ],
          [
           "bouncy house"
          ],
          [
           "bouzouki"
          ],
          [
           "bow pop"
          ],
          [
           "boy band"
          ],
          [
           "boy pop"
          ],
          [
           "boy soprano"
          ],
          [
           "brain waves"
          ],
          [
           "braindance"
          ],
          [
           "brass band"
          ],
          [
           "brass ensemble"
          ],
          [
           "brass quintet"
          ],
          [
           "brazilian boogie"
          ],
          [
           "brazilian classical"
          ],
          [
           "brazilian classical piano"
          ],
          [
           "brazilian contemporary classical"
          ],
          [
           "brazilian edm"
          ],
          [
           "brazilian groove metal"
          ],
          [
           "brazilian hip hop"
          ],
          [
           "brazilian indie"
          ],
          [
           "brazilian jazz"
          ],
          [
           "brazilian metal"
          ],
          [
           "brazilian modern jazz"
          ],
          [
           "brazilian percussion"
          ],
          [
           "brazilian punk"
          ],
          [
           "brazilian reggae"
          ],
          [
           "brazilian rock"
          ],
          [
           "brazilian ska"
          ],
          [
           "brazilian soul"
          ],
          [
           "brazilian thrash metal"
          ],
          [
           "breakbeat"
          ],
          [
           "breakcore"
          ],
          [
           "brega"
          ],
          [
           "breton folk"
          ],
          [
           "brighton indie"
          ],
          [
           "brill building pop"
          ],
          [
           "brisbane indie"
          ],
          [
           "bristol electronic"
          ],
          [
           "bristol indie"
          ],
          [
           "brit funk"
          ],
          [
           "british alternative rock"
          ],
          [
           "british black metal"
          ],
          [
           "british blues"
          ],
          [
           "british children's music"
          ],
          [
           "british choir"
          ],
          [
           "british classical piano"
          ],
          [
           "british comedy"
          ],
          [
           "british contemporary classical"
          ],
          [
           "british dance band"
          ],
          [
           "british death metal"
          ],
          [
           "british experimental"
          ],
          [
           "british folk"
          ],
          [
           "british grindcore"
          ],
          [
           "british indie rock"
          ],
          [
           "british industrial"
          ],
          [
           "british invasion"
          ],
          [
           "british jazz"
          ],
          [
           "british modern classical"
          ],
          [
           "british orchestra"
          ],
          [
           "british post-rock"
          ],
          [
           "british power metal"
          ],
          [
           "british singer-songwriter"
          ],
          [
           "british soul"
          ],
          [
           "british soundtrack"
          ],
          [
           "britpop"
          ],
          [
           "broadway"
          ],
          [
           "broken beat"
          ],
          [
           "bronx hip hop"
          ],
          [
           "brooklyn drill"
          ],
          [
           "brooklyn indie"
          ],
          [
           "brostep"
          ],
          [
           "brutal death metal"
          ],
          [
           "brutal deathcore"
          ],
          [
           "bubble trance"
          ],
          [
           "bubblegrunge"
          ],
          [
           "bubblegum dance"
          ],
          [
           "bubblegum pop"
          ],
          [
           "buffalo hip hop"
          ],
          [
           "buffalo ny indie"
          ],
          [
           "buffalo ny metal"
          ],
          [
           "bulgarian experimental"
          ],
          [
           "burmese traditional"
          ],
          [
           "bush ballad"
          ],
          [
           "c-pop"
          ],
          [
           "c86"
          ],
          [
           "cabaret"
          ],
          [
           "cajun"
          ],
          [
           "calgary indie"
          ],
          [
           "cali rap"
          ],
          [
           "calming instrumental"
          ],
          [
           "calypso"
          ],
          [
           "cambodian rock"
          ],
          [
           "cambridge choir"
          ],
          [
           "cambridgeshire indie"
          ],
          [
           "cameroonian pop"
          ],
          [
           "canadian americana"
          ],
          [
           "canadian blues"
          ],
          [
           "canadian ccm"
          ],
          [
           "canadian celtic"
          ],
          [
           "canadian children's music"
          ],
          [
           "canadian choir"
          ],
          [
           "canadian classical"
          ],
          [
           "canadian classical piano"
          ],
          [
           "canadian comedy"
          ],
          [
           "canadian contemporary country"
          ],
          [
           "canadian contemporary r&b"
          ],
          [
           "canadian country"
          ],
          [
           "canadian electronic"
          ],
          [
           "canadian electropop"
          ],
          [
           "canadian experimental"
          ],
          [
           "canadian folk"
          ],
          [
           "canadian hardcore"
          ],
          [
           "canadian hip hop"
          ],
          [
           "canadian house"
          ],
          [
           "canadian indie"
          ],
          [
           "canadian indie folk"
          ],
          [
           "canadian indigenous"
          ],
          [
           "canadian indigenous hip hop"
          ],
          [
           "canadian latin"
          ],
          [
           "canadian metal"
          ],
          [
           "canadian metalcore"
          ],
          [
           "canadian modern jazz"
          ],
          [
           "canadian pop"
          ],
          [
           "canadian pop punk"
          ],
          [
           "canadian post-hardcore"
          ],
          [
           "canadian post-rock"
          ],
          [
           "canadian psychedelic"
          ],
          [
           "canadian punk"
          ],
          [
           "canadian rock"
          ],
          [
           "canadian rockabilly"
          ],
          [
           "canadian singer-songwriter"
          ],
          [
           "canadian soundtrack"
          ],
          [
           "cancion melodica"
          ],
          [
           "candy pop"
          ],
          [
           "cantautor"
          ],
          [
           "cante flamenco"
          ],
          [
           "canterbury scene"
          ],
          [
           "canto popular uruguayo"
          ],
          [
           "cantopop"
          ],
          [
           "canzone d'autore"
          ],
          [
           "canzone genovese"
          ],
          [
           "canzone napoletana"
          ],
          [
           "cape town indie"
          ],
          [
           "cape verdean folk"
          ],
          [
           "capoeira"
          ],
          [
           "caracas indie"
          ],
          [
           "carnatic"
          ],
          [
           "carnatic instrumental"
          ],
          [
           "carnatic vocal"
          ],
          [
           "cartoon"
          ],
          [
           "cathedral choir"
          ],
          [
           "caucasian classical"
          ],
          [
           "caucasian classical piano"
          ],
          [
           "ccm"
          ],
          [
           "cedm"
          ],
          [
           "cello"
          ],
          [
           "celtic"
          ],
          [
           "celtic harp"
          ],
          [
           "celtic metal"
          ],
          [
           "celtic punk"
          ],
          [
           "celtic rock"
          ],
          [
           "cha-cha-cha"
          ],
          [
           "chakra"
          ],
          [
           "chamame"
          ],
          [
           "chamber choir"
          ],
          [
           "chamber ensemble"
          ],
          [
           "chamber folk"
          ],
          [
           "chamber orchestra"
          ],
          [
           "chamber pop"
          ],
          [
           "chamber psych"
          ],
          [
           "champeta"
          ],
          [
           "channel islands indie"
          ],
          [
           "channel pop"
          ],
          [
           "chanson"
          ],
          [
           "chanson paillarde"
          ],
          [
           "chaotic hardcore"
          ],
          [
           "charanga"
          ],
          [
           "charango"
          ],
          [
           "charlotte nc indie"
          ],
          [
           "charlottesville indie"
          ],
          [
           "chattanooga indie"
          ],
          [
           "chicago blues"
          ],
          [
           "chicago drill"
          ],
          [
           "chicago hardcore"
          ],
          [
           "chicago house"
          ],
          [
           "chicago indie"
          ],
          [
           "chicago pop punk"
          ],
          [
           "chicago punk"
          ],
          [
           "chicago rap"
          ],
          [
           "chicago soul"
          ],
          [
           "chicano punk"
          ],
          [
           "chicano rap"
          ],
          [
           "chicha"
          ],
          [
           "chihuahua indie"
          ],
          [
           "children's choir"
          ],
          [
           "children's folk"
          ],
          [
           "children's music"
          ],
          [
           "children's story"
          ],
          [
           "chilean hardcore"
          ],
          [
           "chilean indie"
          ],
          [
           "chilean rock"
          ],
          [
           "chilena"
          ],
          [
           "chill beats"
          ],
          [
           "chill guitar"
          ],
          [
           "chill lounge"
          ],
          [
           "chill out"
          ],
          [
           "chill pop"
          ],
          [
           "chill r&b"
          ],
          [
           "chillhop"
          ],
          [
           "chillstep"
          ],
          [
           "chillwave"
          ],
          [
           "chinese audiophile"
          ],
          [
           "chinese classical"
          ],
          [
           "chinese classical performance"
          ],
          [
           "chinese classical piano"
          ],
          [
           "chinese electropop"
          ],
          [
           "chinese hip hop"
          ],
          [
           "chinese idol pop"
          ],
          [
           "chinese indie"
          ],
          [
           "chinese indie rock"
          ],
          [
           "chinese instrumental"
          ],
          [
           "chinese jazz"
          ],
          [
           "chinese r&b"
          ],
          [
           "chinese soundtrack"
          ],
          [
           "chinese traditional"
          ],
          [
           "chiptune"
          ],
          [
           "chopped and screwed"
          ],
          [
           "choral"
          ],
          [
           "choro"
          ],
          [
           "christchurch indie"
          ],
          [
           "christelijk"
          ],
          [
           "christian a cappella"
          ],
          [
           "christian alternative rock"
          ],
          [
           "christian dance"
          ],
          [
           "christian hard rock"
          ],
          [
           "christian hardcore"
          ],
          [
           "christian hip hop"
          ],
          [
           "christian indie"
          ],
          [
           "christian metal"
          ],
          [
           "christian metalcore"
          ],
          [
           "christian music"
          ],
          [
           "christian pop"
          ],
          [
           "christian power metal"
          ],
          [
           "christian punk"
          ],
          [
           "christian relaxative"
          ],
          [
           "christian rock"
          ],
          [
           "christian trap"
          ],
          [
           "christian uplift"
          ],
          [
           "christmas instrumental"
          ],
          [
           "christmas product"
          ],
          [
           "chunchaca"
          ],
          [
           "chutney"
          ],
          [
           "cincinnati rap"
          ],
          [
           "cinematic post-rock"
          ],
          [
           "circuit"
          ],
          [
           "circus"
          ],
          [
           "classic afrobeat"
          ],
          [
           "classic arab pop"
          ],
          [
           "classic australian country"
          ],
          [
           "classic belgian pop"
          ],
          [
           "classic bhangra"
          ],
          [
           "classic bollywood"
          ],
          [
           "classic canadian rock"
          ],
          [
           "classic cantopop"
          ],
          [
           "classic colombian pop"
          ],
          [
           "classic country pop"
          ],
          [
           "classic czech pop"
          ],
          [
           "classic danish pop"
          ],
          [
           "classic dubstep"
          ],
          [
           "classic eurovision"
          ],
          [
           "classic finnish pop"
          ],
          [
           "classic french pop"
          ],
          [
           "classic garage rock"
          ],
          [
           "classic girl group"
          ],
          [
           "classic greek pop"
          ],
          [
           "classic hardstyle"
          ],
          [
           "classic icelandic pop"
          ],
          [
           "classic indo pop"
          ],
          [
           "classic iskelma"
          ],
          [
           "classic israeli pop"
          ],
          [
           "classic italian folk pop"
          ],
          [
           "classic italian pop"
          ],
          [
           "classic j-rock"
          ],
          [
           "classic japanese jazz"
          ],
          [
           "classic korean pop"
          ],
          [
           "classic latvian pop"
          ],
          [
           "classic mandopop"
          ],
          [
           "classic norwegian pop"
          ],
          [
           "classic opm"
          ],
          [
           "classic pakistani pop"
          ],
          [
           "classic persian pop"
          ],
          [
           "classic peruvian pop"
          ],
          [
           "classic polish pop"
          ],
          [
           "classic praise"
          ],
          [
           "classic psychedelic rock"
          ],
          [
           "classic punjabi pop"
          ],
          [
           "classic rock"
          ],
          [
           "classic russian pop"
          ],
          [
           "classic russian rock"
          ],
          [
           "classic schlager"
          ],
          [
           "classic soul"
          ],
          [
           "classic soundtrack"
          ],
          [
           "classic swedish pop"
          ],
          [
           "classic thai pop"
          ],
          [
           "classic tunisian pop"
          ],
          [
           "classic turkish pop"
          ],
          [
           "classic uk pop"
          ],
          [
           "classic venezuelan pop"
          ],
          [
           "classical"
          ],
          [
           "classical accordion"
          ],
          [
           "classical baritone"
          ],
          [
           "classical bass"
          ],
          [
           "classical cello"
          ],
          [
           "classical clarinet"
          ],
          [
           "classical contralto"
          ],
          [
           "classical countertenor"
          ],
          [
           "classical era"
          ],
          [
           "classical flute"
          ],
          [
           "classical guitar"
          ],
          [
           "classical harp"
          ],
          [
           "classical horn"
          ],
          [
           "classical mandolin"
          ],
          [
           "classical mezzo-soprano"
          ],
          [
           "classical oboe"
          ],
          [
           "classical organ"
          ],
          [
           "classical performance"
          ],
          [
           "classical piano"
          ],
          [
           "classical piano duo"
          ],
          [
           "classical piano trio"
          ],
          [
           "classical saxophone"
          ],
          [
           "classical soprano"
          ],
          [
           "classical tenor"
          ],
          [
           "classical trumpet"
          ],
          [
           "classify"
          ],
          [
           "clawhammer banjo"
          ],
          [
           "clean comedy"
          ],
          [
           "cleveland metal"
          ],
          [
           "coco"
          ],
          [
           "collage pop"
          ],
          [
           "college a cappella"
          ],
          [
           "colombian hip hop"
          ],
          [
           "colombian pop"
          ],
          [
           "colombian rock"
          ],
          [
           "columbus ohio indie"
          ],
          [
           "comedy"
          ],
          [
           "comedy rap"
          ],
          [
           "comedy rock"
          ],
          [
           "comic"
          ],
          [
           "comic metal"
          ],
          [
           "commons"
          ],
          [
           "complextro"
          ],
          [
           "compositional ambient"
          ],
          [
           "concepcion indie"
          ],
          [
           "concert band"
          ],
          [
           "connecticut hardcore"
          ],
          [
           "connecticut indie"
          ],
          [
           "conscious hip hop"
          ],
          [
           "contemporary choir"
          ],
          [
           "contemporary classical"
          ],
          [
           "contemporary classical piano"
          ],
          [
           "contemporary country"
          ],
          [
           "contemporary folk"
          ],
          [
           "contemporary gospel"
          ],
          [
           "contemporary jazz"
          ],
          [
           "contemporary post-bop"
          ],
          [
           "contemporary vocal jazz"
          ],
          [
           "contrabass"
          ],
          [
           "cool jazz"
          ],
          [
           "copla"
          ],
          [
           "cornish folk"
          ],
          [
           "cornwall indie"
          ],
          [
           "corrido"
          ],
          [
           "corridos cristianos"
          ],
          [
           "corridos tumbados"
          ],
          [
           "corrosion"
          ],
          [
           "cosmic american"
          ],
          [
           "cosmic post-rock"
          ],
          [
           "country"
          ],
          [
           "country blues"
          ],
          [
           "country boogie"
          ],
          [
           "country dawn"
          ],
          [
           "country gospel"
          ],
          [
           "country pop"
          ],
          [
           "country rap"
          ],
          [
           "country road"
          ],
          [
           "country rock"
          ],
          [
           "coverchill"
          ],
          [
           "cowboy western"
          ],
          [
           "cowpunk"
          ],
          [
           "crack rock steady"
          ],
          [
           "croatian folk"
          ],
          [
           "croatian pop"
          ],
          [
           "croatian rock"
          ],
          [
           "crossover thrash"
          ],
          [
           "crunk"
          ],
          [
           "crust punk"
          ],
          [
           "cuarteto"
          ],
          [
           "cuatro venezolano"
          ],
          [
           "cuban alternative"
          ],
          [
           "cuban rumba"
          ],
          [
           "cubaton"
          ],
          [
           "cumbia"
          ],
          [
           "cumbia andina mexicana"
          ],
          [
           "cumbia chilena"
          ],
          [
           "cumbia colombiana regia"
          ],
          [
           "cumbia ecuatoriana"
          ],
          [
           "cumbia funk"
          ],
          [
           "cumbia lagunera"
          ],
          [
           "cumbia paraguaya"
          ],
          [
           "cumbia peruana"
          ],
          [
           "cumbia pop"
          ],
          [
           "cumbia ranchera"
          ],
          [
           "cumbia salvadorena"
          ],
          [
           "cumbia santafesina"
          ],
          [
           "cumbia sonidera"
          ],
          [
           "cumbia villera"
          ],
          [
           "cyberpunk"
          ],
          [
           "cymraeg"
          ],
          [
           "cypriot pop"
          ],
          [
           "czech classical"
          ],
          [
           "czech classical piano"
          ],
          [
           "czech contemporary classical"
          ],
          [
           "d-beat"
          ],
          [
           "dabke"
          ],
          [
           "dakke dak"
          ],
          [
           "dallas indie"
          ],
          [
           "dance pop"
          ],
          [
           "dance rock"
          ],
          [
           "dance-punk"
          ],
          [
           "dancehall"
          ],
          [
           "dangdut"
          ],
          [
           "danish alternative rock"
          ],
          [
           "danish classical"
          ],
          [
           "danish electronic"
          ],
          [
           "danish electropop"
          ],
          [
           "danish hip hop"
          ],
          [
           "danish jazz"
          ],
          [
           "danish metal"
          ],
          [
           "danish pop"
          ],
          [
           "danish pop rock"
          ],
          [
           "danish post-punk"
          ],
          [
           "danish punk"
          ],
          [
           "danish rock"
          ],
          [
           "danish singer-songwriter"
          ],
          [
           "dansband"
          ],
          [
           "danseband"
          ],
          [
           "dansktop"
          ],
          [
           "danspunk"
          ],
          [
           "dark cabaret"
          ],
          [
           "dark clubbing"
          ],
          [
           "dark disco"
          ],
          [
           "dark hardcore"
          ],
          [
           "dark jazz"
          ],
          [
           "dark minimal techno"
          ],
          [
           "dark post-punk"
          ],
          [
           "dark techno"
          ],
          [
           "dark trap"
          ],
          [
           "dark wave"
          ],
          [
           "darksynth"
          ],
          [
           "dayton indie"
          ],
          [
           "dc hardcore"
          ],
          [
           "dc indie"
          ],
          [
           "death 'n' roll"
          ],
          [
           "death metal"
          ],
          [
           "deathcore"
          ],
          [
           "deathgrass"
          ],
          [
           "deathgrind"
          ],
          [
           "deathrash"
          ],
          [
           "deathrock"
          ],
          [
           "deathstep"
          ],
          [
           "deep acoustic pop"
          ],
          [
           "deep adult standards"
          ],
          [
           "deep big room"
          ],
          [
           "deep ccm"
          ],
          [
           "deep christian rock"
          ],
          [
           "deep classic garage rock"
          ],
          [
           "deep comedy"
          ],
          [
           "deep contemporary country"
          ],
          [
           "deep dance pop"
          ],
          [
           "deep delta blues"
          ],
          [
           "deep disco"
          ],
          [
           "deep disco house"
          ],
          [
           "deep dnb"
          ],
          [
           "deep east coast hip hop"
          ],
          [
           "deep euro house"
          ],
          [
           "deep flow"
          ],
          [
           "deep free jazz"
          ],
          [
           "deep freestyle"
          ],
          [
           "deep full on"
          ],
          [
           "deep funk"
          ],
          [
           "deep g funk"
          ],
          [
           "deep gothic post-punk"
          ],
          [
           "deep groove house"
          ],
          [
           "deep house"
          ],
          [
           "deep idm"
          ],
          [
           "deep indian pop"
          ],
          [
           "deep indie singer-songwriter"
          ],
          [
           "deep latin alternative"
          ],
          [
           "deep latin christian"
          ],
          [
           "deep melodic metalcore"
          ],
          [
           "deep minimal techno"
          ],
          [
           "deep motown"
          ],
          [
           "deep new americana"
          ],
          [
           "deep new wave"
          ],
          [
           "deep norteno"
          ],
          [
           "deep northern soul"
          ],
          [
           "deep pop edm"
          ],
          [
           "deep progressive house"
          ],
          [
           "deep psychobilly"
          ],
          [
           "deep punk rock"
          ],
          [
           "deep r&b"
          ],
          [
           "deep ragga"
          ],
          [
           "deep regional mexican"
          ],
          [
           "deep smooth jazz"
          ],
          [
           "deep soft rock"
          ],
          [
           "deep soul house"
          ],
          [
           "deep soundtrack"
          ],
          [
           "deep southern soul"
          ],
          [
           "deep southern trap"
          ],
          [
           "deep space rock"
          ],
          [
           "deep talent show"
          ],
          [
           "deep tech house"
          ],
          [
           "deep techno"
          ],
          [
           "deep tropical house"
          ],
          [
           "deep underground hip hop"
          ],
          [
           "deep uplifting trance"
          ],
          [
           "delta blues"
          ],
          [
           "dembow"
          ],
          [
           "denpa-kei"
          ],
          [
           "denton tx indie"
          ],
          [
           "denver indie"
          ],
          [
           "depressive black metal"
          ],
          [
           "derby indie"
          ],
          [
           "desert blues"
          ],
          [
           "desi hip hop"
          ],
          [
           "desi pop"
          ],
          [
           "destroy techno"
          ],
          [
           "detroit hip hop"
          ],
          [
           "detroit house"
          ],
          [
           "detroit techno"
          ],
          [
           "detroit trap"
          ],
          [
           "detske pisnicky"
          ],
          [
           "detskie pesni"
          ],
          [
           "devon indie"
          ],
          [
           "dfw rap"
          ],
          [
           "dhrupad"
          ],
          [
           "digital hardcore"
          ],
          [
           "dinner jazz"
          ],
          [
           "dirty south rap"
          ],
          [
           "dirty texas rap"
          ],
          [
           "disco"
          ],
          [
           "disco house"
          ],
          [
           "disney"
          ],
          [
           "diva house"
          ],
          [
           "dixieland"
          ],
          [
           "diy emo"
          ],
          [
           "djent"
          ],
          [
           "dmv rap"
          ],
          [
           "dominican pop"
          ],
          [
           "dong-yo"
          ],
          [
           "doo-wop"
          ],
          [
           "doom metal"
          ],
          [
           "double drumming"
          ],
          [
           "downtempo"
          ],
          [
           "drama"
          ],
          [
           "dream pop"
          ],
          [
           "dream trance"
          ],
          [
           "dreamgaze"
          ],
          [
           "dreamo"
          ],
          [
           "drift"
          ],
          [
           "drill"
          ],
          [
           "drill and bass"
          ],
          [
           "drone"
          ],
          [
           "drone folk"
          ],
          [
           "drone metal"
          ],
          [
           "drum and bass"
          ],
          [
           "dub"
          ],
          [
           "dub metal"
          ],
          [
           "dub poetry"
          ],
          [
           "dub techno"
          ],
          [
           "dubstep"
          ],
          [
           "dubsteppe"
          ],
          [
           "duduk"
          ],
          [
           "duluth indie"
          ],
          [
           "dunedin indie"
          ],
          [
           "dunedin sound"
          ],
          [
           "dungeon synth"
          ],
          [
           "duranguense"
          ],
          [
           "dusseldorf electronic"
          ],
          [
           "dutch blues"
          ],
          [
           "dutch cabaret"
          ],
          [
           "dutch classical piano"
          ],
          [
           "dutch death metal"
          ],
          [
           "dutch dnb"
          ],
          [
           "dutch edm"
          ],
          [
           "dutch folk"
          ],
          [
           "dutch hip hop"
          ],
          [
           "dutch house"
          ],
          [
           "dutch indie"
          ],
          [
           "dutch jazz"
          ],
          [
           "dutch metal"
          ],
          [
           "dutch pop"
          ],
          [
           "dutch prog"
          ],
          [
           "dutch rap pop"
          ],
          [
           "dutch rock"
          ],
          [
           "dutch trance"
          ],
          [
           "e6fi"
          ],
          [
           "early american folk"
          ],
          [
           "early avant garde"
          ],
          [
           "early modern classical"
          ],
          [
           "early music"
          ],
          [
           "early music choir"
          ],
          [
           "early music ensemble"
          ],
          [
           "early reggae"
          ],
          [
           "early romantic era"
          ],
          [
           "early synthpop"
          ],
          [
           "early us punk"
          ],
          [
           "east coast hip hop"
          ],
          [
           "east coast reggae"
          ],
          [
           "eastern bloc groove"
          ],
          [
           "easy listening"
          ],
          [
           "easycore"
          ],
          [
           "eau claire indie"
          ],
          [
           "ebm"
          ],
          [
           "ecm-style jazz"
          ],
          [
           "ectofolk"
          ],
          [
           "ecuadorian pop"
          ],
          [
           "edm"
          ],
          [
           "edmonton indie"
          ],
          [
           "egyptian pop"
          ],
          [
           "egyptian traditional"
          ],
          [
           "el paso indie"
          ],
          [
           "electra"
          ],
          [
           "electric bass"
          ],
          [
           "electric blues"
          ],
          [
           "electro"
          ],
          [
           "electro house"
          ],
          [
           "electro jazz"
          ],
          [
           "electro latino"
          ],
          [
           "electro swing"
          ],
          [
           "electro-industrial"
          ],
          [
           "electro-pop francais"
          ],
          [
           "electroclash"
          ],
          [
           "electrofox"
          ],
          [
           "electronic djent"
          ],
          [
           "electronic rock"
          ],
          [
           "electronic trap"
          ],
          [
           "electronica"
          ],
          [
           "electronica argentina"
          ],
          [
           "electropop"
          ],
          [
           "electropowerpop"
          ],
          [
           "emo"
          ],
          [
           "emo mexicano"
          ],
          [
           "emo punk"
          ],
          [
           "emo rap"
          ],
          [
           "emocore"
          ],
          [
           "english baroque"
          ],
          [
           "english indie rock"
          ],
          [
           "english renaissance"
          ],
          [
           "enka"
          ],
          [
           "entehno"
          ],
          [
           "environmental"
          ],
          [
           "epic doom"
          ],
          [
           "epicore"
          ],
          [
           "erhu"
          ],
          [
           "escape room"
          ],
          [
           "esperanto"
          ],
          [
           "essex indie"
          ],
          [
           "estonian hip hop"
          ],
          [
           "estonian pop"
          ],
          [
           "ethereal wave"
          ],
          [
           "etherpop"
          ],
          [
           "ethio-jazz"
          ],
          [
           "ethiopian pop"
          ],
          [
           "ethnomusicology"
          ],
          [
           "ethnotronica"
          ],
          [
           "eugene indie"
          ],
          [
           "euphoric hardstyle"
          ],
          [
           "eurobeat"
          ],
          [
           "eurodance"
          ],
          [
           "europop"
          ],
          [
           "euroska"
          ],
          [
           "eurovision"
          ],
          [
           "exotica"
          ],
          [
           "experimental"
          ],
          [
           "experimental ambient"
          ],
          [
           "experimental big band"
          ],
          [
           "experimental dub"
          ],
          [
           "experimental folk"
          ],
          [
           "experimental guitar"
          ],
          [
           "experimental hip hop"
          ],
          [
           "experimental house"
          ],
          [
           "experimental indie"
          ],
          [
           "experimental jazz"
          ],
          [
           "experimental pop"
          ],
          [
           "experimental rock"
          ],
          [
           "experimental vocal"
          ],
          [
           "fado"
          ],
          [
           "family gospel"
          ],
          [
           "faroese pop"
          ],
          [
           "fast melodic punk"
          ],
          [
           "fidget house"
          ],
          [
           "filmi"
          ],
          [
           "filter house"
          ],
          [
           "filthstep"
          ],
          [
           "final fantasy"
          ],
          [
           "fingerstyle"
          ],
          [
           "finnish alternative rock"
          ],
          [
           "finnish classical"
          ],
          [
           "finnish contemporary classical"
          ],
          [
           "finnish death metal"
          ],
          [
           "finnish edm"
          ],
          [
           "finnish hard rock"
          ],
          [
           "finnish heavy metal"
          ],
          [
           "finnish metal"
          ],
          [
           "finnish power metal"
          ],
          [
           "finnish soul"
          ],
          [
           "flamenco"
          ],
          [
           "flamenco guitar"
          ],
          [
           "flick hop"
          ],
          [
           "flint hip hop"
          ],
          [
           "float house"
          ],
          [
           "florida death metal"
          ],
          [
           "florida rap"
          ],
          [
           "fluxwork"
          ],
          [
           "fo jing"
          ],
          [
           "focus"
          ],
          [
           "focus beats"
          ],
          [
           "focus trance"
          ],
          [
           "folclor afrocolombiano"
          ],
          [
           "folclor colombiano"
          ],
          [
           "folclore extremeno"
          ],
          [
           "folclore jujeno"
          ],
          [
           "folclore navarra"
          ],
          [
           "folclore salteno"
          ],
          [
           "folclore tucumano"
          ],
          [
           "folk"
          ],
          [
           "folk metal"
          ],
          [
           "folk punk"
          ],
          [
           "folk rock"
          ],
          [
           "folk rock italiano"
          ],
          [
           "folk-pop"
          ],
          [
           "folklore argentino"
          ],
          [
           "folklore boliviano"
          ],
          [
           "folklore chileno"
          ],
          [
           "folklore ecuatoriano"
          ],
          [
           "folklore peruano"
          ],
          [
           "folklore venezolano"
          ],
          [
           "folklore veracruzano"
          ],
          [
           "folkmusik"
          ],
          [
           "folktronica"
          ],
          [
           "footwork"
          ],
          [
           "forro"
          ],
          [
           "forro tradicional"
          ],
          [
           "fort worth indie"
          ],
          [
           "fourth world"
          ],
          [
           "francoton"
          ],
          [
           "freak folk"
          ],
          [
           "freakbeat"
          ],
          [
           "free folk"
          ],
          [
           "free improvisation"
          ],
          [
           "free jazz"
          ],
          [
           "freestyle"
          ],
          [
           "french baroque"
          ],
          [
           "french classical piano"
          ],
          [
           "french contemporary classical"
          ],
          [
           "french death metal"
          ],
          [
           "french dnb"
          ],
          [
           "french hip hop"
          ],
          [
           "french indie folk"
          ],
          [
           "french indie pop"
          ],
          [
           "french indietronica"
          ],
          [
           "french jazz"
          ],
          [
           "french metal"
          ],
          [
           "french movie tunes"
          ],
          [
           "french opera"
          ],
          [
           "french orchestra"
          ],
          [
           "french pop"
          ],
          [
           "french post-punk"
          ],
          [
           "french psychedelic"
          ],
          [
           "french reggae"
          ],
          [
           "french rock"
          ],
          [
           "french romanticism"
          ],
          [
           "french shoegaze"
          ],
          [
           "french soundtrack"
          ],
          [
           "french synthpop"
          ],
          [
           "french techno"
          ],
          [
           "frenchcore"
          ],
          [
           "full on"
          ],
          [
           "funana"
          ],
          [
           "funeral doom"
          ],
          [
           "funk"
          ],
          [
           "funk 150 bpm"
          ],
          [
           "funk carioca"
          ],
          [
           "funk das antigas"
          ],
          [
           "funk metal"
          ],
          [
           "funk mexicano"
          ],
          [
           "funk ostentacao"
          ],
          [
           "funk paulista"
          ],
          [
           "funk pop"
          ],
          [
           "funk rock"
          ],
          [
           "funky breaks"
          ],
          [
           "funky tech house"
          ],
          [
           "future bass"
          ],
          [
           "future funk"
          ],
          [
           "future garage"
          ],
          [
           "future house"
          ],
          [
           "future rock"
          ],
          [
           "futurepop"
          ],
          [
           "g funk"
          ],
          [
           "gabba"
          ],
          [
           "gabonese pop"
          ],
          [
           "gaian doom"
          ],
          [
           "gainesville indie"
          ],
          [
           "gaita zuliana"
          ],
          [
           "galante era"
          ],
          [
           "gamelan"
          ],
          [
           "gaming dubstep"
          ],
          [
           "gaming edm"
          ],
          [
           "gangster rap"
          ],
          [
           "garage house"
          ],
          [
           "garage pop"
          ],
          [
           "garage psych"
          ],
          [
           "garage punk"
          ],
          [
           "garage punk blues"
          ],
          [
           "garage rock"
          ],
          [
           "garage rock revival"
          ],
          [
           "gauze pop"
          ],
          [
           "gbvfi"
          ],
          [
           "geek folk"
          ],
          [
           "geek rock"
          ],
          [
           "georgian folk"
          ],
          [
           "german alternative rock"
          ],
          [
           "german baroque"
          ],
          [
           "german choir"
          ],
          [
           "german classical piano"
          ],
          [
           "german country"
          ],
          [
           "german dance"
          ],
          [
           "german hard rock"
          ],
          [
           "german heavy metal"
          ],
          [
           "german house"
          ],
          [
           "german indie"
          ],
          [
           "german jazz"
          ],
          [
           "german literature"
          ],
          [
           "german metal"
          ],
          [
           "german oi"
          ],
          [
           "german opera"
          ],
          [
           "german orchestra"
          ],
          [
           "german pop"
          ],
          [
           "german pop rock"
          ],
          [
           "german post-hardcore"
          ],
          [
           "german power metal"
          ],
          [
           "german punk"
          ],
          [
           "german renaissance"
          ],
          [
           "german rock"
          ],
          [
           "german romanticism"
          ],
          [
           "german show tunes"
          ],
          [
           "german soundtrack"
          ],
          [
           "german techno"
          ],
          [
           "german thrash metal"
          ],
          [
           "german trance"
          ],
          [
           "german underground rap"
          ],
          [
           "ghanaian hip hop"
          ],
          [
           "ghanaian traditional"
          ],
          [
           "ghazal"
          ],
          [
           "ghent indie"
          ],
          [
           "girl group"
          ],
          [
           "glam metal"
          ],
          [
           "glam punk"
          ],
          [
           "glam rock"
          ],
          [
           "glee club"
          ],
          [
           "glitch"
          ],
          [
           "glitch hop"
          ],
          [
           "glitch pop"
          ],
          [
           "glitchcore"
          ],
          [
           "go-go"
          ],
          [
           "goregrind"
          ],
          [
           "gospel"
          ],
          [
           "gospel antigas"
          ],
          [
           "gospel blues"
          ],
          [
           "gospel italiano"
          ],
          [
           "gospel r&b"
          ],
          [
           "gospel rap"
          ],
          [
           "gospel singers"
          ],
          [
           "gospel soul"
          ],
          [
           "gothabilly"
          ],
          [
           "gothenburg indie"
          ],
          [
           "gothenburg metal"
          ],
          [
           "gothic alternative"
          ],
          [
           "gothic americana"
          ],
          [
           "gothic black metal"
          ],
          [
           "gothic metal"
          ],
          [
           "gothic post-punk"
          ],
          [
           "gothic rock"
          ],
          [
           "gothic symphonic metal"
          ],
          [
           "gqom"
          ],
          [
           "grand rapids indie"
          ],
          [
           "grave wave"
          ],
          [
           "greek clarinet"
          ],
          [
           "greek contemporary classical"
          ],
          [
           "greek folk"
          ],
          [
           "greek guitar"
          ],
          [
           "greek house"
          ],
          [
           "greek jazz"
          ],
          [
           "greek pop"
          ],
          [
           "greek swing"
          ],
          [
           "gregorian chant"
          ],
          [
           "grime"
          ],
          [
           "grindcore"
          ],
          [
           "griot"
          ],
          [
           "groove metal"
          ],
          [
           "groove room"
          ],
          [
           "grunge"
          ],
          [
           "grunge pop"
          ],
          [
           "grupera"
          ],
          [
           "gruperas inmortales"
          ],
          [
           "guadalajara indie"
          ],
          [
           "guam indie"
          ],
          [
           "guaracha"
          ],
          [
           "guatemalan pop"
          ],
          [
           "guidance"
          ],
          [
           "guinean pop"
          ],
          [
           "guitarra argentina"
          ],
          [
           "guitarra clasica"
          ],
          [
           "guitarra portuguesa"
          ],
          [
           "gujarati garba"
          ],
          [
           "gujarati pop"
          ],
          [
           "guzheng"
          ],
          [
           "gymcore"
          ],
          [
           "gypsy"
          ],
          [
           "gypsy jazz"
          ],
          [
           "gypsy punk"
          ],
          [
           "haitian traditional"
          ],
          [
           "halifax indie"
          ],
          [
           "halloween"
          ],
          [
           "hamburg electronic"
          ],
          [
           "hammered dulcimer"
          ],
          [
           "hammond organ"
          ],
          [
           "hands up"
          ],
          [
           "hangpan"
          ],
          [
           "happy hardcore"
          ],
          [
           "hard alternative"
          ],
          [
           "hard bop"
          ],
          [
           "hard minimal techno"
          ],
          [
           "hard rock"
          ],
          [
           "hard rock brasileiro"
          ],
          [
           "hardcore"
          ],
          [
           "hardcore hip hop"
          ],
          [
           "hardcore punk"
          ],
          [
           "hardcore techno"
          ],
          [
           "hardstyle"
          ],
          [
           "harlem hip hop"
          ],
          [
           "harlem renaissance"
          ],
          [
           "harmonica blues"
          ],
          [
           "harmonica jazz"
          ],
          [
           "harp"
          ],
          [
           "harpsichord"
          ],
          [
           "haryanvi pop"
          ],
          [
           "hauntology"
          ],
          [
           "hawaiian"
          ],
          [
           "hawaiian hip hop"
          ],
          [
           "hawaiian indie"
          ],
          [
           "healing"
          ],
          [
           "heartland rock"
          ],
          [
           "hi-nrg"
          ],
          [
           "highlife"
          ],
          [
           "hindi hip hop"
          ],
          [
           "hindi indie"
          ],
          [
           "hindustani classical"
          ],
          [
           "hindustani instrumental"
          ],
          [
           "hindustani vocal"
          ],
          [
           "hip hop"
          ],
          [
           "hip hop cubano"
          ],
          [
           "hip house"
          ],
          [
           "hip pop"
          ],
          [
           "hiplife"
          ],
          [
           "histoire pour enfants"
          ],
          [
           "historic classical performance"
          ],
          [
           "historic orchestral performance"
          ],
          [
           "historic piano performance"
          ],
          [
           "historic string quartet"
          ],
          [
           "historical keyboard"
          ],
          [
           "historically informed performance"
          ],
          [
           "hoerspiel"
          ],
          [
           "hokkien pop"
          ],
          [
           "hollywood"
          ],
          [
           "hong kong hip hop"
          ],
          [
           "hong kong indie"
          ],
          [
           "hong kong rock"
          ],
          [
           "honky tonk"
          ],
          [
           "honky-tonk piano"
          ],
          [
           "hopebeat"
          ],
          [
           "horror punk"
          ],
          [
           "horror synth"
          ],
          [
           "horrorcore"
          ],
          [
           "house"
          ],
          [
           "houston rap"
          ],
          [
           "huapango"
          ],
          [
           "huayno"
          ],
          [
           "hula"
          ],
          [
           "humppa"
          ],
          [
           "hungarian choir"
          ],
          [
           "hungarian classical performance"
          ],
          [
           "hungarian classical piano"
          ],
          [
           "hungarian contemporary classical"
          ],
          [
           "hungarian edm"
          ],
          [
           "hungarian folk"
          ],
          [
           "hungarian pop"
          ],
          [
           "hungarian rock"
          ],
          [
           "hungarian techno"
          ],
          [
           "hurdy-gurdy"
          ],
          [
           "hyperpop"
          ],
          [
           "hyphy"
          ],
          [
           "icelandic classical"
          ],
          [
           "icelandic electronic"
          ],
          [
           "icelandic experimental"
          ],
          [
           "icelandic folk"
          ],
          [
           "icelandic indie"
          ],
          [
           "icelandic jazz"
          ],
          [
           "icelandic pop"
          ],
          [
           "icelandic rock"
          ],
          [
           "idaho indie"
          ],
          [
           "idol"
          ],
          [
           "idol rock"
          ],
          [
           "ilahiler"
          ],
          [
           "ilocano pop"
          ],
          [
           "impressionism"
          ],
          [
           "indian classical"
          ],
          [
           "indian edm"
          ],
          [
           "indian folk"
          ],
          [
           "indian fusion"
          ],
          [
           "indian indie"
          ],
          [
           "indian instrumental"
          ],
          [
           "indian jazz"
          ],
          [
           "indiana hip hop"
          ],
          [
           "indie anthem-folk"
          ],
          [
           "indie cafe pop"
          ],
          [
           "indie deutschrap"
          ],
          [
           "indie dream pop"
          ],
          [
           "indie electronica"
          ],
          [
           "indie electropop"
          ],
          [
           "indie folk"
          ],
          [
           "indie game soundtrack"
          ],
          [
           "indie garage rock"
          ],
          [
           "indie hip hop"
          ],
          [
           "indie jazz"
          ],
          [
           "indie pop"
          ],
          [
           "indie pop rap"
          ],
          [
           "indie poptimism"
          ],
          [
           "indie psych-pop"
          ],
          [
           "indie punk"
          ],
          [
           "indie quebecois"
          ],
          [
           "indie r&b"
          ],
          [
           "indie rock"
          ],
          [
           "indie rock mexicano"
          ],
          [
           "indie rockism"
          ],
          [
           "indie shoegaze"
          ],
          [
           "indie singer-songwriter"
          ],
          [
           "indie soul"
          ],
          [
           "indie surf"
          ],
          [
           "indie triste"
          ],
          [
           "indiecoustica"
          ],
          [
           "indietronica"
          ],
          [
           "indonesian hip hop"
          ],
          [
           "indonesian indie"
          ],
          [
           "indonesian pop"
          ],
          [
           "indonesian r&b"
          ],
          [
           "indonesian worship"
          ],
          [
           "industrial"
          ],
          [
           "industrial hardcore"
          ],
          [
           "industrial hip hop"
          ],
          [
           "industrial metal"
          ],
          [
           "industrial rock"
          ],
          [
           "indy indie"
          ],
          [
           "instrumental acoustic guitar"
          ],
          [
           "instrumental bluegrass"
          ],
          [
           "instrumental funk"
          ],
          [
           "instrumental grime"
          ],
          [
           "instrumental math rock"
          ],
          [
           "instrumental post-rock"
          ],
          [
           "instrumental progressive metal"
          ],
          [
           "instrumental rock"
          ],
          [
           "instrumental soul"
          ],
          [
           "instrumental stoner rock"
          ],
          [
           "instrumental surf"
          ],
          [
           "intelligent dance music"
          ],
          [
           "iowa hip hop"
          ],
          [
           "irish accordion"
          ],
          [
           "irish ballad"
          ],
          [
           "irish banjo"
          ],
          [
           "irish classical"
          ],
          [
           "irish country"
          ],
          [
           "irish dance"
          ],
          [
           "irish fiddle"
          ],
          [
           "irish folk"
          ],
          [
           "irish hip hop"
          ],
          [
           "irish indie"
          ],
          [
           "irish metal"
          ],
          [
           "irish pop"
          ],
          [
           "irish pub song"
          ],
          [
           "irish rock"
          ],
          [
           "irish singer-songwriter"
          ],
          [
           "iskelma"
          ],
          [
           "islamic recitation"
          ],
          [
           "isle of wight indie"
          ],
          [
           "israeli classical"
          ],
          [
           "israeli classical piano"
          ],
          [
           "israeli folk"
          ],
          [
           "israeli hip hop"
          ],
          [
           "israeli mediterranean"
          ],
          [
           "israeli pop"
          ],
          [
           "israeli rock"
          ],
          [
           "israeli singer-songwriter"
          ],
          [
           "israeli techno"
          ],
          [
           "italian adult pop"
          ],
          [
           "italian baritone"
          ],
          [
           "italian baroque"
          ],
          [
           "italian baroque ensemble"
          ],
          [
           "italian bass"
          ],
          [
           "italian blues"
          ],
          [
           "italian classical guitar"
          ],
          [
           "italian classical piano"
          ],
          [
           "italian contemporary jazz"
          ],
          [
           "italian disco"
          ],
          [
           "italian gothic"
          ],
          [
           "italian gothic metal"
          ],
          [
           "italian indie pop"
          ],
          [
           "italian jazz"
          ],
          [
           "italian library music"
          ],
          [
           "italian mandolin"
          ],
          [
           "italian metal"
          ],
          [
           "italian mezzo-soprano"
          ],
          [
           "italian modern prog"
          ],
          [
           "italian opera"
          ],
          [
           "italian orchestra"
          ],
          [
           "italian pop rock"
          ],
          [
           "italian power metal"
          ],
          [
           "italian progressive metal"
          ],
          [
           "italian progressive rock"
          ],
          [
           "italian renaissance"
          ],
          [
           "italian romanticism"
          ],
          [
           "italian soprano"
          ],
          [
           "italian soundtrack"
          ],
          [
           "italian techno"
          ],
          [
           "italian tenor"
          ],
          [
           "italian violin"
          ],
          [
           "italo dance"
          ],
          [
           "italo house"
          ],
          [
           "j-acoustic"
          ],
          [
           "j-ambient"
          ],
          [
           "j-dance"
          ],
          [
           "j-division"
          ],
          [
           "j-idol"
          ],
          [
           "j-metal"
          ],
          [
           "j-pixie"
          ],
          [
           "j-pop"
          ],
          [
           "j-pop girl group"
          ],
          [
           "j-poprock"
          ],
          [
           "j-punk"
          ],
          [
           "j-reggae"
          ],
          [
           "j-rock"
          ],
          [
           "jacksonville indie"
          ],
          [
           "jam band"
          ],
          [
           "jamgrass"
          ],
          [
           "jamtronica"
          ],
          [
           "jangle pop"
          ],
          [
           "japanese alternative rock"
          ],
          [
           "japanese chillhop"
          ],
          [
           "japanese city pop"
          ],
          [
           "japanese classical"
          ],
          [
           "japanese classical performance"
          ],
          [
           "japanese classical piano"
          ],
          [
           "japanese concert band"
          ],
          [
           "japanese dream pop"
          ],
          [
           "japanese electronic"
          ],
          [
           "japanese electropop"
          ],
          [
           "japanese emo"
          ],
          [
           "japanese experimental"
          ],
          [
           "japanese folk"
          ],
          [
           "japanese garage rock"
          ],
          [
           "japanese girl punk"
          ],
          [
           "japanese heavy metal"
          ],
          [
           "japanese idm"
          ],
          [
           "japanese indie folk"
          ],
          [
           "japanese indie rock"
          ],
          [
           "japanese instrumental"
          ],
          [
           "japanese jazz"
          ],
          [
           "japanese jazz fusion"
          ],
          [
           "japanese jazztronica"
          ],
          [
           "japanese metalcore"
          ],
          [
           "japanese new wave"
          ],
          [
           "japanese piano"
          ],
          [
           "japanese pop punk"
          ],
          [
           "japanese post-hardcore"
          ],
          [
           "japanese power metal"
          ],
          [
           "japanese prog"
          ],
          [
           "japanese psychedelic"
          ],
          [
           "japanese punk rock"
          ],
          [
           "japanese r&b"
          ],
          [
           "japanese rockabilly"
          ],
          [
           "japanese singer-songwriter"
          ],
          [
           "japanese soundtrack"
          ],
          [
           "japanese traditional"
          ],
          [
           "japanese vgm"
          ],
          [
           "japanese vocal jazz"
          ],
          [
           "jawaiian"
          ],
          [
           "jazz"
          ],
          [
           "jazz accordion"
          ],
          [
           "jazz blues"
          ],
          [
           "jazz boom bap"
          ],
          [
           "jazz brass"
          ],
          [
           "jazz chileno"
          ],
          [
           "jazz clarinet"
          ],
          [
           "jazz colombiano"
          ],
          [
           "jazz cubano"
          ],
          [
           "jazz double bass"
          ],
          [
           "jazz drums"
          ],
          [
           "jazz flute"
          ],
          [
           "jazz funk"
          ],
          [
           "jazz fusion"
          ],
          [
           "jazz guitar"
          ],
          [
           "jazz harp"
          ],
          [
           "jazz metal"
          ],
          [
           "jazz mexicano"
          ],
          [
           "jazz orchestra"
          ],
          [
           "jazz organ"
          ],
          [
           "jazz piano"
          ],
          [
           "jazz pop"
          ],
          [
           "jazz quartet"
          ],
          [
           "jazz rap"
          ],
          [
           "jazz rock"
          ],
          [
           "jazz saxophone"
          ],
          [
           "jazz trio"
          ],
          [
           "jazz trombone"
          ],
          [
           "jazz trumpet"
          ],
          [
           "jazz tuba"
          ],
          [
           "jazz venezolano"
          ],
          [
           "jazz vibraphone"
          ],
          [
           "jazz violin"
          ],
          [
           "jazztronica"
          ],
          [
           "jewish cantorial"
          ],
          [
           "jewish hip hop"
          ],
          [
           "jig and reel"
          ],
          [
           "jordanian pop"
          ],
          [
           "joropo"
          ],
          [
           "jovem guarda"
          ],
          [
           "jug band"
          ],
          [
           "juju"
          ],
          [
           "jump blues"
          ],
          [
           "jump up"
          ],
          [
           "k-indie"
          ],
          [
           "k-pop"
          ],
          [
           "k-pop boy group"
          ],
          [
           "k-pop girl group"
          ],
          [
           "k-rap"
          ],
          [
           "kabarett"
          ],
          [
           "kabyle"
          ],
          [
           "kaneka"
          ],
          [
           "kannada bhava geethe"
          ],
          [
           "kansas city hip hop"
          ],
          [
           "kashmiri pop"
          ],
          [
           "kawaii future bass"
          ],
          [
           "kawaii metal"
          ],
          [
           "kayokyoku"
          ],
          [
           "kc indie"
          ],
          [
           "kent indie"
          ],
          [
           "kentucky hip hop"
          ],
          [
           "kentucky indie"
          ],
          [
           "kentucky metal"
          ],
          [
           "kentucky mountain folk"
          ],
          [
           "kentucky punk"
          ],
          [
           "kentucky roots"
          ],
          [
           "keroncong"
          ],
          [
           "khaleeji iraqi"
          ],
          [
           "khmer"
          ],
          [
           "kids dance party"
          ],
          [
           "kindie rock"
          ],
          [
           "kingston on indie"
          ],
          [
           "kirtan"
          ],
          [
           "kiwi rock"
          ],
          [
           "kizomba antigas"
          ],
          [
           "kleine hoerspiel"
          ],
          [
           "klezmer"
          ],
          [
           "knoxville indie"
          ],
          [
           "kodomo no ongaku"
          ],
          [
           "kolsche karneval"
          ],
          [
           "komedi"
          ],
          [
           "kompa"
          ],
          [
           "kora"
          ],
          [
           "korean classical performance"
          ],
          [
           "korean classical piano"
          ],
          [
           "korean indie rock"
          ],
          [
           "korean mask singer"
          ],
          [
           "korean pop"
          ],
          [
           "korean r&b"
          ],
          [
           "korean trap"
          ],
          [
           "koto"
          ],
          [
           "krautrock"
          ],
          [
           "kundiman"
          ],
          [
           "la indie"
          ],
          [
           "la pop"
          ],
          [
           "laboratorio"
          ],
          [
           "lafayette indie"
          ],
          [
           "laiko"
          ],
          [
           "lancashire indie"
          ],
          [
           "lancaster pa indie"
          ],
          [
           "late romantic era"
          ],
          [
           "latin"
          ],
          [
           "latin afrobeat"
          ],
          [
           "latin alternative"
          ],
          [
           "latin american classical piano"
          ],
          [
           "latin arena pop"
          ],
          [
           "latin christian"
          ],
          [
           "latin classical"
          ],
          [
           "latin funk"
          ],
          [
           "latin hip hop"
          ],
          [
           "latin house"
          ],
          [
           "latin jazz"
          ],
          [
           "latin metal"
          ],
          [
           "latin pop"
          ],
          [
           "latin rock"
          ],
          [
           "latin ska"
          ],
          [
           "latin soundtrack"
          ],
          [
           "latin talent show"
          ],
          [
           "latin tech house"
          ],
          [
           "latin viral pop"
          ],
          [
           "latin worship"
          ],
          [
           "latincore"
          ],
          [
           "latino comedy"
          ],
          [
           "latintronica"
          ],
          [
           "latinx alternative"
          ],
          [
           "latvian pop"
          ],
          [
           "lds"
          ],
          [
           "lds youth"
          ],
          [
           "lebanese pop"
          ],
          [
           "leicester indie"
          ],
          [
           "lexington ky indie"
          ],
          [
           "lgbtq+ hip hop"
          ],
          [
           "library music"
          ],
          [
           "liedermacher"
          ],
          [
           "light music"
          ],
          [
           "lilith"
          ],
          [
           "liquid funk"
          ],
          [
           "lithuanian electronic"
          ],
          [
           "liverpool indie"
          ],
          [
           "livetronica"
          ],
          [
           "lldm"
          ],
          [
           "lo star"
          ],
          [
           "lo-fi"
          ],
          [
           "lo-fi beats"
          ],
          [
           "lo-fi brasileiro"
          ],
          [
           "lo-fi chill"
          ],
          [
           "lo-fi cover"
          ],
          [
           "lo-fi emo"
          ],
          [
           "lo-fi house"
          ],
          [
           "lo-fi indie"
          ],
          [
           "lo-fi vgm"
          ],
          [
           "london rap"
          ],
          [
           "louisiana blues"
          ],
          [
           "louisiana metal"
          ],
          [
           "louisville indie"
          ],
          [
           "louisville underground"
          ],
          [
           "lounge"
          ],
          [
           "louvor"
          ],
          [
           "lovers rock"
          ],
          [
           "lullaby"
          ],
          [
           "lund indie"
          ],
          [
           "lute"
          ],
          [
           "macedonian folk"
          ],
          [
           "madchester"
          ],
          [
           "madrigal"
          ],
          [
           "magyar alternative"
          ],
          [
           "maine hip hop"
          ],
          [
           "maine indie"
          ],
          [
           "mainland chinese pop"
          ],
          [
           "makossa"
          ],
          [
           "malaysian mandopop"
          ],
          [
           "malaysian pop"
          ],
          [
           "malian blues"
          ],
          [
           "mallet"
          ],
          [
           "malmo indie"
          ],
          [
           "mambo"
          ],
          [
           "manchester hip hop"
          ],
          [
           "manchester indie"
          ],
          [
           "mande pop"
          ],
          [
           "mandolin"
          ],
          [
           "mandopop"
          ],
          [
           "manguebeat"
          ],
          [
           "manila sound"
          ],
          [
           "manitoba indie"
          ],
          [
           "mantra"
          ],
          [
           "marathi pop"
          ],
          [
           "marathi traditional"
          ],
          [
           "marching band"
          ],
          [
           "mariachi"
          ],
          [
           "mariachi cristiano"
          ],
          [
           "marimba orquesta"
          ],
          [
           "martial industrial"
          ],
          [
           "mashup"
          ],
          [
           "math rock"
          ],
          [
           "mathcore"
          ],
          [
           "mbalax"
          ],
          [
           "medieval"
          ],
          [
           "medieval folk"
          ],
          [
           "medieval rock"
          ],
          [
           "meditation"
          ],
          [
           "melancholia"
          ],
          [
           "melbourne bounce"
          ],
          [
           "melbourne bounce international"
          ],
          [
           "melbourne indie"
          ],
          [
           "mellow gold"
          ],
          [
           "melodic death metal"
          ],
          [
           "melodic deathcore"
          ],
          [
           "melodic dubstep"
          ],
          [
           "melodic groove metal"
          ],
          [
           "melodic hard rock"
          ],
          [
           "melodic hardcore"
          ],
          [
           "melodic metal"
          ],
          [
           "melodic metalcore"
          ],
          [
           "melodic power metal"
          ],
          [
           "melodic rap"
          ],
          [
           "melodic thrash"
          ],
          [
           "meme rap"
          ],
          [
           "memphis americana"
          ],
          [
           "memphis blues"
          ],
          [
           "memphis hip hop"
          ],
          [
           "memphis indie"
          ],
          [
           "memphis soul"
          ],
          [
           "mento"
          ],
          [
           "merengue"
          ],
          [
           "merengue tipico"
          ],
          [
           "merseybeat"
          ],
          [
           "messianic praise"
          ],
          [
           "metal"
          ],
          [
           "metal guitar"
          ],
          [
           "metal mineiro"
          ],
          [
           "metalcore"
          ],
          [
           "metropopolis"
          ],
          [
           "mexican classic rock"
          ],
          [
           "mexican classical"
          ],
          [
           "mexican hip hop"
          ],
          [
           "mexican indie"
          ],
          [
           "mexican pop"
          ],
          [
           "mexican pop punk"
          ],
          [
           "mexican rock"
          ],
          [
           "mexican rock-and-roll"
          ],
          [
           "mexican son"
          ],
          [
           "mexican traditional"
          ],
          [
           "miami bass"
          ],
          [
           "miami hip hop"
          ],
          [
           "miami indie"
          ],
          [
           "miami metal"
          ],
          [
           "michigan indie"
          ],
          [
           "microhouse"
          ],
          [
           "microtonal"
          ],
          [
           "middle earth"
          ],
          [
           "middle east hip hop"
          ],
          [
           "middle eastern traditional"
          ],
          [
           "midwest americana"
          ],
          [
           "midwest emo"
          ],
          [
           "military cadence"
          ],
          [
           "military rap"
          ],
          [
           "milwaukee indie"
          ],
          [
           "mindfulness"
          ],
          [
           "minecraft"
          ],
          [
           "minimal melodic techno"
          ],
          [
           "minimal tech house"
          ],
          [
           "minimal techno"
          ],
          [
           "minimal wave"
          ],
          [
           "minimalism"
          ],
          [
           "minneapolis indie"
          ],
          [
           "minneapolis metal"
          ],
          [
           "minneapolis punk"
          ],
          [
           "minneapolis sound"
          ],
          [
           "minnesota hip hop"
          ],
          [
           "mississippi hip hop"
          ],
          [
           "mississippi indie"
          ],
          [
           "mizrahi"
          ],
          [
           "mod revival"
          ],
          [
           "modern alternative pop"
          ],
          [
           "modern alternative rock"
          ],
          [
           "modern big band"
          ],
          [
           "modern blues"
          ],
          [
           "modern blues rock"
          ],
          [
           "modern bollywood"
          ],
          [
           "modern country rock"
          ],
          [
           "modern dream pop"
          ],
          [
           "modern folk rock"
          ],
          [
           "modern funk"
          ],
          [
           "modern hard rock"
          ],
          [
           "modern indie pop"
          ],
          [
           "modern jazz piano"
          ],
          [
           "modern jazz trio"
          ],
          [
           "modern old-time"
          ],
          [
           "modern performance"
          ],
          [
           "modern power pop"
          ],
          [
           "modern psychedelic folk"
          ],
          [
           "modern reggae"
          ],
          [
           "modern rock"
          ],
          [
           "modern salsa"
          ],
          [
           "modern ska punk"
          ],
          [
           "modern southern rock"
          ],
          [
           "modern string quartet"
          ],
          [
           "modern swing"
          ],
          [
           "modern uplift"
          ],
          [
           "modular synth"
          ],
          [
           "moldovan pop"
          ],
          [
           "mollywood"
          ],
          [
           "mongolian hip hop"
          ],
          [
           "mongolian pop"
          ],
          [
           "monterrey indie"
          ],
          [
           "montreal indie"
          ],
          [
           "moog"
          ],
          [
           "moombahton"
          ],
          [
           "morna"
          ],
          [
           "motivation"
          ],
          [
           "motown"
          ],
          [
           "mountain dulcimer"
          ],
          [
           "movie tunes"
          ],
          [
           "mpb"
          ],
          [
           "music box"
          ],
          [
           "music hall"
          ],
          [
           "musica afroperuana"
          ],
          [
           "musica alagoana"
          ],
          [
           "musica andina"
          ],
          [
           "musica andina colombiana"
          ],
          [
           "musica antigua"
          ],
          [
           "musica aragonesa"
          ],
          [
           "musica ayacuchana"
          ],
          [
           "musica canaria"
          ],
          [
           "musica costarricense"
          ],
          [
           "musica costena"
          ],
          [
           "musica cristiana guatemalteca"
          ],
          [
           "musica de fondo"
          ],
          [
           "musica gaucha tradicionalista"
          ],
          [
           "musica hondurena"
          ],
          [
           "musica infantil"
          ],
          [
           "musica jibara"
          ],
          [
           "musica juiz-forana"
          ],
          [
           "musica llanera"
          ],
          [
           "musica nicaraguense"
          ],
          [
           "musica para criancas"
          ],
          [
           "musica para ninos"
          ],
          [
           "musica paraibana"
          ],
          [
           "musica piemonteisa"
          ],
          [
           "musica popular colombiana"
          ],
          [
           "musica popular mineira"
          ],
          [
           "musica popular paraense"
          ],
          [
           "musica potosina"
          ],
          [
           "musica prehispanica"
          ],
          [
           "musica sarda"
          ],
          [
           "musica tradicional cubana"
          ],
          [
           "musica tropical guatemalteca"
          ],
          [
           "musical advocacy"
          ],
          [
           "musikkorps"
          ],
          [
           "musique concrete"
          ],
          [
           "musique peule"
          ],
          [
           "musique pour enfant quebecois"
          ],
          [
           "musique pour enfants"
          ],
          [
           "musique touareg"
          ],
          [
           "muzica populara"
          ],
          [
           "muzika l'yeladim"
          ],
          [
           "naija worship"
          ],
          [
           "nantes indie"
          ],
          [
           "narodna muzika"
          ],
          [
           "nashville americana"
          ],
          [
           "nashville hip hop"
          ],
          [
           "nashville indie"
          ],
          [
           "nashville singer-songwriter"
          ],
          [
           "nashville sound"
          ],
          [
           "native american"
          ],
          [
           "native american contemporary"
          ],
          [
           "native american flute"
          ],
          [
           "native american hip hop"
          ],
          [
           "native american spiritual"
          ],
          [
           "navajo"
          ],
          [
           "nederlandse hardstyle"
          ],
          [
           "nederpop"
          ],
          [
           "neo classical metal"
          ],
          [
           "neo kyma"
          ],
          [
           "neo mellow"
          ],
          [
           "neo r&b"
          ],
          [
           "neo soul"
          ],
          [
           "neo-classical"
          ],
          [
           "neo-kraut"
          ],
          [
           "neo-pagan"
          ],
          [
           "neo-progressive"
          ],
          [
           "neo-psychedelic"
          ],
          [
           "neo-rockabilly"
          ],
          [
           "neo-singer-songwriter"
          ],
          [
           "neo-synthpop"
          ],
          [
           "neo-trad metal"
          ],
          [
           "neo-traditional bluegrass"
          ],
          [
           "neo-traditional country"
          ],
          [
           "neoclassical darkwave"
          ],
          [
           "neoclassicism"
          ],
          [
           "neofolk"
          ],
          [
           "neon pop punk"
          ],
          [
           "neotango"
          ],
          [
           "nepali indie"
          ],
          [
           "nepali pop"
          ],
          [
           "nerdcore"
          ],
          [
           "neue deutsche harte"
          ],
          [
           "neue deutsche todeskunst"
          ],
          [
           "neue deutsche welle"
          ],
          [
           "neurofunk"
          ],
          [
           "new age"
          ],
          [
           "new age piano"
          ],
          [
           "new americana"
          ],
          [
           "new beat"
          ],
          [
           "new comedy"
          ],
          [
           "new england americana"
          ],
          [
           "new england emo"
          ],
          [
           "new french touch"
          ],
          [
           "new isolationism"
          ],
          [
           "new jack swing"
          ],
          [
           "new jersey hardcore"
          ],
          [
           "new jersey indie"
          ],
          [
           "new jersey punk"
          ],
          [
           "new jersey rap"
          ],
          [
           "new mexico music"
          ],
          [
           "new orleans blues"
          ],
          [
           "new orleans funk"
          ],
          [
           "new orleans indie"
          ],
          [
           "new orleans jazz"
          ],
          [
           "new orleans rap"
          ],
          [
           "new rave"
          ],
          [
           "new romantic"
          ],
          [
           "new tribe"
          ],
          [
           "new wave"
          ],
          [
           "new wave of thrash metal"
          ],
          [
           "new wave pop"
          ],
          [
           "new weird america"
          ],
          [
           "new york death metal"
          ],
          [
           "new york drill"
          ],
          [
           "new zealand classical"
          ],
          [
           "newcastle indie"
          ],
          [
           "newcastle nsw indie"
          ],
          [
           "nigerian hip hop"
          ],
          [
           "nigerian pop"
          ],
          [
           "nightcore"
          ],
          [
           "nightrun"
          ],
          [
           "ninja"
          ],
          [
           "nintendocore"
          ],
          [
           "nisiotika"
          ],
          [
           "nl folk"
          ],
          [
           "no wave"
          ],
          [
           "noise pop"
          ],
          [
           "noise punk"
          ],
          [
           "noise rock"
          ],
          [
           "nordic classical piano"
          ],
          [
           "nordic contemporary classical"
          ],
          [
           "nordic folk"
          ],
          [
           "nordic house"
          ],
          [
           "nordic orchestra"
          ],
          [
           "nordic post-rock"
          ],
          [
           "nordic soundtrack"
          ],
          [
           "norman ok indie"
          ],
          [
           "norsk lovsang"
          ],
          [
           "norteno"
          ],
          [
           "norteno-sax"
          ],
          [
           "north carolina emo"
          ],
          [
           "north carolina hip hop"
          ],
          [
           "north carolina indie"
          ],
          [
           "north carolina metal"
          ],
          [
           "north carolina roots"
          ],
          [
           "north east england indie"
          ],
          [
           "northern irish indie"
          ],
          [
           "northern irish punk"
          ],
          [
           "northern soul"
          ],
          [
           "norwegian black metal"
          ],
          [
           "norwegian choir"
          ],
          [
           "norwegian classical"
          ],
          [
           "norwegian contemporary jazz"
          ],
          [
           "norwegian death metal"
          ],
          [
           "norwegian experimental"
          ],
          [
           "norwegian hip hop"
          ],
          [
           "norwegian indie"
          ],
          [
           "norwegian jazz"
          ],
          [
           "norwegian metal"
          ],
          [
           "norwegian pop"
          ],
          [
           "norwegian pop rap"
          ],
          [
           "norwegian punk rock"
          ],
          [
           "norwegian rock"
          ],
          [
           "norwegian singer-songwriter"
          ],
          [
           "norwegian space disco"
          ],
          [
           "nottingham indie"
          ],
          [
           "nouvelle chanson francaise"
          ],
          [
           "nova canco"
          ],
          [
           "nova mpb"
          ],
          [
           "nova musica pernambucana"
          ],
          [
           "novelty"
          ],
          [
           "nu age"
          ],
          [
           "nu disco"
          ],
          [
           "nu gaze"
          ],
          [
           "nu jazz"
          ],
          [
           "nu metal"
          ],
          [
           "nu skool breaks"
          ],
          [
           "nu-cumbia"
          ],
          [
           "nu-metalcore"
          ],
          [
           "nubian traditional"
          ],
          [
           "nueva cancion"
          ],
          [
           "nueva ola chilena"
          ],
          [
           "nueva ola peruana"
          ],
          [
           "nuevo flamenco"
          ],
          [
           "nuevo folklore mexicano"
          ],
          [
           "nuevo regional mexicano"
          ],
          [
           "nuevo tango"
          ],
          [
           "nursery"
          ],
          [
           "nwobhm"
          ],
          [
           "nwothm"
          ],
          [
           "ny roots"
          ],
          [
           "nyc pop"
          ],
          [
           "nyc rap"
          ],
          [
           "nyhc"
          ],
          [
           "nz christian"
          ],
          [
           "nz folk"
          ],
          [
           "nz hardcore"
          ],
          [
           "nz indie"
          ],
          [
           "nz pop"
          ],
          [
           "nz punk"
          ],
          [
           "nz reggae"
          ],
          [
           "nz singer-songwriter"
          ],
          [
           "oakland hip hop"
          ],
          [
           "oakland indie"
          ],
          [
           "oc indie"
          ],
          [
           "oc rap"
          ],
          [
           "oceania soundtrack"
          ],
          [
           "ohio hip hop"
          ],
          [
           "ohio indie"
          ],
          [
           "oi"
          ],
          [
           "ok indie"
          ],
          [
           "okc indie"
          ],
          [
           "okinawan pop"
          ],
          [
           "oklahoma country"
          ],
          [
           "old school dancehall"
          ],
          [
           "old school hip hop"
          ],
          [
           "old school rap francais"
          ],
          [
           "old school thrash"
          ],
          [
           "old school uk hip hop"
          ],
          [
           "old west"
          ],
          [
           "old-time"
          ],
          [
           "old-time fiddle"
          ],
          [
           "olympia wa indie"
          ],
          [
           "omaha indie"
          ],
          [
           "one-person band"
          ],
          [
           "ontario indie"
          ],
          [
           "opera"
          ],
          [
           "opera chorus"
          ],
          [
           "opera metal"
          ],
          [
           "operatic pop"
          ],
          [
           "operetta"
          ],
          [
           "opm"
          ],
          [
           "oratory"
          ],
          [
           "orchestra"
          ],
          [
           "orchestral performance"
          ],
          [
           "orebro indie"
          ],
          [
           "organic ambient"
          ],
          [
           "organic electronic"
          ],
          [
           "organic house"
          ],
          [
           "orgcore"
          ],
          [
           "oriental classical"
          ],
          [
           "orkney and shetland folk"
          ],
          [
           "orlando indie"
          ],
          [
           "orquesta tipica"
          ],
          [
           "orthodox chant"
          ],
          [
           "oshare kei"
          ],
          [
           "otacore"
          ],
          [
           "oth indie"
          ],
          [
           "ottawa indie"
          ],
          [
           "ottawa rap"
          ],
          [
           "oud"
          ],
          [
           "outer hip hop"
          ],
          [
           "outlaw country"
          ],
          [
           "outsider"
          ],
          [
           "outsider house"
          ],
          [
           "oxford choir"
          ],
          [
           "oxford indie"
          ],
          [
           "p funk"
          ],
          [
           "pagan black metal"
          ],
          [
           "pagode"
          ],
          [
           "pagode baiano"
          ],
          [
           "paisley underground"
          ],
          [
           "pakistani folk"
          ],
          [
           "pakistani hip hop"
          ],
          [
           "pakistani pop"
          ],
          [
           "palestinian pop"
          ],
          [
           "palm desert scene"
          ],
          [
           "panamanian pop"
          ],
          [
           "panamanian rock"
          ],
          [
           "panpipe"
          ],
          [
           "papuri"
          ],
          [
           "parody"
          ],
          [
           "partido alto"
          ],
          [
           "partyschlager"
          ],
          [
           "pei indie"
          ],
          [
           "permanent wave"
          ],
          [
           "perreo"
          ],
          [
           "persian pop"
          ],
          [
           "persian traditional"
          ],
          [
           "perth indie"
          ],
          [
           "peruvian hip hop"
          ],
          [
           "peruvian rock"
          ],
          [
           "pet calming"
          ],
          [
           "philly indie"
          ],
          [
           "philly rap"
          ],
          [
           "philly soul"
          ],
          [
           "phoenix indie"
          ],
          [
           "phonk"
          ],
          [
           "pianissimo"
          ],
          [
           "piano blues"
          ],
          [
           "piano cover"
          ],
          [
           "piano mpb"
          ],
          [
           "piano rock"
          ],
          [
           "pibroch"
          ],
          [
           "piedmont blues"
          ],
          [
           "pinoy hip hop"
          ],
          [
           "pinoy indie"
          ],
          [
           "pinoy pop punk"
          ],
          [
           "pinoy praise"
          ],
          [
           "pinoy r&b"
          ],
          [
           "pinoy reggae"
          ],
          [
           "pinoy rock"
          ],
          [
           "pinoy traditional"
          ],
          [
           "pinoy trap"
          ],
          [
           "pirate"
          ],
          [
           "pittsburgh indie"
          ],
          [
           "pittsburgh rap"
          ],
          [
           "pittsburgh rock"
          ],
          [
           "pixie"
          ],
          [
           "plunderphonics"
          ],
          [
           "poetry"
          ],
          [
           "polca paraguaya"
          ],
          [
           "polish blues"
          ],
          [
           "polish classical"
          ],
          [
           "polish classical piano"
          ],
          [
           "polish contemporary classical"
          ],
          [
           "polish jazz"
          ],
          [
           "polish modern jazz"
          ],
          [
           "polish pop"
          ],
          [
           "polish post-rock"
          ],
          [
           "polish reggae"
          ],
          [
           "polish rock"
          ],
          [
           "political hip hop"
          ],
          [
           "polka"
          ],
          [
           "polynesian hip hop"
          ],
          [
           "polynesian pop"
          ],
          [
           "polyphony"
          ],
          [
           "pony"
          ],
          [
           "pop"
          ],
          [
           "pop argentino"
          ],
          [
           "pop chileno"
          ],
          [
           "pop dance"
          ],
          [
           "pop edm"
          ],
          [
           "pop electronico"
          ],
          [
           "pop emo"
          ],
          [
           "pop flamenco"
          ],
          [
           "pop folk"
          ],
          [
           "pop house"
          ],
          [
           "pop nacional"
          ],
          [
           "pop nacional antigas"
          ],
          [
           "pop peruano"
          ],
          [
           "pop punk"
          ],
          [
           "pop quebecois"
          ],
          [
           "pop r&b"
          ],
          [
           "pop rap"
          ],
          [
           "pop reggaeton"
          ],
          [
           "pop rock"
          ],
          [
           "pop rock brasileiro"
          ],
          [
           "pop romantico"
          ],
          [
           "pop soul"
          ],
          [
           "pop venezolano"
          ],
          [
           "pop violin"
          ],
          [
           "popgaze"
          ],
          [
           "popping"
          ],
          [
           "pops orchestra"
          ],
          [
           "popwave"
          ],
          [
           "pornogrind"
          ],
          [
           "porro"
          ],
          [
           "portland hip hop"
          ],
          [
           "portland indie"
          ],
          [
           "portland metal"
          ],
          [
           "portland punk"
          ],
          [
           "portuguese early music"
          ],
          [
           "post-disco"
          ],
          [
           "post-disco soul"
          ],
          [
           "post-doom metal"
          ],
          [
           "post-grunge"
          ],
          [
           "post-hardcore"
          ],
          [
           "post-metal"
          ],
          [
           "post-minimalism"
          ],
          [
           "post-post-hardcore"
          ],
          [
           "post-punk"
          ],
          [
           "post-punk argentina"
          ],
          [
           "post-rock"
          ],
          [
           "post-romantic era"
          ],
          [
           "post-screamo"
          ],
          [
           "post-teen pop"
          ],
          [
           "power metal"
          ],
          [
           "power pop"
          ],
          [
           "power thrash"
          ],
          [
           "power-pop punk"
          ],
          [
           "praise"
          ],
          [
           "prepared piano"
          ],
          [
           "preschool children's music"
          ],
          [
           "prog quebec"
          ],
          [
           "progressive alternative"
          ],
          [
           "progressive bluegrass"
          ],
          [
           "progressive deathcore"
          ],
          [
           "progressive electro house"
          ],
          [
           "progressive groove metal"
          ],
          [
           "progressive house"
          ],
          [
           "progressive jazz fusion"
          ],
          [
           "progressive metal"
          ],
          [
           "progressive metalcore"
          ],
          [
           "progressive post-hardcore"
          ],
          [
           "progressive power metal"
          ],
          [
           "progressive psytrance"
          ],
          [
           "progressive rock"
          ],
          [
           "progressive sludge"
          ],
          [
           "progressive trance"
          ],
          [
           "progressive trance house"
          ],
          [
           "progressive uplifting trance"
          ],
          [
           "proto-rap"
          ],
          [
           "proto-techno"
          ],
          [
           "protopunk"
          ],
          [
           "psalmen"
          ],
          [
           "psicodelia brasileira"
          ],
          [
           "psybass"
          ],
          [
           "psychedelic blues-rock"
          ],
          [
           "psychedelic doom"
          ],
          [
           "psychedelic folk"
          ],
          [
           "psychedelic folk rock"
          ],
          [
           "psychedelic hip hop"
          ],
          [
           "psychedelic pop"
          ],
          [
           "psychedelic punk"
          ],
          [
           "psychedelic rock"
          ],
          [
           "psychedelic soul"
          ],
          [
           "psychedelic trance"
          ],
          [
           "psychill"
          ],
          [
           "psychobilly"
          ],
          [
           "pub rock"
          ],
          [
           "puerto rican folk"
          ],
          [
           "puerto rican pop"
          ],
          [
           "puerto rican rock"
          ],
          [
           "punjabi folk"
          ],
          [
           "punjabi hip hop"
          ],
          [
           "punjabi pop"
          ],
          [
           "punk"
          ],
          [
           "punk 'n' roll"
          ],
          [
           "punk blues"
          ],
          [
           "punk rock italiano"
          ],
          [
           "punk rock mexicano"
          ],
          [
           "punta"
          ],
          [
           "purple sound"
          ],
          [
           "qawwali"
          ],
          [
           "quartetto d'archi"
          ],
          [
           "quatuor a cordes"
          ],
          [
           "quebec death metal"
          ],
          [
           "quebec indie"
          ],
          [
           "queens hip hop"
          ],
          [
           "queer country"
          ],
          [
           "queercore"
          ],
          [
           "quiet storm"
          ],
          [
           "quran"
          ],
          [
           "r&b"
          ],
          [
           "r&b en espanol"
          ],
          [
           "rabindra sangeet"
          ],
          [
           "radio symphony"
          ],
          [
           "ragtime"
          ],
          [
           "rai"
          ],
          [
           "ranchera"
          ],
          [
           "rap"
          ],
          [
           "rap chileno"
          ],
          [
           "rap conciencia"
          ],
          [
           "rap conscient"
          ],
          [
           "rap cristiano"
          ],
          [
           "rap dominicano"
          ],
          [
           "rap kreyol"
          ],
          [
           "rap latina"
          ],
          [
           "rap metal"
          ],
          [
           "rap nacional antigo"
          ],
          [
           "rap napoletano"
          ],
          [
           "rap rock"
          ],
          [
           "rap underground mexicano"
          ],
          [
           "rare groove"
          ],
          [
           "rave"
          ],
          [
           "rawstyle"
          ],
          [
           "reading"
          ],
          [
           "reading indie"
          ],
          [
           "rebel blues"
          ],
          [
           "rebetiko"
          ],
          [
           "recorder"
          ],
          [
           "red dirt"
          ],
          [
           "redneck"
          ],
          [
           "reggae"
          ],
          [
           "reggae en espanol"
          ],
          [
           "reggae fusion"
          ],
          [
           "reggae rock"
          ],
          [
           "reggaeton"
          ],
          [
           "reggaeton colombiano"
          ],
          [
           "reggaeton cristiano"
          ],
          [
           "reggaeton flow"
          ],
          [
           "reggaeton mexicano"
          ],
          [
           "regional mexican"
          ],
          [
           "relaxative"
          ],
          [
           "renaissance"
          ],
          [
           "rennes indie"
          ],
          [
           "retro metal"
          ],
          [
           "retro soul"
          ],
          [
           "rhode island indie"
          ],
          [
           "rhode island rap"
          ],
          [
           "rhythm and blues"
          ],
          [
           "riddim"
          ],
          [
           "rif"
          ],
          [
           "riot grrrl"
          ],
          [
           "ritmo kombina"
          ],
          [
           "rochester mn indie"
          ],
          [
           "rochester ny indie"
          ],
          [
           "rock"
          ],
          [
           "rock alternatif francais"
          ],
          [
           "rock alternativo brasileiro"
          ],
          [
           "rock andaluz"
          ],
          [
           "rock baiano"
          ],
          [
           "rock brasiliense"
          ],
          [
           "rock chapin"
          ],
          [
           "rock cristiano"
          ],
          [
           "rock drums"
          ],
          [
           "rock en espanol"
          ],
          [
           "rock gaucho"
          ],
          [
           "rock independant francais"
          ],
          [
           "rock kapak"
          ],
          [
           "rock keyboard"
          ],
          [
           "rock nacional"
          ],
          [
           "rock nacional brasileiro"
          ],
          [
           "rock pernambucano"
          ],
          [
           "rock progressif francais"
          ],
          [
           "rock steady"
          ],
          [
           "rock urbano mexicano"
          ],
          [
           "rock-and-roll"
          ],
          [
           "rockabilly"
          ],
          [
           "rockabilly en espanol"
          ],
          [
           "roda de samba"
          ],
          [
           "romanian classical piano"
          ],
          [
           "romanian electronic"
          ],
          [
           "romanian folk"
          ],
          [
           "romanian pop"
          ],
          [
           "romanian rock"
          ],
          [
           "romantico"
          ],
          [
           "roots americana"
          ],
          [
           "roots reggae"
          ],
          [
           "roots rock"
          ],
          [
           "roots worship"
          ],
          [
           "rosary"
          ],
          [
           "rumba"
          ],
          [
           "rumba congolaise"
          ],
          [
           "rune folk"
          ],
          [
           "russian alternative rock"
          ],
          [
           "russian ccm"
          ],
          [
           "russian chanson"
          ],
          [
           "russian choir"
          ],
          [
           "russian classical piano"
          ],
          [
           "russian dance"
          ],
          [
           "russian edm"
          ],
          [
           "russian folk"
          ],
          [
           "russian folk rock"
          ],
          [
           "russian jazz"
          ],
          [
           "russian metal"
          ],
          [
           "russian metalcore"
          ],
          [
           "russian modern classical"
          ],
          [
           "russian orchestra"
          ],
          [
           "russian pop"
          ],
          [
           "russian post-punk"
          ],
          [
           "russian punk"
          ],
          [
           "russian rock"
          ],
          [
           "russian romanticism"
          ],
          [
           "russian shoegaze"
          ],
          [
           "russian trance"
          ],
          [
           "rva indie"
          ],
          [
           "rwandan traditional"
          ],
          [
           "ryukyu ongaku"
          ],
          [
           "sacramento hip hop"
          ],
          [
           "sacramento indie"
          ],
          [
           "sacred steel"
          ],
          [
           "sad rap"
          ],
          [
           "salsa"
          ],
          [
           "salsa choke"
          ],
          [
           "salsa colombiana"
          ],
          [
           "salsa cubana"
          ],
          [
           "salsa international"
          ],
          [
           "salsa peruana"
          ],
          [
           "salsa puertorriquena"
          ],
          [
           "salsa venezolana"
          ],
          [
           "samba"
          ],
          [
           "samba de roda"
          ],
          [
           "samba moderno"
          ],
          [
           "samba-enredo"
          ],
          [
           "samba-jazz"
          ],
          [
           "samba-rock"
          ],
          [
           "san antonio rap"
          ],
          [
           "san diego indie"
          ],
          [
           "san diego rap"
          ],
          [
           "san marcos tx indie"
          ],
          [
           "sandalwood"
          ],
          [
           "sarod"
          ],
          [
           "saskatchewan indie"
          ],
          [
           "scam rap"
          ],
          [
           "scandinavian r&b"
          ],
          [
           "scandipop"
          ],
          [
           "schlager"
          ],
          [
           "scorecore"
          ],
          [
           "scottish electronic"
          ],
          [
           "scottish fiddle"
          ],
          [
           "scottish folk"
          ],
          [
           "scottish hip hop"
          ],
          [
           "scottish indie"
          ],
          [
           "scottish jazz"
          ],
          [
           "scottish metal"
          ],
          [
           "scottish new wave"
          ],
          [
           "scottish rock"
          ],
          [
           "scottish singer-songwriter"
          ],
          [
           "scratch"
          ],
          [
           "scream rap"
          ],
          [
           "screamo"
          ],
          [
           "seattle hip hop"
          ],
          [
           "seattle indie"
          ],
          [
           "second line"
          ],
          [
           "sefardi"
          ],
          [
           "serbian electronic"
          ],
          [
           "serialism"
          ],
          [
           "sertanejo"
          ],
          [
           "sertanejo pop"
          ],
          [
           "sertanejo tradicional"
          ],
          [
           "sertanejo universitario"
          ],
          [
           "sevdah"
          ],
          [
           "sevillanas"
          ],
          [
           "shaabi"
          ],
          [
           "shabad"
          ],
          [
           "shakuhachi"
          ],
          [
           "shamanic"
          ],
          [
           "shanty"
          ],
          [
           "sheffield indie"
          ],
          [
           "shibuya-kei"
          ],
          [
           "shimmer pop"
          ],
          [
           "shimmer psych"
          ],
          [
           "shiver pop"
          ],
          [
           "shoegaze"
          ],
          [
           "show tunes"
          ],
          [
           "shred"
          ],
          [
           "shush"
          ],
          [
           "sierreno"
          ],
          [
           "singaporean mandopop"
          ],
          [
           "singaporean pop"
          ],
          [
           "singaporean singer-songwriter"
          ],
          [
           "singer-songwriter"
          ],
          [
           "singing bowl"
          ],
          [
           "sitar"
          ],
          [
           "ska"
          ],
          [
           "ska argentino"
          ],
          [
           "ska chileno"
          ],
          [
           "ska jazz"
          ],
          [
           "ska mexicano"
          ],
          [
           "ska punk"
          ],
          [
           "ska revival"
          ],
          [
           "skate punk"
          ],
          [
           "skiffle"
          ],
          [
           "skramz"
          ],
          [
           "sky room"
          ],
          [
           "slack-key guitar"
          ],
          [
           "slam poetry"
          ],
          [
           "slamming deathcore"
          ],
          [
           "slavic folk metal"
          ],
          [
           "slayer"
          ],
          [
           "slc indie"
          ],
          [
           "sleaze rock"
          ],
          [
           "sleep"
          ],
          [
           "slovak electronic"
          ],
          [
           "slovenian electronic"
          ],
          [
           "slovenian metal"
          ],
          [
           "slow game"
          ],
          [
           "slowcore"
          ],
          [
           "sludge metal"
          ],
          [
           "small room"
          ],
          [
           "smooth jazz"
          ],
          [
           "smooth saxophone"
          ],
          [
           "smooth soul"
          ],
          [
           "soca"
          ],
          [
           "socal pop punk"
          ],
          [
           "social media pop"
          ],
          [
           "soda pop"
          ],
          [
           "soft rock"
          ],
          [
           "solipsynthm"
          ],
          [
           "son cubano"
          ],
          [
           "son cubano clasico"
          ],
          [
           "son jarocho"
          ],
          [
           "sophisti-pop"
          ],
          [
           "sotalaulut"
          ],
          [
           "soukous"
          ],
          [
           "soul"
          ],
          [
           "soul blues"
          ],
          [
           "soul flow"
          ],
          [
           "soul jazz"
          ],
          [
           "souldies"
          ],
          [
           "sound"
          ],
          [
           "sound art"
          ],
          [
           "sound effects"
          ],
          [
           "sound team"
          ],
          [
           "soundtrack"
          ],
          [
           "south african alternative"
          ],
          [
           "south african choral"
          ],
          [
           "south african country"
          ],
          [
           "south african hip hop"
          ],
          [
           "south african house"
          ],
          [
           "south african jazz"
          ],
          [
           "south african pop"
          ],
          [
           "south african pop dance"
          ],
          [
           "south african rock"
          ],
          [
           "south carolina hip hop"
          ],
          [
           "south carolina indie"
          ],
          [
           "south carolina metal"
          ],
          [
           "south dakota indie"
          ],
          [
           "southampton indie"
          ],
          [
           "southern americana"
          ],
          [
           "southern gospel"
          ],
          [
           "southern hip hop"
          ],
          [
           "southern metal"
          ],
          [
           "southern rock"
          ],
          [
           "southern soul"
          ],
          [
           "southern soul blues"
          ],
          [
           "soviet synthpop"
          ],
          [
           "sovietwave"
          ],
          [
           "spa"
          ],
          [
           "space age pop"
          ],
          [
           "space ambient"
          ],
          [
           "space rock"
          ],
          [
           "spanish baroque"
          ],
          [
           "spanish classical"
          ],
          [
           "spanish classical piano"
          ],
          [
           "spanish folk metal"
          ],
          [
           "spanish hip hop"
          ],
          [
           "spanish indie pop"
          ],
          [
           "spanish invasion"
          ],
          [
           "spanish metal"
          ],
          [
           "spanish modern rock"
          ],
          [
           "spanish new wave"
          ],
          [
           "spanish noise pop"
          ],
          [
           "spanish pop"
          ],
          [
           "spanish pop rock"
          ],
          [
           "spanish renaissance"
          ],
          [
           "spanish rock"
          ],
          [
           "spanish synthpop"
          ],
          [
           "spanish techno"
          ],
          [
           "speed garage"
          ],
          [
           "speed metal"
          ],
          [
           "speedcore"
          ],
          [
           "spiritual hip hop"
          ],
          [
           "spiritual jazz"
          ],
          [
           "spirituals"
          ],
          [
           "springfield mo indie"
          ],
          [
           "spytrack"
          ],
          [
           "st louis rap"
          ],
          [
           "steampunk"
          ],
          [
           "steel guitar"
          ],
          [
           "steelpan"
          ],
          [
           "stl indie"
          ],
          [
           "stomp and flutter"
          ],
          [
           "stomp and holler"
          ],
          [
           "stomp and whittle"
          ],
          [
           "stomp pop"
          ],
          [
           "stoner metal"
          ],
          [
           "stoner rock"
          ],
          [
           "straight edge"
          ],
          [
           "straight-ahead jazz"
          ],
          [
           "street band"
          ],
          [
           "street punk"
          ],
          [
           "streichquartett"
          ],
          [
           "stride"
          ],
          [
           "string band"
          ],
          [
           "string folk"
          ],
          [
           "string orchestra"
          ],
          [
           "string quartet"
          ],
          [
           "strut"
          ],
          [
           "substep"
          ],
          [
           "sudanese pop"
          ],
          [
           "sufi"
          ],
          [
           "sufi chant"
          ],
          [
           "sunshine pop"
          ],
          [
           "supergroup"
          ],
          [
           "surf music"
          ],
          [
           "surf punk"
          ],
          [
           "svensk progg"
          ],
          [
           "swamp blues"
          ],
          [
           "swamp pop"
          ],
          [
           "swamp rock"
          ],
          [
           "swancore"
          ],
          [
           "swedish alternative rock"
          ],
          [
           "swedish americana"
          ],
          [
           "swedish black metal"
          ],
          [
           "swedish choir"
          ],
          [
           "swedish country"
          ],
          [
           "swedish dancehall"
          ],
          [
           "swedish death metal"
          ],
          [
           "swedish doom metal"
          ],
          [
           "swedish electronic"
          ],
          [
           "swedish electropop"
          ],
          [
           "swedish eurodance"
          ],
          [
           "swedish garage rock"
          ],
          [
           "swedish hard rock"
          ],
          [
           "swedish hardcore"
          ],
          [
           "swedish heavy metal"
          ],
          [
           "swedish house"
          ],
          [
           "swedish idol pop"
          ],
          [
           "swedish indie folk"
          ],
          [
           "swedish indie pop"
          ],
          [
           "swedish indie rock"
          ],
          [
           "swedish jazz"
          ],
          [
           "swedish jazz orkester"
          ],
          [
           "swedish melodic rock"
          ],
          [
           "swedish metal"
          ],
          [
           "swedish metalcore"
          ],
          [
           "swedish pop"
          ],
          [
           "swedish post-hardcore"
          ],
          [
           "swedish power metal"
          ],
          [
           "swedish prog"
          ],
          [
           "swedish progressive metal"
          ],
          [
           "swedish rock-and-roll"
          ],
          [
           "swedish singer-songwriter"
          ],
          [
           "swedish soul"
          ],
          [
           "swedish stoner rock"
          ],
          [
           "swedish synth"
          ],
          [
           "swedish synthpop"
          ],
          [
           "swedish tropical house"
          ],
          [
           "swedish underground rap"
          ],
          [
           "swing"
          ],
          [
           "swing italiano"
          ],
          [
           "swing revival"
          ],
          [
           "swiss black metal"
          ],
          [
           "swiss classical piano"
          ],
          [
           "swiss country"
          ],
          [
           "swiss metal"
          ],
          [
           "swiss pop"
          ],
          [
           "swiss rock"
          ],
          [
           "swiss worship"
          ],
          [
           "sydney indie"
          ],
          [
           "symphonic black metal"
          ],
          [
           "symphonic metal"
          ],
          [
           "symphonic rock"
          ],
          [
           "synth funk"
          ],
          [
           "synthpop"
          ],
          [
           "synthwave"
          ],
          [
           "syrian pop"
          ],
          [
           "tabla"
          ],
          [
           "tagalog rap"
          ],
          [
           "tagalog worship"
          ],
          [
           "taiwan campus folk"
          ],
          [
           "taiwan classical performance"
          ],
          [
           "taiwan hip hop"
          ],
          [
           "taiwan indie"
          ],
          [
           "taiwan pop"
          ],
          [
           "taiwan singer-songwriter"
          ],
          [
           "tajik pop"
          ],
          [
           "talent show"
          ],
          [
           "tamaulipas indie"
          ],
          [
           "tamaulipas rap"
          ],
          [
           "tamborazo"
          ],
          [
           "tamil hip hop"
          ],
          [
           "tamil pop"
          ],
          [
           "tamil worship"
          ],
          [
           "tampa indie"
          ],
          [
           "tango"
          ],
          [
           "tango cancion"
          ],
          [
           "tape club"
          ],
          [
           "tech house"
          ],
          [
           "technical death metal"
          ],
          [
           "technical deathcore"
          ],
          [
           "technical groove metal"
          ],
          [
           "technical melodic death metal"
          ],
          [
           "technical thrash"
          ],
          [
           "techno"
          ],
          [
           "techno kayo"
          ],
          [
           "tecnobanda"
          ],
          [
           "teen pop"
          ],
          [
           "tejano"
          ],
          [
           "tempe indie"
          ],
          [
           "tennessee hip hop"
          ],
          [
           "tennessee metal"
          ],
          [
           "tex-mex"
          ],
          [
           "texas blues"
          ],
          [
           "texas country"
          ],
          [
           "texas latin rap"
          ],
          [
           "texas pop punk"
          ],
          [
           "texas punk"
          ],
          [
           "thai folk"
          ],
          [
           "thai folk rock"
          ],
          [
           "thai idol"
          ],
          [
           "thai indie rock"
          ],
          [
           "thai pop"
          ],
          [
           "thall"
          ],
          [
           "theme"
          ],
          [
           "theremin"
          ],
          [
           "thrash core"
          ],
          [
           "thrash metal"
          ],
          [
           "timba"
          ],
          [
           "tin pan alley"
          ],
          [
           "tipico"
          ],
          [
           "tolkien metal"
          ],
          [
           "tollywood"
          ],
          [
           "tone"
          ],
          [
           "torch song"
          ],
          [
           "toronto indie"
          ],
          [
           "toronto rap"
          ],
          [
           "trad jazz catala"
          ],
          [
           "traditional bluegrass"
          ],
          [
           "traditional blues"
          ],
          [
           "traditional british folk"
          ],
          [
           "traditional country"
          ],
          [
           "traditional folk"
          ],
          [
           "traditional funk"
          ],
          [
           "traditional rockabilly"
          ],
          [
           "traditional ska"
          ],
          [
           "traditional soul"
          ],
          [
           "trance"
          ],
          [
           "trance mexicano"
          ],
          [
           "trancecore"
          ],
          [
           "transpop"
          ],
          [
           "trap"
          ],
          [
           "trap argentino"
          ],
          [
           "trap chileno"
          ],
          [
           "trap dominicano"
          ],
          [
           "trap latino"
          ],
          [
           "trap mexicano"
          ],
          [
           "trap queen"
          ],
          [
           "trap soul"
          ],
          [
           "trap triste"
          ],
          [
           "trap venezolano"
          ],
          [
           "traprun"
          ],
          [
           "trash rock"
          ],
          [
           "triangle indie"
          ],
          [
           "tribal house"
          ],
          [
           "trinidadian reggae"
          ],
          [
           "trio cubano"
          ],
          [
           "trip hop"
          ],
          [
           "trival"
          ],
          [
           "tropical"
          ],
          [
           "tropical house"
          ],
          [
           "tropicalia"
          ],
          [
           "trova"
          ],
          [
           "trova mexicana"
          ],
          [
           "truck-driving country"
          ],
          [
           "tuareg guitar"
          ],
          [
           "tucson indie"
          ],
          [
           "tulsa indie"
          ],
          [
           "tuna estudiantil"
          ],
          [
           "tunisian pop"
          ],
          [
           "turbo folk"
          ],
          [
           "turkish classical"
          ],
          [
           "turkish classical performance"
          ],
          [
           "turkish edm"
          ],
          [
           "turkish experimental"
          ],
          [
           "turkish folk"
          ],
          [
           "turkish jazz"
          ],
          [
           "turkish modern jazz"
          ],
          [
           "turkish pop"
          ],
          [
           "turkish psych"
          ],
          [
           "turkish trap"
          ],
          [
           "turkish trap pop"
          ],
          [
           "turntablism"
          ],
          [
           "twee pop"
          ],
          [
           "twoubadou"
          ],
          [
           "tzadik"
          ],
          [
           "ugandan pop"
          ],
          [
           "uilleann pipes"
          ],
          [
           "uk alternative hip hop"
          ],
          [
           "uk alternative pop"
          ],
          [
           "uk americana"
          ],
          [
           "uk contemporary jazz"
          ],
          [
           "uk contemporary r&b"
          ],
          [
           "uk dance"
          ],
          [
           "uk dancehall"
          ],
          [
           "uk diy punk"
          ],
          [
           "uk dnb"
          ],
          [
           "uk doom metal"
          ],
          [
           "uk dub"
          ],
          [
           "uk experimental electronic"
          ],
          [
           "uk funky"
          ],
          [
           "uk garage"
          ],
          [
           "uk hip hop"
          ],
          [
           "uk house"
          ],
          [
           "uk metalcore"
          ],
          [
           "uk noise rock"
          ],
          [
           "uk pop"
          ],
          [
           "uk pop punk"
          ],
          [
           "uk post-hardcore"
          ],
          [
           "uk post-punk"
          ],
          [
           "uk reggae"
          ],
          [
           "uk rockabilly"
          ],
          [
           "uk stoner rock"
          ],
          [
           "uk worship"
          ],
          [
           "uk82"
          ],
          [
           "ukrainian choir"
          ],
          [
           "ukrainian classical"
          ],
          [
           "ukrainian classical piano"
          ],
          [
           "ukrainian electronic"
          ],
          [
           "ukrainian pop"
          ],
          [
           "ukulele"
          ],
          [
           "umbanda"
          ],
          [
           "underground hip hop"
          ],
          [
           "underground power pop"
          ],
          [
           "underground rap"
          ],
          [
           "university choir"
          ],
          [
           "uplifting trance"
          ],
          [
           "uptempo hardcore"
          ],
          [
           "urban contemporary"
          ],
          [
           "urbano espanol"
          ],
          [
           "us power metal"
          ],
          [
           "utah indie"
          ],
          [
           "uzbek pop"
          ],
          [
           "uzbek traditional"
          ],
          [
           "v-pop"
          ],
          [
           "vallenato"
          ],
          [
           "vallenato moderno"
          ],
          [
           "vancouver indie"
          ],
          [
           "vancouver metal"
          ],
          [
           "vancouver punk"
          ],
          [
           "vapor pop"
          ],
          [
           "vapor soul"
          ],
          [
           "vapor trap"
          ],
          [
           "vapor twitch"
          ],
          [
           "vaporwave"
          ],
          [
           "variete francaise"
          ],
          [
           "vaudeville"
          ],
          [
           "vbs"
          ],
          [
           "veena"
          ],
          [
           "vegan straight edge"
          ],
          [
           "vegas indie"
          ],
          [
           "velha guarda"
          ],
          [
           "venezuelan hip hop"
          ],
          [
           "venezuelan indie"
          ],
          [
           "venezuelan rock"
          ],
          [
           "veracruz indie"
          ],
          [
           "vermont indie"
          ],
          [
           "vgm instrumental"
          ],
          [
           "vgm remix"
          ],
          [
           "victoria bc indie"
          ],
          [
           "victorian britain"
          ],
          [
           "video game music"
          ],
          [
           "vienna indie"
          ],
          [
           "vietnamese bolero"
          ],
          [
           "vietnamese pop"
          ],
          [
           "viking black metal"
          ],
          [
           "viking folk"
          ],
          [
           "viking metal"
          ],
          [
           "villancicos"
          ],
          [
           "vintage chanson"
          ],
          [
           "vintage chinese pop"
          ],
          [
           "vintage classical singing"
          ],
          [
           "vintage country folk"
          ],
          [
           "vintage dutch pop"
          ],
          [
           "vintage french electronic"
          ],
          [
           "vintage gospel"
          ],
          [
           "vintage hollywood"
          ],
          [
           "vintage italian pop"
          ],
          [
           "vintage italian soundtrack"
          ],
          [
           "vintage jazz"
          ],
          [
           "vintage old-time"
          ],
          [
           "vintage rockabilly"
          ],
          [
           "vintage schlager"
          ],
          [
           "vintage spanish pop"
          ],
          [
           "vintage swedish pop"
          ],
          [
           "vintage swing"
          ],
          [
           "vintage tango"
          ],
          [
           "viola"
          ],
          [
           "violao"
          ],
          [
           "violao classico"
          ],
          [
           "violin"
          ],
          [
           "viral pop"
          ],
          [
           "viral rap"
          ],
          [
           "viral trap"
          ],
          [
           "virgin islands reggae"
          ],
          [
           "virginia hip hop"
          ],
          [
           "virginia metal"
          ],
          [
           "virginia punk"
          ],
          [
           "visor"
          ],
          [
           "visual kei"
          ],
          [
           "vocal ensemble"
          ],
          [
           "vocal harmony group"
          ],
          [
           "vocal house"
          ],
          [
           "vocal jazz"
          ],
          [
           "vocal trance"
          ],
          [
           "vocaloid"
          ],
          [
           "vogue"
          ],
          [
           "volksmusik"
          ],
          [
           "warm drone"
          ],
          [
           "washboard"
          ],
          [
           "washington indie"
          ],
          [
           "wassoulou"
          ],
          [
           "water"
          ],
          [
           "wave"
          ],
          [
           "welsh folk"
          ],
          [
           "welsh indie"
          ],
          [
           "welsh metal"
          ],
          [
           "welsh rock"
          ],
          [
           "west african jazz"
          ],
          [
           "west australian hip hop"
          ],
          [
           "west coast rap"
          ],
          [
           "west coast reggae"
          ],
          [
           "west coast trap"
          ],
          [
           "west end"
          ],
          [
           "west virginia indie"
          ],
          [
           "western americana"
          ],
          [
           "western mass indie"
          ],
          [
           "western saharan folk"
          ],
          [
           "western swing"
          ],
          [
           "white noise"
          ],
          [
           "wind ensemble"
          ],
          [
           "wind quintet"
          ],
          [
           "wisconsin indie"
          ],
          [
           "witch house"
          ],
          [
           "women's choir"
          ],
          [
           "women's music"
          ],
          [
           "wonky"
          ],
          [
           "worcester ma indie"
          ],
          [
           "world"
          ],
          [
           "world fusion"
          ],
          [
           "world meditation"
          ],
          [
           "world worship"
          ],
          [
           "worship"
          ],
          [
           "wrestling"
          ],
          [
           "wu fam"
          ],
          [
           "wyoming indie"
          ],
          [
           "wyoming roots"
          ],
          [
           "xhosa"
          ],
          [
           "xtra raw"
          ],
          [
           "yacht rock"
          ],
          [
           "ye ye"
          ],
          [
           "yiddish folk"
          ],
          [
           "yodeling"
          ],
          [
           "yoga"
          ],
          [
           "yoik"
          ],
          [
           "york indie"
          ],
          [
           "yorkshire folk"
          ],
          [
           "yugoslav new wave"
          ],
          [
           "yugoslav rock"
          ],
          [
           "zambian pop"
          ],
          [
           "zeuhl"
          ],
          [
           "zhongguo feng"
          ],
          [
           "zimdancehall"
          ],
          [
           "zolo"
          ],
          [
           "zouglou"
          ],
          [
           "zouk"
          ],
          [
           "zurich indie"
          ],
          [
           "zydeco"
          ]
         ],
         "hovertemplate": "x=%{x}<br>y=%{y}<br>genres=%{customdata[0]}<br>cluster=%{marker.color}<extra></extra>",
         "legendgroup": "",
         "marker": {
          "color": [
           0,
           8,
           4,
           2,
           6,
           0,
           4,
           1,
           3,
           2,
           3,
           1,
           4,
           0,
           2,
           6,
           4,
           6,
           3,
           7,
           6,
           6,
           4,
           2,
           3,
           4,
           4,
           0,
           3,
           4,
           4,
           3,
           1,
           1,
           4,
           3,
           4,
           3,
           1,
           4,
           7,
           1,
           4,
           3,
           2,
           1,
           3,
           4,
           4,
           7,
           1,
           6,
           6,
           1,
           7,
           1,
           1,
           7,
           4,
           4,
           7,
           4,
           3,
           0,
           7,
           6,
           3,
           7,
           1,
           0,
           3,
           6,
           0,
           0,
           0,
           0,
           0,
           2,
           7,
           2,
           3,
           0,
           0,
           0,
           0,
           7,
           3,
           7,
           0,
           2,
           1,
           1,
           7,
           6,
           6,
           7,
           7,
           6,
           2,
           1,
           2,
           2,
           3,
           3,
           6,
           9,
           0,
           3,
           4,
           7,
           1,
           6,
           1,
           4,
           4,
           4,
           4,
           7,
           4,
           3,
           6,
           0,
           6,
           4,
           6,
           0,
           1,
           1,
           1,
           0,
           4,
           1,
           1,
           4,
           1,
           4,
           0,
           7,
           1,
           9,
           3,
           9,
           1,
           6,
           3,
           4,
           4,
           4,
           6,
           1,
           0,
           4,
           0,
           0,
           0,
           1,
           3,
           3,
           4,
           4,
           1,
           4,
           6,
           1,
           1,
           7,
           7,
           1,
           4,
           6,
           1,
           6,
           3,
           4,
           4,
           7,
           4,
           1,
           1,
           0,
           0,
           0,
           3,
           2,
           3,
           9,
           7,
           0,
           0,
           7,
           4,
           6,
           3,
           4,
           4,
           4,
           0,
           0,
           2,
           6,
           2,
           3,
           2,
           6,
           2,
           1,
           6,
           0,
           0,
           2,
           0,
           4,
           7,
           4,
           4,
           1,
           2,
           2,
           2,
           2,
           2,
           0,
           4,
           2,
           6,
           9,
           0,
           0,
           0,
           0,
           6,
           0,
           0,
           3,
           1,
           6,
           7,
           1,
           3,
           1,
           4,
           1,
           1,
           3,
           7,
           4,
           3,
           6,
           1,
           5,
           4,
           4,
           2,
           4,
           4,
           1,
           7,
           7,
           0,
           0,
           3,
           3,
           1,
           4,
           3,
           2,
           7,
           3,
           3,
           3,
           3,
           4,
           2,
           4,
           4,
           1,
           0,
           2,
           1,
           0,
           2,
           4,
           3,
           0,
           9,
           3,
           4,
           7,
           3,
           7,
           5,
           7,
           7,
           7,
           7,
           0,
           3,
           6,
           2,
           4,
           2,
           7,
           7,
           4,
           1,
           6,
           2,
           1,
           3,
           2,
           3,
           3,
           6,
           3,
           6,
           7,
           4,
           4,
           7,
           7,
           1,
           4,
           7,
           2,
           6,
           1,
           1,
           0,
           0,
           0,
           6,
           0,
           0,
           4,
           0,
           0,
           0,
           4,
           7,
           4,
           4,
           6,
           7,
           6,
           2,
           1,
           4,
           4,
           7,
           3,
           7,
           7,
           4,
           6,
           0,
           4,
           6,
           1,
           3,
           7,
           4,
           4,
           7,
           4,
           4,
           0,
           0,
           4,
           0,
           2,
           7,
           1,
           6,
           7,
           1,
           1,
           4,
           6,
           0,
           0,
           6,
           7,
           6,
           4,
           0,
           7,
           6,
           4,
           1,
           1,
           4,
           1,
           7,
           4,
           7,
           6,
           4,
           4,
           3,
           3,
           7,
           8,
           2,
           6,
           6,
           7,
           2,
           4,
           3,
           1,
           0,
           2,
           1,
           0,
           3,
           4,
           6,
           4,
           1,
           4,
           2,
           0,
           0,
           0,
           6,
           4,
           6,
           6,
           1,
           3,
           0,
           6,
           7,
           1,
           9,
           4,
           6,
           6,
           3,
           4,
           7,
           7,
           3,
           1,
           7,
           7,
           0,
           6,
           7,
           7,
           3,
           6,
           0,
           6,
           7,
           4,
           6,
           7,
           6,
           6,
           6,
           2,
           2,
           7,
           6,
           4,
           1,
           2,
           2,
           2,
           4,
           0,
           0,
           0,
           7,
           1,
           0,
           6,
           0,
           3,
           4,
           4,
           2,
           0,
           6,
           0,
           0,
           6,
           0,
           6,
           6,
           4,
           4,
           6,
           6,
           3,
           7,
           2,
           3,
           1,
           7,
           6,
           2,
           1,
           3,
           3,
           1,
           7,
           7,
           1,
           4,
           7,
           1,
           3,
           4,
           6,
           1,
           1,
           5,
           4,
           3,
           3,
           1,
           7,
           0,
           2,
           7,
           4,
           4,
           4,
           7,
           4,
           6,
           0,
           0,
           0,
           3,
           6,
           3,
           6,
           7,
           0,
           6,
           6,
           0,
           0,
           0,
           4,
           0,
           2,
           6,
           2,
           6,
           7,
           3,
           7,
           1,
           1,
           1,
           7,
           7,
           1,
           1,
           7,
           1,
           0,
           7,
           1,
           6,
           0,
           6,
           4,
           4,
           1,
           1,
           4,
           3,
           1,
           2,
           6,
           4,
           3,
           2,
           1,
           6,
           3,
           6,
           2,
           2,
           7,
           2,
           3,
           3,
           4,
           4,
           3,
           3,
           9,
           7,
           3,
           6,
           2,
           6,
           4,
           6,
           6,
           2,
           6,
           4,
           6,
           2,
           3,
           4,
           3,
           6,
           7,
           4,
           4,
           3,
           7,
           6,
           4,
           0,
           1,
           7,
           1,
           3,
           4,
           4,
           0,
           6,
           0,
           0,
           0,
           0,
           0,
           0,
           0,
           0,
           0,
           0,
           0,
           6,
           0,
           0,
           0,
           0,
           0,
           0,
           0,
           6,
           0,
           0,
           0,
           6,
           2,
           5,
           7,
           4,
           4,
           3,
           1,
           4,
           4,
           4,
           5,
           4,
           1,
           4,
           1,
           2,
           7,
           0,
           3,
           9,
           7,
           7,
           1,
           0,
           0,
           0,
           4,
           6,
           1,
           0,
           2,
           6,
           0,
           2,
           2,
           2,
           7,
           4,
           4,
           3,
           7,
           6,
           0,
           4,
           2,
           2,
           4,
           2,
           4,
           4,
           4,
           4,
           2,
           6,
           4,
           7,
           2,
           4,
           4,
           7,
           1,
           7,
           4,
           4,
           3,
           2,
           4,
           4,
           4,
           4,
           4,
           3,
           3,
           4,
           4,
           6,
           4,
           2,
           4,
           3,
           4,
           4,
           7,
           1,
           2,
           0,
           0,
           2,
           7,
           2,
           3,
           1,
           4,
           4,
           7,
           1,
           7,
           7,
           0,
           7,
           0,
           3,
           0,
           7,
           3,
           9,
           7,
           4,
           1,
           7,
           2,
           7,
           2,
           4,
           7,
           1,
           3,
           7,
           0,
           7,
           7,
           7,
           1,
           1,
           7,
           7,
           7,
           3,
           7,
           7,
           7,
           4,
           7,
           7,
           7,
           3,
           7,
           2,
           3,
           7,
           6,
           1,
           5,
           4,
           1,
           2,
           3,
           1,
           7,
           3,
           4,
           1,
           6,
           4,
           7,
           4,
           3,
           7,
           4,
           4,
           0,
           2,
           7,
           6,
           3,
           7,
           1,
           2,
           6,
           1,
           4,
           2,
           7,
           9,
           7,
           1,
           7,
           4,
           4,
           3,
           4,
           3,
           0,
           4,
           4,
           3,
           4,
           3,
           3,
           3,
           1,
           3,
           2,
           1,
           4,
           1,
           1,
           1,
           3,
           6,
           3,
           4,
           7,
           1,
           1,
           9,
           3,
           2,
           3,
           6,
           1,
           2,
           3,
           0,
           1,
           1,
           4,
           3,
           6,
           4,
           2,
           7,
           7,
           3,
           4,
           1,
           6,
           7,
           7,
           6,
           2,
           6,
           7,
           7,
           7,
           0,
           1,
           4,
           0,
           0,
           7,
           7,
           4,
           9,
           3,
           0,
           7,
           1,
           0,
           4,
           6,
           1,
           7,
           4,
           1,
           7,
           5,
           0,
           7,
           7,
           4,
           2,
           4,
           1,
           6,
           9,
           7,
           3,
           3,
           3,
           4,
           3,
           4,
           2,
           5,
           0,
           0,
           0,
           0,
           4,
           0,
           1,
           7,
           1,
           4,
           1,
           2,
           7,
           6,
           7,
           0,
           6,
           4,
           7,
           1,
           3,
           2,
           3,
           4,
           6,
           4,
           4,
           7,
           4,
           4,
           4,
           7,
           6,
           7,
           4,
           7,
           3,
           1,
           4,
           3,
           4,
           7,
           7,
           7,
           7,
           1,
           7,
           0,
           3,
           0,
           3,
           2,
           9,
           7,
           3,
           2,
           1,
           0,
           7,
           6,
           7,
           6,
           3,
           6,
           0,
           2,
           9,
           1,
           3,
           1,
           3,
           4,
           4,
           3,
           2,
           6,
           0,
           0,
           3,
           9,
           0,
           4,
           3,
           7,
           6,
           6,
           6,
           6,
           2,
           6,
           6,
           7,
           3,
           2,
           1,
           1,
           1,
           0,
           3,
           0,
           0,
           7,
           3,
           1,
           1,
           7,
           3,
           1,
           4,
           3,
           0,
           1,
           4,
           7,
           4,
           0,
           6,
           0,
           4,
           1,
           3,
           1,
           2,
           3,
           2,
           2,
           1,
           6,
           7,
           1,
           6,
           6,
           1,
           6,
           3,
           2,
           2,
           4,
           4,
           4,
           0,
           6,
           1,
           4,
           4,
           7,
           0,
           4,
           6,
           4,
           4,
           0,
           2,
           4,
           0,
           0,
           6,
           7,
           7,
           1,
           6,
           4,
           1,
           2,
           7,
           3,
           0,
           0,
           6,
           3,
           7,
           4,
           4,
           0,
           7,
           2,
           4,
           3,
           7,
           7,
           3,
           1,
           4,
           2,
           3,
           3,
           7,
           1,
           3,
           1,
           3,
           4,
           3,
           4,
           1,
           4,
           3,
           4,
           7,
           4,
           1,
           7,
           1,
           7,
           1,
           4,
           2,
           0,
           7,
           3,
           1,
           4,
           7,
           7,
           7,
           7,
           7,
           4,
           3,
           7,
           6,
           4,
           1,
           7,
           0,
           0,
           0,
           6,
           3,
           3,
           7,
           3,
           1,
           0,
           5,
           3,
           7,
           0,
           0,
           4,
           1,
           4,
           7,
           4,
           0,
           1,
           0,
           0,
           0,
           4,
           7,
           4,
           1,
           3,
           5,
           2,
           3,
           4,
           7,
           7,
           4,
           4,
           7,
           7,
           1,
           4,
           3,
           7,
           1,
           2,
           2,
           5,
           1,
           9,
           2,
           4,
           7,
           1,
           7,
           3,
           4,
           3,
           3,
           3,
           7,
           3,
           4,
           1,
           7,
           2,
           0,
           2,
           2,
           9,
           2,
           3,
           2,
           0,
           4,
           7,
           3,
           7,
           4,
           7,
           7,
           4,
           4,
           3,
           3,
           4,
           6,
           5,
           3,
           2,
           0,
           2,
           9,
           6,
           0,
           1,
           2,
           2,
           4,
           2,
           7,
           2,
           3,
           0,
           1,
           4,
           0,
           7,
           7,
           2,
           7,
           7,
           4,
           7,
           1,
           7,
           7,
           7,
           4,
           2,
           2,
           2,
           0,
           0,
           2,
           0,
           2,
           1,
           1,
           0,
           4,
           4,
           4,
           4,
           3,
           2,
           0,
           2,
           1,
           1,
           4,
           1,
           3,
           8,
           0,
           0,
           0,
           0,
           0,
           0,
           5,
           9,
           6,
           3,
           6,
           6,
           2,
           2,
           4,
           7,
           6,
           3,
           4,
           1,
           4,
           4,
           2,
           3,
           0,
           0,
           0,
           0,
           3,
           5,
           2,
           2,
           3,
           6,
           4,
           1,
           0,
           3,
           0,
           6,
           6,
           1,
           6,
           6,
           6,
           6,
           7,
           2,
           2,
           0,
           2,
           3,
           1,
           0,
           4,
           2,
           3,
           1,
           6,
           1,
           3,
           6,
           0,
           4,
           6,
           4,
           1,
           4,
           6,
           4,
           1,
           4,
           6,
           1,
           6,
           4,
           4,
           7,
           4,
           7,
           1,
           4,
           1,
           6,
           6,
           4,
           1,
           7,
           3,
           4,
           0,
           1,
           3,
           4,
           1,
           1,
           6,
           6,
           2,
           1,
           3,
           7,
           0,
           7,
           7,
           6,
           7,
           7,
           1,
           5,
           1,
           2,
           9,
           2,
           6,
           6,
           2,
           6,
           4,
           0,
           3,
           4,
           2,
           1,
           6,
           3,
           2,
           6,
           2,
           0,
           2,
           4,
           7,
           1,
           6,
           6,
           1,
           6,
           2,
           0,
           0,
           2,
           1,
           0,
           0,
           6,
           3,
           3,
           3,
           1,
           0,
           3,
           0,
           3,
           0,
           7,
           0,
           0,
           6,
           3,
           2,
           7,
           0,
           2,
           0,
           0,
           1,
           2,
           6,
           4,
           3,
           9,
           0,
           4,
           7,
           1,
           7,
           7,
           7,
           4,
           1,
           7,
           3,
           7,
           7,
           4,
           4,
           3,
           7,
           4,
           4,
           4,
           0,
           0,
           0,
           0,
           4,
           0,
           4,
           7,
           6,
           1,
           9,
           7,
           3,
           0,
           6,
           7,
           6,
           6,
           4,
           7,
           7,
           3,
           9,
           7,
           7,
           7,
           7,
           1,
           1,
           3,
           9,
           7,
           3,
           0,
           6,
           1,
           4,
           2,
           2,
           2,
           4,
           2,
           2,
           2,
           3,
           2,
           0,
           2,
           6,
           6,
           6,
           0,
           2,
           7,
           0,
           6,
           6,
           2,
           6,
           2,
           4,
           7,
           2,
           0,
           2,
           2,
           2,
           2,
           2,
           2,
           4,
           0,
           3,
           2,
           3,
           4,
           4,
           2,
           3,
           2,
           7,
           1,
           4,
           3,
           3,
           1,
           2,
           6,
           4,
           2,
           1,
           2,
           1,
           7,
           6,
           7,
           6,
           4,
           6,
           3,
           2,
           3,
           4,
           2,
           9,
           1,
           4,
           1,
           4,
           0,
           4,
           1,
           5,
           2,
           1,
           0,
           2,
           0,
           3,
           0,
           0,
           0,
           3,
           1,
           4,
           1,
           1,
           0,
           0,
           1,
           4,
           4,
           0,
           3,
           3,
           3,
           6,
           0,
           4,
           4,
           4,
           0,
           1,
           6,
           2,
           4,
           1,
           4,
           4,
           7,
           1,
           4,
           4,
           0,
           4,
           9,
           1,
           7,
           4,
           5,
           4,
           1,
           2,
           0,
           6,
           3,
           7,
           7,
           4,
           2,
           6,
           0,
           6,
           7,
           1,
           6,
           4,
           6,
           1,
           6,
           6,
           4,
           6,
           6,
           6,
           6,
           6,
           3,
           4,
           4,
           7,
           1,
           7,
           2,
           6,
           4,
           0,
           6,
           0,
           2,
           4,
           0,
           5,
           9,
           6,
           6,
           4,
           6,
           3,
           6,
           0,
           7,
           2,
           4,
           7,
           6,
           6,
           6,
           4,
           6,
           6,
           2,
           1,
           2,
           2,
           1,
           6,
           4,
           3,
           4,
           6,
           7,
           3,
           0,
           6,
           7,
           0,
           6,
           1,
           4,
           1,
           4,
           7,
           7,
           7,
           7,
           7,
           7,
           3,
           7,
           7,
           1,
           7,
           1,
           6,
           2,
           3,
           3,
           1,
           2,
           4,
           4,
           4,
           6,
           7,
           7,
           7,
           7,
           1,
           4,
           0,
           4,
           1,
           4,
           7,
           4,
           6,
           9,
           4,
           4,
           1,
           4,
           3,
           1,
           6,
           8,
           0,
           9,
           9,
           3,
           7,
           2,
           4,
           6,
           9,
           6,
           3,
           4,
           6,
           7,
           0,
           4,
           7,
           7,
           4,
           4,
           1,
           4,
           0,
           7,
           3,
           1,
           4,
           4,
           4,
           4,
           4,
           1,
           4,
           1,
           4,
           1,
           0,
           0,
           4,
           0,
           7,
           3,
           3,
           4,
           3,
           7,
           4,
           0,
           7,
           7,
           9,
           1,
           2,
           9,
           9,
           3,
           4,
           0,
           1,
           6,
           5,
           1,
           2,
           6,
           6,
           6,
           2,
           3,
           4,
           3,
           1,
           0,
           3,
           4,
           4,
           6,
           1,
           6,
           0,
           2,
           1,
           4,
           4,
           4,
           4,
           3,
           1,
           6,
           9,
           2,
           4,
           3,
           1,
           4,
           2,
           3,
           2,
           9,
           6,
           2,
           3,
           3,
           4,
           8,
           6,
           2,
           2,
           9,
           9,
           3,
           6,
           4,
           7,
           6,
           6,
           0,
           4,
           0,
           4,
           0,
           2,
           7,
           4,
           7,
           2,
           1,
           3,
           4,
           0,
           3,
           6,
           6,
           7,
           4,
           6,
           4,
           7,
           6,
           9,
           6,
           0,
           3,
           1,
           3,
           2,
           2,
           1,
           1,
           3,
           4,
           7,
           0,
           0,
           6,
           3,
           5,
           6,
           1,
           1,
           0,
           4,
           7,
           7,
           7,
           4,
           4,
           2,
           4,
           4,
           2,
           4,
           4,
           4,
           0,
           4,
           7,
           4,
           6,
           7,
           4,
           0,
           7,
           7,
           3,
           4,
           7,
           3,
           1,
           3,
           2,
           4,
           4,
           7,
           7,
           7,
           0,
           9,
           3,
           3,
           0,
           1,
           0,
           2,
           7,
           4,
           4,
           7,
           4,
           6,
           7,
           6,
           7,
           1,
           7,
           1,
           7,
           0,
           0,
           0,
           7,
           0,
           3,
           4,
           0,
           7,
           3,
           3,
           7,
           7,
           3,
           9,
           3,
           4,
           6,
           6,
           4,
           4,
           0,
           1,
           7,
           4,
           1,
           7,
           1,
           7,
           2,
           6,
           6,
           4,
           6,
           2,
           4,
           2,
           6,
           7,
           7,
           1,
           4,
           1,
           7,
           0,
           6,
           7,
           6,
           1,
           7,
           1,
           6,
           4,
           4,
           7,
           4,
           0,
           1,
           6,
           7,
           3,
           3,
           4,
           6,
           4,
           4,
           1,
           7,
           4,
           3,
           2,
           2,
           1,
           7,
           4,
           4,
           0,
           2,
           7,
           6,
           2,
           6,
           8,
           0,
           0,
           7,
           0,
           9,
           9,
           7,
           2,
           2,
           3,
           2,
           0,
           7,
           1,
           4,
           3,
           1,
           2,
           3,
           6,
           6,
           0,
           0,
           7,
           4,
           7,
           4,
           3,
           7,
           2,
           3,
           2,
           9,
           1,
           4,
           4,
           0,
           6,
           4,
           1,
           1,
           6,
           4,
           1,
           6,
           3,
           3,
           4,
           4,
           9,
           7,
           4,
           1,
           4,
           1,
           4,
           2,
           0,
           3,
           4,
           0,
           2,
           4,
           7,
           1,
           7,
           2,
           6,
           6,
           3,
           4,
           4,
           4,
           1,
           1,
           7,
           7,
           5,
           0,
           3,
           0,
           0,
           0,
           9,
           0,
           3,
           7,
           6,
           3,
           1,
           2,
           3,
           4,
           0,
           3,
           1,
           4,
           6,
           4,
           7,
           3,
           7,
           1,
           6,
           3,
           3,
           6,
           4,
           1,
           1,
           4,
           1,
           4,
           4,
           4,
           6,
           1,
           1,
           6,
           4,
           4,
           0,
           7,
           6,
           3,
           4,
           4,
           7,
           6,
           0,
           4,
           4,
           7,
           7,
           7,
           7,
           0,
           7,
           4,
           4,
           0,
           0,
           7,
           4,
           7,
           1,
           7,
           7,
           1,
           0,
           4,
           6,
           1,
           6,
           7,
           7,
           7,
           3,
           7,
           7,
           1,
           7,
           7,
           7,
           6,
           7,
           3,
           7,
           7,
           3,
           1,
           4,
           2,
           6,
           9,
           7,
           7,
           6,
           6,
           1,
           4,
           7,
           1,
           1,
           9,
           4,
           7,
           4,
           1,
           4,
           9,
           2,
           3,
           3,
           7,
           7,
           7,
           7,
           7,
           1,
           4,
           6,
           2,
           0,
           7,
           6,
           1,
           4,
           4,
           4,
           2,
           1,
           4,
           2,
           0,
           2,
           6,
           6,
           1,
           4,
           1,
           4,
           1,
           4,
           1,
           1,
           7,
           3,
           2,
           1,
           4,
           4,
           7,
           7,
           5,
           7,
           3,
           2,
           6,
           4,
           4,
           4,
           1,
           1,
           4,
           1,
           4,
           7,
           3,
           1,
           4,
           6,
           0,
           4,
           1,
           4,
           6,
           3,
           2,
           1,
           3,
           7,
           3,
           4,
           3,
           7,
           3,
           4,
           4,
           4,
           4,
           6,
           7,
           4,
           4,
           4,
           7,
           3,
           7,
           4,
           4,
           4,
           3,
           4,
           1,
           4,
           4,
           2,
           4,
           0,
           3,
           0,
           1,
           2,
           6,
           4,
           4,
           4,
           6,
           6,
           3,
           1,
           6,
           3,
           7,
           3,
           0,
           0,
           9,
           1,
           3,
           3,
           3,
           1,
           1,
           0,
           0,
           3,
           1,
           6,
           3,
           0,
           7,
           3,
           1,
           0,
           2,
           4,
           7,
           1,
           4,
           4,
           1,
           1,
           1,
           4,
           4,
           4,
           4,
           6,
           2,
           4,
           9,
           6,
           3,
           4,
           7,
           4,
           4,
           2,
           0,
           6,
           4,
           3,
           4,
           6,
           0,
           4,
           0,
           6,
           4,
           7,
           6,
           7,
           4,
           4,
           4,
           1,
           1,
           7,
           4,
           1,
           4,
           3,
           3,
           0,
           4,
           2,
           2,
           4,
           3,
           3,
           1,
           2,
           0,
           0,
           2,
           7,
           1,
           4,
           3,
           3,
           7,
           6,
           7,
           0,
           4,
           6,
           6,
           7,
           6,
           0,
           0,
           4,
           4,
           4,
           3,
           3,
           7,
           4,
           7,
           6,
           2,
           7,
           6,
           1,
           7,
           7,
           7,
           6,
           7,
           0,
           3,
           4,
           7,
           1,
           6,
           7,
           6,
           6,
           3,
           4,
           4,
           1,
           4,
           2,
           4,
           4,
           4,
           2,
           4,
           4,
           3,
           1,
           1,
           6,
           3,
           2,
           6,
           0,
           0,
           9,
           1,
           0,
           4,
           2,
           1,
           4,
           1,
           6,
           1,
           3,
           7,
           3,
           6,
           3,
           1,
           7,
           4,
           6,
           1,
           7,
           4,
           4,
           4,
           3,
           1,
           9,
           2,
           0,
           7,
           0,
           2,
           0,
           3,
           4,
           6,
           1,
           3,
           3,
           4,
           3,
           1,
           4,
           0,
           4,
           4,
           1,
           9,
           7,
           3,
           3,
           6,
           2,
           3,
           2,
           4,
           7,
           2,
           3,
           4,
           6,
           6,
           3,
           4,
           7,
           7,
           7,
           0,
           1,
           7,
           0,
           2,
           2,
           0,
           0,
           0,
           4,
           3,
           3,
           1,
           2,
           6,
           7,
           4,
           7,
           7,
           4,
           1,
           4,
           7,
           1,
           6,
           7,
           0,
           4,
           4,
           7,
           7,
           3,
           4,
           3,
           7,
           7,
           4,
           6,
           3,
           1,
           6,
           4,
           1,
           0,
           2,
           7,
           7,
           7,
           1,
           4,
           3,
           7,
           7,
           1,
           6,
           6,
           6,
           6,
           4,
           6,
           3,
           2,
           2,
           3,
           7,
           0,
           0,
           7,
           4,
           7,
           0,
           6,
           3,
           3,
           6,
           4,
           4,
           4,
           2,
           2,
           4,
           9,
           6,
           0,
           6,
           6,
           6,
           6,
           2,
           4,
           4,
           4,
           1,
           2,
           2,
           2,
           7,
           2,
           2,
           7,
           1,
           7,
           4,
           7,
           7,
           7,
           1,
           1,
           4,
           1,
           4,
           4,
           4,
           7,
           4,
           1,
           4,
           4,
           4,
           4,
           4,
           4,
           2,
           2,
           4,
           7,
           2,
           0,
           7,
           7,
           4,
           2,
           3,
           7,
           2,
           0,
           2,
           6,
           3,
           2,
           2,
           2,
           6,
           2,
           6,
           6,
           4,
           1,
           4,
           3,
           9,
           7,
           4,
           1,
           4,
           1,
           4,
           1,
           4,
           1,
           1,
           4,
           1,
           3,
           7,
           7,
           1,
           2,
           2,
           1,
           4,
           4,
           4,
           1,
           6,
           6,
           2,
           6,
           4,
           9,
           4,
           1,
           3,
           2,
           0,
           3,
           3,
           2,
           2,
           0,
           3,
           6,
           9,
           3,
           1,
           4,
           3,
           0,
           1,
           2,
           4,
           1,
           6,
           6,
           1,
           1,
           3,
           9,
           7,
           7,
           3,
           1,
           4,
           3,
           4,
           4,
           3,
           3,
           4,
           7,
           1,
           7,
           4,
           7,
           7,
           6,
           7,
           0,
           0,
           0,
           7,
           1,
           6,
           4,
           1,
           1,
           4,
           0,
           3,
           3,
           1,
           1,
           7,
           6,
           2,
           2,
           3,
           4,
           1,
           6,
           7,
           4,
           6,
           4,
           1,
           1,
           3,
           6,
           2,
           4,
           2,
           7,
           7,
           2,
           4,
           4,
           4,
           1,
           6,
           0,
           7,
           6,
           0,
           6,
           3,
           3,
           3,
           7,
           3,
           7,
           4,
           2,
           6,
           2,
           2,
           5,
           7,
           2,
           2,
           2,
           0,
           2,
           2,
           3,
           2,
           2,
           2,
           2,
           2,
           0,
           3,
           2,
           0,
           6,
           1,
           1,
           1,
           4,
           7,
           7,
           0,
           7,
           0,
           2,
           4,
           2,
           3,
           3,
           1,
           2,
           0,
           2,
           4,
           4,
           9,
           3,
           0,
           1,
           1,
           1,
           3,
           9,
           1,
           3,
           1,
           6,
           3,
           6,
           4,
           6,
           2,
           0,
           0,
           0,
           6,
           4,
           7,
           6,
           6,
           7,
           6,
           6,
           0,
           6,
           6,
           7,
           1,
           7,
           4,
           2,
           7,
           4,
           6,
           0,
           2,
           0,
           0,
           6,
           6,
           4,
           4,
           3,
           7,
           7,
           3,
           4,
           3,
           4,
           2,
           4
          ],
          "coloraxis": "coloraxis",
          "symbol": "circle"
         },
         "mode": "markers",
         "name": "",
         "showlegend": false,
         "type": "scattergl",
         "x": [
          5.8841328620910645,
          -3.516376495361328,
          -4.427315711975098,
          39.02825164794922,
          -60.59397506713867,
          8.389310836791992,
          -2.838831663131714,
          37.1961784362793,
          -18.804763793945312,
          46.009883880615234,
          -18.44835090637207,
          24.965452194213867,
          -5.222312927246094,
          12.493179321289062,
          45.94391632080078,
          -58.687652587890625,
          -29.204883575439453,
          -54.19282150268555,
          -14.256016731262207,
          42.29024887084961,
          -72.18309783935547,
          -63.229820251464844,
          -13.323481559753418,
          35.525596618652344,
          -9.594714164733887,
          -10.435652732849121,
          -20.851909637451172,
          10.910429000854492,
          -23.54558753967285,
          -14.274065971374512,
          -18.529666900634766,
          -28.141008377075195,
          20.408903121948242,
          19.24681282043457,
          -7.033088684082031,
          -13.78773307800293,
          -20.09908103942871,
          -26.53302764892578,
          23.533397674560547,
          -18.31694221496582,
          36.079830169677734,
          36.020442962646484,
          -10.684144973754883,
          -27.611915588378906,
          -0.5060033798217773,
          29.800907135009766,
          -29.392614364624023,
          -25.65130615234375,
          -22.10110092163086,
          23.41202163696289,
          26.727495193481445,
          -53.717769622802734,
          -56.825096130371094,
          25.240570068359375,
          38.508602142333984,
          34.81912612915039,
          27.57439422607422,
          36.19451141357422,
          -8.667932510375977,
          -7.488559722900391,
          36.509403228759766,
          -24.71576499938965,
          -27.05356788635254,
          2.7705600261688232,
          15.038701057434082,
          -58.94729232788086,
          -17.62273597717285,
          45.97453689575195,
          15.54019546508789,
          0.6325483918190002,
          -28.800573348999023,
          -59.22694396972656,
          -4.944938659667969,
          18.794723510742188,
          3.129878044128418,
          5.130493640899658,
          11.38754940032959,
          42.23115539550781,
          -6.078668117523193,
          30.351377487182617,
          -22.225740432739258,
          5.209287643432617,
          9.351827621459961,
          2.607433319091797,
          15.82970905303955,
          13.103560447692871,
          -25.51076316833496,
          50.47846603393555,
          17.15128517150879,
          49.11477279663086,
          29.18856430053711,
          30.492094039916992,
          44.54256820678711,
          -53.04456329345703,
          -64.22002410888672,
          38.39398193359375,
          41.81496047973633,
          -54.19023513793945,
          46.16656494140625,
          32.1025390625,
          44.1389274597168,
          29.17536735534668,
          -21.337018966674805,
          -23.414833068847656,
          -62.2866325378418,
          28.908340454101562,
          -11.36406135559082,
          -14.792384147644043,
          -0.6046369671821594,
          45.94434356689453,
          31.231271743774414,
          -63.24325180053711,
          27.24979591369629,
          -0.4513157308101654,
          -10.43616771697998,
          -19.10994529724121,
          -13.450053215026855,
          41.80493927001953,
          -29.916852951049805,
          -22.298824310302734,
          -64.7834243774414,
          1.4072977304458618,
          -53.27200698852539,
          -27.921688079833984,
          -51.43256759643555,
          11.704886436462402,
          32.68311309814453,
          21.11247444152832,
          34.83403396606445,
          -10.668617248535156,
          -25.47999382019043,
          35.747894287109375,
          36.87460708618164,
          -23.150320053100586,
          27.189769744873047,
          -14.749252319335938,
          -2.411419153213501,
          15.038701057434082,
          18.06015396118164,
          8.304489135742188,
          -32.33119201660156,
          8.304545402526855,
          37.1047248840332,
          -74.90027618408203,
          -16.70702362060547,
          -19.852310180664062,
          -28.593093872070312,
          -23.031383514404297,
          -68.61661529541016,
          28.63760757446289,
          -3.238952159881592,
          -20.490848541259766,
          11.497712135314941,
          9.809276580810547,
          11.254732131958008,
          30.362548828125,
          -16.41008758544922,
          -15.39929485321045,
          -13.444130897521973,
          -9.164936065673828,
          23.671340942382812,
          -14.37574291229248,
          -56.121009826660156,
          44.0343132019043,
          27.227069854736328,
          29.412479400634766,
          41.112552642822266,
          33.18193054199219,
          -20.068340301513672,
          -50.29124069213867,
          35.113399505615234,
          -67.63971710205078,
          -16.780715942382812,
          -23.525531768798828,
          -19.544166564941406,
          -6.0088582038879395,
          -4.47117805480957,
          34.2798957824707,
          12.04477310180664,
          17.0360050201416,
          4.369693279266357,
          8.13746452331543,
          -15.783740043640137,
          26.776107788085938,
          -29.012004852294922,
          33.136817932128906,
          17.88783836364746,
          5.192562103271484,
          6.862577438354492,
          26.673728942871094,
          -10.384453773498535,
          -27.514493942260742,
          -24.423097610473633,
          -31.35236930847168,
          -13.829767227172852,
          -13.919445037841797,
          -1.138723373413086,
          6.65412712097168,
          36.54726791381836,
          -65.63477325439453,
          42.52824401855469,
          -27.930097579956055,
          40.0340690612793,
          -68.80374908447266,
          46.86478042602539,
          4.4385905265808105,
          -64.36226654052734,
          -9.040449142456055,
          8.10645866394043,
          35.08662796020508,
          -2.6953282356262207,
          -5.252021312713623,
          36.1421012878418,
          -13.727582931518555,
          -15.05533504486084,
          23.791799545288086,
          44.35899353027344,
          43.440547943115234,
          37.793182373046875,
          35.131126403808594,
          43.809139251708984,
          -0.7030916213989258,
          -7.740683078765869,
          43.34561538696289,
          -72.03340911865234,
          28.52098846435547,
          11.803481101989746,
          15.317954063415527,
          8.281673431396484,
          9.13383960723877,
          -55.962459564208984,
          8.906208038330078,
          8.22885799407959,
          -30.67089080810547,
          15.552718162536621,
          -50.543067932128906,
          39.3526611328125,
          28.89824867248535,
          -22.3220157623291,
          25.57030487060547,
          -24.609460830688477,
          35.342811584472656,
          33.87860107421875,
          -25.132511138916016,
          38.64094543457031,
          -6.2370405197143555,
          -20.858707427978516,
          -62.55865478515625,
          25.824819564819336,
          -26.45616912841797,
          3.325007438659668,
          -26.37840461730957,
          31.059650421142578,
          -22.391481399536133,
          -22.167762756347656,
          21.509891510009766,
          -2.964427947998047,
          -2.9644505977630615,
          2.390692949295044,
          3.4532248973846436,
          -18.742706298828125,
          -19.000591278076172,
          23.43325424194336,
          -8.491681098937988,
          -13.379633903503418,
          34.727333068847656,
          0.33412566781044006,
          -21.033357620239258,
          -16.69016456604004,
          -25.47077178955078,
          -7.2690110206604,
          -32.874141693115234,
          34.55317687988281,
          -2.126276731491089,
          -11.285104751586914,
          2.1958680152893066,
          7.789918422698975,
          38.510005950927734,
          21.7054443359375,
          -8.728769302368164,
          36.57182693481445,
          -7.12635612487793,
          -17.8669376373291,
          -3.94736909866333,
          8.602838516235352,
          -24.403907775878906,
          26.332643508911133,
          28.659543991088867,
          -12.90371322631836,
          -7.147302627563477,
          -24.615327835083008,
          26.34779167175293,
          48.59001159667969,
          26.071382522583008,
          -7.1473069190979,
          8.319340705871582,
          -13.559435844421387,
          -64.40363311767578,
          42.553932189941406,
          -28.90010643005371,
          45.27085494995117,
          -5.760530948638916,
          50.47841262817383,
          -26.129636764526367,
          36.7635383605957,
          -65.0149917602539,
          46.47380065917969,
          23.22784423828125,
          -29.187152862548828,
          46.366947174072266,
          -22.184951782226562,
          -23.37291145324707,
          -65.51414489746094,
          -28.87957763671875,
          -60.708984375,
          39.79351806640625,
          -0.4640531837940216,
          -8.342339515686035,
          36.14246368408203,
          30.55076789855957,
          28.180335998535156,
          1.7145507335662842,
          46.98242950439453,
          42.56333923339844,
          -56.226810455322266,
          31.649473190307617,
          30.685901641845703,
          3.570221424102783,
          -3.947429656982422,
          -16.624181747436523,
          -51.98476791381836,
          12.183394432067871,
          2.6918580532073975,
          -21.368003845214844,
          12.510034561157227,
          2.264127731323242,
          10.181524276733398,
          -10.695998191833496,
          29.100557327270508,
          2.847306728363037,
          -30.469318389892578,
          -56.75497817993164,
          29.101001739501953,
          -65.08477020263672,
          41.1822395324707,
          11.349539756774902,
          -4.220595836639404,
          -22.192882537841797,
          -6.641860485076904,
          -27.913427352905273,
          29.100671768188477,
          37.97948455810547,
          -5.824164390563965,
          -62.8486213684082,
          -13.765970230102539,
          -25.533039093017578,
          -63.0377197265625,
          36.79243087768555,
          -13.49846363067627,
          34.7785530090332,
          -18.956985473632812,
          -29.7119197845459,
          21.63766860961914,
          -26.08710479736328,
          -4.706767559051514,
          7.081165313720703,
          -3.22271728515625,
          -19.968997955322266,
          8.308226585388184,
          30.503517150878906,
          22.235763549804688,
          20.148683547973633,
          -71.99560546875,
          26.04673957824707,
          35.08867645263672,
          20.167938232421875,
          -28.895442962646484,
          8.69639778137207,
          16.47808837890625,
          5.338306427001953,
          10.154309272766113,
          29.009740829467773,
          -69.11481475830078,
          -9.388448715209961,
          0.7436767816543579,
          40.00185012817383,
          -56.41846466064453,
          -2.4500322341918945,
          35.40727233886719,
          39.39845275878906,
          -23.976930618286133,
          25.21176528930664,
          16.58318519592285,
          -28.883934020996094,
          18.8435115814209,
          -55.10809326171875,
          -11.48067569732666,
          -27.58336067199707,
          -22.238086700439453,
          -23.178565979003906,
          22.921165466308594,
          -4.021296977996826,
          40.958011627197266,
          -62.44191360473633,
          -60.49728775024414,
          47.384765625,
          41.12554931640625,
          -28.22878646850586,
          -17.434782028198242,
          37.45868682861328,
          7.086004734039307,
          39.27698516845703,
          25.79203987121582,
          8.483099937438965,
          -16.90872573852539,
          -0.7231962084770203,
          -55.043739318847656,
          -26.158058166503906,
          35.120445251464844,
          -26.550893783569336,
          48.991676330566406,
          7.921432971954346,
          -11.200313568115234,
          -3.498811960220337,
          -55.352352142333984,
          -15.344755172729492,
          -55.92673873901367,
          -68.5682144165039,
          25.424274444580078,
          -20.925193786621094,
          6.823331832885742,
          -60.76091384887695,
          30.99992561340332,
          36.85503005981445,
          11.061990737915039,
          -22.771240234375,
          -67.4130630493164,
          -70.46602630615234,
          -21.968687057495117,
          -8.558631896972656,
          27.055328369140625,
          27.943906784057617,
          -21.76416778564453,
          33.40742111206055,
          45.481563568115234,
          35.432640075683594,
          -2.605928897857666,
          -52.081947326660156,
          39.93606948852539,
          41.591644287109375,
          -28.56633758544922,
          -59.08586120605469,
          5.303081512451172,
          -58.09904861450195,
          40.73963928222656,
          -20.15589141845703,
          -64.01966857910156,
          20.160322189331055,
          -61.924163818359375,
          -59.99307632446289,
          -58.73042678833008,
          43.26881408691406,
          24.765146255493164,
          46.152366638183594,
          -67.97380065917969,
          2.7892374992370605,
          19.30154037475586,
          26.39167022705078,
          38.557655334472656,
          26.391502380371094,
          -21.559499740600586,
          8.0845308303833,
          14.000161170959473,
          -5.736858367919922,
          41.68258285522461,
          31.636152267456055,
          6.139647006988525,
          -61.34685516357422,
          -8.242910385131836,
          -14.661916732788086,
          -17.067907333374023,
          -18.320728302001953,
          46.63148880004883,
          -6.956936359405518,
          -64.87599182128906,
          6.342028617858887,
          11.230036735534668,
          -58.10541534423828,
          4.083116054534912,
          -54.91739273071289,
          -51.9495849609375,
          -7.24051570892334,
          -5.94698429107666,
          -57.860782623291016,
          -60.92766571044922,
          -28.779325485229492,
          27.806884765625,
          49.198028564453125,
          -32.31839370727539,
          38.41162872314453,
          40.47687911987305,
          -66.73799133300781,
          45.349365234375,
          36.768836975097656,
          -13.236875534057617,
          -28.259498596191406,
          28.82754898071289,
          43.70539474487305,
          45.59823989868164,
          36.75045394897461,
          -26.727876663208008,
          30.941463470458984,
          37.119598388671875,
          -27.976905822753906,
          -16.97216796875,
          -74.27144622802734,
          26.1915225982666,
          26.083105087280273,
          -26.716711044311523,
          -13.114267349243164,
          -24.260427474975586,
          -23.827211380004883,
          23.636028289794922,
          -4.733096122741699,
          -1.8277252912521362,
          42.233028411865234,
          -3.15313720703125,
          -23.53493309020996,
          -8.10455322265625,
          -40.29550552368164,
          46.12029266357422,
          -8.2402982711792,
          -67.40023040771484,
          17.176502227783203,
          -0.5578725337982178,
          -3.8491568565368652,
          -18.230815887451172,
          -63.07133102416992,
          -19.88611602783203,
          -57.10246276855469,
          51.221275329589844,
          3.8603341579437256,
          -68.98388671875,
          -57.519222259521484,
          17.17656135559082,
          12.757574081420898,
          5.000550746917725,
          0.9204971194267273,
          7.540926933288574,
          44.831485748291016,
          -49.47816848754883,
          26.587060928344727,
          -60.15541458129883,
          41.17665100097656,
          -21.932762145996094,
          37.428279876708984,
          30.231292724609375,
          33.36461639404297,
          34.549476623535156,
          38.8762092590332,
          34.908164978027344,
          34.974876403808594,
          34.47454071044922,
          35.132144927978516,
          30.950044631958008,
          6.273540496826172,
          38.51682662963867,
          33.743385314941406,
          -60.35979080200195,
          10.711495399475098,
          -65.81510925292969,
          -11.730635643005371,
          -15.29280948638916,
          29.152360916137695,
          21.728635787963867,
          -0.8886949419975281,
          -18.277942657470703,
          21.957870483398438,
          29.676040649414062,
          -70.8774642944336,
          -17.174068450927734,
          -27.00760841369629,
          40.41260528564453,
          24.299358367919922,
          -60.632530212402344,
          -29.284706115722656,
          -63.34975051879883,
          34.03811264038086,
          46.92567825317383,
          45.96683120727539,
          34.308467864990234,
          -33.18262481689453,
          -30.520004272460938,
          -28.75047492980957,
          -29.705541610717773,
          -27.766366958618164,
          -9.381543159484863,
          10.987075805664062,
          41.12352752685547,
          -30.406333923339844,
          -61.61558532714844,
          35.02879333496094,
          -60.18488311767578,
          -6.54022741317749,
          -51.89568328857422,
          -63.05986404418945,
          25.61429786682129,
          -60.883609771728516,
          -27.73503303527832,
          -71.76289367675781,
          40.54950714111328,
          -24.806379318237305,
          -28.436552047729492,
          -27.493078231811523,
          -60.45212936401367,
          33.2996711730957,
          -31.169912338256836,
          -26.162471771240234,
          -29.33868408203125,
          34.574249267578125,
          -69.94658660888672,
          -25.88636589050293,
          11.565861701965332,
          24.762361526489258,
          23.653972625732422,
          21.577585220336914,
          -25.08845329284668,
          -25.568115234375,
          -22.46712875366211,
          10.620697975158691,
          -74.06685638427734,
          19.296146392822266,
          17.50957489013672,
          2.5211808681488037,
          3.953415632247925,
          14.38468074798584,
          -8.195300102233887,
          9.86835765838623,
          2.594674825668335,
          1.1476047039031982,
          -0.27347320318222046,
          -1.697247862815857,
          -55.56561279296875,
          18.53204917907715,
          3.701784372329712,
          5.941285610198975,
          4.266269683837891,
          -2.454623222351074,
          -3.011347532272339,
          -9.169791221618652,
          -51.29966735839844,
          19.010292053222656,
          18.982704162597656,
          14.025303840637207,
          -54.39606857299805,
          40.2344856262207,
          -24.235464096069336,
          29.899919509887695,
          -31.59087562561035,
          -15.618512153625488,
          -25.02556610107422,
          32.070594787597656,
          -8.58746337890625,
          -11.731705665588379,
          -26.847925186157227,
          -24.496809005737305,
          -0.9934342503547668,
          20.88568878173828,
          4.514138221740723,
          26.492351531982422,
          35.674842834472656,
          42.70135498046875,
          2.248037338256836,
          -24.821622848510742,
          -8.077245712280273,
          43.23246765136719,
          39.50340270996094,
          34.76240921020508,
          -4.945074558258057,
          4.39133882522583,
          -8.706198692321777,
          -14.469675064086914,
          -71.51338958740234,
          28.023937225341797,
          4.9032745361328125,
          30.443700790405273,
          -63.254432678222656,
          0.6161012649536133,
          31.194578170776367,
          43.63938903808594,
          53.99104309082031,
          -3.836383819580078,
          -12.591064453125,
          -7.725338459014893,
          -26.12637710571289,
          34.27775955200195,
          -61.36654281616211,
          10.679471015930176,
          -19.040306091308594,
          44.44906234741211,
          48.20582580566406,
          -18.13653564453125,
          44.853214263916016,
          -14.050270080566406,
          -1.727861762046814,
          -15.72271728515625,
          -25.742612838745117,
          38.34037399291992,
          -62.398048400878906,
          -27.59848403930664,
          30.564573287963867,
          25.1135311126709,
          -18.13649559020996,
          -18.136445999145508,
          23.41271209716797,
          34.91259765625,
          29.77947235107422,
          -11.002104759216309,
          -22.392925262451172,
          -26.527359008789062,
          44.81950378417969,
          -5.940446376800537,
          -12.216904640197754,
          -13.854933738708496,
          -7.164290428161621,
          -14.834248542785645,
          -30.71455192565918,
          -28.79608154296875,
          -14.003131866455078,
          -7.636427879333496,
          -73.10289764404297,
          -11.525434494018555,
          47.006107330322266,
          -11.187272071838379,
          -29.183849334716797,
          -13.03748893737793,
          -7.497944355010986,
          14.324671745300293,
          44.163597106933594,
          37.09660720825195,
          14.064728736877441,
          13.732588768005371,
          33.29152297973633,
          29.52261734008789,
          25.207103729248047,
          -20.606435775756836,
          27.911951065063477,
          -11.360939979553223,
          -23.156423568725586,
          40.112369537353516,
          33.42429733276367,
          41.123138427734375,
          50.96581268310547,
          14.0890474319458,
          39.565757751464844,
          -10.286004066467285,
          -24.80088996887207,
          6.393011093139648,
          28.292165756225586,
          -24.189022064208984,
          11.15442180633545,
          -3.6077678203582764,
          -15.582719802856445,
          26.710037231445312,
          -3.6077659130096436,
          41.63826370239258,
          52.81660842895508,
          35.71836853027344,
          -11.40015697479248,
          41.291404724121094,
          18.28961753845215,
          -24.166645050048828,
          -6.77033805847168,
          0.39576637744903564,
          0.15753869712352753,
          35.36772155761719,
          -0.4394340515136719,
          37.66008377075195,
          21.350723266601562,
          19.330524444580078,
          38.083072662353516,
          29.90802574157715,
          -15.472748756408691,
          26.414854049682617,
          27.115842819213867,
          33.073585510253906,
          -25.91771125793457,
          17.462827682495117,
          22.657939910888672,
          33.9696159362793,
          -11.507365226745605,
          45.86867141723633,
          44.13740539550781,
          -18.222808837890625,
          35.20325469970703,
          -67.71533203125,
          20.870868682861328,
          -24.32185173034668,
          -28.247451782226562,
          28.971622467041016,
          34.416282653808594,
          -30.28152847290039,
          20.704015731811523,
          47.55799102783203,
          -25.722532272338867,
          -12.64417552947998,
          27.055736541748047,
          -61.60659408569336,
          -10.781004905700684,
          1.2761791944503784,
          -11.191040992736816,
          -20.745967864990234,
          11.021119117736816,
          -11.559422492980957,
          -6.107026100158691,
          -11.717795372009277,
          47.32297134399414,
          -6.2677998542785645,
          -68.25562286376953,
          -17.783836364746094,
          36.84611511230469,
          1.8157901763916016,
          45.12510299682617,
          -57.867919921875,
          23.95072364807129,
          -11.682814598083496,
          18.285253524780273,
          43.74421310424805,
          -1.8605530261993408,
          0.03639058768749237,
          46.274898529052734,
          48.01627731323242,
          -1.2759783267974854,
          -13.40071964263916,
          -20.653188705444336,
          -31.49454116821289,
          -13.294272422790527,
          -1.928024411201477,
          -24.792709350585938,
          1.376985788345337,
          -20.338848114013672,
          -17.779531478881836,
          -16.610300064086914,
          -7.2690110206604,
          -19.001680374145508,
          36.04300308227539,
          -8.10766887664795,
          44.664676666259766,
          27.88889503479004,
          -2.928034782409668,
          28.750118255615234,
          26.981924057006836,
          1.8811981678009033,
          -19.855554580688477,
          -50.970890045166016,
          -25.574119567871094,
          -19.861942291259766,
          39.0926628112793,
          33.650062561035156,
          18.144763946533203,
          -1.1982536315917969,
          -24.266374588012695,
          18.27887535095215,
          -29.821815490722656,
          -64.01408386230469,
          38.378971099853516,
          34.621822357177734,
          -16.660518646240234,
          -11.580859184265137,
          35.028621673583984,
          35.12113952636719,
          -19.046737670898438,
          -24.934268951416016,
          -73.24210357666016,
          -9.860527038574219,
          40.36695098876953,
          33.78333282470703,
          26.198110580444336,
          -20.357343673706055,
          -13.649503707885742,
          33.136077880859375,
          -62.76750183105469,
          26.69558334350586,
          34.46226501464844,
          -49.677398681640625,
          39.099361419677734,
          -51.64768600463867,
          36.984230041503906,
          25.370447158813477,
          40.58723068237305,
          -0.7652543187141418,
          36.58683776855469,
          -7.827972412109375,
          2.4474880695343018,
          5.807136535644531,
          13.63559341430664,
          26.38944435119629,
          -2.679720878601074,
          16.663774490356445,
          -27.488985061645508,
          1.5836572647094727,
          43.05290603637695,
          1.2894222736358643,
          1.407331109046936,
          -25.8426513671875,
          -73.80042266845703,
          27.070323944091797,
          15.038701057434082,
          -14.46561336517334,
          7.075709342956543,
          -3.1104166507720947,
          -25.169397354125977,
          3.587024688720703,
          21.05866813659668,
          47.82039260864258,
          -9.18291187286377,
          38.97003936767578,
          -4.0928144454956055,
          24.439477920532227,
          -58.70262145996094,
          9.499343872070312,
          28.258804321289062,
          -21.921981811523438,
          -23.303646087646484,
          -28.5709285736084,
          -32.872947692871094,
          -16.007431030273438,
          -28.79899787902832,
          48.52724838256836,
          -26.45562171936035,
          11.470381736755371,
          10.53713607788086,
          10.159659385681152,
          7.979249477386475,
          -23.20216178894043,
          12.396902084350586,
          23.511106491088867,
          46.23235321044922,
          35.345375061035156,
          -18.345645904541016,
          17.547616958618164,
          36.3817138671875,
          41.67315673828125,
          -53.579803466796875,
          -0.5277357697486877,
          3.1424643993377686,
          -60.25313949584961,
          -15.210667610168457,
          42.886131286621094,
          13.541111946105957,
          -27.29631996154785,
          40.73917770385742,
          -11.901402473449707,
          -12.112760543823242,
          -52.19912338256836,
          -25.869997024536133,
          -0.23001958429813385,
          42.9854850769043,
          -4.836477279663086,
          -7.9633636474609375,
          -6.384917736053467,
          -0.21771922707557678,
          -65.72100830078125,
          42.21342468261719,
          -10.8406400680542,
          10.769204139709473,
          -17.035430908203125,
          25.268016815185547,
          -7.510800361633301,
          -23.749229431152344,
          -11.801175117492676,
          41.89211654663086,
          40.90475845336914,
          47.27642822265625,
          38.258113861083984,
          37.388004302978516,
          30.565763473510742,
          15.7730712890625,
          -13.449193000793457,
          16.508594512939453,
          -25.283323287963867,
          39.83519744873047,
          9.794553756713867,
          19.874549865722656,
          -16.1173152923584,
          25.354700088500977,
          36.498016357421875,
          13.124835014343262,
          11.0210542678833,
          -74.92974853515625,
          41.45660400390625,
          -51.521358489990234,
          -19.74079132080078,
          -51.368560791015625,
          -0.131403386592865,
          35.83274841308594,
          -4.323193073272705,
          34.7442741394043,
          -9.225822448730469,
          32.710289001464844,
          -20.462963104248047,
          -12.284852027893066,
          -14.407879829406738,
          -28.45958709716797,
          35.91961669921875,
          -54.8798713684082,
          1.6821272373199463,
          -13.061594009399414,
          -27.501829147338867,
          11.991724014282227,
          7.830971717834473,
          -4.294465065002441,
          -25.32220458984375,
          0.1647341549396515,
          -50.78449249267578,
          -52.88901901245117,
          -50.79826354980469,
          -54.787593841552734,
          45.71879959106445,
          -67.93527221679688,
          -62.7120246887207,
          -2.709697961807251,
          -20.08469581604004,
          47.09987258911133,
          23.789533615112305,
          25.791318893432617,
          19.52320098876953,
          8.867094039916992,
          -17.477222442626953,
          14.841703414916992,
          14.7020263671875,
          21.736888885498047,
          -19.266630172729492,
          32.285892486572266,
          33.007347106933594,
          27.93899154663086,
          -10.845664978027344,
          18.541378021240234,
          -22.501497268676758,
          -21.091232299804688,
          18.139915466308594,
          36.2713737487793,
          -6.469483375549316,
          27.53366470336914,
          -1.735224723815918,
          10.144113540649414,
          -26.164026260375977,
          -0.8067581057548523,
          -6.733365058898926,
          0.9683244824409485,
          -30.94577407836914,
          21.634931564331055,
          39.63770294189453,
          -29.506425857543945,
          34.16484451293945,
          39.22358703613281,
          28.008485794067383,
          -59.93426513671875,
          28.072734832763672,
          27.589797973632812,
          -64.20455932617188,
          -57.25834274291992,
          34.7288703918457,
          -70.31720733642578,
          -32.318363189697266,
          34.0853385925293,
          25.882631301879883,
          -17.702634811401367,
          -22.314193725585938,
          -31.712635040283203,
          9.887348175048828,
          -52.13046646118164,
          15.56999683380127,
          -31.323074340820312,
          -31.323619842529297,
          34.39130401611328,
          2.719691038131714,
          -10.718393325805664,
          -52.73384094238281,
          -28.746353149414062,
          -6.1681365966796875,
          6.860204696655273,
          30.112844467163086,
          -10.771283149719238,
          15.826915740966797,
          -0.13690611720085144,
          -68.75989532470703,
          21.119787216186523,
          20.35880470275879,
          25.895715713500977,
          -58.12147903442383,
          -20.3109188079834,
          16.34589195251465,
          35.426029205322266,
          21.119712829589844,
          -26.099641799926758,
          16.905399322509766,
          5.722872257232666,
          -58.640586853027344,
          -27.88954734802246,
          41.61834716796875,
          -14.013201713562012,
          -20.99102210998535,
          17.102834701538086,
          39.06912612915039,
          35.262290954589844,
          -10.362473487854004,
          -13.692397117614746,
          25.41604232788086,
          -7.330821514129639,
          -31.105825424194336,
          26.179000854492188,
          -19.71073341369629,
          24.580720901489258,
          -23.249662399291992,
          -30.951581954956055,
          38.885013580322266,
          34.66703414916992,
          -23.785303115844727,
          32.5579948425293,
          -30.94632911682129,
          -23.821002960205078,
          -26.446456909179688,
          -1.2077683210372925,
          37.01383590698242,
          -9.202754974365234,
          -16.3537540435791,
          -7.4544806480407715,
          35.11003112792969,
          -23.745656967163086,
          35.650062561035156,
          25.349199295043945,
          15.862995147705078,
          12.085515975952148,
          36.028167724609375,
          -15.69762134552002,
          33.72889709472656,
          11.890789031982422,
          28.889734268188477,
          -15.925549507141113,
          35.334754943847656,
          -10.05828857421875,
          44.39057922363281,
          35.86431121826172,
          32.235103607177734,
          31.530620574951172,
          41.740928649902344,
          -24.428640365600586,
          -18.968097686767578,
          36.02740478515625,
          -62.37961959838867,
          -27.370967864990234,
          19.683605194091797,
          36.74610900878906,
          15.534477233886719,
          16.762666702270508,
          -2.638705015182495,
          -58.717132568359375,
          -24.351953506469727,
          -13.130867958068848,
          37.95477294921875,
          -26.380657196044922,
          18.285974502563477,
          4.643464088439941,
          -25.04283332824707,
          -11.36464786529541,
          23.56258773803711,
          17.664209365844727,
          13.261728286743164,
          -22.02617073059082,
          34.405906677246094,
          -1.3511964082717896,
          -6.304772853851318,
          -15.39235782623291,
          1.0418955087661743,
          27.46458625793457,
          12.633493423461914,
          19.766590118408203,
          5.761744976043701,
          -8.489358901977539,
          21.798471450805664,
          -5.29433012008667,
          30.707212448120117,
          -25.66986656188965,
          -25.524017333984375,
          40.1934928894043,
          -13.379633903503418,
          -9.644774436950684,
          37.89216232299805,
          45.9587516784668,
          -26.001708984375,
          -16.04898452758789,
          -4.346603870391846,
          33.78733825683594,
          18.36034393310547,
          -9.110905647277832,
          -30.834880828857422,
          26.341285705566406,
          28.004627227783203,
          34.57864761352539,
          44.072872161865234,
          -25.57914924621582,
          27.49245834350586,
          10.159150123596191,
          45.777400970458984,
          -28.89082145690918,
          33.73509979248047,
          33.86227798461914,
          28.250478744506836,
          -23.854469299316406,
          -15.760209083557129,
          -9.842543601989746,
          -12.236773490905762,
          -13.112434387207031,
          35.12321472167969,
          -13.441788673400879,
          -6.746636867523193,
          39.53736877441406,
          36.49703598022461,
          37.161258697509766,
          8.448843002319336,
          36.10477066040039,
          33.93246841430664,
          -2.264230966567993,
          28.718576431274414,
          -28.14990997314453,
          27.149988174438477,
          11.420249938964844,
          -7.247030735015869,
          16.838069915771484,
          -23.576026916503906,
          34.01410675048828,
          -36.14384460449219,
          36.84945297241211,
          40.190006256103516,
          -16.784955978393555,
          -16.588985443115234,
          -27.651962280273438,
          -25.602941513061523,
          -0.8887328505516052,
          -53.94510269165039,
          -23.85344886779785,
          -22.573211669921875,
          34.572261810302734,
          -9.704117774963379,
          27.216142654418945,
          31.33077049255371,
          -67.9754409790039,
          -6.455756187438965,
          28.62486457824707,
          39.63636016845703,
          48.03234100341797,
          -23.854928970336914,
          35.012821197509766,
          51.77449035644531,
          41.178977966308594,
          -26.336130142211914,
          12.786149978637695,
          19.10093116760254,
          -6.87491512298584,
          1.7325698137283325,
          25.87820053100586,
          36.70161056518555,
          30.835968017578125,
          -0.010869085788726807,
          37.6407356262207,
          -23.952768325805664,
          29.736425399780273,
          35.19244384765625,
          30.66323471069336,
          26.294330596923828,
          -7.132719039916992,
          0.6274949908256531,
          41.35294723510742,
          44.1778564453125,
          34.726593017578125,
          5.144124984741211,
          13.966023445129395,
          33.34953689575195,
          0.06650490313768387,
          43.165992736816406,
          39.36498260498047,
          19.127431869506836,
          -0.4394923746585846,
          -25.986989974975586,
          -10.894394874572754,
          -12.907986640930176,
          -4.003467082977295,
          -30.015016555786133,
          29.503799438476562,
          6.512489318847656,
          35.10112380981445,
          35.33194351196289,
          5.550240516662598,
          -17.414323806762695,
          33.27982711791992,
          -12.019746780395508,
          -3.8745810985565186,
          13.360175132751465,
          15.704286575317383,
          11.030668258666992,
          14.158526420593262,
          6.262503623962402,
          9.170048713684082,
          -24.660383224487305,
          -49.51467514038086,
          -56.23081970214844,
          -21.048627853393555,
          -65.56633758544922,
          -65.5662841796875,
          46.95142364501953,
          35.789276123046875,
          -14.24309253692627,
          32.40591812133789,
          -49.55533981323242,
          -21.733755111694336,
          -9.415436744689941,
          35.32741928100586,
          -9.139752388000488,
          -17.81648826599121,
          37.94670867919922,
          -33.182655334472656,
          3.6322124004364014,
          4.133181571960449,
          -2.2573554515838623,
          -3.709794521331787,
          -8.016661643981934,
          -23.42905044555664,
          46.163631439208984,
          46.16366195678711,
          -8.016661643981934,
          -49.101749420166016,
          -8.857717514038086,
          36.513309478759766,
          -0.6114070415496826,
          -13.305333137512207,
          6.304368495941162,
          -61.108917236328125,
          -63.92266845703125,
          15.696733474731445,
          -53.432186126708984,
          -58.85624694824219,
          -48.504695892333984,
          -54.65810012817383,
          48.343082427978516,
          25.771066665649414,
          48.05631637573242,
          14.882616996765137,
          29.948171615600586,
          -23.991912841796875,
          31.356271743774414,
          1.3270608186721802,
          -23.320301055908203,
          39.387882232666016,
          -23.465030670166016,
          37.051025390625,
          -61.42353057861328,
          35.262325286865234,
          -21.680049896240234,
          -56.21875,
          -7.135921478271484,
          -9.226105690002441,
          -58.73012924194336,
          -5.008307933807373,
          29.485654830932617,
          3.460355043411255,
          -48.85372543334961,
          -16.17208480834961,
          35.74734878540039,
          -12.311598777770996,
          -68.23890686035156,
          28.38847541809082,
          -62.76320266723633,
          -7.622732639312744,
          -15.99975299835205,
          48.68687057495117,
          -13.431468963623047,
          23.913915634155273,
          22.4371337890625,
          -7.455877304077148,
          28.85085678100586,
          -74.99938201904297,
          -57.66559600830078,
          -14.242206573486328,
          35.46224594116211,
          41.12337875366211,
          -15.609301567077637,
          -5.099757671356201,
          17.840023040771484,
          21.607698440551758,
          -11.697964668273926,
          -0.2734203338623047,
          26.2709903717041,
          22.73912811279297,
          -57.93596267700195,
          -51.27320861816406,
          43.13458251953125,
          19.755247116088867,
          -27.863140106201172,
          -2.7056169509887695,
          10.579867362976074,
          46.305301666259766,
          34.613773345947266,
          -51.22853088378906,
          11.635634422302246,
          47.894317626953125,
          8.810606002807617,
          -24.624826431274414,
          20.741823196411133,
          33.634281158447266,
          32.938987731933594,
          32.14893341064453,
          -67.40411376953125,
          -57.99497985839844,
          43.32733917236328,
          -64.14492797851562,
          -5.426717281341553,
          8.845619201660156,
          -10.529491424560547,
          -3.8511874675750732,
          34.50259017944336,
          35.138702392578125,
          -70.13550567626953,
          -33.18267059326172,
          43.5633430480957,
          -64.1555404663086,
          24.65516471862793,
          -3.1464896202087402,
          32.33440399169922,
          -15.71550464630127,
          51.47726821899414,
          34.64702606201172,
          -70.33831024169922,
          -66.69060516357422,
          2.6319308280944824,
          -57.2646598815918,
          23.486099243164062,
          10.863574981689453,
          7.628127574920654,
          23.178396224975586,
          24.603504180908203,
          -5.759831428527832,
          -3.0676064491271973,
          -74.06634521484375,
          -30.081819534301758,
          -12.332914352416992,
          -12.332914352416992,
          31.793018341064453,
          1.4571160078048706,
          -18.0628719329834,
          23.115446090698242,
          -12.3330659866333,
          20.034244537353516,
          18.822978973388672,
          16.904603958129883,
          16.967195510864258,
          -64.44473266601562,
          -15.935270309448242,
          17.590810775756836,
          9.779752731323242,
          9.656246185302734,
          24.24264907836914,
          19.87897491455078,
          5.7375288009643555,
          1.4459271430969238,
          24.103652954101562,
          -57.673221588134766,
          -11.49459457397461,
          -29.099552154541016,
          14.841935157775879,
          -1.2446098327636719,
          -18.322711944580078,
          36.84072494506836,
          11.637057304382324,
          46.86772155761719,
          45.505332946777344,
          44.10670852661133,
          -13.065608024597168,
          29.55955696105957,
          47.71702575683594,
          -23.799726486206055,
          39.8299560546875,
          39.77886962890625,
          -24.845069885253906,
          -25.17937660217285,
          -22.590246200561523,
          44.474205017089844,
          -17.389516830444336,
          -40.16096115112305,
          -21.403799057006836,
          4.184834003448486,
          10.476861953735352,
          1.8004088401794434,
          -1.9216930866241455,
          -6.530309200286865,
          3.064093589782715,
          -9.507648468017578,
          41.646141052246094,
          -53.13078308105469,
          24.571489334106445,
          51.730289459228516,
          31.7225284576416,
          -12.243837356567383,
          3.0640931129455566,
          -66.5098648071289,
          44.27063751220703,
          -53.53123474121094,
          -52.285491943359375,
          -5.050565242767334,
          47.849849700927734,
          49.290706634521484,
          -16.586244583129883,
          -0.661717414855957,
          31.01065444946289,
          49.17805862426758,
          47.77981948852539,
          29.528478622436523,
          8.654715538024902,
          31.433256149291992,
          -23.79966926574707,
          -17.384580612182617,
          34.720638275146484,
          -16.154956817626953,
          6.587625980377197,
          5.152554512023926,
          16.45677947998047,
          -21.168367385864258,
          31.164518356323242,
          37.608253479003906,
          45.8902587890625,
          -0.5966191291809082,
          31.96344566345215,
          48.185211181640625,
          33.56096267700195,
          -26.67459487915039,
          44.245704650878906,
          -11.416708946228027,
          30.79123306274414,
          -53.48421859741211,
          -51.929359436035156,
          -52.9172477722168,
          5.9323039054870605,
          30.612913131713867,
          33.58512878417969,
          5.139222621917725,
          -57.15736770629883,
          -51.4462890625,
          31.442480087280273,
          -64.9786605834961,
          31.84780502319336,
          -0.16287414729595184,
          34.062339782714844,
          31.454648971557617,
          11.091954231262207,
          39.115596771240234,
          32.598793029785156,
          35.31260681152344,
          47.95010757446289,
          32.334651947021484,
          37.79114532470703,
          -6.886869430541992,
          24.148962020874023,
          -25.075658798217773,
          36.16860580444336,
          -25.574460983276367,
          -20.990123748779297,
          -23.194917678833008,
          43.12104415893555,
          -29.249370574951172,
          46.567054748535156,
          20.35880470275879,
          35.93009948730469,
          -8.157828330993652,
          -23.81635284423828,
          -23.979320526123047,
          35.38142395019531,
          26.448810577392578,
          -28.137968063354492,
          -6.272741794586182,
          36.27271270751953,
          34.37668991088867,
          38.300472259521484,
          23.699474334716797,
          23.41217041015625,
          -69.09043884277344,
          45.441043853759766,
          -72.93721008300781,
          -1.7588764429092407,
          -58.15412521362305,
          -28.911996841430664,
          42.57867431640625,
          -28.86724281311035,
          -23.13979148864746,
          43.00342559814453,
          30.070444107055664,
          25.75895881652832,
          -2.1360180377960205,
          25.98517417907715,
          -15.589630126953125,
          -0.4800185561180115,
          -29.57480812072754,
          15.862885475158691,
          -24.737043380737305,
          43.91926574707031,
          28.128345489501953,
          9.3450345993042,
          23.2091007232666,
          21.282609939575195,
          -26.729679107666016,
          9.795563697814941,
          -9.642233848571777,
          -3.2300169467926025,
          -15.853527069091797,
          34.80616760253906,
          -22.454076766967773,
          36.1109619140625,
          38.561405181884766,
          -12.098835945129395,
          7.795981407165527,
          24.726707458496094,
          -15.405240058898926,
          -9.528018951416016,
          7.9075751304626465,
          -30.927404403686523,
          -28.182090759277344,
          -13.388647079467773,
          -72.27378845214844,
          12.810136795043945,
          -9.294873237609863,
          -10.171189308166504,
          -13.26066780090332,
          3.3126049041748047,
          32.83927536010742,
          -52.75920867919922,
          34.02459716796875,
          -8.081119537353516,
          32.32019805908203,
          -9.185426712036133,
          -21.93410301208496,
          40.931583404541016,
          32.235897064208984,
          -13.63179874420166,
          -12.74592113494873,
          -16.45048713684082,
          -11.375654220581055,
          -4.19034481048584,
          31.937015533447266,
          42.23624038696289,
          -20.14507293701172,
          -24.638669967651367,
          -3.552443742752075,
          17.559879302978516,
          25.614320755004883,
          10.171460151672363,
          -60.81563949584961,
          -25.34461212158203,
          41.43491744995117,
          40.44083023071289,
          -3.680717706680298,
          34.73845672607422,
          -49.34906768798828,
          12.481094360351562,
          -56.98614501953125,
          36.20027160644531,
          15.587532997131348,
          -70.22235107421875,
          -4.392332077026367,
          -66.8836898803711,
          28.789779663085938,
          -51.50853729248047,
          -41.14044952392578,
          -6.733378887176514,
          -41.40904998779297,
          -26.51681137084961,
          -52.612030029296875,
          -41.12999725341797,
          -56.564273834228516,
          -17.90706443786621,
          -2.5748331546783447,
          -25.767013549804688,
          28.248823165893555,
          36.26111602783203,
          13.60543441772461,
          36.69969940185547,
          -61.1620979309082,
          -2.1043615341186523,
          10.506861686706543,
          -54.11663818359375,
          16.17913246154785,
          41.7898063659668,
          -24.127796173095703,
          12.385347366333008,
          -23.428590774536133,
          10.804567337036133,
          -70.0707015991211,
          -63.4911994934082,
          -1.9661200046539307,
          -69.43903350830078,
          -14.803315162658691,
          -48.73979949951172,
          -12.904637336730957,
          -4.988365650177002,
          44.49785614013672,
          -12.48997688293457,
          30.688350677490234,
          -48.249820709228516,
          -65.21917724609375,
          -71.02391815185547,
          -19.104736328125,
          -67.60639190673828,
          -56.75209426879883,
          27.581796646118164,
          24.644424438476562,
          35.230125427246094,
          34.82608413696289,
          24.528865814208984,
          -66.81270599365234,
          -14.521906852722168,
          -16.535587310791016,
          -16.706308364868164,
          -51.173221588134766,
          -6.100930690765381,
          -23.720611572265625,
          9.632529258728027,
          -53.558937072753906,
          37.53371047973633,
          0.2193334698677063,
          -54.37990951538086,
          13.001922607421875,
          -10.41834545135498,
          32.437137603759766,
          -25.448684692382812,
          32.3624153137207,
          32.8532600402832,
          37.08706283569336,
          35.47256851196289,
          36.21727752685547,
          32.25822830200195,
          -11.093575477600098,
          33.98554611206055,
          47.963924407958984,
          37.14569091796875,
          35.23198699951172,
          38.911685943603516,
          -71.35195922851562,
          46.26275634765625,
          -20.59808349609375,
          -14.256016731262207,
          23.675617218017578,
          49.66962814331055,
          -15.829732894897461,
          -16.073505401611328,
          -27.739513397216797,
          -60.18244934082031,
          29.0412654876709,
          23.640432357788086,
          29.100723266601562,
          27.395112991333008,
          36.46352005004883,
          -27.04240608215332,
          9.893725395202637,
          -1.2210890054702759,
          36.78112030029297,
          -13.000021934509277,
          43.98889923095703,
          -13.831472396850586,
          -63.1065788269043,
          32.98289108276367,
          -17.687589645385742,
          1.1088684797286987,
          35.26863479614258,
          -5.988667964935303,
          -15.913317680358887,
          30.42082977294922,
          -51.853973388671875,
          -3.550490379333496,
          8.316094398498535,
          28.908334732055664,
          30.070388793945312,
          -17.575563430786133,
          38.66458511352539,
          31.077974319458008,
          -7.050139904022217,
          -65.17998504638672,
          8.803668022155762,
          -52.87669372558594,
          -7.671005725860596,
          -12.176830291748047,
          7.471988677978516,
          -1.714964747428894,
          3.110414505004883,
          -27.592988967895508,
          27.26288604736328,
          50.24750518798828,
          -18.942977905273438,
          -1.7779141664505005,
          34.5943603515625,
          -4.553834438323975,
          -11.0952730178833,
          48.0855827331543,
          -21.094402313232422,
          29.103296279907227,
          -32.94196701049805,
          -25.295042037963867,
          -16.152387619018555,
          -19.783166885375977,
          -14.82601261138916,
          19.84025764465332,
          -19.528270721435547,
          19.22638511657715,
          -24.074127197265625,
          38.45148849487305,
          1.335937738418579,
          10.73555850982666,
          -26.659452438354492,
          7.3387131690979,
          39.3520393371582,
          -29.570423126220703,
          -25.059547424316406,
          -14.591410636901855,
          -27.75301742553711,
          44.87856674194336,
          -23.92052459716797,
          3.315434217453003,
          24.337583541870117,
          45.64669418334961,
          9.31932258605957,
          31.16496467590332,
          36.25200653076172,
          -6.423397541046143,
          -6.423332691192627,
          -9.620061874389648,
          -6.543522834777832,
          6.185202598571777,
          24.138195037841797,
          -67.97435760498047,
          -23.853450775146484,
          23.946361541748047,
          31.317138671875,
          -73.15393829345703,
          -67.80354309082031,
          -60.83091354370117,
          38.48750305175781,
          -26.525392532348633,
          -22.20282554626465,
          -24.614688873291016,
          21.634870529174805,
          10.528529167175293,
          -14.105112075805664,
          -17.818208694458008,
          -5.685929298400879,
          -71.70417785644531,
          22.978002548217773,
          -64.46189880371094,
          -5.11080265045166,
          44.360538482666016,
          19.471620559692383,
          -21.532480239868164,
          -23.758028030395508,
          -31.556270599365234,
          -22.460708618164062,
          -27.32587432861328,
          26.128063201904297,
          -73.22905731201172,
          -49.5090446472168,
          41.33341598510742,
          -15.525753021240234,
          -26.724462509155273,
          25.93220329284668,
          -8.934794425964355,
          35.16411209106445,
          -30.045269012451172,
          47.104736328125,
          4.7104949951171875,
          -65.9566879272461,
          45.87007522583008,
          -15.991056442260742,
          -11.986770629882812,
          -19.866830825805664,
          -3.8745501041412354,
          -65.10101318359375,
          35.24028015136719,
          39.74957275390625,
          29.86053466796875,
          29.87045669555664,
          -26.025014877319336,
          -69.93919372558594,
          -0.7691375017166138,
          41.26301193237305,
          -56.76179885864258,
          -62.79962158203125,
          -11.026625633239746,
          -31.29531478881836,
          -10.374088287353516,
          3.3004326820373535,
          -6.301180362701416,
          25.936864852905273,
          -6.000907897949219,
          -19.449905395507812,
          30.116731643676758,
          24.1573429107666,
          34.32186508178711,
          -24.96780776977539,
          -21.9710636138916,
          10.317479133605957,
          -20.338895797729492,
          -63.01460266113281,
          -54.70402908325195,
          38.4921875,
          -31.899051666259766,
          -59.0235595703125,
          -14.002293586730957,
          27.656536102294922,
          -63.58897399902344,
          34.32514953613281,
          -53.086055755615234,
          15.34282398223877,
          -16.5357666015625,
          29.556421279907227,
          -19.486907958984375,
          28.70785140991211,
          28.708667755126953,
          18.638444900512695,
          23.700101852416992,
          -15.53219985961914,
          -20.29891586303711,
          47.55785369873047,
          4.2869391441345215,
          3.7637252807617188,
          -58.235870361328125,
          -19.617332458496094,
          -24.04855728149414,
          -71.1842041015625,
          35.612430572509766,
          15.918258666992188,
          7.228771209716797,
          -19.216169357299805,
          35.10083770751953,
          38.396175384521484,
          34.55641555786133,
          1.0733418464660645,
          -26.1888427734375,
          45.36492919921875,
          -21.07902717590332,
          -8.171660423278809,
          41.22571563720703,
          2.043344497680664,
          -9.053265571594238,
          -22.33478546142578,
          9.753213882446289,
          -23.008922576904297,
          27.59256935119629,
          -22.133655548095703,
          -58.99535369873047,
          15.124285697937012,
          -2.5345213413238525,
          -6.098817348480225,
          48.47486114501953,
          40.33570098876953,
          -23.204835891723633,
          -6.078820705413818,
          44.39592361450195,
          -17.088491439819336,
          18.737613677978516,
          -12.389688491821289,
          26.979759216308594,
          -32.10060501098633,
          -27.63123321533203,
          36.27060317993164,
          30.099956512451172,
          32.6519775390625,
          -0.9605842232704163,
          19.462358474731445,
          -14.729426383972168,
          -20.135801315307617,
          0.663443386554718,
          8.840282440185547,
          1.9799739122390747,
          30.34058380126953,
          31.847213745117188,
          -13.085427284240723,
          -9.196727752685547,
          37.53418731689453,
          1.5900636911392212,
          -57.93538284301758,
          35.48823547363281,
          -60.0125732421875,
          49.36966323852539,
          30.935789108276367,
          47.74295425415039,
          24.522470474243164,
          17.76912498474121,
          -14.446209907531738,
          1.3516924381256104,
          10.841957092285156,
          -7.1473069190979,
          -8.003353118896484,
          -22.323606491088867,
          -17.4473819732666,
          3.6008453369140625,
          -8.263965606689453,
          -20.32678985595703,
          -12.384321212768555,
          49.11888122558594,
          46.63961410522461,
          -19.68874168395996,
          4.55825138092041,
          -14.265506744384766,
          -17.986021041870117,
          -58.13597106933594,
          -70.06918334960938,
          -15.733962059020996,
          -32.14876174926758,
          -1.4879100322723389,
          23.68695068359375,
          37.37885284423828,
          -4.688913345336914,
          27.594860076904297,
          -0.6852806806564331,
          21.620725631713867,
          42.155723571777344,
          40.73924255371094,
          -59.338356018066406,
          -71.8647689819336,
          -28.969350814819336,
          -65.43611907958984,
          53.75142288208008,
          -12.318769454956055,
          24.06494140625,
          -73.7378158569336,
          29.2747859954834,
          27.32374382019043,
          21.2316951751709,
          -9.00418472290039,
          37.77293014526367,
          31.02765464782715,
          12.732035636901855,
          -63.961036682128906,
          51.12739181518555,
          -55.92262649536133,
          34.29337692260742,
          51.127220153808594,
          37.45150375366211,
          -66.27698516845703,
          -0.20175382494926453,
          -15.381726264953613,
          33.90372848510742,
          -3.88739275932312,
          9.451374053955078,
          34.95726776123047,
          -49.588340759277344,
          47.243831634521484,
          -24.542455673217773,
          -14.72884750366211,
          -9.365118026733398,
          -63.71295928955078,
          -1.3283089399337769,
          0.048523902893066406,
          25.89504623413086,
          27.592960357666016,
          -10.3283052444458,
          -17.284143447875977,
          43.9892692565918,
          38.085350036621094,
          29.982656478881836,
          31.430288314819336,
          -30.065940856933594,
          -19.36652183532715,
          19.109233856201172,
          32.001712799072266,
          20.18465805053711,
          -69.61634826660156,
          24.89011001586914,
          -60.14659881591797,
          -22.688690185546875,
          9.917236328125,
          4.844454765319824,
          12.139009475708008,
          2.5270724296569824,
          -2.2642314434051514,
          -0.2940877676010132,
          46.97237777709961,
          24.56374740600586,
          23.90514373779297,
          -21.607051849365234,
          38.992183685302734,
          -1.127677083015442,
          43.912925720214844,
          28.647315979003906,
          -5.087301731109619,
          -29.973447799682617,
          33.7617301940918,
          29.054513931274414,
          -10.93942642211914,
          -64.05766296386719,
          -71.21583557128906,
          -12.058625221252441,
          -10.22469711303711,
          40.55425262451172,
          -12.866133689880371,
          17.88741111755371,
          -18.923473358154297,
          -23.5881290435791,
          34.92497253417969,
          46.87616729736328,
          -22.717437744140625,
          30.221786499023438,
          28.908323287963867,
          19.667299270629883,
          -6.352015972137451,
          -13.950225830078125,
          -0.6247020363807678,
          -53.3156623840332,
          -30.550537109375,
          20.76192283630371,
          31.270221710205078,
          -62.33749771118164,
          -24.677837371826172,
          33.04027557373047,
          -67.1359634399414,
          -23.457279205322266,
          -16.183069229125977,
          -2.8817217350006104,
          -13.651061058044434,
          -20.116558074951172,
          32.86964416503906,
          1.9110527038574219,
          23.552059173583984,
          -10.17978286743164,
          37.223602294921875,
          -5.997158527374268,
          46.2769889831543,
          7.9459614753723145,
          -26.69474983215332,
          -23.673152923583984,
          12.631111145019531,
          46.231876373291016,
          -14.409034729003906,
          43.94104766845703,
          34.160545349121094,
          36.908634185791016,
          27.340206146240234,
          -57.28237533569336,
          -55.070640563964844,
          -21.816198348999023,
          -24.091943740844727,
          -28.051050186157227,
          0.7274273037910461,
          37.77201461791992,
          29.309398651123047,
          38.79581069946289,
          30.621017456054688,
          -25.271038055419922,
          -10.491342544555664,
          -33.72871780395508,
          9.681702613830566,
          14.383296012878418,
          -6.590844631195068,
          -16.092391967773438,
          0.39798977971076965,
          -27.32225799560547,
          43.122589111328125,
          -61.432796478271484,
          -33.72871780395508,
          34.51597595214844,
          44.97110366821289,
          -22.541080474853516,
          -15.529252052307129,
          8.558263778686523,
          -21.943387985229492,
          33.954410552978516,
          -11.078354835510254,
          -72.11262512207031,
          -11.706363677978516,
          39.55229568481445,
          -25.047229766845703,
          39.01564025878906,
          29.53362464904785,
          -69.29017639160156,
          -10.106390953063965,
          -23.99647331237793,
          -63.39169692993164,
          -10.89915943145752,
          29.660301208496094,
          34.49435043334961,
          -7.686196804046631,
          35.46110534667969,
          -14.541595458984375,
          -15.957113265991211,
          -15.139482498168945,
          -69.78385162353516,
          35.69374465942383,
          37.10979461669922,
          -49.719730377197266,
          -16.147449493408203,
          -15.889321327209473,
          11.798551559448242,
          42.12492752075195,
          -63.55054473876953,
          -30.398866653442383,
          -5.947420597076416,
          -22.546754837036133,
          28.79010772705078,
          -53.4167594909668,
          17.698043823242188,
          -12.281492233276367,
          -11.536535263061523,
          14.063899993896484,
          41.517723083496094,
          38.13353729248047,
          13.746541976928711,
          0.3446575999259949,
          39.84455871582031,
          -27.620058059692383,
          -19.591115951538086,
          9.753405570983887,
          11.742596626281738,
          37.2230110168457,
          -11.954936981201172,
          34.43402099609375,
          30.816755294799805,
          28.137903213500977,
          47.7161750793457,
          27.96251678466797,
          10.423955917358398,
          -21.249343872070312,
          -56.23918914794922,
          36.702598571777344,
          -64.74191284179688,
          -3.2427546977996826,
          42.79899597167969,
          21.53380584716797,
          -15.787596702575684,
          36.46854782104492,
          29.872554779052734,
          25.73708724975586,
          38.21682357788086,
          -6.528755187988281,
          -0.28916263580322266,
          -54.87136459350586,
          28.025732040405273,
          -8.864790916442871,
          -1.594987392425537,
          -8.009432792663574,
          -25.888164520263672,
          6.924544811248779,
          -28.379213333129883,
          26.587060928344727,
          -59.81514358520508,
          12.581992149353027,
          34.036502838134766,
          12.613616943359375,
          -58.46379852294922,
          -62.66756820678711,
          32.508636474609375,
          -29.871793746948242,
          30.791000366210938,
          24.9439640045166,
          23.889110565185547,
          -0.5127593278884888,
          -3.32181453704834,
          45.13920593261719,
          -28.0633544921875,
          22.620996475219727,
          -23.407665252685547,
          10.302143096923828,
          37.675537109375,
          -25.506494522094727,
          -27.43285369873047,
          45.07917404174805,
          44.91863250732422,
          43.83228302001953,
          30.074068069458008,
          47.276432037353516,
          19.472034454345703,
          6.58777379989624,
          -54.003578186035156,
          25.994396209716797,
          9.795135498046875,
          18.267446517944336,
          -64.4240493774414,
          34.84873962402344,
          -17.443998336791992,
          -19.187929153442383,
          -19.486631393432617,
          43.56330871582031,
          30.85991096496582,
          -3.5770866870880127,
          34.34771728515625,
          4.8592400550842285,
          36.53421401977539,
          22.041767120361328,
          -71.52506256103516,
          35.9644889831543,
          -0.32050076127052307,
          33.02296447753906,
          -2.9607489109039307,
          34.713016510009766,
          -6.834505558013916,
          35.590293884277344,
          32.7689208984375,
          38.329734802246094,
          -23.37291145324707,
          31.74759864807129,
          27.503408432006836,
          -0.7326194047927856,
          -20.811796188354492,
          38.01189422607422,
          24.160701751708984,
          -24.5709228515625,
          14.069367408752441,
          -17.374250411987305,
          37.62135696411133,
          -75.56808471679688,
          -17.122127532958984,
          -11.2405366897583,
          -2.6291263103485107,
          31.283781051635742,
          33.074954986572266,
          -9.302727699279785,
          32.232635498046875,
          -6.395740032196045,
          30.702592849731445,
          -20.790281295776367,
          26.43656349182129,
          -12.822739601135254,
          -62.14962387084961,
          16.20271873474121,
          -15.432479858398438,
          19.33294105529785,
          -17.128097534179688,
          -63.26557159423828,
          -20.08604621887207,
          46.00422286987305,
          34.680763244628906,
          -24.488996505737305,
          45.32766342163086,
          -22.281444549560547,
          -11.731440544128418,
          -27.44853973388672,
          38.44429397583008,
          -27.762680053710938,
          -23.952747344970703,
          -17.314407348632812,
          -26.808156967163086,
          -18.771530151367188,
          -53.94510269165039,
          42.24270248413086,
          -24.954538345336914,
          -13.532787322998047,
          -15.139580726623535,
          40.69081115722656,
          -26.91058349609375,
          36.561885833740234,
          -19.47007179260254,
          -17.62967300415039,
          -20.099720001220703,
          -17.296140670776367,
          -22.39940071105957,
          35.028682708740234,
          -27.833105087280273,
          -28.791234970092773,
          41.99864959716797,
          -20.431041717529297,
          5.3943891525268555,
          -6.727566242218018,
          -0.6247214078903198,
          17.10700798034668,
          38.55531692504883,
          -50.9931640625,
          -22.784223556518555,
          -2.17290997505188,
          -25.500905990600586,
          -57.79002380371094,
          -60.665042877197266,
          -21.040178298950195,
          19.603464126586914,
          -52.76457595825195,
          -14.283281326293945,
          41.08689498901367,
          -25.58724594116211,
          2.3802831172943115,
          -2.9352967739105225,
          -0.42526939511299133,
          30.034770965576172,
          -26.84615135192871,
          -25.408132553100586,
          -29.97756576538086,
          25.53912353515625,
          25.53896141052246,
          15.32450008392334,
          3.4739367961883545,
          -22.489227294921875,
          20.964324951171875,
          -56.1369514465332,
          -25.74477195739746,
          11.127909660339355,
          -8.88124942779541,
          -7.502642631530762,
          21.816617965698242,
          9.199389457702637,
          28.48992156982422,
          0.3542543947696686,
          38.995357513427734,
          27.58635902404785,
          -4.874173641204834,
          -21.286216735839844,
          33.05067443847656,
          24.375022888183594,
          21.05438804626465,
          -21.47734832763672,
          -13.177207946777344,
          -21.187435150146484,
          -21.967477798461914,
          -64.2061538696289,
          39.4149169921875,
          -20.098379135131836,
          33.0137939453125,
          -65.2273178100586,
          -28.007728576660156,
          -1.944238305091858,
          38.6177864074707,
          0.33983737230300903,
          -24.489831924438477,
          38.51447677612305,
          4.427491188049316,
          -66.21006774902344,
          -2.396744966506958,
          -20.848615646362305,
          -9.894509315490723,
          -69.4068374633789,
          5.3546648025512695,
          -13.431654930114746,
          12.589476585388184,
          -55.446258544921875,
          6.58777379989624,
          36.0488166809082,
          -66.44457244873047,
          44.755306243896484,
          -22.761137008666992,
          -23.89756202697754,
          -15.496719360351562,
          37.29360580444336,
          38.42756271362305,
          35.76206970214844,
          1.7106956243515015,
          34.455322265625,
          -3.2047536373138428,
          -28.660541534423828,
          -7.665094375610352,
          10.917576789855957,
          -26.843149185180664,
          36.130043029785156,
          46.3590087890625,
          -31.079303741455078,
          -25.345746994018555,
          -23.75832176208496,
          35.72799301147461,
          33.64323806762695,
          5.621639728546143,
          3.5640954971313477,
          49.293243408203125,
          39.543495178222656,
          18.887765884399414,
          -14.498861312866211,
          -20.993053436279297,
          -18.706939697265625,
          24.024076461791992,
          -55.98064041137695,
          34.169185638427734,
          9.373144149780273,
          -11.920001983642578,
          -70.8888168334961,
          -59.10162353515625,
          42.86065673828125,
          -59.3581428527832,
          -3.5993754863739014,
          6.4809770584106445,
          -16.344335556030273,
          -10.646965980529785,
          -13.11429214477539,
          -28.96070671081543,
          -21.444416046142578,
          44.62174987792969,
          -15.805213928222656,
          32.33123779296875,
          -70.51428985595703,
          18.706270217895508,
          -1.7107508182525635,
          -58.23237228393555,
          26.093393325805664,
          26.9063663482666,
          48.521018981933594,
          41.00559616088867,
          -51.572654724121094,
          36.7720832824707,
          9.517199516296387,
          -6.741023540496826,
          -5.738818645477295,
          -3.2430837154388428,
          12.464457511901855,
          -53.29230880737305,
          27.076961517333984,
          -54.96255111694336,
          -51.38904571533203,
          -20.606088638305664,
          -23.77410316467285,
          -1.1414622068405151,
          29.467435836791992,
          -8.27759075164795,
          44.102962493896484,
          -25.27076530456543,
          -8.98659610748291,
          -31.86907386779785,
          47.52057647705078,
          -19.123300552368164,
          -21.44131088256836,
          -33.182655334472656,
          19.78844451904297,
          23.83241844177246,
          -66.70057678222656,
          -22.00864601135254,
          31.13185691833496,
          -63.36207962036133,
          9.63113784790039,
          -0.1252315193414688,
          9.45502758026123,
          28.50421142578125,
          5.500022888183594,
          -6.563591957092285,
          40.173648834228516,
          20.745290756225586,
          -0.3080117404460907,
          26.82040023803711,
          -65.37924194335938,
          30.93882942199707,
          -28.308378219604492,
          40.759498596191406,
          -21.127283096313477,
          -54.933189392089844,
          -8.815516471862793,
          32.96034240722656,
          42.22870635986328,
          -13.610224723815918,
          -58.32481002807617,
          35.6544075012207,
          32.45856857299805,
          -26.545000076293945,
          -26.21400260925293,
          -19.12448501586914,
          -27.534578323364258,
          21.509798049926758,
          8.846389770507812,
          36.04062271118164,
          -0.5264748334884644,
          20.205890655517578,
          23.05367660522461,
          25.36896324157715,
          -1.7014751434326172,
          -14.140608787536621,
          -2.813594102859497,
          -58.842735290527344,
          25.520265579223633,
          -11.694758415222168,
          -13.628693580627441,
          -14.194936752319336,
          -13.628703117370605,
          32.187435150146484,
          -22.941062927246094,
          15.418797492980957,
          -16.565622329711914,
          -15.428451538085938,
          1.5273898839950562,
          11.383964538574219,
          28.122894287109375,
          -11.697965621948242,
          -23.88793182373047,
          -54.12024688720703,
          33.26582717895508,
          -19.068613052368164,
          34.46537780761719,
          -7.24530029296875,
          41.44791793823242,
          35.04505157470703,
          -27.070417404174805,
          -16.37193489074707,
          -69.4501724243164,
          -57.37413024902344,
          -33.65017318725586,
          -12.338310241699219,
          23.310592651367188,
          23.39305877685547,
          30.367958068847656,
          5.495140552520752,
          16.707008361816406,
          47.38563537597656,
          2.7493491172790527,
          32.475120544433594,
          43.75121307373047,
          12.312578201293945,
          1.9004846811294556,
          7.665441036224365,
          -10.972383499145508,
          -13.858681678771973,
          -14.784382820129395,
          22.677501678466797,
          25.771013259887695,
          -61.99153137207031,
          36.39848327636719,
          -29.913820266723633,
          28.169883728027344,
          30.14518165588379,
          -23.871742248535156,
          24.347003936767578,
          -25.1122989654541,
          37.748382568359375,
          30.063678741455078,
          -66.95420837402344,
          18.16703987121582,
          -10.480048179626465,
          -14.032695770263672,
          -6.802354335784912,
          31.90069007873535,
          19.874143600463867,
          -20.274614334106445,
          -12.778326988220215,
          -16.20901107788086,
          45.96781539916992,
          32.60321044921875,
          -29.896207809448242,
          -50.8218994140625,
          -20.274614334106445,
          34.2017707824707,
          -68.53362274169922,
          -14.451314926147461,
          30.54259490966797,
          5.325404644012451,
          23.16613006591797,
          26.393936157226562,
          28.157899856567383,
          -9.307491302490234,
          33.42784881591797,
          -29.89557647705078,
          -12.255599975585938,
          30.145158767700195,
          23.262392044067383,
          27.645763397216797,
          -61.85649871826172,
          -57.977989196777344,
          -54.56349182128906,
          -52.046913146972656,
          -13.012539863586426,
          -56.40434265136719,
          -17.374858856201172,
          36.86442565917969,
          41.52362823486328,
          -15.983685493469238,
          -3.5117790699005127,
          10.294462203979492,
          11.775315284729004,
          -9.657424926757812,
          -12.76593017578125,
          35.482784271240234,
          9.583505630493164,
          -61.631935119628906,
          -9.470157623291016,
          -12.446900367736816,
          -54.95671081542969,
          -17.90378189086914,
          -22.177446365356445,
          -8.104537010192871,
          27.83297348022461,
          38.22235107421875,
          -24.093639373779297,
          -50.02618408203125,
          -58.524696350097656,
          -0.2826659083366394,
          -60.788665771484375,
          -63.81339645385742,
          -59.72148132324219,
          -70.75977325439453,
          50.00927734375,
          -12.995806694030762,
          -20.145055770874023,
          -2.5716280937194824,
          23.162385940551758,
          39.97380828857422,
          47.466861724853516,
          38.901329040527344,
          33.426795959472656,
          37.003353118896484,
          37.545654296875,
          47.468482971191406,
          5.640007972717285,
          16.605857849121094,
          -29.728294372558594,
          -9.315901756286621,
          18.335100173950195,
          25.57143211364746,
          6.779286861419678,
          26.56646156311035,
          -14.478006362915039,
          32.80935287475586,
          -15.790051460266113,
          -18.777530670166016,
          -1.6921545267105103,
          29.183866500854492,
          -12.76791763305664,
          23.958765029907227,
          -17.970916748046875,
          -0.8663933873176575,
          -9.26574420928955,
          -29.197996139526367,
          -35.719844818115234,
          -35.054443359375,
          39.63041687011719,
          47.471900939941406,
          -35.21957778930664,
          46.30437469482422,
          35.33970260620117,
          14.717769622802734,
          29.764564514160156,
          22.921276092529297,
          -0.4792952239513397,
          34.2130126953125,
          -25.39427947998047,
          13.821375846862793,
          36.27483367919922,
          -2.714702844619751,
          36.01536178588867,
          -62.54094696044922,
          -20.623117446899414,
          40.95127868652344,
          43.629329681396484,
          44.73427963256836,
          -65.75428009033203,
          45.10332489013672,
          -61.0168342590332,
          -65.7472915649414,
          -25.827089309692383,
          22.59623908996582,
          -29.615453720092773,
          -8.841890335083008,
          -2.1073622703552246,
          36.884422302246094,
          -16.949050903320312,
          36.1542854309082,
          -4.474401473999023,
          43.867679595947266,
          -30.043991088867188,
          32.11310577392578,
          -2.6105055809020996,
          38.40523147583008,
          36.90654373168945,
          -6.227607250213623,
          27.876506805419922,
          -16.46216583251953,
          48.546600341796875,
          35.349979400634766,
          17.403257369995117,
          50.125179290771484,
          28.534912109375,
          18.912288665771484,
          1.5860569477081299,
          -12.55846118927002,
          -8.796289443969727,
          24.865625381469727,
          -59.002986907958984,
          -67.38219451904297,
          48.28998947143555,
          -65.10071563720703,
          -15.402909278869629,
          -17.38412857055664,
          -19.593477249145508,
          21.57758140563965,
          -25.95758819580078,
          27.118179321289062,
          2.785872220993042,
          -18.390409469604492,
          -15.991063117980957,
          38.03948211669922,
          25.285032272338867,
          -14.134452819824219,
          -25.89249038696289,
          -72.85855865478516,
          11.301857948303223,
          -10.139917373657227,
          36.05571365356445,
          -29.245981216430664,
          -25.410888671875,
          -8.166156768798828,
          15.862998008728027,
          33.39201354980469,
          -3.826143741607666,
          32.210697174072266,
          -70.67312622070312,
          -47.66077423095703,
          12.944437026977539,
          13.453012466430664,
          -30.488109588623047,
          14.887094497680664,
          36.1265983581543,
          25.78853988647461,
          -27.423885345458984,
          7.998791217803955,
          -10.860461235046387,
          -20.717052459716797,
          -4.842300891876221,
          -18.431949615478516,
          -11.050354957580566,
          -24.12009620666504,
          -9.964322090148926,
          42.50510787963867,
          27.128705978393555,
          35.98371124267578,
          -3.789369583129883,
          50.524383544921875,
          12.750325202941895,
          -72.66632843017578,
          47.19953918457031,
          -2.774690628051758,
          6.7480597496032715,
          1.6592819690704346,
          -0.4572603702545166,
          19.337261199951172,
          -55.53453826904297,
          -19.673030853271484,
          37.23907470703125,
          30.947668075561523,
          1.120179533958435,
          -10.224764823913574,
          -8.805497169494629,
          -7.539823055267334,
          30.7303524017334,
          28.882080078125,
          27.910486221313477,
          -61.721492767333984,
          50.009010314941406,
          36.646053314208984,
          -32.7188606262207,
          -15.121367454528809,
          24.781749725341797,
          -62.08081817626953,
          27.02745246887207,
          -16.50908660888672,
          -55.99623107910156,
          -8.784062385559082,
          38.415035247802734,
          35.40765380859375,
          -17.435640335083008,
          -58.23859786987305,
          33.91340637207031,
          -31.90819549560547,
          37.45254135131836,
          40.216453552246094,
          45.83036804199219,
          45.83252716064453,
          -5.29798698425293,
          -8.921515464782715,
          -13.268190383911133,
          31.795211791992188,
          -55.28264617919922,
          -12.185540199279785,
          19.254655838012695,
          -68.89703369140625,
          15.21291446685791,
          -56.758567810058594,
          -15.874907493591309,
          -32.718692779541016,
          -32.71961212158203,
          18.167041778564453,
          -14.729425430297852,
          30.727741241455078,
          -21.257137298583984,
          36.25853729248047,
          -60.76516342163086,
          23.58544921875,
          38.439300537109375,
          -25.20612907409668,
          36.78961181640625,
          35.312294006347656,
          36.543006896972656,
          40.47309875488281,
          13.323892593383789,
          40.2353515625,
          36.2263298034668,
          -30.561899185180664,
          37.164615631103516,
          40.60126876831055,
          36.506011962890625,
          40.96000289916992,
          38.093170166015625,
          8.362082481384277,
          -27.416284561157227,
          41.923221588134766,
          7.072683334350586,
          -57.04486846923828,
          38.98219680786133,
          29.09244155883789,
          37.06545639038086,
          -0.9899892210960388,
          26.85237693786621,
          32.538455963134766,
          13.856132507324219,
          46.77023696899414,
          10.541205406188965,
          43.73704528808594,
          -9.757299423217773,
          37.9484748840332,
          -9.49866008758545,
          -17.108823776245117,
          19.15567398071289,
          37.86856460571289,
          -8.067018508911133,
          44.85682678222656,
          -18.40438461303711,
          -24.15178871154785,
          9.887046813964844,
          -25.70545768737793,
          -10.027665138244629,
          27.746997833251953,
          28.376914978027344,
          27.242067337036133,
          -24.390417098999023,
          10.495905876159668,
          35.7730598449707,
          -28.761302947998047,
          36.596351623535156,
          -57.17597579956055,
          -17.63822364807129,
          -56.16950607299805,
          -9.290306091308594,
          -65.10075378417969,
          47.20488739013672,
          -5.668455123901367,
          11.196579933166504,
          11.766178131103516,
          -52.86454391479492,
          -3.7386953830718994,
          50.09565353393555,
          -59.056060791015625,
          -49.31812286376953,
          37.68186569213867,
          -48.61089324951172,
          -52.124752044677734,
          -1.4232895374298096,
          -53.50844192504883,
          -53.658241271972656,
          38.93058395385742,
          5.074208736419678,
          46.23728561401367,
          -24.975257873535156,
          44.433258056640625,
          25.626026153564453,
          -21.682199478149414,
          -61.02275085449219,
          -16.063968658447266,
          44.3432502746582,
          -6.129604816436768,
          -14.446216583251953,
          -66.60736846923828,
          -56.65101623535156,
          -15.303215980529785,
          -18.204065322875977,
          -33.53729248046875,
          32.74763107299805,
          44.06691360473633,
          -21.49492073059082,
          -26.558515548706055,
          -27.769489288330078,
          -11.60196304321289,
          32.68741989135742,
          -27.91732406616211
         ],
         "xaxis": "x",
         "y": [
          54.795249938964844,
          41.69188690185547,
          -17.16655921936035,
          45.016910552978516,
          -10.186371803283691,
          1.365790843963623,
          -24.024944305419922,
          -47.10125732421875,
          34.99964141845703,
          32.825801849365234,
          16.276506423950195,
          -26.571624755859375,
          -16.987224578857422,
          61.29839324951172,
          41.308292388916016,
          -7.284549236297607,
          -40.37464904785156,
          -2.224163770675659,
          24.391016006469727,
          8.6353120803833,
          -9.791443824768066,
          -12.671640396118164,
          -44.40155792236328,
          34.809059143066406,
          25.967653274536133,
          -45.77375793457031,
          -37.150177001953125,
          51.39398956298828,
          13.771773338317871,
          -46.372859954833984,
          -41.26946258544922,
          16.652278900146484,
          -37.1676025390625,
          -27.286975860595703,
          -25.129770278930664,
          21.73967742919922,
          -42.76523971557617,
          14.904938697814941,
          -19.328353881835938,
          -28.479503631591797,
          -10.111002922058105,
          -39.004432678222656,
          -51.839412689208984,
          19.8553524017334,
          1.1494357585906982,
          -22.465665817260742,
          16.81769561767578,
          -34.824317932128906,
          -29.281381607055664,
          -13.404081344604492,
          -38.73698043823242,
          -7.589272975921631,
          -10.201827049255371,
          -20.75016212463379,
          -8.490859985351562,
          -47.08934783935547,
          -14.952963829040527,
          4.578596115112305,
          -33.8382682800293,
          -26.494915008544922,
          2.3576719760894775,
          -26.944299697875977,
          25.45906639099121,
          43.90717315673828,
          3.5335023403167725,
          -1.1505718231201172,
          16.411094665527344,
          8.668766021728516,
          -27.792917251586914,
          49.02945327758789,
          23.65093421936035,
          7.428220748901367,
          59.485076904296875,
          57.88903045654297,
          60.10248565673828,
          58.279510498046875,
          51.95741271972656,
          32.8858642578125,
          16.046960830688477,
          47.51221466064453,
          35.94062423706055,
          52.1695442199707,
          1.9242039918899536,
          43.28044891357422,
          51.757320404052734,
          3.110689640045166,
          32.61102294921875,
          -2.710362434387207,
          51.191349029541016,
          37.841156005859375,
          -17.010053634643555,
          -16.312786102294922,
          -4.647227764129639,
          -6.44280481338501,
          -4.214984893798828,
          -8.516500473022461,
          6.807062149047852,
          -8.20380973815918,
          50.59403991699219,
          -33.79645538330078,
          40.55623245239258,
          43.59459686279297,
          33.477237701416016,
          31.713977813720703,
          -19.380598068237305,
          28.075387954711914,
          45.499080657958984,
          31.944032669067383,
          -48.62228012084961,
          -5.456031322479248,
          -39.54804229736328,
          -8.259295463562012,
          -46.59011459350586,
          -48.56837844848633,
          -52.030723571777344,
          -25.210914611816406,
          -34.39508819580078,
          2.165391445159912,
          -42.07162857055664,
          16.797929763793945,
          -3.2730979919433594,
          56.90789031982422,
          -7.2638373374938965,
          -35.15519714355469,
          -8.499397277832031,
          53.919044494628906,
          -24.347333908081055,
          -27.009471893310547,
          -36.49711608886719,
          51.66744613647461,
          -32.52638244628906,
          -42.11701965332031,
          -42.23286819458008,
          -32.53926467895508,
          -14.723065376281738,
          -54.687156677246094,
          59.980613708496094,
          3.5335023403167725,
          -36.28208541870117,
          16.443817138671875,
          24.7657527923584,
          16.443817138671875,
          -18.221721649169922,
          -12.40032958984375,
          26.50662612915039,
          -26.387760162353516,
          -31.03923797607422,
          -26.321025848388672,
          -4.229935169219971,
          -22.52515411376953,
          56.19154739379883,
          -53.1982307434082,
          53.09225082397461,
          55.15721893310547,
          40.75106430053711,
          -28.5640926361084,
          20.162996292114258,
          21.258962631225586,
          -26.38955307006836,
          -29.5360107421875,
          -20.44091796875,
          -24.80584716796875,
          -7.895334720611572,
          -15.59842586517334,
          -22.57196044921875,
          13.382831573486328,
          0.2882815897464752,
          -29.324811935424805,
          -30.212717056274414,
          -8.384828567504883,
          -22.95623207092285,
          -2.831758975982666,
          27.49156379699707,
          -33.09795379638672,
          -33.64069366455078,
          16.158754348754883,
          -24.78083038330078,
          -40.55754852294922,
          -14.693882942199707,
          55.39598846435547,
          60.894775390625,
          58.27995300292969,
          29.723371505737305,
          51.48808288574219,
          19.653627395629883,
          29.265296936035156,
          5.691646575927734,
          57.66959762573242,
          47.08995819091797,
          2.9687743186950684,
          -38.166961669921875,
          35.57948684692383,
          13.07931900024414,
          -37.12236022949219,
          -50.22045135498047,
          -49.274715423583984,
          62.25003433227539,
          42.7999382019043,
          54.04338073730469,
          -20.950496673583984,
          44.543922424316406,
          17.884756088256836,
          38.863548278808594,
          -20.48342514038086,
          39.55194091796875,
          -9.523290634155273,
          -6.167150020599365,
          49.926124572753906,
          48.07402801513672,
          46.9854850769043,
          54.060279846191406,
          -44.05088424682617,
          -1.5484275817871094,
          -51.637733459472656,
          -51.8090934753418,
          -35.98869705200195,
          48.609771728515625,
          45.88953399658203,
          41.139488220214844,
          52.06543731689453,
          41.92067337036133,
          58.271183013916016,
          -45.65397262573242,
          38.159698486328125,
          -8.148655891418457,
          41.020755767822266,
          47.841800689697266,
          49.988067626953125,
          42.736568450927734,
          48.90946578979492,
          -10.070384979248047,
          52.69792175292969,
          48.05685043334961,
          34.10996627807617,
          -22.30595588684082,
          -5.678097724914551,
          -12.489967346191406,
          -38.819427490234375,
          17.405155181884766,
          -20.32349967956543,
          -42.52471923828125,
          -42.53705596923828,
          -47.411861419677734,
          11.210878372192383,
          -2.219322443008423,
          -41.5072021484375,
          20.2186336517334,
          -12.948253631591797,
          -26.852577209472656,
          -4.344961643218994,
          -34.17341613769531,
          -34.17429733276367,
          44.156341552734375,
          -24.362573623657227,
          -25.150827407836914,
          -21.948617935180664,
          19.250886917114258,
          19.250761032104492,
          62.697052001953125,
          41.07883834838867,
          14.235638618469238,
          14.628785133361816,
          -9.271696090698242,
          -12.620468139648438,
          11.616120338439941,
          42.76213073730469,
          -5.95196533203125,
          20.80703353881836,
          31.58611488342285,
          35.66032791137695,
          6.8839006423950195,
          -34.28881072998047,
          50.8588752746582,
          -48.9969596862793,
          -50.7481575012207,
          0.026786046102643013,
          37.82710647583008,
          45.622886657714844,
          -35.06475830078125,
          46.37055206298828,
          44.102134704589844,
          -13.099713325500488,
          15.010568618774414,
          62.389747619628906,
          17.37276840209961,
          18.120681762695312,
          -47.17786407470703,
          6.182983875274658,
          18.154996871948242,
          18.80899429321289,
          -0.2531645894050598,
          8.717963218688965,
          -1.8160109519958496,
          8.434678077697754,
          18.808998107910156,
          3.0470643043518066,
          14.927634239196777,
          -15.98716926574707,
          42.8465461730957,
          -42.89032745361328,
          32.34926986694336,
          16.54559326171875,
          -9.497035026550293,
          -35.616573333740234,
          -16.570667266845703,
          -13.2410888671875,
          38.071868896484375,
          -30.537288665771484,
          21.77358055114746,
          44.544490814208984,
          8.548568725585938,
          7.827920436859131,
          -13.064687728881836,
          32.5760498046875,
          -0.9871823787689209,
          2.999711036682129,
          -33.0494270324707,
          -21.910228729248047,
          -5.614048004150391,
          -5.627227306365967,
          -21.533145904541016,
          -37.5306396484375,
          -8.820691108703613,
          46.0722770690918,
          7.890542984008789,
          -29.595338821411133,
          -20.35343360900879,
          58.18021774291992,
          62.38959884643555,
          35.287635803222656,
          5.605755805969238,
          63.31729507446289,
          59.65640640258789,
          -41.234283447265625,
          47.881622314453125,
          58.624027252197266,
          40.086856842041016,
          -18.41423225402832,
          11.360947608947754,
          -33.52280807495117,
          -42.265193939208984,
          3.036776542663574,
          11.360881805419922,
          -0.5592086911201477,
          35.610618591308594,
          -14.632203102111816,
          -38.686676025390625,
          -32.89598083496094,
          12.908236503601074,
          28.990564346313477,
          11.360955238342285,
          9.648115158081055,
          -18.00210189819336,
          -18.13276481628418,
          46.772850036621094,
          -29.548675537109375,
          -15.570486068725586,
          -27.140975952148438,
          29.456859588623047,
          10.26784610748291,
          -38.12716293334961,
          -28.91756248474121,
          -2.8455941677093506,
          -37.38682174682617,
          -46.212398529052734,
          52.35830307006836,
          58.39799880981445,
          -49.813236236572266,
          55.52429962158203,
          51.285091400146484,
          -0.16169343888759613,
          -17.901655197143555,
          -8.497344970703125,
          9.58426570892334,
          -18.892635345458984,
          -17.875,
          -40.104591369628906,
          -0.4006209969520569,
          52.6162223815918,
          56.646766662597656,
          6.268505096435547,
          -14.691811561584473,
          -1.8480136394500732,
          -27.153329849243164,
          48.766727447509766,
          4.261111736297607,
          -13.955296516418457,
          -43.86433792114258,
          -47.65483856201172,
          -45.16243362426758,
          -30.438386917114258,
          -18.61613655090332,
          1.430977702140808,
          -37.880531311035156,
          -11.17866039276123,
          -7.277538776397705,
          -33.22078323364258,
          -42.11273193359375,
          7.8922953605651855,
          25.10079002380371,
          -2.5339701175689697,
          40.43199920654297,
          31.797639846801758,
          -0.5799612998962402,
          -8.401681900024414,
          2.9972054958343506,
          32.885719299316406,
          -47.11161804199219,
          18.176944732666016,
          -45.24240493774414,
          42.02522277832031,
          37.25151443481445,
          -23.63504409790039,
          55.32334518432617,
          28.90632438659668,
          -43.47551727294922,
          1.2509154081344604,
          -26.032184600830078,
          -20.732643127441406,
          -46.05963134765625,
          41.16328811645508,
          52.72822952270508,
          46.55488967895508,
          59.851478576660156,
          -14.705267906188965,
          -27.197139739990234,
          -12.321683883666992,
          -10.901814460754395,
          -19.402620315551758,
          24.740718841552734,
          44.856170654296875,
          -0.9493651390075684,
          10.399394989013672,
          -41.25901794433594,
          -9.773465156555176,
          -29.28132438659668,
          -19.645870208740234,
          -8.313395500183105,
          20.66556739807129,
          -35.893123626708984,
          -11.723577499389648,
          -6.977451801300049,
          25.908512115478516,
          -28.977333068847656,
          -7.621816158294678,
          -8.044580459594727,
          43.993709564208984,
          -7.7445173263549805,
          -4.305136680603027,
          -1.6630147695541382,
          27.72271156311035,
          -11.968689918518066,
          42.8144416809082,
          -12.426665306091309,
          -3.9318323135375977,
          -26.464405059814453,
          -16.688058853149414,
          8.621576309204102,
          -0.8964853286743164,
          -7.6319804191589355,
          -10.540775299072266,
          39.227046966552734,
          52.271392822265625,
          7.83704948425293,
          -7.385445594787598,
          -31.81096649169922,
          -35.58354949951172,
          43.89206314086914,
          40.37107467651367,
          43.91756057739258,
          -53.58845520019531,
          54.34431838989258,
          59.97398376464844,
          61.366397857666016,
          6.629167556762695,
          -18.848031997680664,
          44.76755142211914,
          -12.498083114624023,
          44.80240249633789,
          17.38670539855957,
          -45.13469314575195,
          -31.644418716430664,
          40.343021392822266,
          48.86260986328125,
          -0.4381115436553955,
          53.02561569213867,
          41.421390533447266,
          -6.139725208282471,
          56.66879653930664,
          -4.291826248168945,
          -6.7250871658325195,
          -18.7789306640625,
          -36.704410552978516,
          -4.526974678039551,
          -11.98939323425293,
          29.167818069458008,
          -12.966203689575195,
          39.803489685058594,
          20.756105422973633,
          -40.42226791381836,
          -11.620257377624512,
          -6.938364505767822,
          32.521602630615234,
          -40.40652084350586,
          16.758249282836914,
          23.18960952758789,
          -20.56125831604004,
          -11.387602806091309,
          0.003183657769113779,
          -42.510433197021484,
          -42.52391052246094,
          -7.336827278137207,
          -46.483768463134766,
          26.03730010986328,
          -34.31334686279297,
          -9.832415580749512,
          -32.552921295166016,
          -32.74864959716797,
          -4.6329169273376465,
          -36.48151779174805,
          26.51996421813965,
          25.962984085083008,
          -36.58295440673828,
          -8.093888282775879,
          59.4647216796875,
          44.3585090637207,
          -5.141860008239746,
          -51.243560791015625,
          -26.14672088623047,
          -9.775346755981445,
          6.315359592437744,
          -13.886835098266602,
          -19.44741439819336,
          45.02450180053711,
          61.71274185180664,
          60.176979064941406,
          21.227703094482422,
          -3.395728588104248,
          23.136188507080078,
          -4.253145217895508,
          -9.530172348022461,
          51.13412094116211,
          -17.136001586914062,
          -4.485023498535156,
          45.025291442871094,
          46.41997146606445,
          41.80859375,
          -32.173240661621094,
          52.447139739990234,
          43.13718795776367,
          -7.725249290466309,
          54.8611946105957,
          -2.029571294784546,
          5.741129398345947,
          21.457744598388672,
          -7.390869617462158,
          -24.89299201965332,
          -40.54083251953125,
          -26.207035064697266,
          -0.018907755613327026,
          -3.8078207969665527,
          -25.682764053344727,
          -24.606550216674805,
          2.3872084617614746,
          -19.89052391052246,
          44.346092224121094,
          -7.302585124969482,
          -42.88230514526367,
          -5.2449798583984375,
          43.97211837768555,
          -21.335472106933594,
          -40.928871154785156,
          -48.360107421875,
          -44.41514205932617,
          -15.975144386291504,
          -18.355575561523438,
          27.59095573425293,
          -34.127899169921875,
          42.010555267333984,
          -10.172871589660645,
          -32.49197769165039,
          24.545406341552734,
          44.3285026550293,
          -25.300987243652344,
          -8.61573600769043,
          32.2525520324707,
          -14.52208423614502,
          54.495182037353516,
          42.779090881347656,
          6.330066204071045,
          53.748634338378906,
          29.137710571289062,
          24.589839935302734,
          -39.214115142822266,
          -42.009979248046875,
          33.929874420166016,
          11.153470039367676,
          -9.532754898071289,
          -22.55722427368164,
          30.771404266357422,
          -11.265036582946777,
          52.645137786865234,
          -12.883152961730957,
          -13.188016891479492,
          3.3051342964172363,
          2.9736454486846924,
          55.097625732421875,
          -8.278468132019043,
          -47.70344543457031,
          -5.888643741607666,
          44.40422439575195,
          37.22783660888672,
          -47.008758544921875,
          32.27227020263672,
          3.2758049964904785,
          2.1561665534973145,
          -42.8995246887207,
          -35.523075103759766,
          33.97746658325195,
          -0.2016659528017044,
          -10.859126091003418,
          -41.404693603515625,
          57.63426971435547,
          -29.309097290039062,
          -5.85304069519043,
          -39.12902069091797,
          35.60346221923828,
          -40.327232360839844,
          -48.2501220703125,
          58.60374450683594,
          -3.443413257598877,
          54.51149368286133,
          57.110233306884766,
          59.1403923034668,
          52.106224060058594,
          59.21642303466797,
          45.5506706237793,
          60.2814826965332,
          53.251312255859375,
          61.692325592041016,
          61.275516510009766,
          57.090633392333984,
          2.6302170753479004,
          55.643306732177734,
          55.342071533203125,
          56.6064338684082,
          51.94548034667969,
          58.03250503540039,
          62.29041290283203,
          48.328670501708984,
          -1.8553277254104614,
          55.092498779296875,
          55.11190414428711,
          47.08021545410156,
          2.4287116527557373,
          40.67290115356445,
          -0.7959203720092773,
          11.194536209106445,
          -48.865299224853516,
          -34.09330749511719,
          13.644036293029785,
          -43.47361373901367,
          -35.58258819580078,
          -44.88984298706055,
          -32.107566833496094,
          -0.5570967197418213,
          -39.35767364501953,
          -26.523855209350586,
          -35.382545471191406,
          -16.31971549987793,
          31.94291877746582,
          3.603332042694092,
          49.772216796875,
          24.22662925720215,
          43.96360778808594,
          0.33842796087265015,
          -13.44636344909668,
          -47.012229919433594,
          59.48529052734375,
          58.33652877807617,
          48.38395309448242,
          -26.971158981323242,
          -11.240626335144043,
          -29.13161849975586,
          46.92644500732422,
          44.528419494628906,
          -0.6947048306465149,
          50.728885650634766,
          44.3071174621582,
          33.22132110595703,
          -11.862848281860352,
          20.462125778198242,
          -50.35261154174805,
          -43.995296478271484,
          20.319765090942383,
          8.07772159576416,
          -14.50796890258789,
          3.0733752250671387,
          -28.520267486572266,
          33.31727600097656,
          38.33427429199219,
          -27.693912506103516,
          33.7663459777832,
          -27.08690643310547,
          -31.596927642822266,
          -27.14712905883789,
          -40.16404724121094,
          31.675920486450195,
          -13.892017364501953,
          -37.612022399902344,
          0.8232555389404297,
          50.45811080932617,
          -29.782196044921875,
          -29.782182693481445,
          -2.1290485858917236,
          -43.43070983886719,
          -2.2846786975860596,
          -36.990970611572266,
          -48.320560455322266,
          11.775274276733398,
          43.90101623535156,
          -48.398345947265625,
          -48.05020523071289,
          -51.20396423339844,
          -47.21097183227539,
          -40.962738037109375,
          27.366886138916016,
          23.772390365600586,
          -47.66162109375,
          -46.68876266479492,
          -12.420001029968262,
          -34.56255340576172,
          35.30743408203125,
          -46.48149108886719,
          18.243501663208008,
          -49.4161262512207,
          -46.44422912597656,
          -0.00687779113650322,
          -15.298437118530273,
          36.03873825073242,
          58.73095703125,
          58.556636810302734,
          48.01662063598633,
          -1.4751750230789185,
          49.63347244262695,
          15.072199821472168,
          -23.572418212890625,
          -27.84415626525879,
          -35.1900749206543,
          -3.6424429416656494,
          -44.03971481323242,
          -22.557281494140625,
          0.6885694265365601,
          57.262054443359375,
          7.638636112213135,
          43.9419059753418,
          16.077503204345703,
          49.14605712890625,
          5.636114597320557,
          16.85352897644043,
          -8.385587692260742,
          -4.925756931304932,
          -31.570228576660156,
          -15.222406387329102,
          -4.925692558288574,
          35.80502700805664,
          -11.56074333190918,
          38.291011810302734,
          -34.33625030517578,
          -2.880549669265747,
          -20.12952995300293,
          24.62746810913086,
          12.393086433410645,
          50.54789733886719,
          -2.1076242923736572,
          7.400843143463135,
          0.26665472984313965,
          -40.07175064086914,
          -17.286958694458008,
          -11.839031219482422,
          -4.682193756103516,
          -2.9516470432281494,
          28.680160522460938,
          8.748846054077148,
          8.580588340759277,
          -4.42445707321167,
          -29.0748233795166,
          2.3805930614471436,
          -1.2098956108093262,
          7.364449977874756,
          20.116832733154297,
          1.595491886138916,
          33.516578674316406,
          14.90368366241455,
          0.7125045657157898,
          -9.392912864685059,
          -32.39602279663086,
          -0.7053412199020386,
          -40.48861312866211,
          -43.73847579956055,
          53.1444091796875,
          21.089441299438477,
          -24.086774826049805,
          -12.23170280456543,
          11.752976417541504,
          -30.043058395385742,
          -39.14314651489258,
          4.541130542755127,
          -43.213783264160156,
          -0.8000702261924744,
          -48.89275360107422,
          17.522031784057617,
          -0.6857720613479614,
          -29.3983211517334,
          -41.13639450073242,
          43.41878890991211,
          42.82157516479492,
          17.421737670898438,
          -14.206283569335938,
          28.419754028320312,
          -11.223217964172363,
          -0.3416067361831665,
          35.155517578125,
          -8.364764213562012,
          -25.165536880493164,
          -47.70509719848633,
          39.86228561401367,
          -12.734251022338867,
          4.207028388977051,
          -0.6709558367729187,
          -19.985692977905273,
          -8.43282413482666,
          -40.72892761230469,
          -51.519386291503906,
          33.09284210205078,
          -40.836669921875,
          35.21429443359375,
          60.25570297241211,
          -49.64645004272461,
          -35.949737548828125,
          41.45302200317383,
          -28.53080940246582,
          34.66956329345703,
          6.8839006423950195,
          24.097515106201172,
          -41.04966354370117,
          9.653103828430176,
          40.72350311279297,
          -39.42695999145508,
          -24.67327117919922,
          -25.724245071411133,
          -26.40964126586914,
          1.149344801902771,
          31.011167526245117,
          -2.3158018589019775,
          20.011497497558594,
          -43.28662109375,
          -12.968825340270996,
          -46.63435363769531,
          -25.58578872680664,
          -4.903620719909668,
          13.608299255371094,
          39.870113372802734,
          33.89872741699219,
          -3.874377489089966,
          -42.9461784362793,
          37.351810455322266,
          12.952861785888672,
          47.915225982666016,
          -43.451416015625,
          -44.63330078125,
          -42.09181213378906,
          19.535337448120117,
          -9.80465316772461,
          -41.196250915527344,
          41.842464447021484,
          -0.29304972290992737,
          -12.090293884277344,
          20.26802635192871,
          -48.89767837524414,
          -37.22083282470703,
          -15.958579063415527,
          7.193789005279541,
          0.3325408399105072,
          -5.772149085998535,
          53.04997253417969,
          -5.537903785705566,
          9.293228149414062,
          6.805627346038818,
          2.18266224861145,
          54.537254333496094,
          -40.5678825378418,
          -11.060734748840332,
          49.91263961791992,
          45.44502639770508,
          0.9909447431564331,
          -12.000886917114258,
          -40.7164192199707,
          6.037435054779053,
          12.162814140319824,
          43.26569366455078,
          3.4737555980682373,
          0.29102981090545654,
          56.907325744628906,
          -28.543411254882812,
          -10.097756385803223,
          -32.622779846191406,
          3.5335023403167725,
          -51.58891677856445,
          -1.0491764545440674,
          19.706401824951172,
          -1.6942585706710815,
          62.04004669189453,
          -3.9356017112731934,
          -11.348053932189941,
          -20.324167251586914,
          30.660585403442383,
          -45.58189010620117,
          -19.17766761779785,
          0.787971556186676,
          14.894913673400879,
          11.340164184570312,
          24.708362579345703,
          26.24745750427246,
          17.061189651489258,
          -41.76070785522461,
          13.170373916625977,
          -33.909786224365234,
          41.05656814575195,
          -4.342167854309082,
          59.22712707519531,
          59.274871826171875,
          52.37486267089844,
          51.53797149658203,
          -50.91359329223633,
          58.26820755004883,
          -25.75738525390625,
          -1.0362759828567505,
          -47.46175765991211,
          -36.758365631103516,
          -20.937891006469727,
          46.74795150756836,
          -5.613205432891846,
          -3.0209360122680664,
          -6.132474899291992,
          50.02915954589844,
          -1.5682544708251953,
          -39.69743728637695,
          4.295118808746338,
          -21.827091217041016,
          21.88313865661621,
          49.741336822509766,
          17.19413185119629,
          -23.019067764282227,
          4.973985195159912,
          -36.527793884277344,
          -38.220333099365234,
          4.21298360824585,
          -12.46036434173584,
          -38.65825653076172,
          -41.689815521240234,
          -6.089719772338867,
          -4.809055805206299,
          -2.150930643081665,
          -47.86185073852539,
          1.0921720266342163,
          15.38544750213623,
          -18.644676208496094,
          -12.656399726867676,
          20.98836326599121,
          -26.450952529907227,
          -4.6305460929870605,
          -0.2931898534297943,
          -7.916121006011963,
          1.0267925262451172,
          -38.146095275878906,
          -4.255621910095215,
          50.800662994384766,
          21.002567291259766,
          50.217857360839844,
          35.66373825073242,
          43.52952194213867,
          19.824251174926758,
          -1.9835525751113892,
          31.36393165588379,
          48.91181182861328,
          -39.882747650146484,
          63.48293685913086,
          -0.6857719421386719,
          -12.420689582824707,
          -6.493087291717529,
          -4.999799728393555,
          25.469327926635742,
          6.484645366668701,
          49.94944381713867,
          41.82670974731445,
          5.150360107421875,
          -20.562599182128906,
          11.39635181427002,
          -16.99953269958496,
          15.176324844360352,
          -32.59270477294922,
          -55.50148391723633,
          25.708351135253906,
          45.359107971191406,
          6.992569446563721,
          55.56132507324219,
          44.90704345703125,
          12.15588665008545,
          -11.769240379333496,
          40.63328552246094,
          -24.266721725463867,
          17.84088706970215,
          0.0703825056552887,
          -1.4261043071746826,
          -7.005481243133545,
          -7.767545700073242,
          1.4226020574569702,
          36.95341110229492,
          -9.606550216674805,
          1.4474260807037354,
          19.30950927734375,
          14.227432250976562,
          42.973663330078125,
          -21.317310333251953,
          -13.401165962219238,
          -18.752031326293945,
          44.236873626708984,
          25.420949935913086,
          55.73691940307617,
          52.675941467285156,
          -11.37215518951416,
          29.642993927001953,
          -20.64784049987793,
          -21.013851165771484,
          -11.841933250427246,
          22.884674072265625,
          -37.19749069213867,
          -43.699520111083984,
          34.715782165527344,
          51.66143035888672,
          -48.53538131713867,
          -10.785409927368164,
          9.081418991088867,
          -30.941722869873047,
          6.291782855987549,
          36.66608810424805,
          62.30128860473633,
          -51.7746467590332,
          -1.5122729539871216,
          26.808889389038086,
          -37.25735855102539,
          36.6504020690918,
          35.76383590698242,
          54.874359130859375,
          48.010963439941406,
          -30.4468936920166,
          -12.518369674682617,
          2.951472520828247,
          -20.800752639770508,
          -14.438333511352539,
          -11.643228530883789,
          -28.531509399414062,
          -12.33364486694336,
          20.7561092376709,
          50.86659240722656,
          35.63168716430664,
          -56.56695556640625,
          -47.861454010009766,
          -48.37466812133789,
          47.226707458496094,
          -11.104097366333008,
          -17.146814346313477,
          -49.60491943359375,
          -49.60785675048828,
          -1.4569369554519653,
          49.85978317260742,
          -27.923070907592773,
          -6.9830732345581055,
          -39.21723175048828,
          -9.701231002807617,
          47.399818420410156,
          44.746150970458984,
          -43.01939392089844,
          48.084720611572266,
          61.23353576660156,
          -20.436185836791992,
          -3.5110552310943604,
          -7.256433010101318,
          -41.99457550048828,
          8.410856246948242,
          -24.61492347717285,
          -21.855091094970703,
          45.2219352722168,
          -3.5109429359436035,
          35.958187103271484,
          53.15335464477539,
          51.827449798583984,
          -9.038082122802734,
          13.996475219726562,
          8.35567855834961,
          -47.435447692871094,
          -34.201168060302734,
          53.40214157104492,
          5.191200256347656,
          47.85463333129883,
          -39.736026763916016,
          12.059661865234375,
          -5.583470344543457,
          8.708466529846191,
          18.91217803955078,
          -7.698150157928467,
          -42.24736404418945,
          57.24797821044922,
          18.593704223632812,
          11.865427017211914,
          2.063260793685913,
          -21.657533645629883,
          32.59606170654297,
          -38.19844436645508,
          11.887314796447754,
          -34.26296615600586,
          16.565256118774414,
          -0.25565728545188904,
          -18.525970458984375,
          -21.63693618774414,
          27.570737838745117,
          -39.00046920776367,
          -7.992400646209717,
          -37.351280212402344,
          -47.0562629699707,
          -5.464084148406982,
          -27.430391311645508,
          3.079878091812134,
          -25.930587768554688,
          -52.74765396118164,
          48.11212921142578,
          63.477928161621094,
          -45.26288604736328,
          20.652729034423828,
          -45.92670822143555,
          -42.343177795410156,
          -0.584285318851471,
          3.789083480834961,
          -7.118372440338135,
          3.734678268432617,
          -1.1077851057052612,
          -30.53904914855957,
          24.944202423095703,
          4.8033061027526855,
          -6.549304962158203,
          -43.9670295715332,
          -29.927753448486328,
          -10.993369102478027,
          50.293975830078125,
          58.59579849243164,
          58.15275955200195,
          -4.941876411437988,
          20.2618465423584,
          16.65601348876953,
          3.075883626937866,
          21.2429256439209,
          -36.168025970458984,
          44.47138214111328,
          -2.6393187046051025,
          21.32370948791504,
          -9.225959777832031,
          54.59149932861328,
          58.825496673583984,
          -25.406707763671875,
          -29.831527709960938,
          -48.878883361816406,
          17.25433349609375,
          -34.3499641418457,
          58.374549865722656,
          -18.412240982055664,
          58.37565231323242,
          55.91511535644531,
          42.83144760131836,
          -18.511516571044922,
          -1.6878496408462524,
          -17.00790023803711,
          -41.352352142333984,
          19.51643943786621,
          -4.126628398895264,
          44.32167053222656,
          11.616120338439941,
          -37.11497116088867,
          2.3789515495300293,
          0.021708786487579346,
          -34.1163215637207,
          -26.500730514526367,
          -11.031278610229492,
          0.828138530254364,
          -19.874174118041992,
          -29.15949249267578,
          25.305837631225586,
          9.410188674926758,
          -29.110715866088867,
          54.04069137573242,
          39.4078483581543,
          -2.513462543487549,
          -28.592802047729492,
          -13.49533748626709,
          39.409912109375,
          -45.24121856689453,
          6.665058612823486,
          -25.7802791595459,
          3.0531699657440186,
          21.940587997436523,
          -36.21727752685547,
          22.3333797454834,
          18.278324127197266,
          15.355901718139648,
          6.412444591522217,
          21.301809310913086,
          -34.20284652709961,
          -9.134296417236328,
          8.015464782714844,
          35.504215240478516,
          44.504127502441406,
          34.82107162475586,
          45.543243408203125,
          4.808585166931152,
          46.39676284790039,
          33.54628372192383,
          34.77244567871094,
          55.0733757019043,
          -30.577180862426758,
          1.9447249174118042,
          38.783851623535156,
          -3.8975555896759033,
          -39.88085174560547,
          3.68849515914917,
          1.3176342248916626,
          -48.20927810668945,
          -48.19548034667969,
          21.135337829589844,
          18.031639099121094,
          -18.355859756469727,
          -18.925695419311523,
          -2.9259164333343506,
          31.69057846069336,
          42.48947525024414,
          49.20267868041992,
          34.83021545410156,
          28.55525016784668,
          -6.2568864822387695,
          48.45128631591797,
          -16.222999572753906,
          34.91799545288086,
          46.22330093383789,
          -28.17960548400879,
          40.30063247680664,
          -12.136819839477539,
          26.65153694152832,
          21.811681747436523,
          45.309112548828125,
          -26.49001693725586,
          -18.976768493652344,
          46.01777648925781,
          -4.680286407470703,
          -5.790773868560791,
          43.887203216552734,
          0.13420838117599487,
          2.5681962966918945,
          -44.87398910522461,
          -7.981648921966553,
          -47.828269958496094,
          -7.022073268890381,
          -3.923750162124634,
          12.09167766571045,
          -32.85312271118164,
          32.956146240234375,
          42.218345642089844,
          42.761863708496094,
          47.56243896484375,
          48.9041862487793,
          51.22148513793945,
          51.865482330322266,
          41.507877349853516,
          -46.00482940673828,
          -35.81228256225586,
          53.736549377441406,
          -34.60151290893555,
          -41.079627990722656,
          -42.966793060302734,
          -13.90973949432373,
          20.10340690612793,
          43.96788024902344,
          48.638309478759766,
          37.215511322021484,
          -46.0108528137207,
          -36.22686004638672,
          -37.47872543334961,
          -41.6102180480957,
          8.28984260559082,
          40.698760986328125,
          59.527305603027344,
          55.605308532714844,
          61.21267318725586,
          60.65597152709961,
          59.52703857421875,
          48.586204528808594,
          -3.0721728801727295,
          -16.008623123168945,
          -12.932228088378906,
          11.840888023376465,
          -9.019128799438477,
          -9.01913070678711,
          39.30415725708008,
          42.80326461791992,
          -27.649147033691406,
          -8.061657905578613,
          0.8267230987548828,
          9.892315864562988,
          -19.464765548706055,
          -44.36698913574219,
          -49.164878845214844,
          -56.621124267578125,
          48.78486251831055,
          29.137712478637695,
          55.75475311279297,
          56.61833953857422,
          57.734947204589844,
          62.069244384765625,
          6.089211940765381,
          -3.5892751216888428,
          50.60483932495117,
          50.60498046875,
          6.089211940765381,
          -6.901581287384033,
          -28.890413284301758,
          -46.880741119384766,
          62.6840705871582,
          35.20764923095703,
          42.90438461303711,
          -7.325608730316162,
          -1.1965745687484741,
          -27.063528060913086,
          -11.906952857971191,
          7.802053928375244,
          -6.847209453582764,
          -7.313381195068359,
          -4.635512351989746,
          33.857295989990234,
          46.14710235595703,
          54.37053298950195,
          43.279823303222656,
          24.122045516967773,
          -32.37201690673828,
          49.206268310546875,
          -25.34429931640625,
          43.42861557006836,
          34.189151763916016,
          -43.10411071777344,
          -5.037378311157227,
          -28.612878799438477,
          29.237268447875977,
          9.011249542236328,
          -9.563495635986328,
          -23.899917602539062,
          -7.612512588500977,
          -9.092142105102539,
          -21.20572853088379,
          -34.69414138793945,
          -3.430285930633545,
          -25.485363006591797,
          -41.08913803100586,
          -26.439931869506836,
          -2.3077452182769775,
          -21.178180694580078,
          -7.117485046386719,
          -26.522371292114258,
          -24.961557388305664,
          -8.002211570739746,
          -28.25847625732422,
          6.738720417022705,
          -27.68633270263672,
          -26.07244300842285,
          -20.487194061279297,
          -6.858381748199463,
          -7.4037184715271,
          -23.67281723022461,
          -35.15612030029297,
          -22.55733299255371,
          29.092172622680664,
          -27.807693481445312,
          60.3090705871582,
          -17.180055618286133,
          7.232059001922607,
          -32.25484085083008,
          -15.70190715789795,
          -16.803089141845703,
          -2.8437469005584717,
          7.102445125579834,
          42.547088623046875,
          -26.802942276000977,
          16.60130500793457,
          16.546293258666992,
          2.8706812858581543,
          -19.93515396118164,
          8.472993850708008,
          3.3700027465820312,
          0.540919840335846,
          2.3199217319488525,
          1.3298105001449585,
          1.0949203968048096,
          -33.07307815551758,
          54.15287399291992,
          28.341066360473633,
          50.29971694946289,
          -11.119771957397461,
          8.546311378479004,
          45.948001861572266,
          -15.586241722106934,
          -27.70113754272461,
          49.966026306152344,
          23.555633544921875,
          -22.96930503845215,
          29.306921005249023,
          -25.245182037353516,
          -1.9976511001586914,
          29.13773536682129,
          37.55266189575195,
          2.347926139831543,
          57.20160675048828,
          57.69308853149414,
          54.646728515625,
          -36.49287414550781,
          -9.439760208129883,
          -31.260025024414062,
          -8.855399131774902,
          -12.467965126037598,
          -0.5266596078872681,
          -10.907292366027832,
          52.88346862792969,
          59.415435791015625,
          42.658321380615234,
          52.92881393432617,
          -9.602595329284668,
          61.57594299316406,
          57.99346923828125,
          -3.443403482437134,
          20.33399772644043,
          18.68301773071289,
          18.68301773071289,
          -30.48050880432129,
          53.42824172973633,
          35.0537223815918,
          36.527889251708984,
          18.683061599731445,
          54.010398864746094,
          -1.8137385845184326,
          58.530845642089844,
          57.940101623535156,
          -8.33372974395752,
          25.06068229675293,
          40.71493148803711,
          -2.127727508544922,
          58.632835388183594,
          52.685787200927734,
          54.172889709472656,
          43.51088333129883,
          -0.3486928641796112,
          52.48686218261719,
          5.303867816925049,
          -33.62104415893555,
          20.19020652770996,
          -9.070446014404297,
          51.79171371459961,
          -19.471263885498047,
          -11.221284866333008,
          -23.638105392456055,
          -5.111885070800781,
          -7.842487812042236,
          -4.648341178894043,
          -38.114837646484375,
          -16.810707092285156,
          -3.1151201725006104,
          25.30242919921875,
          -7.076223373413086,
          -2.4852726459503174,
          -37.641143798828125,
          -38.06222152709961,
          11.149812698364258,
          1.2009872198104858,
          -20.627473831176758,
          -9.854463577270508,
          -36.48541259765625,
          47.08268356323242,
          57.228546142578125,
          60.220237731933594,
          53.17725372314453,
          -11.521673202514648,
          42.09177017211914,
          -30.862592697143555,
          -1.1100772619247437,
          7.661515235900879,
          -27.964054107666016,
          0.7031629085540771,
          -15.146798133850098,
          16.149320602416992,
          42.091766357421875,
          0.7641583681106567,
          -6.528507709503174,
          -1.172000527381897,
          3.535959482192993,
          -14.542692184448242,
          -3.9585654735565186,
          -5.03857946395874,
          15.678889274597168,
          -4.469290733337402,
          -15.486581802368164,
          -5.161057949066162,
          -6.368256092071533,
          -4.192659854888916,
          -1.7937458753585815,
          -15.319864273071289,
          25.302387237548828,
          9.979474067687988,
          -0.5698386430740356,
          32.22218704223633,
          60.648277282714844,
          41.225746154785156,
          -27.264572143554688,
          -38.917850494384766,
          44.192256927490234,
          48.761817932128906,
          42.17298126220703,
          -34.65061950683594,
          45.10576629638672,
          38.526668548583984,
          43.853370666503906,
          29.550168991088867,
          45.12713623046875,
          45.786582946777344,
          44.566375732421875,
          3.1765167713165283,
          5.294976234436035,
          4.570799350738525,
          46.278221130371094,
          45.3425407409668,
          9.0122652053833,
          48.5840950012207,
          2.563722848892212,
          5.665641784667969,
          44.88191223144531,
          -1.2839728593826294,
          43.20286560058594,
          -37.07296371459961,
          3.2460055351257324,
          43.63423156738281,
          46.47880935668945,
          33.35329055786133,
          43.76337814331055,
          50.31098937988281,
          40.041908264160156,
          44.134552001953125,
          41.465797424316406,
          -12.031838417053223,
          57.44756317138672,
          11.292078018188477,
          27.72048568725586,
          22.132980346679688,
          -46.53215408325195,
          -41.82761764526367,
          40.39856719970703,
          21.981334686279297,
          38.20810317993164,
          -7.256433486938477,
          -32.20307922363281,
          -33.975276947021484,
          20.544334411621094,
          19.870075225830078,
          -38.575340270996094,
          36.09102249145508,
          36.08377456665039,
          -45.77867889404297,
          36.161746978759766,
          -42.02841567993164,
          31.717506408691406,
          -19.261308670043945,
          -13.404143333435059,
          -11.889727592468262,
          8.027791023254395,
          -3.8229129314422607,
          -29.625940322875977,
          -15.540873527526855,
          10.688432693481445,
          39.58909606933594,
          10.754247665405273,
          -30.576303482055664,
          32.0253791809082,
          28.610116958618164,
          -23.590099334716797,
          -39.88617706298828,
          -32.38102722167969,
          -44.83584976196289,
          53.2098503112793,
          -30.017887115478516,
          -27.430368423461914,
          -2.404902935028076,
          32.340755462646484,
          -23.232999801635742,
          51.02692413330078,
          53.24844741821289,
          54.29987335205078,
          27.137807846069336,
          47.61740493774414,
          48.45391845703125,
          62.475074768066406,
          22.703927993774414,
          -35.43265914916992,
          -26.238082885742188,
          -32.459197998046875,
          -39.499488830566406,
          45.30489730834961,
          37.75505065917969,
          -31.490224838256836,
          -26.090578079223633,
          -24.05596160888672,
          47.30033493041992,
          19.1302433013916,
          33.49252700805664,
          29.50701141357422,
          -2.3322012424468994,
          58.97550582885742,
          -35.38649368286133,
          -37.957611083984375,
          -32.652870178222656,
          59.947017669677734,
          -29.883529663085938,
          -11.225275039672852,
          47.385250091552734,
          -46.34739685058594,
          -40.21559143066406,
          -46.295894622802734,
          -45.61407470703125,
          4.5701398849487305,
          -30.432802200317383,
          -31.040098190307617,
          -37.363975524902344,
          37.00072479248047,
          -31.746747970581055,
          5.122524261474609,
          -33.76155471801758,
          8.603586196899414,
          -20.126928329467773,
          0.6329134702682495,
          -48.757957458496094,
          -32.464256286621094,
          55.09757614135742,
          49.61039352416992,
          -5.736390113830566,
          33.76691818237305,
          3.1408095359802246,
          -9.349238395690918,
          -30.703327178955078,
          46.3955078125,
          -15.923789978027344,
          57.406646728515625,
          -9.736254692077637,
          -1.396299123764038,
          -17.150894165039062,
          -14.890968322753906,
          -11.681727409362793,
          1.1232305765151978,
          -24.822315216064453,
          -7.064481258392334,
          -9.45502758026123,
          -51.775108337402344,
          -9.569808959960938,
          37.457603454589844,
          -4.974485874176025,
          -8.820158958435059,
          8.550281524658203,
          31.558412551879883,
          -26.591506958007812,
          -43.559356689453125,
          7.123686790466309,
          -23.56121063232422,
          2.2895278930664062,
          46.629249572753906,
          -2.9963247776031494,
          -40.5003776550293,
          43.818115234375,
          -2.937291383743286,
          47.37084197998047,
          37.418216705322266,
          -32.21421432495117,
          55.6839485168457,
          -3.588994264602661,
          -14.367929458618164,
          -4.818949222564697,
          -10.260985374450684,
          -43.88142776489258,
          -4.541825294494629,
          20.389774322509766,
          -2.484527111053467,
          45.63685989379883,
          -9.07353687286377,
          44.200340270996094,
          -31.165771484375,
          -11.527366638183594,
          -2.332465410232544,
          -15.811080932617188,
          -5.016500473022461,
          -48.40342330932617,
          -13.990793228149414,
          -3.627002716064453,
          44.666656494140625,
          -37.01835632324219,
          36.00825500488281,
          45.25497055053711,
          -30.928468704223633,
          -11.075823783874512,
          -54.610992431640625,
          32.7233772277832,
          -21.58690643310547,
          -7.342432975769043,
          16.20456314086914,
          38.64644241333008,
          63.83346176147461,
          0.4485972821712494,
          7.799991130828857,
          53.85774612426758,
          -3.957261323928833,
          -22.274585723876953,
          -18.52058219909668,
          -22.431520462036133,
          -39.708518981933594,
          -3.0996925830841064,
          -4.6042704582214355,
          -0.7211149334907532,
          -5.906954288482666,
          0.2356816679239273,
          -8.651738166809082,
          22.253271102905273,
          -4.340179443359375,
          -10.9554443359375,
          -39.005306243896484,
          -5.594220161437988,
          -42.092464447021484,
          -4.152608394622803,
          40.8968620300293,
          19.25356674194336,
          24.39101219177246,
          -29.7762451171875,
          36.985252380371094,
          -51.03505325317383,
          -52.17231369018555,
          -42.10274124145508,
          3.604123115539551,
          6.71451473236084,
          0.8157979249954224,
          11.360895156860352,
          -12.829890251159668,
          -19.50335693359375,
          -41.897308349609375,
          63.708946228027344,
          -33.55619430541992,
          -19.394624710083008,
          -29.824508666992188,
          -5.084984302520752,
          -32.36720275878906,
          -15.077960014343262,
          27.7801456451416,
          -52.6697883605957,
          -38.54283905029297,
          -41.4095573425293,
          -49.99052810668945,
          17.293258666992188,
          -26.64777183532715,
          1.268606185913086,
          41.60846710205078,
          54.216102600097656,
          28.075305938720703,
          28.609573364257812,
          26.55854034423828,
          -3.287823438644409,
          40.08783721923828,
          -29.364635467529297,
          -6.210872173309326,
          18.181442260742188,
          -4.622678279876709,
          7.521853923797607,
          -24.533605575561523,
          -0.022118087857961655,
          -6.357840538024902,
          51.55891418457031,
          -35.589298248291016,
          -2.2595818042755127,
          -4.027849197387695,
          -37.88218688964844,
          -31.988718032836914,
          -38.51215362548828,
          -23.628358840942383,
          47.2629508972168,
          0.8937569260597229,
          25.604000091552734,
          -19.683202743530273,
          -34.082149505615234,
          -36.39777755737305,
          -24.586149215698242,
          -43.31436538696289,
          -26.970077514648438,
          -19.475879669189453,
          -25.576778411865234,
          -27.10331153869629,
          -31.365543365478516,
          -36.4655876159668,
          50.59502029418945,
          44.53266143798828,
          -46.239131927490234,
          57.86332321166992,
          -4.661479949951172,
          19.26692771911621,
          12.602083206176758,
          -25.801563262939453,
          26.305150985717773,
          -1.9616647958755493,
          -31.441694259643555,
          43.634464263916016,
          -5.609965801239014,
          -7.107576370239258,
          15.188138961791992,
          -25.84709930419922,
          37.608360290527344,
          -2.9822840690612793,
          -2.98219633102417,
          27.21152114868164,
          -26.20580291748047,
          47.221778869628906,
          -19.56659507751465,
          -7.385371208190918,
          -2.9259164333343506,
          -29.480852127075195,
          52.69618606567383,
          -9.847790718078613,
          -12.068363189697266,
          1.8196115493774414,
          31.56585121154785,
          23.02033042907715,
          -38.67700958251953,
          33.40824508666992,
          -37.256351470947266,
          63.80516052246094,
          18.043811798095703,
          -56.6213264465332,
          -44.63787078857422,
          -4.194148063659668,
          -36.536380767822266,
          -6.380025863647461,
          59.265830993652344,
          48.60769271850586,
          -38.948753356933594,
          -49.02590560913086,
          -50.45388412475586,
          -39.6236572265625,
          -48.23662567138672,
          33.76793670654297,
          -34.158206939697266,
          -8.850190162658691,
          -16.494844436645508,
          40.05857467651367,
          -50.16474533081055,
          32.43178939819336,
          -33.14176940917969,
          -48.752952575683594,
          40.049842834472656,
          35.60383224487305,
          40.77144241333008,
          -9.716586112976074,
          -3.298638343811035,
          34.423519134521484,
          5.3074951171875,
          23.799055099487305,
          -53.37533950805664,
          40.69982147216797,
          6.345091819763184,
          51.699462890625,
          29.93473243713379,
          1.30838942527771,
          0.8245129585266113,
          30.516887664794922,
          -3.0495266914367676,
          -33.56571960449219,
          -11.84390926361084,
          -9.169855117797852,
          -13.974934577941895,
          47.56859588623047,
          -40.49296569824219,
          48.03963088989258,
          -33.63310623168945,
          44.64995574951172,
          35.86933517456055,
          12.064956665039062,
          -29.153472900390625,
          6.739762306213379,
          36.211299896240234,
          -27.921846389770508,
          12.65894889831543,
          -26.74609375,
          44.12914276123047,
          41.453243255615234,
          2.8823180198669434,
          5.796365737915039,
          6.579358100891113,
          -46.78364562988281,
          -3.6462934017181396,
          -25.483165740966797,
          -9.558805465698242,
          -18.9442138671875,
          29.05270004272461,
          1.4538120031356812,
          54.1140022277832,
          32.72348403930664,
          -18.490327835083008,
          29.987850189208984,
          35.896419525146484,
          35.89661407470703,
          -22.594070434570312,
          -16.683387756347656,
          15.76863956451416,
          -35.94598388671875,
          -12.231563568115234,
          44.27107238769531,
          43.680912017822266,
          -8.164088249206543,
          15.374929428100586,
          -0.7709810137748718,
          -11.945661544799805,
          -20.42658805847168,
          -22.091657638549805,
          52.36362838745117,
          -37.0166015625,
          -4.481175899505615,
          -1.7558279037475586,
          -4.429154396057129,
          -35.83540725708008,
          -43.45806121826172,
          33.054508209228516,
          -40.80105972290039,
          -36.78127670288086,
          42.55131912231445,
          -37.1098747253418,
          -19.139511108398438,
          -35.5572624206543,
          3.4633469581604004,
          -35.26445007324219,
          -7.555622577667236,
          -35.2034797668457,
          -12.420028686523438,
          1.557059645652771,
          -32.72455596923828,
          49.10789108276367,
          -8.39584732055664,
          -7.554723262786865,
          13.903188705444336,
          -33.304264068603516,
          -13.825899124145508,
          24.929222106933594,
          -20.210594177246094,
          20.73996353149414,
          33.5906867980957,
          -44.0954704284668,
          -33.86079406738281,
          2.880722999572754,
          3.9120230674743652,
          4.5734477043151855,
          61.58964538574219,
          58.24961853027344,
          34.45291519165039,
          23.6219425201416,
          54.48606872558594,
          -2.0302207469940186,
          55.23091506958008,
          51.18390655517578,
          -11.0291748046875,
          -50.025203704833984,
          -48.73414611816406,
          -5.327961444854736,
          -35.16399383544922,
          -3.4881863594055176,
          -9.780966758728027,
          -8.58348274230957,
          -8.821503639221191,
          -18.53281593322754,
          0.49784308671951294,
          -30.033845901489258,
          4.598394870758057,
          48.253726959228516,
          56.86225891113281,
          46.49284362792969,
          18.808998107910156,
          48.74064254760742,
          21.411027908325195,
          -24.088706970214844,
          48.1572380065918,
          18.97861099243164,
          24.244409561157227,
          24.3496036529541,
          -6.666405200958252,
          6.254777431488037,
          25.51878547668457,
          -9.14537525177002,
          29.317596435546875,
          -49.59040451049805,
          -14.766904830932617,
          -9.102775573730469,
          -38.799903869628906,
          -44.096126556396484,
          55.1710319519043,
          -21.665006637573242,
          7.464398384094238,
          -12.185476303100586,
          -15.110569953918457,
          -7.003548622131348,
          -35.21598815917969,
          1.5702176094055176,
          49.741004943847656,
          -11.581872940063477,
          -10.003220558166504,
          -45.178070068359375,
          -16.560142517089844,
          -11.797654151916504,
          -50.55231475830078,
          36.16285705566406,
          -7.439176082611084,
          7.087301254272461,
          -9.544370651245117,
          -36.9443244934082,
          -26.39061164855957,
          -43.88123321533203,
          -4.788938999176025,
          51.132022857666016,
          -3.790628433227539,
          -0.2576315999031067,
          6.661663055419922,
          -29.571792602539062,
          -0.25771364569664,
          -22.78145980834961,
          -4.662224769592285,
          -33.40977096557617,
          -20.29102897644043,
          -14.0883207321167,
          -24.55809211730957,
          55.13209915161133,
          -41.65697479248047,
          -10.650263786315918,
          -0.20734772086143494,
          29.150815963745117,
          15.951249122619629,
          -32.86520004272461,
          -14.361661911010742,
          -39.993675231933594,
          -37.87047576904297,
          -41.99431228637695,
          8.604150772094727,
          -19.69185447692871,
          33.26703643798828,
          41.478904724121094,
          50.71973419189453,
          -23.5310115814209,
          4.158828258514404,
          -32.56791305541992,
          -28.00617790222168,
          55.09559631347656,
          53.00754165649414,
          -2.027834892272949,
          -0.7097442150115967,
          52.27024459838867,
          -6.511958599090576,
          -3.8770575523376465,
          58.02241516113281,
          51.98172378540039,
          1.9086848497390747,
          45.26688003540039,
          4.808623313903809,
          -2.576429605484009,
          -1.7115086317062378,
          57.25742721557617,
          54.336185455322266,
          28.845224380493164,
          40.03116226196289,
          54.80921936035156,
          -3.287647247314453,
          -19.67543601989746,
          -15.583580017089844,
          26.174455642700195,
          -33.08937454223633,
          41.686702728271484,
          10.708884239196777,
          -13.949787139892578,
          -8.811050415039062,
          43.68830871582031,
          52.740543365478516,
          4.6404242515563965,
          -41.086551666259766,
          5.69143009185791,
          -48.49890899658203,
          19.208158493041992,
          5.463819980621338,
          44.554996490478516,
          19.70513343811035,
          41.183380126953125,
          28.07540512084961,
          -19.122848510742188,
          -32.31594467163086,
          -55.42559814453125,
          48.611812591552734,
          -12.845096588134766,
          -37.326377868652344,
          -33.69259262084961,
          -25.91506004333496,
          0.8697419762611389,
          -33.48299026489258,
          -40.21607971191406,
          -13.53172492980957,
          32.233707427978516,
          18.70814323425293,
          -34.45966339111328,
          -38.75088882446289,
          37.132022857666016,
          -17.781843185424805,
          -35.94382858276367,
          -29.11244773864746,
          -44.35359573364258,
          -39.50873947143555,
          -50.20206069946289,
          44.397701263427734,
          40.9521369934082,
          32.89305114746094,
          -29.55099105834961,
          45.35381317138672,
          36.06639099121094,
          -50.11894607543945,
          -12.729440689086914,
          -22.612459182739258,
          -2.5432307720184326,
          34.85026168823242,
          -5.2894816398620605,
          -8.72743034362793,
          35.82523727416992,
          -48.891151428222656,
          -31.092464447021484,
          -29.918296813964844,
          -37.600128173828125,
          -26.47365951538086,
          -7.145045280456543,
          0.8449569344520569,
          -3.0950326919555664,
          45.49538040161133,
          26.97713279724121,
          60.125099182128906,
          54.5765266418457,
          48.99276351928711,
          40.03273010253906,
          56.19438171386719,
          32.68709945678711,
          -8.188840866088867,
          -17.657604217529297,
          26.977127075195312,
          -47.03864288330078,
          41.964820861816406,
          18.27208137512207,
          -39.38715362548828,
          52.479862213134766,
          24.522459030151367,
          -30.449277877807617,
          -31.628643035888672,
          -4.391438961029053,
          -27.11885643005371,
          -12.301758766174316,
          21.040727615356445,
          -7.135537624359131,
          -32.25124740600586,
          -2.0745441913604736,
          25.54498863220215,
          19.980356216430664,
          -6.73457145690918,
          -49.90822982788086,
          -17.893829345703125,
          -28.304712295532227,
          -26.8302001953125,
          -40.03187561035156,
          -39.27848815917969,
          -26.204198837280273,
          -29.94261360168457,
          -10.807427406311035,
          -30.932777404785156,
          -21.383621215820312,
          -10.09328842163086,
          -40.65528869628906,
          -39.047340393066406,
          48.824310302734375,
          6.616959095001221,
          2.795832633972168,
          28.21975326538086,
          -23.7154483795166,
          -42.78500747680664,
          8.757843971252441,
          -8.60662841796875,
          60.044918060302734,
          -43.31222915649414,
          -43.2574348449707,
          0.20159703493118286,
          1.3675789833068848,
          0.9827156662940979,
          0.42590630054473877,
          62.64027404785156,
          0.6231952905654907,
          -34.653709411621094,
          -24.67123031616211,
          2.604297399520874,
          59.16510009765625,
          -6.544463634490967,
          -27.472076416015625,
          -3.4204792976379395,
          -21.774791717529297,
          10.931780815124512,
          -0.7199633717536926,
          -29.071929931640625,
          63.07948303222656,
          -53.38167953491211,
          -0.8482077121734619,
          -29.803857803344727,
          -15.721521377563477,
          16.12854766845703,
          4.239545822143555,
          -3.065404176712036,
          13.942745208740234,
          8.122872352600098,
          6.78474235534668,
          -13.40137767791748,
          -0.2414918690919876,
          20.034198760986328,
          -1.932924509048462,
          6.398579120635986,
          4.624507427215576,
          25.422786712646484,
          -0.6807869672775269,
          9.356087684631348,
          10.341564178466797,
          -2.447420835494995,
          -36.291053771972656,
          54.8611946105957,
          -14.596504211425781,
          -7.61604642868042,
          3.030553102493286,
          1.835973858833313,
          2.301025390625,
          -18.872228622436523,
          -46.88673400878906,
          -30.594566345214844,
          7.174168586730957,
          -26.815994262695312,
          -27.666484832763672,
          -2.4326460361480713,
          -11.02903938293457,
          -0.9246825575828552,
          -36.214935302734375,
          -31.1495418548584,
          -27.83099937438965,
          -11.714059829711914,
          33.93929672241211,
          22.319982528686523,
          27.50432777404785,
          -0.7752967476844788,
          -0.05766023322939873,
          -0.6624656915664673,
          -5.154274940490723,
          -7.916160583496094,
          -38.948848724365234,
          -40.54116439819336,
          2.4215052127838135,
          44.945335388183594,
          39.53285217285156,
          4.436207294464111,
          -5.058145046234131,
          -47.80160903930664,
          -27.66758155822754,
          -31.348772048950195,
          -37.22547912597656,
          37.552650451660156,
          -30.184139251708984,
          -32.32523727416992,
          52.496978759765625,
          51.84071731567383,
          42.2779655456543,
          7.516971588134766,
          -10.228419303894043,
          -43.44512939453125,
          -42.29806137084961,
          -45.615936279296875,
          -31.90046501159668,
          -27.258804321289062,
          -45.61637878417969,
          -39.64190673828125,
          -38.932735443115234,
          -6.40900993347168,
          7.827920436859131,
          53.118892669677734,
          -16.24427032470703,
          -35.77579116821289,
          -40.77561569213867,
          9.665848731994629,
          -9.283148765563965,
          -2.8309619426727295,
          2.3156824111938477,
          25.753883361816406,
          35.1458854675293,
          -12.484980583190918,
          -26.20359992980957,
          -28.429292678833008,
          -40.64896011352539,
          -38.124507904052734,
          -41.94445037841797,
          -43.69916534423828,
          -39.41093063354492,
          -33.73892593383789,
          -13.631633758544922,
          19.805065155029297,
          -47.15611267089844,
          -50.2281379699707,
          -1.8080799579620361,
          50.431396484375,
          -41.294837951660156,
          -15.980119705200195,
          -31.00370216369629,
          -19.08163833618164,
          20.563032150268555,
          39.44361877441406,
          -48.70113754272461,
          37.67409896850586,
          -0.09160682559013367,
          19.638742446899414,
          -22.706308364868164,
          20.738737106323242,
          2.6846840381622314,
          26.70441246032715,
          -44.87476348876953,
          -44.815486907958984,
          -46.11589813232422,
          -23.703325271606445,
          -18.925695419311523,
          8.60710334777832,
          -35.41497802734375,
          -30.894058227539062,
          -29.941295623779297,
          6.299299716949463,
          29.115257263183594,
          5.7512125968933105,
          -25.06778907775879,
          -32.10395050048828,
          -47.63187026977539,
          34.95867156982422,
          -51.249874114990234,
          -20.209766387939453,
          -42.458412170410156,
          -41.92456817626953,
          35.93136215209961,
          -49.87458801269531,
          60.73912811279297,
          6.332236289978027,
          48.61174392700195,
          -35.75265121459961,
          45.675880432128906,
          6.695690631866455,
          -28.834482192993164,
          -40.50334167480469,
          -39.365447998046875,
          -2.724609375,
          2.875472068786621,
          34.41857147216797,
          -29.912818908691406,
          1.8574981689453125,
          19.723798751831055,
          -22.606555938720703,
          32.478721618652344,
          62.294586181640625,
          57.85812759399414,
          -17.92059326171875,
          -14.323189735412598,
          34.547874450683594,
          31.704191207885742,
          33.96186065673828,
          -15.973962783813477,
          -15.972896575927734,
          54.63126754760742,
          59.45839309692383,
          24.883464813232422,
          -22.35132598876953,
          -15.11398983001709,
          33.281307220458984,
          58.58937454223633,
          -10.766480445861816,
          7.737447261810303,
          -36.289371490478516,
          61.62234878540039,
          36.28592300415039,
          -33.89857482910156,
          3.5729072093963623,
          -27.661596298217773,
          -27.886249542236328,
          -45.68782043457031,
          -44.26300811767578,
          -35.58903503417969,
          -38.823402404785156,
          -45.777610778808594,
          -44.49318313598633,
          -45.60677719116211,
          -44.13307189941406,
          -15.191296577453613,
          48.63847732543945,
          -50.99256896972656,
          27.531660079956055,
          -12.390460014343262,
          29.1455020904541,
          -29.064067840576172,
          7.993370532989502,
          -30.61528778076172,
          -28.082923889160156,
          43.26951599121094,
          50.78999328613281,
          -6.617160320281982,
          -25.099210739135742,
          26.420461654663086,
          -25.871912002563477,
          -9.621601104736328,
          42.320594787597656,
          -22.437089920043945,
          45.90374755859375,
          -0.6211826205253601,
          -40.54116439819336,
          3.129852533340454,
          0.8088911771774292,
          -2.817061424255371,
          -34.88987731933594,
          -33.21290969848633,
          -20.30682945251465,
          -47.712791442871094,
          -43.73686981201172,
          -4.2256269454956055,
          -35.27735137939453,
          -27.240711212158203,
          -41.650856018066406,
          28.193410873413086,
          5.5541863441467285,
          60.076751708984375,
          -40.60172653198242,
          27.825828552246094,
          41.51762771606445,
          -41.79047775268555,
          30.796239852905273,
          29.40513038635254,
          -34.61085510253906,
          51.74934768676758,
          56.569007873535156,
          46.84712600708008,
          42.19414138793945,
          5.170716762542725,
          -27.063701629638672,
          -25.52994728088379,
          30.66208839416504,
          25.08308982849121,
          1.478434681892395,
          -13.540337562561035,
          8.556414604187012,
          20.597183227539062,
          -50.7030143737793,
          -4.956455707550049,
          -3.504040241241455,
          -11.513288497924805,
          -11.957274436950684,
          53.61980438232422,
          59.713905334472656,
          -46.38228225708008,
          -35.24012756347656,
          -36.481632232666016,
          12.760847091674805,
          14.868759155273438,
          -2.0376698970794678,
          -47.35411071777344,
          -8.709695816040039,
          -11.395630836486816,
          38.99871826171875,
          -0.8560640811920166,
          2.017932415008545,
          -18.212709426879883,
          -11.501593589782715,
          -7.118895053863525,
          -0.12208190560340881,
          -2.767868757247925,
          0.5487402081489563,
          20.553619384765625,
          6.042140960693359,
          -48.2284049987793,
          16.128751754760742,
          -20.37078857421875,
          0.024162963032722473,
          7.085071086883545,
          -3.323349714279175,
          5.740995407104492,
          30.040138244628906,
          -40.387271881103516,
          -39.61275100708008,
          -17.716930389404297,
          -28.012155532836914,
          34.75556564331055,
          -39.700077056884766,
          -22.000598907470703,
          -41.4683952331543,
          38.00452423095703,
          -47.19343948364258,
          -36.69911575317383,
          29.1376953125,
          -28.3734188079834,
          -29.21764373779297,
          -13.655832290649414,
          9.300833702087402,
          43.309810638427734,
          -15.912506103515625,
          20.076257705688477,
          56.88898468017578,
          19.90522003173828,
          -22.6593017578125,
          42.99165725708008,
          -27.92426872253418,
          49.704891204833984,
          -37.77934646606445,
          -31.24008560180664,
          -38.1139030456543,
          -14.90597152709961,
          -34.38178253173828,
          16.90258026123047,
          -10.578807830810547,
          20.279813766479492,
          -4.919740676879883,
          22.50168228149414,
          -21.0870418548584,
          7.96889066696167,
          -47.12417221069336,
          -13.35689926147461,
          -43.31023025512695,
          -2.9241714477539062,
          -36.65932083129883,
          -41.91964340209961,
          -42.83677291870117,
          22.447696685791016,
          -21.948612213134766,
          19.84454917907715,
          45.42576599121094,
          48.758506774902344,
          8.570706367492676,
          36.662193298339844,
          52.186885833740234,
          52.54317855834961,
          18.223876953125,
          -34.39463424682617,
          -6.23493766784668,
          -28.857765197753906,
          21.59075164794922,
          27.371963500976562,
          -33.82889175415039,
          27.371938705444336,
          -30.844114303588867,
          -26.850215911865234,
          49.17064666748047,
          -30.600250244140625,
          -30.609437942504883,
          -0.05304395407438278,
          -11.059073448181152,
          8.582298278808594,
          7.232059001922607,
          10.288813591003418,
          5.336291790008545,
          53.12773132324219,
          27.791584014892578,
          46.530086517333984,
          -29.460205078125,
          -2.4913382530212402,
          46.16225814819336,
          31.2844295501709,
          -28.885574340820312,
          -2.7184622287750244,
          -7.980432510375977,
          27.907535552978516,
          -27.163145065307617,
          0.5567700266838074,
          0.649707019329071,
          -6.642772197723389,
          47.028255462646484,
          -32.01513671875,
          -0.13132190704345703,
          52.33065414428711,
          44.46736145019531,
          40.90736389160156,
          47.25870895385742,
          55.33908462524414,
          58.01017761230469,
          -41.375404357910156,
          29.331707000732422,
          33.97911071777344,
          -28.554834365844727,
          33.857215881347656,
          -15.650710105895996,
          1.9241281747817993,
          -35.01229476928711,
          -11.353157043457031,
          -11.392210960388184,
          -47.26179504394531,
          -30.68701171875,
          -40.7396240234375,
          -3.598956346511841,
          -18.75208854675293,
          -1.810013771057129,
          5.495441436767578,
          51.95353317260742,
          -28.358596801757812,
          -46.27933120727539,
          -2.9392035007476807,
          -1.9836437702178955,
          31.83988380432129,
          -25.497678756713867,
          22.470111846923828,
          -2.707449436187744,
          0.15931455790996552,
          -26.61554718017578,
          -6.479884147644043,
          31.839881896972656,
          -21.619586944580078,
          -2.770428419113159,
          -23.646820068359375,
          -17.38058853149414,
          48.027217864990234,
          36.844627380371094,
          -3.7088112831115723,
          8.068196296691895,
          20.691219329833984,
          -30.803232192993164,
          -26.61566925048828,
          19.61222267150879,
          -11.392026901245117,
          6.900418758392334,
          -24.280805587768555,
          -5.665826320648193,
          -6.351811408996582,
          7.38530969619751,
          -0.7007158994674683,
          -22.922147750854492,
          -6.458784580230713,
          12.167679786682129,
          44.137939453125,
          40.567203521728516,
          14.59034538269043,
          15.76397705078125,
          60.92811584472656,
          44.22836685180664,
          20.98727798461914,
          -21.603050231933594,
          5.728905200958252,
          50.606990814208984,
          0.13767676055431366,
          22.205352783203125,
          17.8546085357666,
          6.523880958557129,
          -37.83975601196289,
          -35.79933547973633,
          -13.430779457092285,
          42.84901809692383,
          40.219398498535156,
          -48.89125061035156,
          -15.862853050231934,
          -13.302408218383789,
          46.115882873535156,
          3.431067943572998,
          -10.71812915802002,
          -7.548141002655029,
          -5.590607643127441,
          36.38359069824219,
          -27.363529205322266,
          -20.12683868408203,
          -34.95395278930664,
          -36.0975341796875,
          40.957427978515625,
          42.79219055175781,
          37.553104400634766,
          -11.597034454345703,
          39.46549606323242,
          40.263587951660156,
          2.986609697341919,
          -1.5599576234817505,
          1.3027489185333252,
          -33.107784271240234,
          18.329242706298828,
          3.9663145542144775,
          9.005332946777344,
          -1.3025598526000977,
          -27.795429229736328,
          -52.67262649536133,
          -31.485143661499023,
          -48.63214111328125,
          -32.124942779541016,
          -32.082706451416016,
          12.53207778930664,
          -48.484718322753906,
          -29.00775146484375,
          -26.613637924194336,
          -37.468318939208984,
          -32.86907958984375,
          -37.29132080078125,
          -39.74127960205078,
          -39.30242919921875,
          46.20785903930664,
          34.90456008911133,
          -39.42485809326172,
          -19.935705184936523,
          47.250038146972656,
          52.46672058105469,
          -2.207369565963745,
          -1.7930207252502441,
          -42.23963928222656,
          49.669921875,
          27.010746002197266,
          2.5061628818511963,
          38.18570327758789,
          52.769691467285156,
          52.43535614013672,
          -5.533543109893799,
          19.941381454467773,
          37.59867477416992,
          44.77482223510742,
          32.82686233520508,
          -20.523595809936523,
          40.38063049316406,
          -13.64197826385498,
          -21.42346954345703,
          -49.83079528808594,
          -36.711570739746094,
          -39.76089096069336,
          10.422411918640137,
          5.122928619384766,
          -6.333341598510742,
          -45.72267150878906,
          -41.95103454589844,
          -33.651180267333984,
          -16.015268325805664,
          -27.516145706176758,
          -39.37841033935547,
          -36.90768814086914,
          -41.941444396972656,
          -37.281429290771484,
          -34.63207244873047,
          -39.0913200378418,
          21.34629249572754,
          1.1829769611358643,
          4.593007564544678,
          -36.00651931762695,
          38.95090103149414,
          34.80009460449219,
          -20.945335388183594,
          -38.50933074951172,
          -46.631629943847656,
          -21.330718994140625,
          -29.67813491821289,
          -10.855856895446777,
          -19.895708084106445,
          41.507686614990234,
          6.345187664031982,
          -43.76518249511719,
          10.016812324523926,
          -51.38427734375,
          -39.128562927246094,
          30.26944923400879,
          33.211360931396484,
          60.55820083618164,
          21.231903076171875,
          5.307531356811523,
          47.68904113769531,
          49.41996383666992,
          43.56388854980469,
          33.670066833496094,
          -11.785297393798828,
          -10.635238647460938,
          11.15556526184082,
          -47.25090789794922,
          -35.126487731933594,
          27.086347579956055,
          48.6785888671875,
          -27.430397033691406,
          45.851234436035156,
          -32.9985466003418,
          -28.581308364868164,
          -5.988040924072266,
          -2.046488046646118,
          -21.142688751220703,
          -21.941240310668945,
          24.392040252685547,
          -9.067455291748047,
          -1.4372225999832153,
          6.845688819885254,
          12.726301193237305,
          0.5560054779052734,
          -26.759185791015625,
          18.774017333984375,
          -30.411962509155273,
          -23.141342163085938,
          21.518192291259766,
          8.86192512512207,
          -25.833017349243164,
          -3.30806303024292,
          -13.630538940429688,
          5.370422840118408,
          -40.2225456237793,
          -2.4673237800598145,
          1.7078149318695068,
          -4.880904197692871,
          0.04628344997763634,
          51.51439666748047,
          54.74646759033203,
          59.568199157714844,
          -1.020181655883789,
          -35.653839111328125,
          3.1353232860565186,
          -49.0397834777832,
          -41.04116439819336,
          -21.791839599609375,
          -33.2527961730957,
          52.740501403808594,
          25.391183853149414,
          11.893117904663086,
          -30.089143753051758,
          -38.83964157104492,
          -9.619200706481934,
          -4.547956466674805,
          36.38405227661133,
          54.47478103637695,
          22.596872329711914,
          -50.64078903198242,
          -35.96338653564453,
          -7.848862171173096,
          3.0006296634674072,
          -22.692012786865234,
          -7.245293617248535,
          -24.750286102294922,
          -41.33366775512695,
          -29.835599899291992,
          13.756810188293457,
          -5.971255779266357,
          30.186145782470703,
          -46.65288162231445,
          34.52205276489258,
          3.2155938148498535,
          -6.839936256408691,
          41.19443130493164,
          -34.01105880737305,
          -46.17336654663086,
          -48.786537170410156,
          -31.377666473388672,
          -13.466007232666016,
          48.66419219970703,
          -11.845452308654785,
          -17.103897094726562,
          58.764827728271484,
          8.494192123413086,
          31.042879104614258,
          22.596946716308594,
          22.59653663635254,
          5.49544095993042,
          34.452911376953125,
          4.25879430770874,
          -50.854278564453125,
          38.90359115600586,
          -11.202954292297363,
          53.5526008605957,
          34.07376480102539,
          -1.477227807044983,
          5.083206653594971,
          53.34212112426758,
          52.685550689697266,
          32.90531921386719,
          48.098838806152344,
          41.79595947265625,
          50.50379943847656,
          28.14019203186035,
          52.82914352416992,
          36.82669448852539,
          51.91908645629883,
          41.169734954833984,
          34.330265045166016,
          58.54705047607422,
          34.54975128173828,
          49.21568298339844,
          57.131771087646484,
          -7.205683708190918,
          -41.806156158447266,
          -44.65343475341797,
          -35.89888381958008,
          -31.87312126159668,
          -10.78686809539795,
          -8.429451942443848,
          50.29943084716797,
          -5.505934715270996,
          52.753517150878906,
          39.85970687866211,
          -40.76541519165039,
          47.65119934082031,
          25.832910537719727,
          18.64820098876953,
          -37.28055953979492,
          38.571510314941406,
          45.439735412597656,
          45.114707946777344,
          -26.76404571533203,
          -46.652099609375,
          19.669301986694336,
          14.586770057678223,
          45.60177993774414,
          -17.54498291015625,
          -15.37747859954834,
          -15.974459648132324,
          37.76581954956055,
          -14.053071022033691,
          -46.572303771972656,
          20.798688888549805,
          -46.558349609375,
          -14.167991638183594,
          24.350051879882812,
          -4.630621433258057,
          -41.34107971191406,
          6.345008373260498,
          39.134063720703125,
          59.72233200073242,
          42.74464416503906,
          61.83856201171875,
          -0.47485893964767456,
          -23.773069381713867,
          -9.244203567504883,
          -10.444233894348145,
          -5.660778999328613,
          -8.970778465270996,
          -2.6274757385253906,
          0.9474111795425415,
          52.05967330932617,
          -10.739832878112793,
          -10.448554039001465,
          -6.401972770690918,
          -36.003822326660156,
          -2.730686664581299,
          -26.00567626953125,
          38.21133041381836,
          -6.668050289154053,
          -38.46078109741211,
          -12.20246410369873,
          40.08174133300781,
          40.841609954833984,
          57.59054183959961,
          48.25299072265625,
          -6.748989582061768,
          -1.108373999595642,
          -44.44689178466797,
          -30.141883850097656,
          30.280920028686523,
          2.180391550064087,
          -12.941308975219727,
          11.545987129211426,
          -35.625614166259766,
          18.620447158813477,
          -44.739784240722656,
          35.986473083496094,
          -43.647056579589844
         ],
         "yaxis": "y"
        }
       ],
       "layout": {
        "coloraxis": {
         "colorbar": {
          "title": {
           "text": "cluster"
          }
         },
         "colorscale": [
          [
           0,
           "#0d0887"
          ],
          [
           0.1111111111111111,
           "#46039f"
          ],
          [
           0.2222222222222222,
           "#7201a8"
          ],
          [
           0.3333333333333333,
           "#9c179e"
          ],
          [
           0.4444444444444444,
           "#bd3786"
          ],
          [
           0.5555555555555556,
           "#d8576b"
          ],
          [
           0.6666666666666666,
           "#ed7953"
          ],
          [
           0.7777777777777778,
           "#fb9f3a"
          ],
          [
           0.8888888888888888,
           "#fdca26"
          ],
          [
           1,
           "#f0f921"
          ]
         ]
        },
        "legend": {
         "tracegroupgap": 0
        },
        "margin": {
         "t": 60
        },
        "template": {
         "data": {
          "bar": [
           {
            "error_x": {
             "color": "#2a3f5f"
            },
            "error_y": {
             "color": "#2a3f5f"
            },
            "marker": {
             "line": {
              "color": "#E5ECF6",
              "width": 0.5
             },
             "pattern": {
              "fillmode": "overlay",
              "size": 10,
              "solidity": 0.2
             }
            },
            "type": "bar"
           }
          ],
          "barpolar": [
           {
            "marker": {
             "line": {
              "color": "#E5ECF6",
              "width": 0.5
             },
             "pattern": {
              "fillmode": "overlay",
              "size": 10,
              "solidity": 0.2
             }
            },
            "type": "barpolar"
           }
          ],
          "carpet": [
           {
            "aaxis": {
             "endlinecolor": "#2a3f5f",
             "gridcolor": "white",
             "linecolor": "white",
             "minorgridcolor": "white",
             "startlinecolor": "#2a3f5f"
            },
            "baxis": {
             "endlinecolor": "#2a3f5f",
             "gridcolor": "white",
             "linecolor": "white",
             "minorgridcolor": "white",
             "startlinecolor": "#2a3f5f"
            },
            "type": "carpet"
           }
          ],
          "choropleth": [
           {
            "colorbar": {
             "outlinewidth": 0,
             "ticks": ""
            },
            "type": "choropleth"
           }
          ],
          "contour": [
           {
            "colorbar": {
             "outlinewidth": 0,
             "ticks": ""
            },
            "colorscale": [
             [
              0,
              "#0d0887"
             ],
             [
              0.1111111111111111,
              "#46039f"
             ],
             [
              0.2222222222222222,
              "#7201a8"
             ],
             [
              0.3333333333333333,
              "#9c179e"
             ],
             [
              0.4444444444444444,
              "#bd3786"
             ],
             [
              0.5555555555555556,
              "#d8576b"
             ],
             [
              0.6666666666666666,
              "#ed7953"
             ],
             [
              0.7777777777777778,
              "#fb9f3a"
             ],
             [
              0.8888888888888888,
              "#fdca26"
             ],
             [
              1,
              "#f0f921"
             ]
            ],
            "type": "contour"
           }
          ],
          "contourcarpet": [
           {
            "colorbar": {
             "outlinewidth": 0,
             "ticks": ""
            },
            "type": "contourcarpet"
           }
          ],
          "heatmap": [
           {
            "colorbar": {
             "outlinewidth": 0,
             "ticks": ""
            },
            "colorscale": [
             [
              0,
              "#0d0887"
             ],
             [
              0.1111111111111111,
              "#46039f"
             ],
             [
              0.2222222222222222,
              "#7201a8"
             ],
             [
              0.3333333333333333,
              "#9c179e"
             ],
             [
              0.4444444444444444,
              "#bd3786"
             ],
             [
              0.5555555555555556,
              "#d8576b"
             ],
             [
              0.6666666666666666,
              "#ed7953"
             ],
             [
              0.7777777777777778,
              "#fb9f3a"
             ],
             [
              0.8888888888888888,
              "#fdca26"
             ],
             [
              1,
              "#f0f921"
             ]
            ],
            "type": "heatmap"
           }
          ],
          "heatmapgl": [
           {
            "colorbar": {
             "outlinewidth": 0,
             "ticks": ""
            },
            "colorscale": [
             [
              0,
              "#0d0887"
             ],
             [
              0.1111111111111111,
              "#46039f"
             ],
             [
              0.2222222222222222,
              "#7201a8"
             ],
             [
              0.3333333333333333,
              "#9c179e"
             ],
             [
              0.4444444444444444,
              "#bd3786"
             ],
             [
              0.5555555555555556,
              "#d8576b"
             ],
             [
              0.6666666666666666,
              "#ed7953"
             ],
             [
              0.7777777777777778,
              "#fb9f3a"
             ],
             [
              0.8888888888888888,
              "#fdca26"
             ],
             [
              1,
              "#f0f921"
             ]
            ],
            "type": "heatmapgl"
           }
          ],
          "histogram": [
           {
            "marker": {
             "pattern": {
              "fillmode": "overlay",
              "size": 10,
              "solidity": 0.2
             }
            },
            "type": "histogram"
           }
          ],
          "histogram2d": [
           {
            "colorbar": {
             "outlinewidth": 0,
             "ticks": ""
            },
            "colorscale": [
             [
              0,
              "#0d0887"
             ],
             [
              0.1111111111111111,
              "#46039f"
             ],
             [
              0.2222222222222222,
              "#7201a8"
             ],
             [
              0.3333333333333333,
              "#9c179e"
             ],
             [
              0.4444444444444444,
              "#bd3786"
             ],
             [
              0.5555555555555556,
              "#d8576b"
             ],
             [
              0.6666666666666666,
              "#ed7953"
             ],
             [
              0.7777777777777778,
              "#fb9f3a"
             ],
             [
              0.8888888888888888,
              "#fdca26"
             ],
             [
              1,
              "#f0f921"
             ]
            ],
            "type": "histogram2d"
           }
          ],
          "histogram2dcontour": [
           {
            "colorbar": {
             "outlinewidth": 0,
             "ticks": ""
            },
            "colorscale": [
             [
              0,
              "#0d0887"
             ],
             [
              0.1111111111111111,
              "#46039f"
             ],
             [
              0.2222222222222222,
              "#7201a8"
             ],
             [
              0.3333333333333333,
              "#9c179e"
             ],
             [
              0.4444444444444444,
              "#bd3786"
             ],
             [
              0.5555555555555556,
              "#d8576b"
             ],
             [
              0.6666666666666666,
              "#ed7953"
             ],
             [
              0.7777777777777778,
              "#fb9f3a"
             ],
             [
              0.8888888888888888,
              "#fdca26"
             ],
             [
              1,
              "#f0f921"
             ]
            ],
            "type": "histogram2dcontour"
           }
          ],
          "mesh3d": [
           {
            "colorbar": {
             "outlinewidth": 0,
             "ticks": ""
            },
            "type": "mesh3d"
           }
          ],
          "parcoords": [
           {
            "line": {
             "colorbar": {
              "outlinewidth": 0,
              "ticks": ""
             }
            },
            "type": "parcoords"
           }
          ],
          "pie": [
           {
            "automargin": true,
            "type": "pie"
           }
          ],
          "scatter": [
           {
            "marker": {
             "colorbar": {
              "outlinewidth": 0,
              "ticks": ""
             }
            },
            "type": "scatter"
           }
          ],
          "scatter3d": [
           {
            "line": {
             "colorbar": {
              "outlinewidth": 0,
              "ticks": ""
             }
            },
            "marker": {
             "colorbar": {
              "outlinewidth": 0,
              "ticks": ""
             }
            },
            "type": "scatter3d"
           }
          ],
          "scattercarpet": [
           {
            "marker": {
             "colorbar": {
              "outlinewidth": 0,
              "ticks": ""
             }
            },
            "type": "scattercarpet"
           }
          ],
          "scattergeo": [
           {
            "marker": {
             "colorbar": {
              "outlinewidth": 0,
              "ticks": ""
             }
            },
            "type": "scattergeo"
           }
          ],
          "scattergl": [
           {
            "marker": {
             "colorbar": {
              "outlinewidth": 0,
              "ticks": ""
             }
            },
            "type": "scattergl"
           }
          ],
          "scattermapbox": [
           {
            "marker": {
             "colorbar": {
              "outlinewidth": 0,
              "ticks": ""
             }
            },
            "type": "scattermapbox"
           }
          ],
          "scatterpolar": [
           {
            "marker": {
             "colorbar": {
              "outlinewidth": 0,
              "ticks": ""
             }
            },
            "type": "scatterpolar"
           }
          ],
          "scatterpolargl": [
           {
            "marker": {
             "colorbar": {
              "outlinewidth": 0,
              "ticks": ""
             }
            },
            "type": "scatterpolargl"
           }
          ],
          "scatterternary": [
           {
            "marker": {
             "colorbar": {
              "outlinewidth": 0,
              "ticks": ""
             }
            },
            "type": "scatterternary"
           }
          ],
          "surface": [
           {
            "colorbar": {
             "outlinewidth": 0,
             "ticks": ""
            },
            "colorscale": [
             [
              0,
              "#0d0887"
             ],
             [
              0.1111111111111111,
              "#46039f"
             ],
             [
              0.2222222222222222,
              "#7201a8"
             ],
             [
              0.3333333333333333,
              "#9c179e"
             ],
             [
              0.4444444444444444,
              "#bd3786"
             ],
             [
              0.5555555555555556,
              "#d8576b"
             ],
             [
              0.6666666666666666,
              "#ed7953"
             ],
             [
              0.7777777777777778,
              "#fb9f3a"
             ],
             [
              0.8888888888888888,
              "#fdca26"
             ],
             [
              1,
              "#f0f921"
             ]
            ],
            "type": "surface"
           }
          ],
          "table": [
           {
            "cells": {
             "fill": {
              "color": "#EBF0F8"
             },
             "line": {
              "color": "white"
             }
            },
            "header": {
             "fill": {
              "color": "#C8D4E3"
             },
             "line": {
              "color": "white"
             }
            },
            "type": "table"
           }
          ]
         },
         "layout": {
          "annotationdefaults": {
           "arrowcolor": "#2a3f5f",
           "arrowhead": 0,
           "arrowwidth": 1
          },
          "autotypenumbers": "strict",
          "coloraxis": {
           "colorbar": {
            "outlinewidth": 0,
            "ticks": ""
           }
          },
          "colorscale": {
           "diverging": [
            [
             0,
             "#8e0152"
            ],
            [
             0.1,
             "#c51b7d"
            ],
            [
             0.2,
             "#de77ae"
            ],
            [
             0.3,
             "#f1b6da"
            ],
            [
             0.4,
             "#fde0ef"
            ],
            [
             0.5,
             "#f7f7f7"
            ],
            [
             0.6,
             "#e6f5d0"
            ],
            [
             0.7,
             "#b8e186"
            ],
            [
             0.8,
             "#7fbc41"
            ],
            [
             0.9,
             "#4d9221"
            ],
            [
             1,
             "#276419"
            ]
           ],
           "sequential": [
            [
             0,
             "#0d0887"
            ],
            [
             0.1111111111111111,
             "#46039f"
            ],
            [
             0.2222222222222222,
             "#7201a8"
            ],
            [
             0.3333333333333333,
             "#9c179e"
            ],
            [
             0.4444444444444444,
             "#bd3786"
            ],
            [
             0.5555555555555556,
             "#d8576b"
            ],
            [
             0.6666666666666666,
             "#ed7953"
            ],
            [
             0.7777777777777778,
             "#fb9f3a"
            ],
            [
             0.8888888888888888,
             "#fdca26"
            ],
            [
             1,
             "#f0f921"
            ]
           ],
           "sequentialminus": [
            [
             0,
             "#0d0887"
            ],
            [
             0.1111111111111111,
             "#46039f"
            ],
            [
             0.2222222222222222,
             "#7201a8"
            ],
            [
             0.3333333333333333,
             "#9c179e"
            ],
            [
             0.4444444444444444,
             "#bd3786"
            ],
            [
             0.5555555555555556,
             "#d8576b"
            ],
            [
             0.6666666666666666,
             "#ed7953"
            ],
            [
             0.7777777777777778,
             "#fb9f3a"
            ],
            [
             0.8888888888888888,
             "#fdca26"
            ],
            [
             1,
             "#f0f921"
            ]
           ]
          },
          "colorway": [
           "#636efa",
           "#EF553B",
           "#00cc96",
           "#ab63fa",
           "#FFA15A",
           "#19d3f3",
           "#FF6692",
           "#B6E880",
           "#FF97FF",
           "#FECB52"
          ],
          "font": {
           "color": "#2a3f5f"
          },
          "geo": {
           "bgcolor": "white",
           "lakecolor": "white",
           "landcolor": "#E5ECF6",
           "showlakes": true,
           "showland": true,
           "subunitcolor": "white"
          },
          "hoverlabel": {
           "align": "left"
          },
          "hovermode": "closest",
          "mapbox": {
           "style": "light"
          },
          "paper_bgcolor": "white",
          "plot_bgcolor": "#E5ECF6",
          "polar": {
           "angularaxis": {
            "gridcolor": "white",
            "linecolor": "white",
            "ticks": ""
           },
           "bgcolor": "#E5ECF6",
           "radialaxis": {
            "gridcolor": "white",
            "linecolor": "white",
            "ticks": ""
           }
          },
          "scene": {
           "xaxis": {
            "backgroundcolor": "#E5ECF6",
            "gridcolor": "white",
            "gridwidth": 2,
            "linecolor": "white",
            "showbackground": true,
            "ticks": "",
            "zerolinecolor": "white"
           },
           "yaxis": {
            "backgroundcolor": "#E5ECF6",
            "gridcolor": "white",
            "gridwidth": 2,
            "linecolor": "white",
            "showbackground": true,
            "ticks": "",
            "zerolinecolor": "white"
           },
           "zaxis": {
            "backgroundcolor": "#E5ECF6",
            "gridcolor": "white",
            "gridwidth": 2,
            "linecolor": "white",
            "showbackground": true,
            "ticks": "",
            "zerolinecolor": "white"
           }
          },
          "shapedefaults": {
           "line": {
            "color": "#2a3f5f"
           }
          },
          "ternary": {
           "aaxis": {
            "gridcolor": "white",
            "linecolor": "white",
            "ticks": ""
           },
           "baxis": {
            "gridcolor": "white",
            "linecolor": "white",
            "ticks": ""
           },
           "bgcolor": "#E5ECF6",
           "caxis": {
            "gridcolor": "white",
            "linecolor": "white",
            "ticks": ""
           }
          },
          "title": {
           "x": 0.05
          },
          "xaxis": {
           "automargin": true,
           "gridcolor": "white",
           "linecolor": "white",
           "ticks": "",
           "title": {
            "standoff": 15
           },
           "zerolinecolor": "white",
           "zerolinewidth": 2
          },
          "yaxis": {
           "automargin": true,
           "gridcolor": "white",
           "linecolor": "white",
           "ticks": "",
           "title": {
            "standoff": 15
           },
           "zerolinecolor": "white",
           "zerolinewidth": 2
          }
         }
        },
        "xaxis": {
         "anchor": "y",
         "domain": [
          0,
          1
         ],
         "title": {
          "text": "x"
         }
        },
        "yaxis": {
         "anchor": "x",
         "domain": [
          0,
          1
         ],
         "title": {
          "text": "y"
         }
        }
       }
      },
      "text/html": [
       "<div>                            <div id=\"c89ab587-ba59-4a64-b4ca-6228bacbb0f1\" class=\"plotly-graph-div\" style=\"height:525px; width:100%;\"></div>            <script type=\"text/javascript\">                require([\"plotly\"], function(Plotly) {                    window.PLOTLYENV=window.PLOTLYENV || {};                                    if (document.getElementById(\"c89ab587-ba59-4a64-b4ca-6228bacbb0f1\")) {                    Plotly.newPlot(                        \"c89ab587-ba59-4a64-b4ca-6228bacbb0f1\",                        [{\"customdata\":[[\"21st century classical\"],[\"432hz\"],[\"8-bit\"],[\"[]\"],[\"a cappella\"],[\"abstract\"],[\"abstract beats\"],[\"abstract hip hop\"],[\"accordeon\"],[\"accordion\"],[\"acid house\"],[\"acid rock\"],[\"acid trance\"],[\"acousmatic\"],[\"acoustic blues\"],[\"acoustic pop\"],[\"acoustic punk\"],[\"acoustic rock\"],[\"action rock\"],[\"adoracion\"],[\"adult standards\"],[\"adventista\"],[\"afghan pop\"],[\"afghan traditional\"],[\"african percussion\"],[\"african reggae\"],[\"african rock\"],[\"african-american classical\"],[\"afro dancehall\"],[\"afro house\"],[\"afro psych\"],[\"afro soul\"],[\"afro-funk\"],[\"afrobeat\"],[\"afrofuturism\"],[\"afrofuturismo brasileiro\"],[\"afropop\"],[\"afroswing\"],[\"aggrotech\"],[\"alabama indie\"],[\"alabama metal\"],[\"alabama rap\"],[\"alaska indie\"],[\"albanian pop\"],[\"albany ny indie\"],[\"alberta country\"],[\"alberta hip hop\"],[\"album rock\"],[\"albuquerque indie\"],[\"alt-idol\"],[\"alte\"],[\"alternative americana\"],[\"alternative country\"],[\"alternative dance\"],[\"alternative emo\"],[\"alternative hip hop\"],[\"alternative metal\"],[\"alternative pop\"],[\"alternative pop rock\"],[\"alternative r&b\"],[\"alternative rock\"],[\"alternative roots rock\"],[\"ambeat\"],[\"ambient\"],[\"ambient black metal\"],[\"ambient folk\"],[\"ambient house\"],[\"ambient idm\"],[\"ambient industrial\"],[\"ambient pop\"],[\"ambient techno\"],[\"ambient worship\"],[\"american 21st century classical\"],[\"american choir\"],[\"american classical piano\"],[\"american contemporary classical\"],[\"american early music\"],[\"american folk revival\"],[\"american metalcore\"],[\"american modern classical\"],[\"american oi\"],[\"american orchestra\"],[\"american post-rock\"],[\"american primitive\"],[\"american romanticism\"],[\"american shoegaze\"],[\"anadolu rock\"],[\"anarcho-punk\"],[\"anglican liturgy\"],[\"animal singing\"],[\"anime\"],[\"anime latino\"],[\"anime rock\"],[\"anime score\"],[\"ann arbor indie\"],[\"anthem emo\"],[\"anthem worship\"],[\"anti-folk\"],[\"antilliaanse folklore\"],[\"antiviral pop\"],[\"appalachian folk\"],[\"arab folk\"],[\"arab groove\"],[\"arab pop\"],[\"arabesk\"],[\"arabic hip hop\"],[\"arabic jazz\"],[\"argentine ambient\"],[\"argentine hardcore\"],[\"argentine heavy metal\"],[\"argentine hip hop\"],[\"argentine indie\"],[\"argentine metal\"],[\"argentine punk\"],[\"argentine reggae\"],[\"argentine rock\"],[\"argentine telepop\"],[\"arizona punk\"],[\"arkansas country\"],[\"arkansas hip hop\"],[\"arkansas indie\"],[\"armenian folk\"],[\"art pop\"],[\"art punk\"],[\"art rock\"],[\"art song\"],[\"asbury park indie\"],[\"asheville indie\"],[\"asian american hip hop\"],[\"asmr\"],[\"athens indie\"],[\"atl hip hop\"],[\"atl trap\"],[\"atlanta indie\"],[\"atlanta metal\"],[\"atlanta punk\"],[\"atmosphere\"],[\"atmospheric black metal\"],[\"atmospheric dnb\"],[\"atmospheric post-metal\"],[\"atmospheric post-rock\"],[\"atmospheric sludge\"],[\"auckland indie\"],[\"audiophile vocal\"],[\"aussietronica\"],[\"austin americana\"],[\"austin singer-songwriter\"],[\"austindie\"],[\"australian alternative pop\"],[\"australian alternative rock\"],[\"australian ambient\"],[\"australian children's music\"],[\"australian choir\"],[\"australian classical\"],[\"australian classical piano\"],[\"australian country\"],[\"australian dance\"],[\"australian electropop\"],[\"australian garage punk\"],[\"australian hip hop\"],[\"australian house\"],[\"australian indie\"],[\"australian indie folk\"],[\"australian indie rock\"],[\"australian indigenous\"],[\"australian metal\"],[\"australian metalcore\"],[\"australian pop\"],[\"australian post-hardcore\"],[\"australian post-punk\"],[\"australian psych\"],[\"australian r&b\"],[\"australian reggae fusion\"],[\"australian rock\"],[\"australian singer-songwriter\"],[\"australian ska\"],[\"australian talent show\"],[\"australian trap\"],[\"australian underground hip hop\"],[\"austrian choir\"],[\"austrian classical piano\"],[\"austrian orchestra\"],[\"austrian pop\"],[\"austro-german modernism\"],[\"austropop\"],[\"autoharp\"],[\"autonomous black metal\"],[\"avant-garde\"],[\"avant-garde jazz\"],[\"avant-garde metal\"],[\"axe\"],[\"azeri traditional\"],[\"azonto\"],[\"azontobeats\"],[\"bachata\"],[\"bachata dominicana\"],[\"background music\"],[\"background piano\"],[\"baglama\"],[\"bahai\"],[\"bahamian folk\"],[\"bahamian pop\"],[\"baiao\"],[\"bajki\"],[\"bakersfield sound\"],[\"balearic\"],[\"balkan brass\"],[\"balkan classical piano\"],[\"ballet class\"],[\"ballroom\"],[\"baltic classical\"],[\"baltimore hip hop\"],[\"baltimore indie\"],[\"banda\"],[\"banda caliente\"],[\"banda carnavalera\"],[\"bandinhas\"],[\"bandolim\"],[\"bandoneon\"],[\"bangla\"],[\"banjo\"],[\"bansuri\"],[\"barbadian pop\"],[\"barbershop\"],[\"bard\"],[\"barnmusik\"],[\"barockinterpreten\"],[\"baroque\"],[\"baroque brass\"],[\"baroque ensemble\"],[\"baroque pop\"],[\"baroque singing\"],[\"baroque violin\"],[\"baroque woodwind\"],[\"bass house\"],[\"bass music\"],[\"bass trap\"],[\"basshall\"],[\"bassline\"],[\"bath indie\"],[\"baton rouge indie\"],[\"baton rouge rap\"],[\"battle rap\"],[\"bay area hip hop\"],[\"bay area indie\"],[\"bboy\"],[\"bc underground hip hop\"],[\"beach music\"],[\"beat italiano\"],[\"beat poetry\"],[\"beatboxing\"],[\"beatlesque\"],[\"bebop\"],[\"bedroom pop\"],[\"bedroom soul\"],[\"belarusian indie\"],[\"belarusian pop\"],[\"belarusian rock\"],[\"belgian classical piano\"],[\"belgian contemporary classical\"],[\"belgian dance\"],[\"belgian edm\"],[\"belgian hardcore\"],[\"belgian indie\"],[\"belgian indie rock\"],[\"belgian jazz\"],[\"belgian new wave\"],[\"belgian pop\"],[\"belgian rock\"],[\"belgian singer-songwriter\"],[\"belgian techno\"],[\"belly dance\"],[\"bengali folk\"],[\"beninese pop\"],[\"bergen indie\"],[\"berlin minimal techno\"],[\"berlin school\"],[\"bhajan\"],[\"bhangra\"],[\"bible\"],[\"big band\"],[\"big beat\"],[\"big room\"],[\"binaural\"],[\"birdsong\"],[\"birmingham grime\"],[\"birmingham hip hop\"],[\"birmingham metal\"],[\"bitpop\"],[\"black 'n' roll\"],[\"black comedy\"],[\"black metal\"],[\"black punk\"],[\"black thrash\"],[\"blackened crust\"],[\"blackgaze\"],[\"bleep techno\"],[\"bluegrass\"],[\"bluegrass fiddle\"],[\"bluegrass gospel\"],[\"blues\"],[\"blues latinoamericano\"],[\"blues mexicano\"],[\"blues rock\"],[\"bmore\"],[\"bolero\"],[\"bolero cubano\"],[\"boogaloo\"],[\"boogie\"],[\"boogie-woogie\"],[\"boom bap\"],[\"boom bap brasileiro\"],[\"bossa nova\"],[\"bossa nova jazz\"],[\"boston folk\"],[\"boston hardcore\"],[\"boston hip hop\"],[\"boston indie\"],[\"boston metal\"],[\"boston punk\"],[\"boston rock\"],[\"bounce\"],[\"bouncy house\"],[\"bouzouki\"],[\"bow pop\"],[\"boy band\"],[\"boy pop\"],[\"boy soprano\"],[\"brain waves\"],[\"braindance\"],[\"brass band\"],[\"brass ensemble\"],[\"brass quintet\"],[\"brazilian boogie\"],[\"brazilian classical\"],[\"brazilian classical piano\"],[\"brazilian contemporary classical\"],[\"brazilian edm\"],[\"brazilian groove metal\"],[\"brazilian hip hop\"],[\"brazilian indie\"],[\"brazilian jazz\"],[\"brazilian metal\"],[\"brazilian modern jazz\"],[\"brazilian percussion\"],[\"brazilian punk\"],[\"brazilian reggae\"],[\"brazilian rock\"],[\"brazilian ska\"],[\"brazilian soul\"],[\"brazilian thrash metal\"],[\"breakbeat\"],[\"breakcore\"],[\"brega\"],[\"breton folk\"],[\"brighton indie\"],[\"brill building pop\"],[\"brisbane indie\"],[\"bristol electronic\"],[\"bristol indie\"],[\"brit funk\"],[\"british alternative rock\"],[\"british black metal\"],[\"british blues\"],[\"british children's music\"],[\"british choir\"],[\"british classical piano\"],[\"british comedy\"],[\"british contemporary classical\"],[\"british dance band\"],[\"british death metal\"],[\"british experimental\"],[\"british folk\"],[\"british grindcore\"],[\"british indie rock\"],[\"british industrial\"],[\"british invasion\"],[\"british jazz\"],[\"british modern classical\"],[\"british orchestra\"],[\"british post-rock\"],[\"british power metal\"],[\"british singer-songwriter\"],[\"british soul\"],[\"british soundtrack\"],[\"britpop\"],[\"broadway\"],[\"broken beat\"],[\"bronx hip hop\"],[\"brooklyn drill\"],[\"brooklyn indie\"],[\"brostep\"],[\"brutal death metal\"],[\"brutal deathcore\"],[\"bubble trance\"],[\"bubblegrunge\"],[\"bubblegum dance\"],[\"bubblegum pop\"],[\"buffalo hip hop\"],[\"buffalo ny indie\"],[\"buffalo ny metal\"],[\"bulgarian experimental\"],[\"burmese traditional\"],[\"bush ballad\"],[\"c-pop\"],[\"c86\"],[\"cabaret\"],[\"cajun\"],[\"calgary indie\"],[\"cali rap\"],[\"calming instrumental\"],[\"calypso\"],[\"cambodian rock\"],[\"cambridge choir\"],[\"cambridgeshire indie\"],[\"cameroonian pop\"],[\"canadian americana\"],[\"canadian blues\"],[\"canadian ccm\"],[\"canadian celtic\"],[\"canadian children's music\"],[\"canadian choir\"],[\"canadian classical\"],[\"canadian classical piano\"],[\"canadian comedy\"],[\"canadian contemporary country\"],[\"canadian contemporary r&b\"],[\"canadian country\"],[\"canadian electronic\"],[\"canadian electropop\"],[\"canadian experimental\"],[\"canadian folk\"],[\"canadian hardcore\"],[\"canadian hip hop\"],[\"canadian house\"],[\"canadian indie\"],[\"canadian indie folk\"],[\"canadian indigenous\"],[\"canadian indigenous hip hop\"],[\"canadian latin\"],[\"canadian metal\"],[\"canadian metalcore\"],[\"canadian modern jazz\"],[\"canadian pop\"],[\"canadian pop punk\"],[\"canadian post-hardcore\"],[\"canadian post-rock\"],[\"canadian psychedelic\"],[\"canadian punk\"],[\"canadian rock\"],[\"canadian rockabilly\"],[\"canadian singer-songwriter\"],[\"canadian soundtrack\"],[\"cancion melodica\"],[\"candy pop\"],[\"cantautor\"],[\"cante flamenco\"],[\"canterbury scene\"],[\"canto popular uruguayo\"],[\"cantopop\"],[\"canzone d'autore\"],[\"canzone genovese\"],[\"canzone napoletana\"],[\"cape town indie\"],[\"cape verdean folk\"],[\"capoeira\"],[\"caracas indie\"],[\"carnatic\"],[\"carnatic instrumental\"],[\"carnatic vocal\"],[\"cartoon\"],[\"cathedral choir\"],[\"caucasian classical\"],[\"caucasian classical piano\"],[\"ccm\"],[\"cedm\"],[\"cello\"],[\"celtic\"],[\"celtic harp\"],[\"celtic metal\"],[\"celtic punk\"],[\"celtic rock\"],[\"cha-cha-cha\"],[\"chakra\"],[\"chamame\"],[\"chamber choir\"],[\"chamber ensemble\"],[\"chamber folk\"],[\"chamber orchestra\"],[\"chamber pop\"],[\"chamber psych\"],[\"champeta\"],[\"channel islands indie\"],[\"channel pop\"],[\"chanson\"],[\"chanson paillarde\"],[\"chaotic hardcore\"],[\"charanga\"],[\"charango\"],[\"charlotte nc indie\"],[\"charlottesville indie\"],[\"chattanooga indie\"],[\"chicago blues\"],[\"chicago drill\"],[\"chicago hardcore\"],[\"chicago house\"],[\"chicago indie\"],[\"chicago pop punk\"],[\"chicago punk\"],[\"chicago rap\"],[\"chicago soul\"],[\"chicano punk\"],[\"chicano rap\"],[\"chicha\"],[\"chihuahua indie\"],[\"children's choir\"],[\"children's folk\"],[\"children's music\"],[\"children's story\"],[\"chilean hardcore\"],[\"chilean indie\"],[\"chilean rock\"],[\"chilena\"],[\"chill beats\"],[\"chill guitar\"],[\"chill lounge\"],[\"chill out\"],[\"chill pop\"],[\"chill r&b\"],[\"chillhop\"],[\"chillstep\"],[\"chillwave\"],[\"chinese audiophile\"],[\"chinese classical\"],[\"chinese classical performance\"],[\"chinese classical piano\"],[\"chinese electropop\"],[\"chinese hip hop\"],[\"chinese idol pop\"],[\"chinese indie\"],[\"chinese indie rock\"],[\"chinese instrumental\"],[\"chinese jazz\"],[\"chinese r&b\"],[\"chinese soundtrack\"],[\"chinese traditional\"],[\"chiptune\"],[\"chopped and screwed\"],[\"choral\"],[\"choro\"],[\"christchurch indie\"],[\"christelijk\"],[\"christian a cappella\"],[\"christian alternative rock\"],[\"christian dance\"],[\"christian hard rock\"],[\"christian hardcore\"],[\"christian hip hop\"],[\"christian indie\"],[\"christian metal\"],[\"christian metalcore\"],[\"christian music\"],[\"christian pop\"],[\"christian power metal\"],[\"christian punk\"],[\"christian relaxative\"],[\"christian rock\"],[\"christian trap\"],[\"christian uplift\"],[\"christmas instrumental\"],[\"christmas product\"],[\"chunchaca\"],[\"chutney\"],[\"cincinnati rap\"],[\"cinematic post-rock\"],[\"circuit\"],[\"circus\"],[\"classic afrobeat\"],[\"classic arab pop\"],[\"classic australian country\"],[\"classic belgian pop\"],[\"classic bhangra\"],[\"classic bollywood\"],[\"classic canadian rock\"],[\"classic cantopop\"],[\"classic colombian pop\"],[\"classic country pop\"],[\"classic czech pop\"],[\"classic danish pop\"],[\"classic dubstep\"],[\"classic eurovision\"],[\"classic finnish pop\"],[\"classic french pop\"],[\"classic garage rock\"],[\"classic girl group\"],[\"classic greek pop\"],[\"classic hardstyle\"],[\"classic icelandic pop\"],[\"classic indo pop\"],[\"classic iskelma\"],[\"classic israeli pop\"],[\"classic italian folk pop\"],[\"classic italian pop\"],[\"classic j-rock\"],[\"classic japanese jazz\"],[\"classic korean pop\"],[\"classic latvian pop\"],[\"classic mandopop\"],[\"classic norwegian pop\"],[\"classic opm\"],[\"classic pakistani pop\"],[\"classic persian pop\"],[\"classic peruvian pop\"],[\"classic polish pop\"],[\"classic praise\"],[\"classic psychedelic rock\"],[\"classic punjabi pop\"],[\"classic rock\"],[\"classic russian pop\"],[\"classic russian rock\"],[\"classic schlager\"],[\"classic soul\"],[\"classic soundtrack\"],[\"classic swedish pop\"],[\"classic thai pop\"],[\"classic tunisian pop\"],[\"classic turkish pop\"],[\"classic uk pop\"],[\"classic venezuelan pop\"],[\"classical\"],[\"classical accordion\"],[\"classical baritone\"],[\"classical bass\"],[\"classical cello\"],[\"classical clarinet\"],[\"classical contralto\"],[\"classical countertenor\"],[\"classical era\"],[\"classical flute\"],[\"classical guitar\"],[\"classical harp\"],[\"classical horn\"],[\"classical mandolin\"],[\"classical mezzo-soprano\"],[\"classical oboe\"],[\"classical organ\"],[\"classical performance\"],[\"classical piano\"],[\"classical piano duo\"],[\"classical piano trio\"],[\"classical saxophone\"],[\"classical soprano\"],[\"classical tenor\"],[\"classical trumpet\"],[\"classify\"],[\"clawhammer banjo\"],[\"clean comedy\"],[\"cleveland metal\"],[\"coco\"],[\"collage pop\"],[\"college a cappella\"],[\"colombian hip hop\"],[\"colombian pop\"],[\"colombian rock\"],[\"columbus ohio indie\"],[\"comedy\"],[\"comedy rap\"],[\"comedy rock\"],[\"comic\"],[\"comic metal\"],[\"commons\"],[\"complextro\"],[\"compositional ambient\"],[\"concepcion indie\"],[\"concert band\"],[\"connecticut hardcore\"],[\"connecticut indie\"],[\"conscious hip hop\"],[\"contemporary choir\"],[\"contemporary classical\"],[\"contemporary classical piano\"],[\"contemporary country\"],[\"contemporary folk\"],[\"contemporary gospel\"],[\"contemporary jazz\"],[\"contemporary post-bop\"],[\"contemporary vocal jazz\"],[\"contrabass\"],[\"cool jazz\"],[\"copla\"],[\"cornish folk\"],[\"cornwall indie\"],[\"corrido\"],[\"corridos cristianos\"],[\"corridos tumbados\"],[\"corrosion\"],[\"cosmic american\"],[\"cosmic post-rock\"],[\"country\"],[\"country blues\"],[\"country boogie\"],[\"country dawn\"],[\"country gospel\"],[\"country pop\"],[\"country rap\"],[\"country road\"],[\"country rock\"],[\"coverchill\"],[\"cowboy western\"],[\"cowpunk\"],[\"crack rock steady\"],[\"croatian folk\"],[\"croatian pop\"],[\"croatian rock\"],[\"crossover thrash\"],[\"crunk\"],[\"crust punk\"],[\"cuarteto\"],[\"cuatro venezolano\"],[\"cuban alternative\"],[\"cuban rumba\"],[\"cubaton\"],[\"cumbia\"],[\"cumbia andina mexicana\"],[\"cumbia chilena\"],[\"cumbia colombiana regia\"],[\"cumbia ecuatoriana\"],[\"cumbia funk\"],[\"cumbia lagunera\"],[\"cumbia paraguaya\"],[\"cumbia peruana\"],[\"cumbia pop\"],[\"cumbia ranchera\"],[\"cumbia salvadorena\"],[\"cumbia santafesina\"],[\"cumbia sonidera\"],[\"cumbia villera\"],[\"cyberpunk\"],[\"cymraeg\"],[\"cypriot pop\"],[\"czech classical\"],[\"czech classical piano\"],[\"czech contemporary classical\"],[\"d-beat\"],[\"dabke\"],[\"dakke dak\"],[\"dallas indie\"],[\"dance pop\"],[\"dance rock\"],[\"dance-punk\"],[\"dancehall\"],[\"dangdut\"],[\"danish alternative rock\"],[\"danish classical\"],[\"danish electronic\"],[\"danish electropop\"],[\"danish hip hop\"],[\"danish jazz\"],[\"danish metal\"],[\"danish pop\"],[\"danish pop rock\"],[\"danish post-punk\"],[\"danish punk\"],[\"danish rock\"],[\"danish singer-songwriter\"],[\"dansband\"],[\"danseband\"],[\"dansktop\"],[\"danspunk\"],[\"dark cabaret\"],[\"dark clubbing\"],[\"dark disco\"],[\"dark hardcore\"],[\"dark jazz\"],[\"dark minimal techno\"],[\"dark post-punk\"],[\"dark techno\"],[\"dark trap\"],[\"dark wave\"],[\"darksynth\"],[\"dayton indie\"],[\"dc hardcore\"],[\"dc indie\"],[\"death 'n' roll\"],[\"death metal\"],[\"deathcore\"],[\"deathgrass\"],[\"deathgrind\"],[\"deathrash\"],[\"deathrock\"],[\"deathstep\"],[\"deep acoustic pop\"],[\"deep adult standards\"],[\"deep big room\"],[\"deep ccm\"],[\"deep christian rock\"],[\"deep classic garage rock\"],[\"deep comedy\"],[\"deep contemporary country\"],[\"deep dance pop\"],[\"deep delta blues\"],[\"deep disco\"],[\"deep disco house\"],[\"deep dnb\"],[\"deep east coast hip hop\"],[\"deep euro house\"],[\"deep flow\"],[\"deep free jazz\"],[\"deep freestyle\"],[\"deep full on\"],[\"deep funk\"],[\"deep g funk\"],[\"deep gothic post-punk\"],[\"deep groove house\"],[\"deep house\"],[\"deep idm\"],[\"deep indian pop\"],[\"deep indie singer-songwriter\"],[\"deep latin alternative\"],[\"deep latin christian\"],[\"deep melodic metalcore\"],[\"deep minimal techno\"],[\"deep motown\"],[\"deep new americana\"],[\"deep new wave\"],[\"deep norteno\"],[\"deep northern soul\"],[\"deep pop edm\"],[\"deep progressive house\"],[\"deep psychobilly\"],[\"deep punk rock\"],[\"deep r&b\"],[\"deep ragga\"],[\"deep regional mexican\"],[\"deep smooth jazz\"],[\"deep soft rock\"],[\"deep soul house\"],[\"deep soundtrack\"],[\"deep southern soul\"],[\"deep southern trap\"],[\"deep space rock\"],[\"deep talent show\"],[\"deep tech house\"],[\"deep techno\"],[\"deep tropical house\"],[\"deep underground hip hop\"],[\"deep uplifting trance\"],[\"delta blues\"],[\"dembow\"],[\"denpa-kei\"],[\"denton tx indie\"],[\"denver indie\"],[\"depressive black metal\"],[\"derby indie\"],[\"desert blues\"],[\"desi hip hop\"],[\"desi pop\"],[\"destroy techno\"],[\"detroit hip hop\"],[\"detroit house\"],[\"detroit techno\"],[\"detroit trap\"],[\"detske pisnicky\"],[\"detskie pesni\"],[\"devon indie\"],[\"dfw rap\"],[\"dhrupad\"],[\"digital hardcore\"],[\"dinner jazz\"],[\"dirty south rap\"],[\"dirty texas rap\"],[\"disco\"],[\"disco house\"],[\"disney\"],[\"diva house\"],[\"dixieland\"],[\"diy emo\"],[\"djent\"],[\"dmv rap\"],[\"dominican pop\"],[\"dong-yo\"],[\"doo-wop\"],[\"doom metal\"],[\"double drumming\"],[\"downtempo\"],[\"drama\"],[\"dream pop\"],[\"dream trance\"],[\"dreamgaze\"],[\"dreamo\"],[\"drift\"],[\"drill\"],[\"drill and bass\"],[\"drone\"],[\"drone folk\"],[\"drone metal\"],[\"drum and bass\"],[\"dub\"],[\"dub metal\"],[\"dub poetry\"],[\"dub techno\"],[\"dubstep\"],[\"dubsteppe\"],[\"duduk\"],[\"duluth indie\"],[\"dunedin indie\"],[\"dunedin sound\"],[\"dungeon synth\"],[\"duranguense\"],[\"dusseldorf electronic\"],[\"dutch blues\"],[\"dutch cabaret\"],[\"dutch classical piano\"],[\"dutch death metal\"],[\"dutch dnb\"],[\"dutch edm\"],[\"dutch folk\"],[\"dutch hip hop\"],[\"dutch house\"],[\"dutch indie\"],[\"dutch jazz\"],[\"dutch metal\"],[\"dutch pop\"],[\"dutch prog\"],[\"dutch rap pop\"],[\"dutch rock\"],[\"dutch trance\"],[\"e6fi\"],[\"early american folk\"],[\"early avant garde\"],[\"early modern classical\"],[\"early music\"],[\"early music choir\"],[\"early music ensemble\"],[\"early reggae\"],[\"early romantic era\"],[\"early synthpop\"],[\"early us punk\"],[\"east coast hip hop\"],[\"east coast reggae\"],[\"eastern bloc groove\"],[\"easy listening\"],[\"easycore\"],[\"eau claire indie\"],[\"ebm\"],[\"ecm-style jazz\"],[\"ectofolk\"],[\"ecuadorian pop\"],[\"edm\"],[\"edmonton indie\"],[\"egyptian pop\"],[\"egyptian traditional\"],[\"el paso indie\"],[\"electra\"],[\"electric bass\"],[\"electric blues\"],[\"electro\"],[\"electro house\"],[\"electro jazz\"],[\"electro latino\"],[\"electro swing\"],[\"electro-industrial\"],[\"electro-pop francais\"],[\"electroclash\"],[\"electrofox\"],[\"electronic djent\"],[\"electronic rock\"],[\"electronic trap\"],[\"electronica\"],[\"electronica argentina\"],[\"electropop\"],[\"electropowerpop\"],[\"emo\"],[\"emo mexicano\"],[\"emo punk\"],[\"emo rap\"],[\"emocore\"],[\"english baroque\"],[\"english indie rock\"],[\"english renaissance\"],[\"enka\"],[\"entehno\"],[\"environmental\"],[\"epic doom\"],[\"epicore\"],[\"erhu\"],[\"escape room\"],[\"esperanto\"],[\"essex indie\"],[\"estonian hip hop\"],[\"estonian pop\"],[\"ethereal wave\"],[\"etherpop\"],[\"ethio-jazz\"],[\"ethiopian pop\"],[\"ethnomusicology\"],[\"ethnotronica\"],[\"eugene indie\"],[\"euphoric hardstyle\"],[\"eurobeat\"],[\"eurodance\"],[\"europop\"],[\"euroska\"],[\"eurovision\"],[\"exotica\"],[\"experimental\"],[\"experimental ambient\"],[\"experimental big band\"],[\"experimental dub\"],[\"experimental folk\"],[\"experimental guitar\"],[\"experimental hip hop\"],[\"experimental house\"],[\"experimental indie\"],[\"experimental jazz\"],[\"experimental pop\"],[\"experimental rock\"],[\"experimental vocal\"],[\"fado\"],[\"family gospel\"],[\"faroese pop\"],[\"fast melodic punk\"],[\"fidget house\"],[\"filmi\"],[\"filter house\"],[\"filthstep\"],[\"final fantasy\"],[\"fingerstyle\"],[\"finnish alternative rock\"],[\"finnish classical\"],[\"finnish contemporary classical\"],[\"finnish death metal\"],[\"finnish edm\"],[\"finnish hard rock\"],[\"finnish heavy metal\"],[\"finnish metal\"],[\"finnish power metal\"],[\"finnish soul\"],[\"flamenco\"],[\"flamenco guitar\"],[\"flick hop\"],[\"flint hip hop\"],[\"float house\"],[\"florida death metal\"],[\"florida rap\"],[\"fluxwork\"],[\"fo jing\"],[\"focus\"],[\"focus beats\"],[\"focus trance\"],[\"folclor afrocolombiano\"],[\"folclor colombiano\"],[\"folclore extremeno\"],[\"folclore jujeno\"],[\"folclore navarra\"],[\"folclore salteno\"],[\"folclore tucumano\"],[\"folk\"],[\"folk metal\"],[\"folk punk\"],[\"folk rock\"],[\"folk rock italiano\"],[\"folk-pop\"],[\"folklore argentino\"],[\"folklore boliviano\"],[\"folklore chileno\"],[\"folklore ecuatoriano\"],[\"folklore peruano\"],[\"folklore venezolano\"],[\"folklore veracruzano\"],[\"folkmusik\"],[\"folktronica\"],[\"footwork\"],[\"forro\"],[\"forro tradicional\"],[\"fort worth indie\"],[\"fourth world\"],[\"francoton\"],[\"freak folk\"],[\"freakbeat\"],[\"free folk\"],[\"free improvisation\"],[\"free jazz\"],[\"freestyle\"],[\"french baroque\"],[\"french classical piano\"],[\"french contemporary classical\"],[\"french death metal\"],[\"french dnb\"],[\"french hip hop\"],[\"french indie folk\"],[\"french indie pop\"],[\"french indietronica\"],[\"french jazz\"],[\"french metal\"],[\"french movie tunes\"],[\"french opera\"],[\"french orchestra\"],[\"french pop\"],[\"french post-punk\"],[\"french psychedelic\"],[\"french reggae\"],[\"french rock\"],[\"french romanticism\"],[\"french shoegaze\"],[\"french soundtrack\"],[\"french synthpop\"],[\"french techno\"],[\"frenchcore\"],[\"full on\"],[\"funana\"],[\"funeral doom\"],[\"funk\"],[\"funk 150 bpm\"],[\"funk carioca\"],[\"funk das antigas\"],[\"funk metal\"],[\"funk mexicano\"],[\"funk ostentacao\"],[\"funk paulista\"],[\"funk pop\"],[\"funk rock\"],[\"funky breaks\"],[\"funky tech house\"],[\"future bass\"],[\"future funk\"],[\"future garage\"],[\"future house\"],[\"future rock\"],[\"futurepop\"],[\"g funk\"],[\"gabba\"],[\"gabonese pop\"],[\"gaian doom\"],[\"gainesville indie\"],[\"gaita zuliana\"],[\"galante era\"],[\"gamelan\"],[\"gaming dubstep\"],[\"gaming edm\"],[\"gangster rap\"],[\"garage house\"],[\"garage pop\"],[\"garage psych\"],[\"garage punk\"],[\"garage punk blues\"],[\"garage rock\"],[\"garage rock revival\"],[\"gauze pop\"],[\"gbvfi\"],[\"geek folk\"],[\"geek rock\"],[\"georgian folk\"],[\"german alternative rock\"],[\"german baroque\"],[\"german choir\"],[\"german classical piano\"],[\"german country\"],[\"german dance\"],[\"german hard rock\"],[\"german heavy metal\"],[\"german house\"],[\"german indie\"],[\"german jazz\"],[\"german literature\"],[\"german metal\"],[\"german oi\"],[\"german opera\"],[\"german orchestra\"],[\"german pop\"],[\"german pop rock\"],[\"german post-hardcore\"],[\"german power metal\"],[\"german punk\"],[\"german renaissance\"],[\"german rock\"],[\"german romanticism\"],[\"german show tunes\"],[\"german soundtrack\"],[\"german techno\"],[\"german thrash metal\"],[\"german trance\"],[\"german underground rap\"],[\"ghanaian hip hop\"],[\"ghanaian traditional\"],[\"ghazal\"],[\"ghent indie\"],[\"girl group\"],[\"glam metal\"],[\"glam punk\"],[\"glam rock\"],[\"glee club\"],[\"glitch\"],[\"glitch hop\"],[\"glitch pop\"],[\"glitchcore\"],[\"go-go\"],[\"goregrind\"],[\"gospel\"],[\"gospel antigas\"],[\"gospel blues\"],[\"gospel italiano\"],[\"gospel r&b\"],[\"gospel rap\"],[\"gospel singers\"],[\"gospel soul\"],[\"gothabilly\"],[\"gothenburg indie\"],[\"gothenburg metal\"],[\"gothic alternative\"],[\"gothic americana\"],[\"gothic black metal\"],[\"gothic metal\"],[\"gothic post-punk\"],[\"gothic rock\"],[\"gothic symphonic metal\"],[\"gqom\"],[\"grand rapids indie\"],[\"grave wave\"],[\"greek clarinet\"],[\"greek contemporary classical\"],[\"greek folk\"],[\"greek guitar\"],[\"greek house\"],[\"greek jazz\"],[\"greek pop\"],[\"greek swing\"],[\"gregorian chant\"],[\"grime\"],[\"grindcore\"],[\"griot\"],[\"groove metal\"],[\"groove room\"],[\"grunge\"],[\"grunge pop\"],[\"grupera\"],[\"gruperas inmortales\"],[\"guadalajara indie\"],[\"guam indie\"],[\"guaracha\"],[\"guatemalan pop\"],[\"guidance\"],[\"guinean pop\"],[\"guitarra argentina\"],[\"guitarra clasica\"],[\"guitarra portuguesa\"],[\"gujarati garba\"],[\"gujarati pop\"],[\"guzheng\"],[\"gymcore\"],[\"gypsy\"],[\"gypsy jazz\"],[\"gypsy punk\"],[\"haitian traditional\"],[\"halifax indie\"],[\"halloween\"],[\"hamburg electronic\"],[\"hammered dulcimer\"],[\"hammond organ\"],[\"hands up\"],[\"hangpan\"],[\"happy hardcore\"],[\"hard alternative\"],[\"hard bop\"],[\"hard minimal techno\"],[\"hard rock\"],[\"hard rock brasileiro\"],[\"hardcore\"],[\"hardcore hip hop\"],[\"hardcore punk\"],[\"hardcore techno\"],[\"hardstyle\"],[\"harlem hip hop\"],[\"harlem renaissance\"],[\"harmonica blues\"],[\"harmonica jazz\"],[\"harp\"],[\"harpsichord\"],[\"haryanvi pop\"],[\"hauntology\"],[\"hawaiian\"],[\"hawaiian hip hop\"],[\"hawaiian indie\"],[\"healing\"],[\"heartland rock\"],[\"hi-nrg\"],[\"highlife\"],[\"hindi hip hop\"],[\"hindi indie\"],[\"hindustani classical\"],[\"hindustani instrumental\"],[\"hindustani vocal\"],[\"hip hop\"],[\"hip hop cubano\"],[\"hip house\"],[\"hip pop\"],[\"hiplife\"],[\"histoire pour enfants\"],[\"historic classical performance\"],[\"historic orchestral performance\"],[\"historic piano performance\"],[\"historic string quartet\"],[\"historical keyboard\"],[\"historically informed performance\"],[\"hoerspiel\"],[\"hokkien pop\"],[\"hollywood\"],[\"hong kong hip hop\"],[\"hong kong indie\"],[\"hong kong rock\"],[\"honky tonk\"],[\"honky-tonk piano\"],[\"hopebeat\"],[\"horror punk\"],[\"horror synth\"],[\"horrorcore\"],[\"house\"],[\"houston rap\"],[\"huapango\"],[\"huayno\"],[\"hula\"],[\"humppa\"],[\"hungarian choir\"],[\"hungarian classical performance\"],[\"hungarian classical piano\"],[\"hungarian contemporary classical\"],[\"hungarian edm\"],[\"hungarian folk\"],[\"hungarian pop\"],[\"hungarian rock\"],[\"hungarian techno\"],[\"hurdy-gurdy\"],[\"hyperpop\"],[\"hyphy\"],[\"icelandic classical\"],[\"icelandic electronic\"],[\"icelandic experimental\"],[\"icelandic folk\"],[\"icelandic indie\"],[\"icelandic jazz\"],[\"icelandic pop\"],[\"icelandic rock\"],[\"idaho indie\"],[\"idol\"],[\"idol rock\"],[\"ilahiler\"],[\"ilocano pop\"],[\"impressionism\"],[\"indian classical\"],[\"indian edm\"],[\"indian folk\"],[\"indian fusion\"],[\"indian indie\"],[\"indian instrumental\"],[\"indian jazz\"],[\"indiana hip hop\"],[\"indie anthem-folk\"],[\"indie cafe pop\"],[\"indie deutschrap\"],[\"indie dream pop\"],[\"indie electronica\"],[\"indie electropop\"],[\"indie folk\"],[\"indie game soundtrack\"],[\"indie garage rock\"],[\"indie hip hop\"],[\"indie jazz\"],[\"indie pop\"],[\"indie pop rap\"],[\"indie poptimism\"],[\"indie psych-pop\"],[\"indie punk\"],[\"indie quebecois\"],[\"indie r&b\"],[\"indie rock\"],[\"indie rock mexicano\"],[\"indie rockism\"],[\"indie shoegaze\"],[\"indie singer-songwriter\"],[\"indie soul\"],[\"indie surf\"],[\"indie triste\"],[\"indiecoustica\"],[\"indietronica\"],[\"indonesian hip hop\"],[\"indonesian indie\"],[\"indonesian pop\"],[\"indonesian r&b\"],[\"indonesian worship\"],[\"industrial\"],[\"industrial hardcore\"],[\"industrial hip hop\"],[\"industrial metal\"],[\"industrial rock\"],[\"indy indie\"],[\"instrumental acoustic guitar\"],[\"instrumental bluegrass\"],[\"instrumental funk\"],[\"instrumental grime\"],[\"instrumental math rock\"],[\"instrumental post-rock\"],[\"instrumental progressive metal\"],[\"instrumental rock\"],[\"instrumental soul\"],[\"instrumental stoner rock\"],[\"instrumental surf\"],[\"intelligent dance music\"],[\"iowa hip hop\"],[\"irish accordion\"],[\"irish ballad\"],[\"irish banjo\"],[\"irish classical\"],[\"irish country\"],[\"irish dance\"],[\"irish fiddle\"],[\"irish folk\"],[\"irish hip hop\"],[\"irish indie\"],[\"irish metal\"],[\"irish pop\"],[\"irish pub song\"],[\"irish rock\"],[\"irish singer-songwriter\"],[\"iskelma\"],[\"islamic recitation\"],[\"isle of wight indie\"],[\"israeli classical\"],[\"israeli classical piano\"],[\"israeli folk\"],[\"israeli hip hop\"],[\"israeli mediterranean\"],[\"israeli pop\"],[\"israeli rock\"],[\"israeli singer-songwriter\"],[\"israeli techno\"],[\"italian adult pop\"],[\"italian baritone\"],[\"italian baroque\"],[\"italian baroque ensemble\"],[\"italian bass\"],[\"italian blues\"],[\"italian classical guitar\"],[\"italian classical piano\"],[\"italian contemporary jazz\"],[\"italian disco\"],[\"italian gothic\"],[\"italian gothic metal\"],[\"italian indie pop\"],[\"italian jazz\"],[\"italian library music\"],[\"italian mandolin\"],[\"italian metal\"],[\"italian mezzo-soprano\"],[\"italian modern prog\"],[\"italian opera\"],[\"italian orchestra\"],[\"italian pop rock\"],[\"italian power metal\"],[\"italian progressive metal\"],[\"italian progressive rock\"],[\"italian renaissance\"],[\"italian romanticism\"],[\"italian soprano\"],[\"italian soundtrack\"],[\"italian techno\"],[\"italian tenor\"],[\"italian violin\"],[\"italo dance\"],[\"italo house\"],[\"j-acoustic\"],[\"j-ambient\"],[\"j-dance\"],[\"j-division\"],[\"j-idol\"],[\"j-metal\"],[\"j-pixie\"],[\"j-pop\"],[\"j-pop girl group\"],[\"j-poprock\"],[\"j-punk\"],[\"j-reggae\"],[\"j-rock\"],[\"jacksonville indie\"],[\"jam band\"],[\"jamgrass\"],[\"jamtronica\"],[\"jangle pop\"],[\"japanese alternative rock\"],[\"japanese chillhop\"],[\"japanese city pop\"],[\"japanese classical\"],[\"japanese classical performance\"],[\"japanese classical piano\"],[\"japanese concert band\"],[\"japanese dream pop\"],[\"japanese electronic\"],[\"japanese electropop\"],[\"japanese emo\"],[\"japanese experimental\"],[\"japanese folk\"],[\"japanese garage rock\"],[\"japanese girl punk\"],[\"japanese heavy metal\"],[\"japanese idm\"],[\"japanese indie folk\"],[\"japanese indie rock\"],[\"japanese instrumental\"],[\"japanese jazz\"],[\"japanese jazz fusion\"],[\"japanese jazztronica\"],[\"japanese metalcore\"],[\"japanese new wave\"],[\"japanese piano\"],[\"japanese pop punk\"],[\"japanese post-hardcore\"],[\"japanese power metal\"],[\"japanese prog\"],[\"japanese psychedelic\"],[\"japanese punk rock\"],[\"japanese r&b\"],[\"japanese rockabilly\"],[\"japanese singer-songwriter\"],[\"japanese soundtrack\"],[\"japanese traditional\"],[\"japanese vgm\"],[\"japanese vocal jazz\"],[\"jawaiian\"],[\"jazz\"],[\"jazz accordion\"],[\"jazz blues\"],[\"jazz boom bap\"],[\"jazz brass\"],[\"jazz chileno\"],[\"jazz clarinet\"],[\"jazz colombiano\"],[\"jazz cubano\"],[\"jazz double bass\"],[\"jazz drums\"],[\"jazz flute\"],[\"jazz funk\"],[\"jazz fusion\"],[\"jazz guitar\"],[\"jazz harp\"],[\"jazz metal\"],[\"jazz mexicano\"],[\"jazz orchestra\"],[\"jazz organ\"],[\"jazz piano\"],[\"jazz pop\"],[\"jazz quartet\"],[\"jazz rap\"],[\"jazz rock\"],[\"jazz saxophone\"],[\"jazz trio\"],[\"jazz trombone\"],[\"jazz trumpet\"],[\"jazz tuba\"],[\"jazz venezolano\"],[\"jazz vibraphone\"],[\"jazz violin\"],[\"jazztronica\"],[\"jewish cantorial\"],[\"jewish hip hop\"],[\"jig and reel\"],[\"jordanian pop\"],[\"joropo\"],[\"jovem guarda\"],[\"jug band\"],[\"juju\"],[\"jump blues\"],[\"jump up\"],[\"k-indie\"],[\"k-pop\"],[\"k-pop boy group\"],[\"k-pop girl group\"],[\"k-rap\"],[\"kabarett\"],[\"kabyle\"],[\"kaneka\"],[\"kannada bhava geethe\"],[\"kansas city hip hop\"],[\"kashmiri pop\"],[\"kawaii future bass\"],[\"kawaii metal\"],[\"kayokyoku\"],[\"kc indie\"],[\"kent indie\"],[\"kentucky hip hop\"],[\"kentucky indie\"],[\"kentucky metal\"],[\"kentucky mountain folk\"],[\"kentucky punk\"],[\"kentucky roots\"],[\"keroncong\"],[\"khaleeji iraqi\"],[\"khmer\"],[\"kids dance party\"],[\"kindie rock\"],[\"kingston on indie\"],[\"kirtan\"],[\"kiwi rock\"],[\"kizomba antigas\"],[\"kleine hoerspiel\"],[\"klezmer\"],[\"knoxville indie\"],[\"kodomo no ongaku\"],[\"kolsche karneval\"],[\"komedi\"],[\"kompa\"],[\"kora\"],[\"korean classical performance\"],[\"korean classical piano\"],[\"korean indie rock\"],[\"korean mask singer\"],[\"korean pop\"],[\"korean r&b\"],[\"korean trap\"],[\"koto\"],[\"krautrock\"],[\"kundiman\"],[\"la indie\"],[\"la pop\"],[\"laboratorio\"],[\"lafayette indie\"],[\"laiko\"],[\"lancashire indie\"],[\"lancaster pa indie\"],[\"late romantic era\"],[\"latin\"],[\"latin afrobeat\"],[\"latin alternative\"],[\"latin american classical piano\"],[\"latin arena pop\"],[\"latin christian\"],[\"latin classical\"],[\"latin funk\"],[\"latin hip hop\"],[\"latin house\"],[\"latin jazz\"],[\"latin metal\"],[\"latin pop\"],[\"latin rock\"],[\"latin ska\"],[\"latin soundtrack\"],[\"latin talent show\"],[\"latin tech house\"],[\"latin viral pop\"],[\"latin worship\"],[\"latincore\"],[\"latino comedy\"],[\"latintronica\"],[\"latinx alternative\"],[\"latvian pop\"],[\"lds\"],[\"lds youth\"],[\"lebanese pop\"],[\"leicester indie\"],[\"lexington ky indie\"],[\"lgbtq+ hip hop\"],[\"library music\"],[\"liedermacher\"],[\"light music\"],[\"lilith\"],[\"liquid funk\"],[\"lithuanian electronic\"],[\"liverpool indie\"],[\"livetronica\"],[\"lldm\"],[\"lo star\"],[\"lo-fi\"],[\"lo-fi beats\"],[\"lo-fi brasileiro\"],[\"lo-fi chill\"],[\"lo-fi cover\"],[\"lo-fi emo\"],[\"lo-fi house\"],[\"lo-fi indie\"],[\"lo-fi vgm\"],[\"london rap\"],[\"louisiana blues\"],[\"louisiana metal\"],[\"louisville indie\"],[\"louisville underground\"],[\"lounge\"],[\"louvor\"],[\"lovers rock\"],[\"lullaby\"],[\"lund indie\"],[\"lute\"],[\"macedonian folk\"],[\"madchester\"],[\"madrigal\"],[\"magyar alternative\"],[\"maine hip hop\"],[\"maine indie\"],[\"mainland chinese pop\"],[\"makossa\"],[\"malaysian mandopop\"],[\"malaysian pop\"],[\"malian blues\"],[\"mallet\"],[\"malmo indie\"],[\"mambo\"],[\"manchester hip hop\"],[\"manchester indie\"],[\"mande pop\"],[\"mandolin\"],[\"mandopop\"],[\"manguebeat\"],[\"manila sound\"],[\"manitoba indie\"],[\"mantra\"],[\"marathi pop\"],[\"marathi traditional\"],[\"marching band\"],[\"mariachi\"],[\"mariachi cristiano\"],[\"marimba orquesta\"],[\"martial industrial\"],[\"mashup\"],[\"math rock\"],[\"mathcore\"],[\"mbalax\"],[\"medieval\"],[\"medieval folk\"],[\"medieval rock\"],[\"meditation\"],[\"melancholia\"],[\"melbourne bounce\"],[\"melbourne bounce international\"],[\"melbourne indie\"],[\"mellow gold\"],[\"melodic death metal\"],[\"melodic deathcore\"],[\"melodic dubstep\"],[\"melodic groove metal\"],[\"melodic hard rock\"],[\"melodic hardcore\"],[\"melodic metal\"],[\"melodic metalcore\"],[\"melodic power metal\"],[\"melodic rap\"],[\"melodic thrash\"],[\"meme rap\"],[\"memphis americana\"],[\"memphis blues\"],[\"memphis hip hop\"],[\"memphis indie\"],[\"memphis soul\"],[\"mento\"],[\"merengue\"],[\"merengue tipico\"],[\"merseybeat\"],[\"messianic praise\"],[\"metal\"],[\"metal guitar\"],[\"metal mineiro\"],[\"metalcore\"],[\"metropopolis\"],[\"mexican classic rock\"],[\"mexican classical\"],[\"mexican hip hop\"],[\"mexican indie\"],[\"mexican pop\"],[\"mexican pop punk\"],[\"mexican rock\"],[\"mexican rock-and-roll\"],[\"mexican son\"],[\"mexican traditional\"],[\"miami bass\"],[\"miami hip hop\"],[\"miami indie\"],[\"miami metal\"],[\"michigan indie\"],[\"microhouse\"],[\"microtonal\"],[\"middle earth\"],[\"middle east hip hop\"],[\"middle eastern traditional\"],[\"midwest americana\"],[\"midwest emo\"],[\"military cadence\"],[\"military rap\"],[\"milwaukee indie\"],[\"mindfulness\"],[\"minecraft\"],[\"minimal melodic techno\"],[\"minimal tech house\"],[\"minimal techno\"],[\"minimal wave\"],[\"minimalism\"],[\"minneapolis indie\"],[\"minneapolis metal\"],[\"minneapolis punk\"],[\"minneapolis sound\"],[\"minnesota hip hop\"],[\"mississippi hip hop\"],[\"mississippi indie\"],[\"mizrahi\"],[\"mod revival\"],[\"modern alternative pop\"],[\"modern alternative rock\"],[\"modern big band\"],[\"modern blues\"],[\"modern blues rock\"],[\"modern bollywood\"],[\"modern country rock\"],[\"modern dream pop\"],[\"modern folk rock\"],[\"modern funk\"],[\"modern hard rock\"],[\"modern indie pop\"],[\"modern jazz piano\"],[\"modern jazz trio\"],[\"modern old-time\"],[\"modern performance\"],[\"modern power pop\"],[\"modern psychedelic folk\"],[\"modern reggae\"],[\"modern rock\"],[\"modern salsa\"],[\"modern ska punk\"],[\"modern southern rock\"],[\"modern string quartet\"],[\"modern swing\"],[\"modern uplift\"],[\"modular synth\"],[\"moldovan pop\"],[\"mollywood\"],[\"mongolian hip hop\"],[\"mongolian pop\"],[\"monterrey indie\"],[\"montreal indie\"],[\"moog\"],[\"moombahton\"],[\"morna\"],[\"motivation\"],[\"motown\"],[\"mountain dulcimer\"],[\"movie tunes\"],[\"mpb\"],[\"music box\"],[\"music hall\"],[\"musica afroperuana\"],[\"musica alagoana\"],[\"musica andina\"],[\"musica andina colombiana\"],[\"musica antigua\"],[\"musica aragonesa\"],[\"musica ayacuchana\"],[\"musica canaria\"],[\"musica costarricense\"],[\"musica costena\"],[\"musica cristiana guatemalteca\"],[\"musica de fondo\"],[\"musica gaucha tradicionalista\"],[\"musica hondurena\"],[\"musica infantil\"],[\"musica jibara\"],[\"musica juiz-forana\"],[\"musica llanera\"],[\"musica nicaraguense\"],[\"musica para criancas\"],[\"musica para ninos\"],[\"musica paraibana\"],[\"musica piemonteisa\"],[\"musica popular colombiana\"],[\"musica popular mineira\"],[\"musica popular paraense\"],[\"musica potosina\"],[\"musica prehispanica\"],[\"musica sarda\"],[\"musica tradicional cubana\"],[\"musica tropical guatemalteca\"],[\"musical advocacy\"],[\"musikkorps\"],[\"musique concrete\"],[\"musique peule\"],[\"musique pour enfant quebecois\"],[\"musique pour enfants\"],[\"musique touareg\"],[\"muzica populara\"],[\"muzika l'yeladim\"],[\"naija worship\"],[\"nantes indie\"],[\"narodna muzika\"],[\"nashville americana\"],[\"nashville hip hop\"],[\"nashville indie\"],[\"nashville singer-songwriter\"],[\"nashville sound\"],[\"native american\"],[\"native american contemporary\"],[\"native american flute\"],[\"native american hip hop\"],[\"native american spiritual\"],[\"navajo\"],[\"nederlandse hardstyle\"],[\"nederpop\"],[\"neo classical metal\"],[\"neo kyma\"],[\"neo mellow\"],[\"neo r&b\"],[\"neo soul\"],[\"neo-classical\"],[\"neo-kraut\"],[\"neo-pagan\"],[\"neo-progressive\"],[\"neo-psychedelic\"],[\"neo-rockabilly\"],[\"neo-singer-songwriter\"],[\"neo-synthpop\"],[\"neo-trad metal\"],[\"neo-traditional bluegrass\"],[\"neo-traditional country\"],[\"neoclassical darkwave\"],[\"neoclassicism\"],[\"neofolk\"],[\"neon pop punk\"],[\"neotango\"],[\"nepali indie\"],[\"nepali pop\"],[\"nerdcore\"],[\"neue deutsche harte\"],[\"neue deutsche todeskunst\"],[\"neue deutsche welle\"],[\"neurofunk\"],[\"new age\"],[\"new age piano\"],[\"new americana\"],[\"new beat\"],[\"new comedy\"],[\"new england americana\"],[\"new england emo\"],[\"new french touch\"],[\"new isolationism\"],[\"new jack swing\"],[\"new jersey hardcore\"],[\"new jersey indie\"],[\"new jersey punk\"],[\"new jersey rap\"],[\"new mexico music\"],[\"new orleans blues\"],[\"new orleans funk\"],[\"new orleans indie\"],[\"new orleans jazz\"],[\"new orleans rap\"],[\"new rave\"],[\"new romantic\"],[\"new tribe\"],[\"new wave\"],[\"new wave of thrash metal\"],[\"new wave pop\"],[\"new weird america\"],[\"new york death metal\"],[\"new york drill\"],[\"new zealand classical\"],[\"newcastle indie\"],[\"newcastle nsw indie\"],[\"nigerian hip hop\"],[\"nigerian pop\"],[\"nightcore\"],[\"nightrun\"],[\"ninja\"],[\"nintendocore\"],[\"nisiotika\"],[\"nl folk\"],[\"no wave\"],[\"noise pop\"],[\"noise punk\"],[\"noise rock\"],[\"nordic classical piano\"],[\"nordic contemporary classical\"],[\"nordic folk\"],[\"nordic house\"],[\"nordic orchestra\"],[\"nordic post-rock\"],[\"nordic soundtrack\"],[\"norman ok indie\"],[\"norsk lovsang\"],[\"norteno\"],[\"norteno-sax\"],[\"north carolina emo\"],[\"north carolina hip hop\"],[\"north carolina indie\"],[\"north carolina metal\"],[\"north carolina roots\"],[\"north east england indie\"],[\"northern irish indie\"],[\"northern irish punk\"],[\"northern soul\"],[\"norwegian black metal\"],[\"norwegian choir\"],[\"norwegian classical\"],[\"norwegian contemporary jazz\"],[\"norwegian death metal\"],[\"norwegian experimental\"],[\"norwegian hip hop\"],[\"norwegian indie\"],[\"norwegian jazz\"],[\"norwegian metal\"],[\"norwegian pop\"],[\"norwegian pop rap\"],[\"norwegian punk rock\"],[\"norwegian rock\"],[\"norwegian singer-songwriter\"],[\"norwegian space disco\"],[\"nottingham indie\"],[\"nouvelle chanson francaise\"],[\"nova canco\"],[\"nova mpb\"],[\"nova musica pernambucana\"],[\"novelty\"],[\"nu age\"],[\"nu disco\"],[\"nu gaze\"],[\"nu jazz\"],[\"nu metal\"],[\"nu skool breaks\"],[\"nu-cumbia\"],[\"nu-metalcore\"],[\"nubian traditional\"],[\"nueva cancion\"],[\"nueva ola chilena\"],[\"nueva ola peruana\"],[\"nuevo flamenco\"],[\"nuevo folklore mexicano\"],[\"nuevo regional mexicano\"],[\"nuevo tango\"],[\"nursery\"],[\"nwobhm\"],[\"nwothm\"],[\"ny roots\"],[\"nyc pop\"],[\"nyc rap\"],[\"nyhc\"],[\"nz christian\"],[\"nz folk\"],[\"nz hardcore\"],[\"nz indie\"],[\"nz pop\"],[\"nz punk\"],[\"nz reggae\"],[\"nz singer-songwriter\"],[\"oakland hip hop\"],[\"oakland indie\"],[\"oc indie\"],[\"oc rap\"],[\"oceania soundtrack\"],[\"ohio hip hop\"],[\"ohio indie\"],[\"oi\"],[\"ok indie\"],[\"okc indie\"],[\"okinawan pop\"],[\"oklahoma country\"],[\"old school dancehall\"],[\"old school hip hop\"],[\"old school rap francais\"],[\"old school thrash\"],[\"old school uk hip hop\"],[\"old west\"],[\"old-time\"],[\"old-time fiddle\"],[\"olympia wa indie\"],[\"omaha indie\"],[\"one-person band\"],[\"ontario indie\"],[\"opera\"],[\"opera chorus\"],[\"opera metal\"],[\"operatic pop\"],[\"operetta\"],[\"opm\"],[\"oratory\"],[\"orchestra\"],[\"orchestral performance\"],[\"orebro indie\"],[\"organic ambient\"],[\"organic electronic\"],[\"organic house\"],[\"orgcore\"],[\"oriental classical\"],[\"orkney and shetland folk\"],[\"orlando indie\"],[\"orquesta tipica\"],[\"orthodox chant\"],[\"oshare kei\"],[\"otacore\"],[\"oth indie\"],[\"ottawa indie\"],[\"ottawa rap\"],[\"oud\"],[\"outer hip hop\"],[\"outlaw country\"],[\"outsider\"],[\"outsider house\"],[\"oxford choir\"],[\"oxford indie\"],[\"p funk\"],[\"pagan black metal\"],[\"pagode\"],[\"pagode baiano\"],[\"paisley underground\"],[\"pakistani folk\"],[\"pakistani hip hop\"],[\"pakistani pop\"],[\"palestinian pop\"],[\"palm desert scene\"],[\"panamanian pop\"],[\"panamanian rock\"],[\"panpipe\"],[\"papuri\"],[\"parody\"],[\"partido alto\"],[\"partyschlager\"],[\"pei indie\"],[\"permanent wave\"],[\"perreo\"],[\"persian pop\"],[\"persian traditional\"],[\"perth indie\"],[\"peruvian hip hop\"],[\"peruvian rock\"],[\"pet calming\"],[\"philly indie\"],[\"philly rap\"],[\"philly soul\"],[\"phoenix indie\"],[\"phonk\"],[\"pianissimo\"],[\"piano blues\"],[\"piano cover\"],[\"piano mpb\"],[\"piano rock\"],[\"pibroch\"],[\"piedmont blues\"],[\"pinoy hip hop\"],[\"pinoy indie\"],[\"pinoy pop punk\"],[\"pinoy praise\"],[\"pinoy r&b\"],[\"pinoy reggae\"],[\"pinoy rock\"],[\"pinoy traditional\"],[\"pinoy trap\"],[\"pirate\"],[\"pittsburgh indie\"],[\"pittsburgh rap\"],[\"pittsburgh rock\"],[\"pixie\"],[\"plunderphonics\"],[\"poetry\"],[\"polca paraguaya\"],[\"polish blues\"],[\"polish classical\"],[\"polish classical piano\"],[\"polish contemporary classical\"],[\"polish jazz\"],[\"polish modern jazz\"],[\"polish pop\"],[\"polish post-rock\"],[\"polish reggae\"],[\"polish rock\"],[\"political hip hop\"],[\"polka\"],[\"polynesian hip hop\"],[\"polynesian pop\"],[\"polyphony\"],[\"pony\"],[\"pop\"],[\"pop argentino\"],[\"pop chileno\"],[\"pop dance\"],[\"pop edm\"],[\"pop electronico\"],[\"pop emo\"],[\"pop flamenco\"],[\"pop folk\"],[\"pop house\"],[\"pop nacional\"],[\"pop nacional antigas\"],[\"pop peruano\"],[\"pop punk\"],[\"pop quebecois\"],[\"pop r&b\"],[\"pop rap\"],[\"pop reggaeton\"],[\"pop rock\"],[\"pop rock brasileiro\"],[\"pop romantico\"],[\"pop soul\"],[\"pop venezolano\"],[\"pop violin\"],[\"popgaze\"],[\"popping\"],[\"pops orchestra\"],[\"popwave\"],[\"pornogrind\"],[\"porro\"],[\"portland hip hop\"],[\"portland indie\"],[\"portland metal\"],[\"portland punk\"],[\"portuguese early music\"],[\"post-disco\"],[\"post-disco soul\"],[\"post-doom metal\"],[\"post-grunge\"],[\"post-hardcore\"],[\"post-metal\"],[\"post-minimalism\"],[\"post-post-hardcore\"],[\"post-punk\"],[\"post-punk argentina\"],[\"post-rock\"],[\"post-romantic era\"],[\"post-screamo\"],[\"post-teen pop\"],[\"power metal\"],[\"power pop\"],[\"power thrash\"],[\"power-pop punk\"],[\"praise\"],[\"prepared piano\"],[\"preschool children's music\"],[\"prog quebec\"],[\"progressive alternative\"],[\"progressive bluegrass\"],[\"progressive deathcore\"],[\"progressive electro house\"],[\"progressive groove metal\"],[\"progressive house\"],[\"progressive jazz fusion\"],[\"progressive metal\"],[\"progressive metalcore\"],[\"progressive post-hardcore\"],[\"progressive power metal\"],[\"progressive psytrance\"],[\"progressive rock\"],[\"progressive sludge\"],[\"progressive trance\"],[\"progressive trance house\"],[\"progressive uplifting trance\"],[\"proto-rap\"],[\"proto-techno\"],[\"protopunk\"],[\"psalmen\"],[\"psicodelia brasileira\"],[\"psybass\"],[\"psychedelic blues-rock\"],[\"psychedelic doom\"],[\"psychedelic folk\"],[\"psychedelic folk rock\"],[\"psychedelic hip hop\"],[\"psychedelic pop\"],[\"psychedelic punk\"],[\"psychedelic rock\"],[\"psychedelic soul\"],[\"psychedelic trance\"],[\"psychill\"],[\"psychobilly\"],[\"pub rock\"],[\"puerto rican folk\"],[\"puerto rican pop\"],[\"puerto rican rock\"],[\"punjabi folk\"],[\"punjabi hip hop\"],[\"punjabi pop\"],[\"punk\"],[\"punk 'n' roll\"],[\"punk blues\"],[\"punk rock italiano\"],[\"punk rock mexicano\"],[\"punta\"],[\"purple sound\"],[\"qawwali\"],[\"quartetto d'archi\"],[\"quatuor a cordes\"],[\"quebec death metal\"],[\"quebec indie\"],[\"queens hip hop\"],[\"queer country\"],[\"queercore\"],[\"quiet storm\"],[\"quran\"],[\"r&b\"],[\"r&b en espanol\"],[\"rabindra sangeet\"],[\"radio symphony\"],[\"ragtime\"],[\"rai\"],[\"ranchera\"],[\"rap\"],[\"rap chileno\"],[\"rap conciencia\"],[\"rap conscient\"],[\"rap cristiano\"],[\"rap dominicano\"],[\"rap kreyol\"],[\"rap latina\"],[\"rap metal\"],[\"rap nacional antigo\"],[\"rap napoletano\"],[\"rap rock\"],[\"rap underground mexicano\"],[\"rare groove\"],[\"rave\"],[\"rawstyle\"],[\"reading\"],[\"reading indie\"],[\"rebel blues\"],[\"rebetiko\"],[\"recorder\"],[\"red dirt\"],[\"redneck\"],[\"reggae\"],[\"reggae en espanol\"],[\"reggae fusion\"],[\"reggae rock\"],[\"reggaeton\"],[\"reggaeton colombiano\"],[\"reggaeton cristiano\"],[\"reggaeton flow\"],[\"reggaeton mexicano\"],[\"regional mexican\"],[\"relaxative\"],[\"renaissance\"],[\"rennes indie\"],[\"retro metal\"],[\"retro soul\"],[\"rhode island indie\"],[\"rhode island rap\"],[\"rhythm and blues\"],[\"riddim\"],[\"rif\"],[\"riot grrrl\"],[\"ritmo kombina\"],[\"rochester mn indie\"],[\"rochester ny indie\"],[\"rock\"],[\"rock alternatif francais\"],[\"rock alternativo brasileiro\"],[\"rock andaluz\"],[\"rock baiano\"],[\"rock brasiliense\"],[\"rock chapin\"],[\"rock cristiano\"],[\"rock drums\"],[\"rock en espanol\"],[\"rock gaucho\"],[\"rock independant francais\"],[\"rock kapak\"],[\"rock keyboard\"],[\"rock nacional\"],[\"rock nacional brasileiro\"],[\"rock pernambucano\"],[\"rock progressif francais\"],[\"rock steady\"],[\"rock urbano mexicano\"],[\"rock-and-roll\"],[\"rockabilly\"],[\"rockabilly en espanol\"],[\"roda de samba\"],[\"romanian classical piano\"],[\"romanian electronic\"],[\"romanian folk\"],[\"romanian pop\"],[\"romanian rock\"],[\"romantico\"],[\"roots americana\"],[\"roots reggae\"],[\"roots rock\"],[\"roots worship\"],[\"rosary\"],[\"rumba\"],[\"rumba congolaise\"],[\"rune folk\"],[\"russian alternative rock\"],[\"russian ccm\"],[\"russian chanson\"],[\"russian choir\"],[\"russian classical piano\"],[\"russian dance\"],[\"russian edm\"],[\"russian folk\"],[\"russian folk rock\"],[\"russian jazz\"],[\"russian metal\"],[\"russian metalcore\"],[\"russian modern classical\"],[\"russian orchestra\"],[\"russian pop\"],[\"russian post-punk\"],[\"russian punk\"],[\"russian rock\"],[\"russian romanticism\"],[\"russian shoegaze\"],[\"russian trance\"],[\"rva indie\"],[\"rwandan traditional\"],[\"ryukyu ongaku\"],[\"sacramento hip hop\"],[\"sacramento indie\"],[\"sacred steel\"],[\"sad rap\"],[\"salsa\"],[\"salsa choke\"],[\"salsa colombiana\"],[\"salsa cubana\"],[\"salsa international\"],[\"salsa peruana\"],[\"salsa puertorriquena\"],[\"salsa venezolana\"],[\"samba\"],[\"samba de roda\"],[\"samba moderno\"],[\"samba-enredo\"],[\"samba-jazz\"],[\"samba-rock\"],[\"san antonio rap\"],[\"san diego indie\"],[\"san diego rap\"],[\"san marcos tx indie\"],[\"sandalwood\"],[\"sarod\"],[\"saskatchewan indie\"],[\"scam rap\"],[\"scandinavian r&b\"],[\"scandipop\"],[\"schlager\"],[\"scorecore\"],[\"scottish electronic\"],[\"scottish fiddle\"],[\"scottish folk\"],[\"scottish hip hop\"],[\"scottish indie\"],[\"scottish jazz\"],[\"scottish metal\"],[\"scottish new wave\"],[\"scottish rock\"],[\"scottish singer-songwriter\"],[\"scratch\"],[\"scream rap\"],[\"screamo\"],[\"seattle hip hop\"],[\"seattle indie\"],[\"second line\"],[\"sefardi\"],[\"serbian electronic\"],[\"serialism\"],[\"sertanejo\"],[\"sertanejo pop\"],[\"sertanejo tradicional\"],[\"sertanejo universitario\"],[\"sevdah\"],[\"sevillanas\"],[\"shaabi\"],[\"shabad\"],[\"shakuhachi\"],[\"shamanic\"],[\"shanty\"],[\"sheffield indie\"],[\"shibuya-kei\"],[\"shimmer pop\"],[\"shimmer psych\"],[\"shiver pop\"],[\"shoegaze\"],[\"show tunes\"],[\"shred\"],[\"shush\"],[\"sierreno\"],[\"singaporean mandopop\"],[\"singaporean pop\"],[\"singaporean singer-songwriter\"],[\"singer-songwriter\"],[\"singing bowl\"],[\"sitar\"],[\"ska\"],[\"ska argentino\"],[\"ska chileno\"],[\"ska jazz\"],[\"ska mexicano\"],[\"ska punk\"],[\"ska revival\"],[\"skate punk\"],[\"skiffle\"],[\"skramz\"],[\"sky room\"],[\"slack-key guitar\"],[\"slam poetry\"],[\"slamming deathcore\"],[\"slavic folk metal\"],[\"slayer\"],[\"slc indie\"],[\"sleaze rock\"],[\"sleep\"],[\"slovak electronic\"],[\"slovenian electronic\"],[\"slovenian metal\"],[\"slow game\"],[\"slowcore\"],[\"sludge metal\"],[\"small room\"],[\"smooth jazz\"],[\"smooth saxophone\"],[\"smooth soul\"],[\"soca\"],[\"socal pop punk\"],[\"social media pop\"],[\"soda pop\"],[\"soft rock\"],[\"solipsynthm\"],[\"son cubano\"],[\"son cubano clasico\"],[\"son jarocho\"],[\"sophisti-pop\"],[\"sotalaulut\"],[\"soukous\"],[\"soul\"],[\"soul blues\"],[\"soul flow\"],[\"soul jazz\"],[\"souldies\"],[\"sound\"],[\"sound art\"],[\"sound effects\"],[\"sound team\"],[\"soundtrack\"],[\"south african alternative\"],[\"south african choral\"],[\"south african country\"],[\"south african hip hop\"],[\"south african house\"],[\"south african jazz\"],[\"south african pop\"],[\"south african pop dance\"],[\"south african rock\"],[\"south carolina hip hop\"],[\"south carolina indie\"],[\"south carolina metal\"],[\"south dakota indie\"],[\"southampton indie\"],[\"southern americana\"],[\"southern gospel\"],[\"southern hip hop\"],[\"southern metal\"],[\"southern rock\"],[\"southern soul\"],[\"southern soul blues\"],[\"soviet synthpop\"],[\"sovietwave\"],[\"spa\"],[\"space age pop\"],[\"space ambient\"],[\"space rock\"],[\"spanish baroque\"],[\"spanish classical\"],[\"spanish classical piano\"],[\"spanish folk metal\"],[\"spanish hip hop\"],[\"spanish indie pop\"],[\"spanish invasion\"],[\"spanish metal\"],[\"spanish modern rock\"],[\"spanish new wave\"],[\"spanish noise pop\"],[\"spanish pop\"],[\"spanish pop rock\"],[\"spanish renaissance\"],[\"spanish rock\"],[\"spanish synthpop\"],[\"spanish techno\"],[\"speed garage\"],[\"speed metal\"],[\"speedcore\"],[\"spiritual hip hop\"],[\"spiritual jazz\"],[\"spirituals\"],[\"springfield mo indie\"],[\"spytrack\"],[\"st louis rap\"],[\"steampunk\"],[\"steel guitar\"],[\"steelpan\"],[\"stl indie\"],[\"stomp and flutter\"],[\"stomp and holler\"],[\"stomp and whittle\"],[\"stomp pop\"],[\"stoner metal\"],[\"stoner rock\"],[\"straight edge\"],[\"straight-ahead jazz\"],[\"street band\"],[\"street punk\"],[\"streichquartett\"],[\"stride\"],[\"string band\"],[\"string folk\"],[\"string orchestra\"],[\"string quartet\"],[\"strut\"],[\"substep\"],[\"sudanese pop\"],[\"sufi\"],[\"sufi chant\"],[\"sunshine pop\"],[\"supergroup\"],[\"surf music\"],[\"surf punk\"],[\"svensk progg\"],[\"swamp blues\"],[\"swamp pop\"],[\"swamp rock\"],[\"swancore\"],[\"swedish alternative rock\"],[\"swedish americana\"],[\"swedish black metal\"],[\"swedish choir\"],[\"swedish country\"],[\"swedish dancehall\"],[\"swedish death metal\"],[\"swedish doom metal\"],[\"swedish electronic\"],[\"swedish electropop\"],[\"swedish eurodance\"],[\"swedish garage rock\"],[\"swedish hard rock\"],[\"swedish hardcore\"],[\"swedish heavy metal\"],[\"swedish house\"],[\"swedish idol pop\"],[\"swedish indie folk\"],[\"swedish indie pop\"],[\"swedish indie rock\"],[\"swedish jazz\"],[\"swedish jazz orkester\"],[\"swedish melodic rock\"],[\"swedish metal\"],[\"swedish metalcore\"],[\"swedish pop\"],[\"swedish post-hardcore\"],[\"swedish power metal\"],[\"swedish prog\"],[\"swedish progressive metal\"],[\"swedish rock-and-roll\"],[\"swedish singer-songwriter\"],[\"swedish soul\"],[\"swedish stoner rock\"],[\"swedish synth\"],[\"swedish synthpop\"],[\"swedish tropical house\"],[\"swedish underground rap\"],[\"swing\"],[\"swing italiano\"],[\"swing revival\"],[\"swiss black metal\"],[\"swiss classical piano\"],[\"swiss country\"],[\"swiss metal\"],[\"swiss pop\"],[\"swiss rock\"],[\"swiss worship\"],[\"sydney indie\"],[\"symphonic black metal\"],[\"symphonic metal\"],[\"symphonic rock\"],[\"synth funk\"],[\"synthpop\"],[\"synthwave\"],[\"syrian pop\"],[\"tabla\"],[\"tagalog rap\"],[\"tagalog worship\"],[\"taiwan campus folk\"],[\"taiwan classical performance\"],[\"taiwan hip hop\"],[\"taiwan indie\"],[\"taiwan pop\"],[\"taiwan singer-songwriter\"],[\"tajik pop\"],[\"talent show\"],[\"tamaulipas indie\"],[\"tamaulipas rap\"],[\"tamborazo\"],[\"tamil hip hop\"],[\"tamil pop\"],[\"tamil worship\"],[\"tampa indie\"],[\"tango\"],[\"tango cancion\"],[\"tape club\"],[\"tech house\"],[\"technical death metal\"],[\"technical deathcore\"],[\"technical groove metal\"],[\"technical melodic death metal\"],[\"technical thrash\"],[\"techno\"],[\"techno kayo\"],[\"tecnobanda\"],[\"teen pop\"],[\"tejano\"],[\"tempe indie\"],[\"tennessee hip hop\"],[\"tennessee metal\"],[\"tex-mex\"],[\"texas blues\"],[\"texas country\"],[\"texas latin rap\"],[\"texas pop punk\"],[\"texas punk\"],[\"thai folk\"],[\"thai folk rock\"],[\"thai idol\"],[\"thai indie rock\"],[\"thai pop\"],[\"thall\"],[\"theme\"],[\"theremin\"],[\"thrash core\"],[\"thrash metal\"],[\"timba\"],[\"tin pan alley\"],[\"tipico\"],[\"tolkien metal\"],[\"tollywood\"],[\"tone\"],[\"torch song\"],[\"toronto indie\"],[\"toronto rap\"],[\"trad jazz catala\"],[\"traditional bluegrass\"],[\"traditional blues\"],[\"traditional british folk\"],[\"traditional country\"],[\"traditional folk\"],[\"traditional funk\"],[\"traditional rockabilly\"],[\"traditional ska\"],[\"traditional soul\"],[\"trance\"],[\"trance mexicano\"],[\"trancecore\"],[\"transpop\"],[\"trap\"],[\"trap argentino\"],[\"trap chileno\"],[\"trap dominicano\"],[\"trap latino\"],[\"trap mexicano\"],[\"trap queen\"],[\"trap soul\"],[\"trap triste\"],[\"trap venezolano\"],[\"traprun\"],[\"trash rock\"],[\"triangle indie\"],[\"tribal house\"],[\"trinidadian reggae\"],[\"trio cubano\"],[\"trip hop\"],[\"trival\"],[\"tropical\"],[\"tropical house\"],[\"tropicalia\"],[\"trova\"],[\"trova mexicana\"],[\"truck-driving country\"],[\"tuareg guitar\"],[\"tucson indie\"],[\"tulsa indie\"],[\"tuna estudiantil\"],[\"tunisian pop\"],[\"turbo folk\"],[\"turkish classical\"],[\"turkish classical performance\"],[\"turkish edm\"],[\"turkish experimental\"],[\"turkish folk\"],[\"turkish jazz\"],[\"turkish modern jazz\"],[\"turkish pop\"],[\"turkish psych\"],[\"turkish trap\"],[\"turkish trap pop\"],[\"turntablism\"],[\"twee pop\"],[\"twoubadou\"],[\"tzadik\"],[\"ugandan pop\"],[\"uilleann pipes\"],[\"uk alternative hip hop\"],[\"uk alternative pop\"],[\"uk americana\"],[\"uk contemporary jazz\"],[\"uk contemporary r&b\"],[\"uk dance\"],[\"uk dancehall\"],[\"uk diy punk\"],[\"uk dnb\"],[\"uk doom metal\"],[\"uk dub\"],[\"uk experimental electronic\"],[\"uk funky\"],[\"uk garage\"],[\"uk hip hop\"],[\"uk house\"],[\"uk metalcore\"],[\"uk noise rock\"],[\"uk pop\"],[\"uk pop punk\"],[\"uk post-hardcore\"],[\"uk post-punk\"],[\"uk reggae\"],[\"uk rockabilly\"],[\"uk stoner rock\"],[\"uk worship\"],[\"uk82\"],[\"ukrainian choir\"],[\"ukrainian classical\"],[\"ukrainian classical piano\"],[\"ukrainian electronic\"],[\"ukrainian pop\"],[\"ukulele\"],[\"umbanda\"],[\"underground hip hop\"],[\"underground power pop\"],[\"underground rap\"],[\"university choir\"],[\"uplifting trance\"],[\"uptempo hardcore\"],[\"urban contemporary\"],[\"urbano espanol\"],[\"us power metal\"],[\"utah indie\"],[\"uzbek pop\"],[\"uzbek traditional\"],[\"v-pop\"],[\"vallenato\"],[\"vallenato moderno\"],[\"vancouver indie\"],[\"vancouver metal\"],[\"vancouver punk\"],[\"vapor pop\"],[\"vapor soul\"],[\"vapor trap\"],[\"vapor twitch\"],[\"vaporwave\"],[\"variete francaise\"],[\"vaudeville\"],[\"vbs\"],[\"veena\"],[\"vegan straight edge\"],[\"vegas indie\"],[\"velha guarda\"],[\"venezuelan hip hop\"],[\"venezuelan indie\"],[\"venezuelan rock\"],[\"veracruz indie\"],[\"vermont indie\"],[\"vgm instrumental\"],[\"vgm remix\"],[\"victoria bc indie\"],[\"victorian britain\"],[\"video game music\"],[\"vienna indie\"],[\"vietnamese bolero\"],[\"vietnamese pop\"],[\"viking black metal\"],[\"viking folk\"],[\"viking metal\"],[\"villancicos\"],[\"vintage chanson\"],[\"vintage chinese pop\"],[\"vintage classical singing\"],[\"vintage country folk\"],[\"vintage dutch pop\"],[\"vintage french electronic\"],[\"vintage gospel\"],[\"vintage hollywood\"],[\"vintage italian pop\"],[\"vintage italian soundtrack\"],[\"vintage jazz\"],[\"vintage old-time\"],[\"vintage rockabilly\"],[\"vintage schlager\"],[\"vintage spanish pop\"],[\"vintage swedish pop\"],[\"vintage swing\"],[\"vintage tango\"],[\"viola\"],[\"violao\"],[\"violao classico\"],[\"violin\"],[\"viral pop\"],[\"viral rap\"],[\"viral trap\"],[\"virgin islands reggae\"],[\"virginia hip hop\"],[\"virginia metal\"],[\"virginia punk\"],[\"visor\"],[\"visual kei\"],[\"vocal ensemble\"],[\"vocal harmony group\"],[\"vocal house\"],[\"vocal jazz\"],[\"vocal trance\"],[\"vocaloid\"],[\"vogue\"],[\"volksmusik\"],[\"warm drone\"],[\"washboard\"],[\"washington indie\"],[\"wassoulou\"],[\"water\"],[\"wave\"],[\"welsh folk\"],[\"welsh indie\"],[\"welsh metal\"],[\"welsh rock\"],[\"west african jazz\"],[\"west australian hip hop\"],[\"west coast rap\"],[\"west coast reggae\"],[\"west coast trap\"],[\"west end\"],[\"west virginia indie\"],[\"western americana\"],[\"western mass indie\"],[\"western saharan folk\"],[\"western swing\"],[\"white noise\"],[\"wind ensemble\"],[\"wind quintet\"],[\"wisconsin indie\"],[\"witch house\"],[\"women's choir\"],[\"women's music\"],[\"wonky\"],[\"worcester ma indie\"],[\"world\"],[\"world fusion\"],[\"world meditation\"],[\"world worship\"],[\"worship\"],[\"wrestling\"],[\"wu fam\"],[\"wyoming indie\"],[\"wyoming roots\"],[\"xhosa\"],[\"xtra raw\"],[\"yacht rock\"],[\"ye ye\"],[\"yiddish folk\"],[\"yodeling\"],[\"yoga\"],[\"yoik\"],[\"york indie\"],[\"yorkshire folk\"],[\"yugoslav new wave\"],[\"yugoslav rock\"],[\"zambian pop\"],[\"zeuhl\"],[\"zhongguo feng\"],[\"zimdancehall\"],[\"zolo\"],[\"zouglou\"],[\"zouk\"],[\"zurich indie\"],[\"zydeco\"]],\"hovertemplate\":\"x=%{x}<br>y=%{y}<br>genres=%{customdata[0]}<br>cluster=%{marker.color}<extra></extra>\",\"legendgroup\":\"\",\"marker\":{\"color\":[0,8,4,2,6,0,4,1,3,2,3,1,4,0,2,6,4,6,3,7,6,6,4,2,3,4,4,0,3,4,4,3,1,1,4,3,4,3,1,4,7,1,4,3,2,1,3,4,4,7,1,6,6,1,7,1,1,7,4,4,7,4,3,0,7,6,3,7,1,0,3,6,0,0,0,0,0,2,7,2,3,0,0,0,0,7,3,7,0,2,1,1,7,6,6,7,7,6,2,1,2,2,3,3,6,9,0,3,4,7,1,6,1,4,4,4,4,7,4,3,6,0,6,4,6,0,1,1,1,0,4,1,1,4,1,4,0,7,1,9,3,9,1,6,3,4,4,4,6,1,0,4,0,0,0,1,3,3,4,4,1,4,6,1,1,7,7,1,4,6,1,6,3,4,4,7,4,1,1,0,0,0,3,2,3,9,7,0,0,7,4,6,3,4,4,4,0,0,2,6,2,3,2,6,2,1,6,0,0,2,0,4,7,4,4,1,2,2,2,2,2,0,4,2,6,9,0,0,0,0,6,0,0,3,1,6,7,1,3,1,4,1,1,3,7,4,3,6,1,5,4,4,2,4,4,1,7,7,0,0,3,3,1,4,3,2,7,3,3,3,3,4,2,4,4,1,0,2,1,0,2,4,3,0,9,3,4,7,3,7,5,7,7,7,7,0,3,6,2,4,2,7,7,4,1,6,2,1,3,2,3,3,6,3,6,7,4,4,7,7,1,4,7,2,6,1,1,0,0,0,6,0,0,4,0,0,0,4,7,4,4,6,7,6,2,1,4,4,7,3,7,7,4,6,0,4,6,1,3,7,4,4,7,4,4,0,0,4,0,2,7,1,6,7,1,1,4,6,0,0,6,7,6,4,0,7,6,4,1,1,4,1,7,4,7,6,4,4,3,3,7,8,2,6,6,7,2,4,3,1,0,2,1,0,3,4,6,4,1,4,2,0,0,0,6,4,6,6,1,3,0,6,7,1,9,4,6,6,3,4,7,7,3,1,7,7,0,6,7,7,3,6,0,6,7,4,6,7,6,6,6,2,2,7,6,4,1,2,2,2,4,0,0,0,7,1,0,6,0,3,4,4,2,0,6,0,0,6,0,6,6,4,4,6,6,3,7,2,3,1,7,6,2,1,3,3,1,7,7,1,4,7,1,3,4,6,1,1,5,4,3,3,1,7,0,2,7,4,4,4,7,4,6,0,0,0,3,6,3,6,7,0,6,6,0,0,0,4,0,2,6,2,6,7,3,7,1,1,1,7,7,1,1,7,1,0,7,1,6,0,6,4,4,1,1,4,3,1,2,6,4,3,2,1,6,3,6,2,2,7,2,3,3,4,4,3,3,9,7,3,6,2,6,4,6,6,2,6,4,6,2,3,4,3,6,7,4,4,3,7,6,4,0,1,7,1,3,4,4,0,6,0,0,0,0,0,0,0,0,0,0,0,6,0,0,0,0,0,0,0,6,0,0,0,6,2,5,7,4,4,3,1,4,4,4,5,4,1,4,1,2,7,0,3,9,7,7,1,0,0,0,4,6,1,0,2,6,0,2,2,2,7,4,4,3,7,6,0,4,2,2,4,2,4,4,4,4,2,6,4,7,2,4,4,7,1,7,4,4,3,2,4,4,4,4,4,3,3,4,4,6,4,2,4,3,4,4,7,1,2,0,0,2,7,2,3,1,4,4,7,1,7,7,0,7,0,3,0,7,3,9,7,4,1,7,2,7,2,4,7,1,3,7,0,7,7,7,1,1,7,7,7,3,7,7,7,4,7,7,7,3,7,2,3,7,6,1,5,4,1,2,3,1,7,3,4,1,6,4,7,4,3,7,4,4,0,2,7,6,3,7,1,2,6,1,4,2,7,9,7,1,7,4,4,3,4,3,0,4,4,3,4,3,3,3,1,3,2,1,4,1,1,1,3,6,3,4,7,1,1,9,3,2,3,6,1,2,3,0,1,1,4,3,6,4,2,7,7,3,4,1,6,7,7,6,2,6,7,7,7,0,1,4,0,0,7,7,4,9,3,0,7,1,0,4,6,1,7,4,1,7,5,0,7,7,4,2,4,1,6,9,7,3,3,3,4,3,4,2,5,0,0,0,0,4,0,1,7,1,4,1,2,7,6,7,0,6,4,7,1,3,2,3,4,6,4,4,7,4,4,4,7,6,7,4,7,3,1,4,3,4,7,7,7,7,1,7,0,3,0,3,2,9,7,3,2,1,0,7,6,7,6,3,6,0,2,9,1,3,1,3,4,4,3,2,6,0,0,3,9,0,4,3,7,6,6,6,6,2,6,6,7,3,2,1,1,1,0,3,0,0,7,3,1,1,7,3,1,4,3,0,1,4,7,4,0,6,0,4,1,3,1,2,3,2,2,1,6,7,1,6,6,1,6,3,2,2,4,4,4,0,6,1,4,4,7,0,4,6,4,4,0,2,4,0,0,6,7,7,1,6,4,1,2,7,3,0,0,6,3,7,4,4,0,7,2,4,3,7,7,3,1,4,2,3,3,7,1,3,1,3,4,3,4,1,4,3,4,7,4,1,7,1,7,1,4,2,0,7,3,1,4,7,7,7,7,7,4,3,7,6,4,1,7,0,0,0,6,3,3,7,3,1,0,5,3,7,0,0,4,1,4,7,4,0,1,0,0,0,4,7,4,1,3,5,2,3,4,7,7,4,4,7,7,1,4,3,7,1,2,2,5,1,9,2,4,7,1,7,3,4,3,3,3,7,3,4,1,7,2,0,2,2,9,2,3,2,0,4,7,3,7,4,7,7,4,4,3,3,4,6,5,3,2,0,2,9,6,0,1,2,2,4,2,7,2,3,0,1,4,0,7,7,2,7,7,4,7,1,7,7,7,4,2,2,2,0,0,2,0,2,1,1,0,4,4,4,4,3,2,0,2,1,1,4,1,3,8,0,0,0,0,0,0,5,9,6,3,6,6,2,2,4,7,6,3,4,1,4,4,2,3,0,0,0,0,3,5,2,2,3,6,4,1,0,3,0,6,6,1,6,6,6,6,7,2,2,0,2,3,1,0,4,2,3,1,6,1,3,6,0,4,6,4,1,4,6,4,1,4,6,1,6,4,4,7,4,7,1,4,1,6,6,4,1,7,3,4,0,1,3,4,1,1,6,6,2,1,3,7,0,7,7,6,7,7,1,5,1,2,9,2,6,6,2,6,4,0,3,4,2,1,6,3,2,6,2,0,2,4,7,1,6,6,1,6,2,0,0,2,1,0,0,6,3,3,3,1,0,3,0,3,0,7,0,0,6,3,2,7,0,2,0,0,1,2,6,4,3,9,0,4,7,1,7,7,7,4,1,7,3,7,7,4,4,3,7,4,4,4,0,0,0,0,4,0,4,7,6,1,9,7,3,0,6,7,6,6,4,7,7,3,9,7,7,7,7,1,1,3,9,7,3,0,6,1,4,2,2,2,4,2,2,2,3,2,0,2,6,6,6,0,2,7,0,6,6,2,6,2,4,7,2,0,2,2,2,2,2,2,4,0,3,2,3,4,4,2,3,2,7,1,4,3,3,1,2,6,4,2,1,2,1,7,6,7,6,4,6,3,2,3,4,2,9,1,4,1,4,0,4,1,5,2,1,0,2,0,3,0,0,0,3,1,4,1,1,0,0,1,4,4,0,3,3,3,6,0,4,4,4,0,1,6,2,4,1,4,4,7,1,4,4,0,4,9,1,7,4,5,4,1,2,0,6,3,7,7,4,2,6,0,6,7,1,6,4,6,1,6,6,4,6,6,6,6,6,3,4,4,7,1,7,2,6,4,0,6,0,2,4,0,5,9,6,6,4,6,3,6,0,7,2,4,7,6,6,6,4,6,6,2,1,2,2,1,6,4,3,4,6,7,3,0,6,7,0,6,1,4,1,4,7,7,7,7,7,7,3,7,7,1,7,1,6,2,3,3,1,2,4,4,4,6,7,7,7,7,1,4,0,4,1,4,7,4,6,9,4,4,1,4,3,1,6,8,0,9,9,3,7,2,4,6,9,6,3,4,6,7,0,4,7,7,4,4,1,4,0,7,3,1,4,4,4,4,4,1,4,1,4,1,0,0,4,0,7,3,3,4,3,7,4,0,7,7,9,1,2,9,9,3,4,0,1,6,5,1,2,6,6,6,2,3,4,3,1,0,3,4,4,6,1,6,0,2,1,4,4,4,4,3,1,6,9,2,4,3,1,4,2,3,2,9,6,2,3,3,4,8,6,2,2,9,9,3,6,4,7,6,6,0,4,0,4,0,2,7,4,7,2,1,3,4,0,3,6,6,7,4,6,4,7,6,9,6,0,3,1,3,2,2,1,1,3,4,7,0,0,6,3,5,6,1,1,0,4,7,7,7,4,4,2,4,4,2,4,4,4,0,4,7,4,6,7,4,0,7,7,3,4,7,3,1,3,2,4,4,7,7,7,0,9,3,3,0,1,0,2,7,4,4,7,4,6,7,6,7,1,7,1,7,0,0,0,7,0,3,4,0,7,3,3,7,7,3,9,3,4,6,6,4,4,0,1,7,4,1,7,1,7,2,6,6,4,6,2,4,2,6,7,7,1,4,1,7,0,6,7,6,1,7,1,6,4,4,7,4,0,1,6,7,3,3,4,6,4,4,1,7,4,3,2,2,1,7,4,4,0,2,7,6,2,6,8,0,0,7,0,9,9,7,2,2,3,2,0,7,1,4,3,1,2,3,6,6,0,0,7,4,7,4,3,7,2,3,2,9,1,4,4,0,6,4,1,1,6,4,1,6,3,3,4,4,9,7,4,1,4,1,4,2,0,3,4,0,2,4,7,1,7,2,6,6,3,4,4,4,1,1,7,7,5,0,3,0,0,0,9,0,3,7,6,3,1,2,3,4,0,3,1,4,6,4,7,3,7,1,6,3,3,6,4,1,1,4,1,4,4,4,6,1,1,6,4,4,0,7,6,3,4,4,7,6,0,4,4,7,7,7,7,0,7,4,4,0,0,7,4,7,1,7,7,1,0,4,6,1,6,7,7,7,3,7,7,1,7,7,7,6,7,3,7,7,3,1,4,2,6,9,7,7,6,6,1,4,7,1,1,9,4,7,4,1,4,9,2,3,3,7,7,7,7,7,1,4,6,2,0,7,6,1,4,4,4,2,1,4,2,0,2,6,6,1,4,1,4,1,4,1,1,7,3,2,1,4,4,7,7,5,7,3,2,6,4,4,4,1,1,4,1,4,7,3,1,4,6,0,4,1,4,6,3,2,1,3,7,3,4,3,7,3,4,4,4,4,6,7,4,4,4,7,3,7,4,4,4,3,4,1,4,4,2,4,0,3,0,1,2,6,4,4,4,6,6,3,1,6,3,7,3,0,0,9,1,3,3,3,1,1,0,0,3,1,6,3,0,7,3,1,0,2,4,7,1,4,4,1,1,1,4,4,4,4,6,2,4,9,6,3,4,7,4,4,2,0,6,4,3,4,6,0,4,0,6,4,7,6,7,4,4,4,1,1,7,4,1,4,3,3,0,4,2,2,4,3,3,1,2,0,0,2,7,1,4,3,3,7,6,7,0,4,6,6,7,6,0,0,4,4,4,3,3,7,4,7,6,2,7,6,1,7,7,7,6,7,0,3,4,7,1,6,7,6,6,3,4,4,1,4,2,4,4,4,2,4,4,3,1,1,6,3,2,6,0,0,9,1,0,4,2,1,4,1,6,1,3,7,3,6,3,1,7,4,6,1,7,4,4,4,3,1,9,2,0,7,0,2,0,3,4,6,1,3,3,4,3,1,4,0,4,4,1,9,7,3,3,6,2,3,2,4,7,2,3,4,6,6,3,4,7,7,7,0,1,7,0,2,2,0,0,0,4,3,3,1,2,6,7,4,7,7,4,1,4,7,1,6,7,0,4,4,7,7,3,4,3,7,7,4,6,3,1,6,4,1,0,2,7,7,7,1,4,3,7,7,1,6,6,6,6,4,6,3,2,2,3,7,0,0,7,4,7,0,6,3,3,6,4,4,4,2,2,4,9,6,0,6,6,6,6,2,4,4,4,1,2,2,2,7,2,2,7,1,7,4,7,7,7,1,1,4,1,4,4,4,7,4,1,4,4,4,4,4,4,2,2,4,7,2,0,7,7,4,2,3,7,2,0,2,6,3,2,2,2,6,2,6,6,4,1,4,3,9,7,4,1,4,1,4,1,4,1,1,4,1,3,7,7,1,2,2,1,4,4,4,1,6,6,2,6,4,9,4,1,3,2,0,3,3,2,2,0,3,6,9,3,1,4,3,0,1,2,4,1,6,6,1,1,3,9,7,7,3,1,4,3,4,4,3,3,4,7,1,7,4,7,7,6,7,0,0,0,7,1,6,4,1,1,4,0,3,3,1,1,7,6,2,2,3,4,1,6,7,4,6,4,1,1,3,6,2,4,2,7,7,2,4,4,4,1,6,0,7,6,0,6,3,3,3,7,3,7,4,2,6,2,2,5,7,2,2,2,0,2,2,3,2,2,2,2,2,0,3,2,0,6,1,1,1,4,7,7,0,7,0,2,4,2,3,3,1,2,0,2,4,4,9,3,0,1,1,1,3,9,1,3,1,6,3,6,4,6,2,0,0,0,6,4,7,6,6,7,6,6,0,6,6,7,1,7,4,2,7,4,6,0,2,0,0,6,6,4,4,3,7,7,3,4,3,4,2,4],\"coloraxis\":\"coloraxis\",\"symbol\":\"circle\"},\"mode\":\"markers\",\"name\":\"\",\"showlegend\":false,\"x\":[5.8841328620910645,-3.516376495361328,-4.427315711975098,39.02825164794922,-60.59397506713867,8.389310836791992,-2.838831663131714,37.1961784362793,-18.804763793945312,46.009883880615234,-18.44835090637207,24.965452194213867,-5.222312927246094,12.493179321289062,45.94391632080078,-58.687652587890625,-29.204883575439453,-54.19282150268555,-14.256016731262207,42.29024887084961,-72.18309783935547,-63.229820251464844,-13.323481559753418,35.525596618652344,-9.594714164733887,-10.435652732849121,-20.851909637451172,10.910429000854492,-23.54558753967285,-14.274065971374512,-18.529666900634766,-28.141008377075195,20.408903121948242,19.24681282043457,-7.033088684082031,-13.78773307800293,-20.09908103942871,-26.53302764892578,23.533397674560547,-18.31694221496582,36.079830169677734,36.020442962646484,-10.684144973754883,-27.611915588378906,-0.5060033798217773,29.800907135009766,-29.392614364624023,-25.65130615234375,-22.10110092163086,23.41202163696289,26.727495193481445,-53.717769622802734,-56.825096130371094,25.240570068359375,38.508602142333984,34.81912612915039,27.57439422607422,36.19451141357422,-8.667932510375977,-7.488559722900391,36.509403228759766,-24.71576499938965,-27.05356788635254,2.7705600261688232,15.038701057434082,-58.94729232788086,-17.62273597717285,45.97453689575195,15.54019546508789,0.6325483918190002,-28.800573348999023,-59.22694396972656,-4.944938659667969,18.794723510742188,3.129878044128418,5.130493640899658,11.38754940032959,42.23115539550781,-6.078668117523193,30.351377487182617,-22.225740432739258,5.209287643432617,9.351827621459961,2.607433319091797,15.82970905303955,13.103560447692871,-25.51076316833496,50.47846603393555,17.15128517150879,49.11477279663086,29.18856430053711,30.492094039916992,44.54256820678711,-53.04456329345703,-64.22002410888672,38.39398193359375,41.81496047973633,-54.19023513793945,46.16656494140625,32.1025390625,44.1389274597168,29.17536735534668,-21.337018966674805,-23.414833068847656,-62.2866325378418,28.908340454101562,-11.36406135559082,-14.792384147644043,-0.6046369671821594,45.94434356689453,31.231271743774414,-63.24325180053711,27.24979591369629,-0.4513157308101654,-10.43616771697998,-19.10994529724121,-13.450053215026855,41.80493927001953,-29.916852951049805,-22.298824310302734,-64.7834243774414,1.4072977304458618,-53.27200698852539,-27.921688079833984,-51.43256759643555,11.704886436462402,32.68311309814453,21.11247444152832,34.83403396606445,-10.668617248535156,-25.47999382019043,35.747894287109375,36.87460708618164,-23.150320053100586,27.189769744873047,-14.749252319335938,-2.411419153213501,15.038701057434082,18.06015396118164,8.304489135742188,-32.33119201660156,8.304545402526855,37.1047248840332,-74.90027618408203,-16.70702362060547,-19.852310180664062,-28.593093872070312,-23.031383514404297,-68.61661529541016,28.63760757446289,-3.238952159881592,-20.490848541259766,11.497712135314941,9.809276580810547,11.254732131958008,30.362548828125,-16.41008758544922,-15.39929485321045,-13.444130897521973,-9.164936065673828,23.671340942382812,-14.37574291229248,-56.121009826660156,44.0343132019043,27.227069854736328,29.412479400634766,41.112552642822266,33.18193054199219,-20.068340301513672,-50.29124069213867,35.113399505615234,-67.63971710205078,-16.780715942382812,-23.525531768798828,-19.544166564941406,-6.0088582038879395,-4.47117805480957,34.2798957824707,12.04477310180664,17.0360050201416,4.369693279266357,8.13746452331543,-15.783740043640137,26.776107788085938,-29.012004852294922,33.136817932128906,17.88783836364746,5.192562103271484,6.862577438354492,26.673728942871094,-10.384453773498535,-27.514493942260742,-24.423097610473633,-31.35236930847168,-13.829767227172852,-13.919445037841797,-1.138723373413086,6.65412712097168,36.54726791381836,-65.63477325439453,42.52824401855469,-27.930097579956055,40.0340690612793,-68.80374908447266,46.86478042602539,4.4385905265808105,-64.36226654052734,-9.040449142456055,8.10645866394043,35.08662796020508,-2.6953282356262207,-5.252021312713623,36.1421012878418,-13.727582931518555,-15.05533504486084,23.791799545288086,44.35899353027344,43.440547943115234,37.793182373046875,35.131126403808594,43.809139251708984,-0.7030916213989258,-7.740683078765869,43.34561538696289,-72.03340911865234,28.52098846435547,11.803481101989746,15.317954063415527,8.281673431396484,9.13383960723877,-55.962459564208984,8.906208038330078,8.22885799407959,-30.67089080810547,15.552718162536621,-50.543067932128906,39.3526611328125,28.89824867248535,-22.3220157623291,25.57030487060547,-24.609460830688477,35.342811584472656,33.87860107421875,-25.132511138916016,38.64094543457031,-6.2370405197143555,-20.858707427978516,-62.55865478515625,25.824819564819336,-26.45616912841797,3.325007438659668,-26.37840461730957,31.059650421142578,-22.391481399536133,-22.167762756347656,21.509891510009766,-2.964427947998047,-2.9644505977630615,2.390692949295044,3.4532248973846436,-18.742706298828125,-19.000591278076172,23.43325424194336,-8.491681098937988,-13.379633903503418,34.727333068847656,0.33412566781044006,-21.033357620239258,-16.69016456604004,-25.47077178955078,-7.2690110206604,-32.874141693115234,34.55317687988281,-2.126276731491089,-11.285104751586914,2.1958680152893066,7.789918422698975,38.510005950927734,21.7054443359375,-8.728769302368164,36.57182693481445,-7.12635612487793,-17.8669376373291,-3.94736909866333,8.602838516235352,-24.403907775878906,26.332643508911133,28.659543991088867,-12.90371322631836,-7.147302627563477,-24.615327835083008,26.34779167175293,48.59001159667969,26.071382522583008,-7.1473069190979,8.319340705871582,-13.559435844421387,-64.40363311767578,42.553932189941406,-28.90010643005371,45.27085494995117,-5.760530948638916,50.47841262817383,-26.129636764526367,36.7635383605957,-65.0149917602539,46.47380065917969,23.22784423828125,-29.187152862548828,46.366947174072266,-22.184951782226562,-23.37291145324707,-65.51414489746094,-28.87957763671875,-60.708984375,39.79351806640625,-0.4640531837940216,-8.342339515686035,36.14246368408203,30.55076789855957,28.180335998535156,1.7145507335662842,46.98242950439453,42.56333923339844,-56.226810455322266,31.649473190307617,30.685901641845703,3.570221424102783,-3.947429656982422,-16.624181747436523,-51.98476791381836,12.183394432067871,2.6918580532073975,-21.368003845214844,12.510034561157227,2.264127731323242,10.181524276733398,-10.695998191833496,29.100557327270508,2.847306728363037,-30.469318389892578,-56.75497817993164,29.101001739501953,-65.08477020263672,41.1822395324707,11.349539756774902,-4.220595836639404,-22.192882537841797,-6.641860485076904,-27.913427352905273,29.100671768188477,37.97948455810547,-5.824164390563965,-62.8486213684082,-13.765970230102539,-25.533039093017578,-63.0377197265625,36.79243087768555,-13.49846363067627,34.7785530090332,-18.956985473632812,-29.7119197845459,21.63766860961914,-26.08710479736328,-4.706767559051514,7.081165313720703,-3.22271728515625,-19.968997955322266,8.308226585388184,30.503517150878906,22.235763549804688,20.148683547973633,-71.99560546875,26.04673957824707,35.08867645263672,20.167938232421875,-28.895442962646484,8.69639778137207,16.47808837890625,5.338306427001953,10.154309272766113,29.009740829467773,-69.11481475830078,-9.388448715209961,0.7436767816543579,40.00185012817383,-56.41846466064453,-2.4500322341918945,35.40727233886719,39.39845275878906,-23.976930618286133,25.21176528930664,16.58318519592285,-28.883934020996094,18.8435115814209,-55.10809326171875,-11.48067569732666,-27.58336067199707,-22.238086700439453,-23.178565979003906,22.921165466308594,-4.021296977996826,40.958011627197266,-62.44191360473633,-60.49728775024414,47.384765625,41.12554931640625,-28.22878646850586,-17.434782028198242,37.45868682861328,7.086004734039307,39.27698516845703,25.79203987121582,8.483099937438965,-16.90872573852539,-0.7231962084770203,-55.043739318847656,-26.158058166503906,35.120445251464844,-26.550893783569336,48.991676330566406,7.921432971954346,-11.200313568115234,-3.498811960220337,-55.352352142333984,-15.344755172729492,-55.92673873901367,-68.5682144165039,25.424274444580078,-20.925193786621094,6.823331832885742,-60.76091384887695,30.99992561340332,36.85503005981445,11.061990737915039,-22.771240234375,-67.4130630493164,-70.46602630615234,-21.968687057495117,-8.558631896972656,27.055328369140625,27.943906784057617,-21.76416778564453,33.40742111206055,45.481563568115234,35.432640075683594,-2.605928897857666,-52.081947326660156,39.93606948852539,41.591644287109375,-28.56633758544922,-59.08586120605469,5.303081512451172,-58.09904861450195,40.73963928222656,-20.15589141845703,-64.01966857910156,20.160322189331055,-61.924163818359375,-59.99307632446289,-58.73042678833008,43.26881408691406,24.765146255493164,46.152366638183594,-67.97380065917969,2.7892374992370605,19.30154037475586,26.39167022705078,38.557655334472656,26.391502380371094,-21.559499740600586,8.0845308303833,14.000161170959473,-5.736858367919922,41.68258285522461,31.636152267456055,6.139647006988525,-61.34685516357422,-8.242910385131836,-14.661916732788086,-17.067907333374023,-18.320728302001953,46.63148880004883,-6.956936359405518,-64.87599182128906,6.342028617858887,11.230036735534668,-58.10541534423828,4.083116054534912,-54.91739273071289,-51.9495849609375,-7.24051570892334,-5.94698429107666,-57.860782623291016,-60.92766571044922,-28.779325485229492,27.806884765625,49.198028564453125,-32.31839370727539,38.41162872314453,40.47687911987305,-66.73799133300781,45.349365234375,36.768836975097656,-13.236875534057617,-28.259498596191406,28.82754898071289,43.70539474487305,45.59823989868164,36.75045394897461,-26.727876663208008,30.941463470458984,37.119598388671875,-27.976905822753906,-16.97216796875,-74.27144622802734,26.1915225982666,26.083105087280273,-26.716711044311523,-13.114267349243164,-24.260427474975586,-23.827211380004883,23.636028289794922,-4.733096122741699,-1.8277252912521362,42.233028411865234,-3.15313720703125,-23.53493309020996,-8.10455322265625,-40.29550552368164,46.12029266357422,-8.2402982711792,-67.40023040771484,17.176502227783203,-0.5578725337982178,-3.8491568565368652,-18.230815887451172,-63.07133102416992,-19.88611602783203,-57.10246276855469,51.221275329589844,3.8603341579437256,-68.98388671875,-57.519222259521484,17.17656135559082,12.757574081420898,5.000550746917725,0.9204971194267273,7.540926933288574,44.831485748291016,-49.47816848754883,26.587060928344727,-60.15541458129883,41.17665100097656,-21.932762145996094,37.428279876708984,30.231292724609375,33.36461639404297,34.549476623535156,38.8762092590332,34.908164978027344,34.974876403808594,34.47454071044922,35.132144927978516,30.950044631958008,6.273540496826172,38.51682662963867,33.743385314941406,-60.35979080200195,10.711495399475098,-65.81510925292969,-11.730635643005371,-15.29280948638916,29.152360916137695,21.728635787963867,-0.8886949419975281,-18.277942657470703,21.957870483398438,29.676040649414062,-70.8774642944336,-17.174068450927734,-27.00760841369629,40.41260528564453,24.299358367919922,-60.632530212402344,-29.284706115722656,-63.34975051879883,34.03811264038086,46.92567825317383,45.96683120727539,34.308467864990234,-33.18262481689453,-30.520004272460938,-28.75047492980957,-29.705541610717773,-27.766366958618164,-9.381543159484863,10.987075805664062,41.12352752685547,-30.406333923339844,-61.61558532714844,35.02879333496094,-60.18488311767578,-6.54022741317749,-51.89568328857422,-63.05986404418945,25.61429786682129,-60.883609771728516,-27.73503303527832,-71.76289367675781,40.54950714111328,-24.806379318237305,-28.436552047729492,-27.493078231811523,-60.45212936401367,33.2996711730957,-31.169912338256836,-26.162471771240234,-29.33868408203125,34.574249267578125,-69.94658660888672,-25.88636589050293,11.565861701965332,24.762361526489258,23.653972625732422,21.577585220336914,-25.08845329284668,-25.568115234375,-22.46712875366211,10.620697975158691,-74.06685638427734,19.296146392822266,17.50957489013672,2.5211808681488037,3.953415632247925,14.38468074798584,-8.195300102233887,9.86835765838623,2.594674825668335,1.1476047039031982,-0.27347320318222046,-1.697247862815857,-55.56561279296875,18.53204917907715,3.701784372329712,5.941285610198975,4.266269683837891,-2.454623222351074,-3.011347532272339,-9.169791221618652,-51.29966735839844,19.010292053222656,18.982704162597656,14.025303840637207,-54.39606857299805,40.2344856262207,-24.235464096069336,29.899919509887695,-31.59087562561035,-15.618512153625488,-25.02556610107422,32.070594787597656,-8.58746337890625,-11.731705665588379,-26.847925186157227,-24.496809005737305,-0.9934342503547668,20.88568878173828,4.514138221740723,26.492351531982422,35.674842834472656,42.70135498046875,2.248037338256836,-24.821622848510742,-8.077245712280273,43.23246765136719,39.50340270996094,34.76240921020508,-4.945074558258057,4.39133882522583,-8.706198692321777,-14.469675064086914,-71.51338958740234,28.023937225341797,4.9032745361328125,30.443700790405273,-63.254432678222656,0.6161012649536133,31.194578170776367,43.63938903808594,53.99104309082031,-3.836383819580078,-12.591064453125,-7.725338459014893,-26.12637710571289,34.27775955200195,-61.36654281616211,10.679471015930176,-19.040306091308594,44.44906234741211,48.20582580566406,-18.13653564453125,44.853214263916016,-14.050270080566406,-1.727861762046814,-15.72271728515625,-25.742612838745117,38.34037399291992,-62.398048400878906,-27.59848403930664,30.564573287963867,25.1135311126709,-18.13649559020996,-18.136445999145508,23.41271209716797,34.91259765625,29.77947235107422,-11.002104759216309,-22.392925262451172,-26.527359008789062,44.81950378417969,-5.940446376800537,-12.216904640197754,-13.854933738708496,-7.164290428161621,-14.834248542785645,-30.71455192565918,-28.79608154296875,-14.003131866455078,-7.636427879333496,-73.10289764404297,-11.525434494018555,47.006107330322266,-11.187272071838379,-29.183849334716797,-13.03748893737793,-7.497944355010986,14.324671745300293,44.163597106933594,37.09660720825195,14.064728736877441,13.732588768005371,33.29152297973633,29.52261734008789,25.207103729248047,-20.606435775756836,27.911951065063477,-11.360939979553223,-23.156423568725586,40.112369537353516,33.42429733276367,41.123138427734375,50.96581268310547,14.0890474319458,39.565757751464844,-10.286004066467285,-24.80088996887207,6.393011093139648,28.292165756225586,-24.189022064208984,11.15442180633545,-3.6077678203582764,-15.582719802856445,26.710037231445312,-3.6077659130096436,41.63826370239258,52.81660842895508,35.71836853027344,-11.40015697479248,41.291404724121094,18.28961753845215,-24.166645050048828,-6.77033805847168,0.39576637744903564,0.15753869712352753,35.36772155761719,-0.4394340515136719,37.66008377075195,21.350723266601562,19.330524444580078,38.083072662353516,29.90802574157715,-15.472748756408691,26.414854049682617,27.115842819213867,33.073585510253906,-25.91771125793457,17.462827682495117,22.657939910888672,33.9696159362793,-11.507365226745605,45.86867141723633,44.13740539550781,-18.222808837890625,35.20325469970703,-67.71533203125,20.870868682861328,-24.32185173034668,-28.247451782226562,28.971622467041016,34.416282653808594,-30.28152847290039,20.704015731811523,47.55799102783203,-25.722532272338867,-12.64417552947998,27.055736541748047,-61.60659408569336,-10.781004905700684,1.2761791944503784,-11.191040992736816,-20.745967864990234,11.021119117736816,-11.559422492980957,-6.107026100158691,-11.717795372009277,47.32297134399414,-6.2677998542785645,-68.25562286376953,-17.783836364746094,36.84611511230469,1.8157901763916016,45.12510299682617,-57.867919921875,23.95072364807129,-11.682814598083496,18.285253524780273,43.74421310424805,-1.8605530261993408,0.03639058768749237,46.274898529052734,48.01627731323242,-1.2759783267974854,-13.40071964263916,-20.653188705444336,-31.49454116821289,-13.294272422790527,-1.928024411201477,-24.792709350585938,1.376985788345337,-20.338848114013672,-17.779531478881836,-16.610300064086914,-7.2690110206604,-19.001680374145508,36.04300308227539,-8.10766887664795,44.664676666259766,27.88889503479004,-2.928034782409668,28.750118255615234,26.981924057006836,1.8811981678009033,-19.855554580688477,-50.970890045166016,-25.574119567871094,-19.861942291259766,39.0926628112793,33.650062561035156,18.144763946533203,-1.1982536315917969,-24.266374588012695,18.27887535095215,-29.821815490722656,-64.01408386230469,38.378971099853516,34.621822357177734,-16.660518646240234,-11.580859184265137,35.028621673583984,35.12113952636719,-19.046737670898438,-24.934268951416016,-73.24210357666016,-9.860527038574219,40.36695098876953,33.78333282470703,26.198110580444336,-20.357343673706055,-13.649503707885742,33.136077880859375,-62.76750183105469,26.69558334350586,34.46226501464844,-49.677398681640625,39.099361419677734,-51.64768600463867,36.984230041503906,25.370447158813477,40.58723068237305,-0.7652543187141418,36.58683776855469,-7.827972412109375,2.4474880695343018,5.807136535644531,13.63559341430664,26.38944435119629,-2.679720878601074,16.663774490356445,-27.488985061645508,1.5836572647094727,43.05290603637695,1.2894222736358643,1.407331109046936,-25.8426513671875,-73.80042266845703,27.070323944091797,15.038701057434082,-14.46561336517334,7.075709342956543,-3.1104166507720947,-25.169397354125977,3.587024688720703,21.05866813659668,47.82039260864258,-9.18291187286377,38.97003936767578,-4.0928144454956055,24.439477920532227,-58.70262145996094,9.499343872070312,28.258804321289062,-21.921981811523438,-23.303646087646484,-28.5709285736084,-32.872947692871094,-16.007431030273438,-28.79899787902832,48.52724838256836,-26.45562171936035,11.470381736755371,10.53713607788086,10.159659385681152,7.979249477386475,-23.20216178894043,12.396902084350586,23.511106491088867,46.23235321044922,35.345375061035156,-18.345645904541016,17.547616958618164,36.3817138671875,41.67315673828125,-53.579803466796875,-0.5277357697486877,3.1424643993377686,-60.25313949584961,-15.210667610168457,42.886131286621094,13.541111946105957,-27.29631996154785,40.73917770385742,-11.901402473449707,-12.112760543823242,-52.19912338256836,-25.869997024536133,-0.23001958429813385,42.9854850769043,-4.836477279663086,-7.9633636474609375,-6.384917736053467,-0.21771922707557678,-65.72100830078125,42.21342468261719,-10.8406400680542,10.769204139709473,-17.035430908203125,25.268016815185547,-7.510800361633301,-23.749229431152344,-11.801175117492676,41.89211654663086,40.90475845336914,47.27642822265625,38.258113861083984,37.388004302978516,30.565763473510742,15.7730712890625,-13.449193000793457,16.508594512939453,-25.283323287963867,39.83519744873047,9.794553756713867,19.874549865722656,-16.1173152923584,25.354700088500977,36.498016357421875,13.124835014343262,11.0210542678833,-74.92974853515625,41.45660400390625,-51.521358489990234,-19.74079132080078,-51.368560791015625,-0.131403386592865,35.83274841308594,-4.323193073272705,34.7442741394043,-9.225822448730469,32.710289001464844,-20.462963104248047,-12.284852027893066,-14.407879829406738,-28.45958709716797,35.91961669921875,-54.8798713684082,1.6821272373199463,-13.061594009399414,-27.501829147338867,11.991724014282227,7.830971717834473,-4.294465065002441,-25.32220458984375,0.1647341549396515,-50.78449249267578,-52.88901901245117,-50.79826354980469,-54.787593841552734,45.71879959106445,-67.93527221679688,-62.7120246887207,-2.709697961807251,-20.08469581604004,47.09987258911133,23.789533615112305,25.791318893432617,19.52320098876953,8.867094039916992,-17.477222442626953,14.841703414916992,14.7020263671875,21.736888885498047,-19.266630172729492,32.285892486572266,33.007347106933594,27.93899154663086,-10.845664978027344,18.541378021240234,-22.501497268676758,-21.091232299804688,18.139915466308594,36.2713737487793,-6.469483375549316,27.53366470336914,-1.735224723815918,10.144113540649414,-26.164026260375977,-0.8067581057548523,-6.733365058898926,0.9683244824409485,-30.94577407836914,21.634931564331055,39.63770294189453,-29.506425857543945,34.16484451293945,39.22358703613281,28.008485794067383,-59.93426513671875,28.072734832763672,27.589797973632812,-64.20455932617188,-57.25834274291992,34.7288703918457,-70.31720733642578,-32.318363189697266,34.0853385925293,25.882631301879883,-17.702634811401367,-22.314193725585938,-31.712635040283203,9.887348175048828,-52.13046646118164,15.56999683380127,-31.323074340820312,-31.323619842529297,34.39130401611328,2.719691038131714,-10.718393325805664,-52.73384094238281,-28.746353149414062,-6.1681365966796875,6.860204696655273,30.112844467163086,-10.771283149719238,15.826915740966797,-0.13690611720085144,-68.75989532470703,21.119787216186523,20.35880470275879,25.895715713500977,-58.12147903442383,-20.3109188079834,16.34589195251465,35.426029205322266,21.119712829589844,-26.099641799926758,16.905399322509766,5.722872257232666,-58.640586853027344,-27.88954734802246,41.61834716796875,-14.013201713562012,-20.99102210998535,17.102834701538086,39.06912612915039,35.262290954589844,-10.362473487854004,-13.692397117614746,25.41604232788086,-7.330821514129639,-31.105825424194336,26.179000854492188,-19.71073341369629,24.580720901489258,-23.249662399291992,-30.951581954956055,38.885013580322266,34.66703414916992,-23.785303115844727,32.5579948425293,-30.94632911682129,-23.821002960205078,-26.446456909179688,-1.2077683210372925,37.01383590698242,-9.202754974365234,-16.3537540435791,-7.4544806480407715,35.11003112792969,-23.745656967163086,35.650062561035156,25.349199295043945,15.862995147705078,12.085515975952148,36.028167724609375,-15.69762134552002,33.72889709472656,11.890789031982422,28.889734268188477,-15.925549507141113,35.334754943847656,-10.05828857421875,44.39057922363281,35.86431121826172,32.235103607177734,31.530620574951172,41.740928649902344,-24.428640365600586,-18.968097686767578,36.02740478515625,-62.37961959838867,-27.370967864990234,19.683605194091797,36.74610900878906,15.534477233886719,16.762666702270508,-2.638705015182495,-58.717132568359375,-24.351953506469727,-13.130867958068848,37.95477294921875,-26.380657196044922,18.285974502563477,4.643464088439941,-25.04283332824707,-11.36464786529541,23.56258773803711,17.664209365844727,13.261728286743164,-22.02617073059082,34.405906677246094,-1.3511964082717896,-6.304772853851318,-15.39235782623291,1.0418955087661743,27.46458625793457,12.633493423461914,19.766590118408203,5.761744976043701,-8.489358901977539,21.798471450805664,-5.29433012008667,30.707212448120117,-25.66986656188965,-25.524017333984375,40.1934928894043,-13.379633903503418,-9.644774436950684,37.89216232299805,45.9587516784668,-26.001708984375,-16.04898452758789,-4.346603870391846,33.78733825683594,18.36034393310547,-9.110905647277832,-30.834880828857422,26.341285705566406,28.004627227783203,34.57864761352539,44.072872161865234,-25.57914924621582,27.49245834350586,10.159150123596191,45.777400970458984,-28.89082145690918,33.73509979248047,33.86227798461914,28.250478744506836,-23.854469299316406,-15.760209083557129,-9.842543601989746,-12.236773490905762,-13.112434387207031,35.12321472167969,-13.441788673400879,-6.746636867523193,39.53736877441406,36.49703598022461,37.161258697509766,8.448843002319336,36.10477066040039,33.93246841430664,-2.264230966567993,28.718576431274414,-28.14990997314453,27.149988174438477,11.420249938964844,-7.247030735015869,16.838069915771484,-23.576026916503906,34.01410675048828,-36.14384460449219,36.84945297241211,40.190006256103516,-16.784955978393555,-16.588985443115234,-27.651962280273438,-25.602941513061523,-0.8887328505516052,-53.94510269165039,-23.85344886779785,-22.573211669921875,34.572261810302734,-9.704117774963379,27.216142654418945,31.33077049255371,-67.9754409790039,-6.455756187438965,28.62486457824707,39.63636016845703,48.03234100341797,-23.854928970336914,35.012821197509766,51.77449035644531,41.178977966308594,-26.336130142211914,12.786149978637695,19.10093116760254,-6.87491512298584,1.7325698137283325,25.87820053100586,36.70161056518555,30.835968017578125,-0.010869085788726807,37.6407356262207,-23.952768325805664,29.736425399780273,35.19244384765625,30.66323471069336,26.294330596923828,-7.132719039916992,0.6274949908256531,41.35294723510742,44.1778564453125,34.726593017578125,5.144124984741211,13.966023445129395,33.34953689575195,0.06650490313768387,43.165992736816406,39.36498260498047,19.127431869506836,-0.4394923746585846,-25.986989974975586,-10.894394874572754,-12.907986640930176,-4.003467082977295,-30.015016555786133,29.503799438476562,6.512489318847656,35.10112380981445,35.33194351196289,5.550240516662598,-17.414323806762695,33.27982711791992,-12.019746780395508,-3.8745810985565186,13.360175132751465,15.704286575317383,11.030668258666992,14.158526420593262,6.262503623962402,9.170048713684082,-24.660383224487305,-49.51467514038086,-56.23081970214844,-21.048627853393555,-65.56633758544922,-65.5662841796875,46.95142364501953,35.789276123046875,-14.24309253692627,32.40591812133789,-49.55533981323242,-21.733755111694336,-9.415436744689941,35.32741928100586,-9.139752388000488,-17.81648826599121,37.94670867919922,-33.182655334472656,3.6322124004364014,4.133181571960449,-2.2573554515838623,-3.709794521331787,-8.016661643981934,-23.42905044555664,46.163631439208984,46.16366195678711,-8.016661643981934,-49.101749420166016,-8.857717514038086,36.513309478759766,-0.6114070415496826,-13.305333137512207,6.304368495941162,-61.108917236328125,-63.92266845703125,15.696733474731445,-53.432186126708984,-58.85624694824219,-48.504695892333984,-54.65810012817383,48.343082427978516,25.771066665649414,48.05631637573242,14.882616996765137,29.948171615600586,-23.991912841796875,31.356271743774414,1.3270608186721802,-23.320301055908203,39.387882232666016,-23.465030670166016,37.051025390625,-61.42353057861328,35.262325286865234,-21.680049896240234,-56.21875,-7.135921478271484,-9.226105690002441,-58.73012924194336,-5.008307933807373,29.485654830932617,3.460355043411255,-48.85372543334961,-16.17208480834961,35.74734878540039,-12.311598777770996,-68.23890686035156,28.38847541809082,-62.76320266723633,-7.622732639312744,-15.99975299835205,48.68687057495117,-13.431468963623047,23.913915634155273,22.4371337890625,-7.455877304077148,28.85085678100586,-74.99938201904297,-57.66559600830078,-14.242206573486328,35.46224594116211,41.12337875366211,-15.609301567077637,-5.099757671356201,17.840023040771484,21.607698440551758,-11.697964668273926,-0.2734203338623047,26.2709903717041,22.73912811279297,-57.93596267700195,-51.27320861816406,43.13458251953125,19.755247116088867,-27.863140106201172,-2.7056169509887695,10.579867362976074,46.305301666259766,34.613773345947266,-51.22853088378906,11.635634422302246,47.894317626953125,8.810606002807617,-24.624826431274414,20.741823196411133,33.634281158447266,32.938987731933594,32.14893341064453,-67.40411376953125,-57.99497985839844,43.32733917236328,-64.14492797851562,-5.426717281341553,8.845619201660156,-10.529491424560547,-3.8511874675750732,34.50259017944336,35.138702392578125,-70.13550567626953,-33.18267059326172,43.5633430480957,-64.1555404663086,24.65516471862793,-3.1464896202087402,32.33440399169922,-15.71550464630127,51.47726821899414,34.64702606201172,-70.33831024169922,-66.69060516357422,2.6319308280944824,-57.2646598815918,23.486099243164062,10.863574981689453,7.628127574920654,23.178396224975586,24.603504180908203,-5.759831428527832,-3.0676064491271973,-74.06634521484375,-30.081819534301758,-12.332914352416992,-12.332914352416992,31.793018341064453,1.4571160078048706,-18.0628719329834,23.115446090698242,-12.3330659866333,20.034244537353516,18.822978973388672,16.904603958129883,16.967195510864258,-64.44473266601562,-15.935270309448242,17.590810775756836,9.779752731323242,9.656246185302734,24.24264907836914,19.87897491455078,5.7375288009643555,1.4459271430969238,24.103652954101562,-57.673221588134766,-11.49459457397461,-29.099552154541016,14.841935157775879,-1.2446098327636719,-18.322711944580078,36.84072494506836,11.637057304382324,46.86772155761719,45.505332946777344,44.10670852661133,-13.065608024597168,29.55955696105957,47.71702575683594,-23.799726486206055,39.8299560546875,39.77886962890625,-24.845069885253906,-25.17937660217285,-22.590246200561523,44.474205017089844,-17.389516830444336,-40.16096115112305,-21.403799057006836,4.184834003448486,10.476861953735352,1.8004088401794434,-1.9216930866241455,-6.530309200286865,3.064093589782715,-9.507648468017578,41.646141052246094,-53.13078308105469,24.571489334106445,51.730289459228516,31.7225284576416,-12.243837356567383,3.0640931129455566,-66.5098648071289,44.27063751220703,-53.53123474121094,-52.285491943359375,-5.050565242767334,47.849849700927734,49.290706634521484,-16.586244583129883,-0.661717414855957,31.01065444946289,49.17805862426758,47.77981948852539,29.528478622436523,8.654715538024902,31.433256149291992,-23.79966926574707,-17.384580612182617,34.720638275146484,-16.154956817626953,6.587625980377197,5.152554512023926,16.45677947998047,-21.168367385864258,31.164518356323242,37.608253479003906,45.8902587890625,-0.5966191291809082,31.96344566345215,48.185211181640625,33.56096267700195,-26.67459487915039,44.245704650878906,-11.416708946228027,30.79123306274414,-53.48421859741211,-51.929359436035156,-52.9172477722168,5.9323039054870605,30.612913131713867,33.58512878417969,5.139222621917725,-57.15736770629883,-51.4462890625,31.442480087280273,-64.9786605834961,31.84780502319336,-0.16287414729595184,34.062339782714844,31.454648971557617,11.091954231262207,39.115596771240234,32.598793029785156,35.31260681152344,47.95010757446289,32.334651947021484,37.79114532470703,-6.886869430541992,24.148962020874023,-25.075658798217773,36.16860580444336,-25.574460983276367,-20.990123748779297,-23.194917678833008,43.12104415893555,-29.249370574951172,46.567054748535156,20.35880470275879,35.93009948730469,-8.157828330993652,-23.81635284423828,-23.979320526123047,35.38142395019531,26.448810577392578,-28.137968063354492,-6.272741794586182,36.27271270751953,34.37668991088867,38.300472259521484,23.699474334716797,23.41217041015625,-69.09043884277344,45.441043853759766,-72.93721008300781,-1.7588764429092407,-58.15412521362305,-28.911996841430664,42.57867431640625,-28.86724281311035,-23.13979148864746,43.00342559814453,30.070444107055664,25.75895881652832,-2.1360180377960205,25.98517417907715,-15.589630126953125,-0.4800185561180115,-29.57480812072754,15.862885475158691,-24.737043380737305,43.91926574707031,28.128345489501953,9.3450345993042,23.2091007232666,21.282609939575195,-26.729679107666016,9.795563697814941,-9.642233848571777,-3.2300169467926025,-15.853527069091797,34.80616760253906,-22.454076766967773,36.1109619140625,38.561405181884766,-12.098835945129395,7.795981407165527,24.726707458496094,-15.405240058898926,-9.528018951416016,7.9075751304626465,-30.927404403686523,-28.182090759277344,-13.388647079467773,-72.27378845214844,12.810136795043945,-9.294873237609863,-10.171189308166504,-13.26066780090332,3.3126049041748047,32.83927536010742,-52.75920867919922,34.02459716796875,-8.081119537353516,32.32019805908203,-9.185426712036133,-21.93410301208496,40.931583404541016,32.235897064208984,-13.63179874420166,-12.74592113494873,-16.45048713684082,-11.375654220581055,-4.19034481048584,31.937015533447266,42.23624038696289,-20.14507293701172,-24.638669967651367,-3.552443742752075,17.559879302978516,25.614320755004883,10.171460151672363,-60.81563949584961,-25.34461212158203,41.43491744995117,40.44083023071289,-3.680717706680298,34.73845672607422,-49.34906768798828,12.481094360351562,-56.98614501953125,36.20027160644531,15.587532997131348,-70.22235107421875,-4.392332077026367,-66.8836898803711,28.789779663085938,-51.50853729248047,-41.14044952392578,-6.733378887176514,-41.40904998779297,-26.51681137084961,-52.612030029296875,-41.12999725341797,-56.564273834228516,-17.90706443786621,-2.5748331546783447,-25.767013549804688,28.248823165893555,36.26111602783203,13.60543441772461,36.69969940185547,-61.1620979309082,-2.1043615341186523,10.506861686706543,-54.11663818359375,16.17913246154785,41.7898063659668,-24.127796173095703,12.385347366333008,-23.428590774536133,10.804567337036133,-70.0707015991211,-63.4911994934082,-1.9661200046539307,-69.43903350830078,-14.803315162658691,-48.73979949951172,-12.904637336730957,-4.988365650177002,44.49785614013672,-12.48997688293457,30.688350677490234,-48.249820709228516,-65.21917724609375,-71.02391815185547,-19.104736328125,-67.60639190673828,-56.75209426879883,27.581796646118164,24.644424438476562,35.230125427246094,34.82608413696289,24.528865814208984,-66.81270599365234,-14.521906852722168,-16.535587310791016,-16.706308364868164,-51.173221588134766,-6.100930690765381,-23.720611572265625,9.632529258728027,-53.558937072753906,37.53371047973633,0.2193334698677063,-54.37990951538086,13.001922607421875,-10.41834545135498,32.437137603759766,-25.448684692382812,32.3624153137207,32.8532600402832,37.08706283569336,35.47256851196289,36.21727752685547,32.25822830200195,-11.093575477600098,33.98554611206055,47.963924407958984,37.14569091796875,35.23198699951172,38.911685943603516,-71.35195922851562,46.26275634765625,-20.59808349609375,-14.256016731262207,23.675617218017578,49.66962814331055,-15.829732894897461,-16.073505401611328,-27.739513397216797,-60.18244934082031,29.0412654876709,23.640432357788086,29.100723266601562,27.395112991333008,36.46352005004883,-27.04240608215332,9.893725395202637,-1.2210890054702759,36.78112030029297,-13.000021934509277,43.98889923095703,-13.831472396850586,-63.1065788269043,32.98289108276367,-17.687589645385742,1.1088684797286987,35.26863479614258,-5.988667964935303,-15.913317680358887,30.42082977294922,-51.853973388671875,-3.550490379333496,8.316094398498535,28.908334732055664,30.070388793945312,-17.575563430786133,38.66458511352539,31.077974319458008,-7.050139904022217,-65.17998504638672,8.803668022155762,-52.87669372558594,-7.671005725860596,-12.176830291748047,7.471988677978516,-1.714964747428894,3.110414505004883,-27.592988967895508,27.26288604736328,50.24750518798828,-18.942977905273438,-1.7779141664505005,34.5943603515625,-4.553834438323975,-11.0952730178833,48.0855827331543,-21.094402313232422,29.103296279907227,-32.94196701049805,-25.295042037963867,-16.152387619018555,-19.783166885375977,-14.82601261138916,19.84025764465332,-19.528270721435547,19.22638511657715,-24.074127197265625,38.45148849487305,1.335937738418579,10.73555850982666,-26.659452438354492,7.3387131690979,39.3520393371582,-29.570423126220703,-25.059547424316406,-14.591410636901855,-27.75301742553711,44.87856674194336,-23.92052459716797,3.315434217453003,24.337583541870117,45.64669418334961,9.31932258605957,31.16496467590332,36.25200653076172,-6.423397541046143,-6.423332691192627,-9.620061874389648,-6.543522834777832,6.185202598571777,24.138195037841797,-67.97435760498047,-23.853450775146484,23.946361541748047,31.317138671875,-73.15393829345703,-67.80354309082031,-60.83091354370117,38.48750305175781,-26.525392532348633,-22.20282554626465,-24.614688873291016,21.634870529174805,10.528529167175293,-14.105112075805664,-17.818208694458008,-5.685929298400879,-71.70417785644531,22.978002548217773,-64.46189880371094,-5.11080265045166,44.360538482666016,19.471620559692383,-21.532480239868164,-23.758028030395508,-31.556270599365234,-22.460708618164062,-27.32587432861328,26.128063201904297,-73.22905731201172,-49.5090446472168,41.33341598510742,-15.525753021240234,-26.724462509155273,25.93220329284668,-8.934794425964355,35.16411209106445,-30.045269012451172,47.104736328125,4.7104949951171875,-65.9566879272461,45.87007522583008,-15.991056442260742,-11.986770629882812,-19.866830825805664,-3.8745501041412354,-65.10101318359375,35.24028015136719,39.74957275390625,29.86053466796875,29.87045669555664,-26.025014877319336,-69.93919372558594,-0.7691375017166138,41.26301193237305,-56.76179885864258,-62.79962158203125,-11.026625633239746,-31.29531478881836,-10.374088287353516,3.3004326820373535,-6.301180362701416,25.936864852905273,-6.000907897949219,-19.449905395507812,30.116731643676758,24.1573429107666,34.32186508178711,-24.96780776977539,-21.9710636138916,10.317479133605957,-20.338895797729492,-63.01460266113281,-54.70402908325195,38.4921875,-31.899051666259766,-59.0235595703125,-14.002293586730957,27.656536102294922,-63.58897399902344,34.32514953613281,-53.086055755615234,15.34282398223877,-16.5357666015625,29.556421279907227,-19.486907958984375,28.70785140991211,28.708667755126953,18.638444900512695,23.700101852416992,-15.53219985961914,-20.29891586303711,47.55785369873047,4.2869391441345215,3.7637252807617188,-58.235870361328125,-19.617332458496094,-24.04855728149414,-71.1842041015625,35.612430572509766,15.918258666992188,7.228771209716797,-19.216169357299805,35.10083770751953,38.396175384521484,34.55641555786133,1.0733418464660645,-26.1888427734375,45.36492919921875,-21.07902717590332,-8.171660423278809,41.22571563720703,2.043344497680664,-9.053265571594238,-22.33478546142578,9.753213882446289,-23.008922576904297,27.59256935119629,-22.133655548095703,-58.99535369873047,15.124285697937012,-2.5345213413238525,-6.098817348480225,48.47486114501953,40.33570098876953,-23.204835891723633,-6.078820705413818,44.39592361450195,-17.088491439819336,18.737613677978516,-12.389688491821289,26.979759216308594,-32.10060501098633,-27.63123321533203,36.27060317993164,30.099956512451172,32.6519775390625,-0.9605842232704163,19.462358474731445,-14.729426383972168,-20.135801315307617,0.663443386554718,8.840282440185547,1.9799739122390747,30.34058380126953,31.847213745117188,-13.085427284240723,-9.196727752685547,37.53418731689453,1.5900636911392212,-57.93538284301758,35.48823547363281,-60.0125732421875,49.36966323852539,30.935789108276367,47.74295425415039,24.522470474243164,17.76912498474121,-14.446209907531738,1.3516924381256104,10.841957092285156,-7.1473069190979,-8.003353118896484,-22.323606491088867,-17.4473819732666,3.6008453369140625,-8.263965606689453,-20.32678985595703,-12.384321212768555,49.11888122558594,46.63961410522461,-19.68874168395996,4.55825138092041,-14.265506744384766,-17.986021041870117,-58.13597106933594,-70.06918334960938,-15.733962059020996,-32.14876174926758,-1.4879100322723389,23.68695068359375,37.37885284423828,-4.688913345336914,27.594860076904297,-0.6852806806564331,21.620725631713867,42.155723571777344,40.73924255371094,-59.338356018066406,-71.8647689819336,-28.969350814819336,-65.43611907958984,53.75142288208008,-12.318769454956055,24.06494140625,-73.7378158569336,29.2747859954834,27.32374382019043,21.2316951751709,-9.00418472290039,37.77293014526367,31.02765464782715,12.732035636901855,-63.961036682128906,51.12739181518555,-55.92262649536133,34.29337692260742,51.127220153808594,37.45150375366211,-66.27698516845703,-0.20175382494926453,-15.381726264953613,33.90372848510742,-3.88739275932312,9.451374053955078,34.95726776123047,-49.588340759277344,47.243831634521484,-24.542455673217773,-14.72884750366211,-9.365118026733398,-63.71295928955078,-1.3283089399337769,0.048523902893066406,25.89504623413086,27.592960357666016,-10.3283052444458,-17.284143447875977,43.9892692565918,38.085350036621094,29.982656478881836,31.430288314819336,-30.065940856933594,-19.36652183532715,19.109233856201172,32.001712799072266,20.18465805053711,-69.61634826660156,24.89011001586914,-60.14659881591797,-22.688690185546875,9.917236328125,4.844454765319824,12.139009475708008,2.5270724296569824,-2.2642314434051514,-0.2940877676010132,46.97237777709961,24.56374740600586,23.90514373779297,-21.607051849365234,38.992183685302734,-1.127677083015442,43.912925720214844,28.647315979003906,-5.087301731109619,-29.973447799682617,33.7617301940918,29.054513931274414,-10.93942642211914,-64.05766296386719,-71.21583557128906,-12.058625221252441,-10.22469711303711,40.55425262451172,-12.866133689880371,17.88741111755371,-18.923473358154297,-23.5881290435791,34.92497253417969,46.87616729736328,-22.717437744140625,30.221786499023438,28.908323287963867,19.667299270629883,-6.352015972137451,-13.950225830078125,-0.6247020363807678,-53.3156623840332,-30.550537109375,20.76192283630371,31.270221710205078,-62.33749771118164,-24.677837371826172,33.04027557373047,-67.1359634399414,-23.457279205322266,-16.183069229125977,-2.8817217350006104,-13.651061058044434,-20.116558074951172,32.86964416503906,1.9110527038574219,23.552059173583984,-10.17978286743164,37.223602294921875,-5.997158527374268,46.2769889831543,7.9459614753723145,-26.69474983215332,-23.673152923583984,12.631111145019531,46.231876373291016,-14.409034729003906,43.94104766845703,34.160545349121094,36.908634185791016,27.340206146240234,-57.28237533569336,-55.070640563964844,-21.816198348999023,-24.091943740844727,-28.051050186157227,0.7274273037910461,37.77201461791992,29.309398651123047,38.79581069946289,30.621017456054688,-25.271038055419922,-10.491342544555664,-33.72871780395508,9.681702613830566,14.383296012878418,-6.590844631195068,-16.092391967773438,0.39798977971076965,-27.32225799560547,43.122589111328125,-61.432796478271484,-33.72871780395508,34.51597595214844,44.97110366821289,-22.541080474853516,-15.529252052307129,8.558263778686523,-21.943387985229492,33.954410552978516,-11.078354835510254,-72.11262512207031,-11.706363677978516,39.55229568481445,-25.047229766845703,39.01564025878906,29.53362464904785,-69.29017639160156,-10.106390953063965,-23.99647331237793,-63.39169692993164,-10.89915943145752,29.660301208496094,34.49435043334961,-7.686196804046631,35.46110534667969,-14.541595458984375,-15.957113265991211,-15.139482498168945,-69.78385162353516,35.69374465942383,37.10979461669922,-49.719730377197266,-16.147449493408203,-15.889321327209473,11.798551559448242,42.12492752075195,-63.55054473876953,-30.398866653442383,-5.947420597076416,-22.546754837036133,28.79010772705078,-53.4167594909668,17.698043823242188,-12.281492233276367,-11.536535263061523,14.063899993896484,41.517723083496094,38.13353729248047,13.746541976928711,0.3446575999259949,39.84455871582031,-27.620058059692383,-19.591115951538086,9.753405570983887,11.742596626281738,37.2230110168457,-11.954936981201172,34.43402099609375,30.816755294799805,28.137903213500977,47.7161750793457,27.96251678466797,10.423955917358398,-21.249343872070312,-56.23918914794922,36.702598571777344,-64.74191284179688,-3.2427546977996826,42.79899597167969,21.53380584716797,-15.787596702575684,36.46854782104492,29.872554779052734,25.73708724975586,38.21682357788086,-6.528755187988281,-0.28916263580322266,-54.87136459350586,28.025732040405273,-8.864790916442871,-1.594987392425537,-8.009432792663574,-25.888164520263672,6.924544811248779,-28.379213333129883,26.587060928344727,-59.81514358520508,12.581992149353027,34.036502838134766,12.613616943359375,-58.46379852294922,-62.66756820678711,32.508636474609375,-29.871793746948242,30.791000366210938,24.9439640045166,23.889110565185547,-0.5127593278884888,-3.32181453704834,45.13920593261719,-28.0633544921875,22.620996475219727,-23.407665252685547,10.302143096923828,37.675537109375,-25.506494522094727,-27.43285369873047,45.07917404174805,44.91863250732422,43.83228302001953,30.074068069458008,47.276432037353516,19.472034454345703,6.58777379989624,-54.003578186035156,25.994396209716797,9.795135498046875,18.267446517944336,-64.4240493774414,34.84873962402344,-17.443998336791992,-19.187929153442383,-19.486631393432617,43.56330871582031,30.85991096496582,-3.5770866870880127,34.34771728515625,4.8592400550842285,36.53421401977539,22.041767120361328,-71.52506256103516,35.9644889831543,-0.32050076127052307,33.02296447753906,-2.9607489109039307,34.713016510009766,-6.834505558013916,35.590293884277344,32.7689208984375,38.329734802246094,-23.37291145324707,31.74759864807129,27.503408432006836,-0.7326194047927856,-20.811796188354492,38.01189422607422,24.160701751708984,-24.5709228515625,14.069367408752441,-17.374250411987305,37.62135696411133,-75.56808471679688,-17.122127532958984,-11.2405366897583,-2.6291263103485107,31.283781051635742,33.074954986572266,-9.302727699279785,32.232635498046875,-6.395740032196045,30.702592849731445,-20.790281295776367,26.43656349182129,-12.822739601135254,-62.14962387084961,16.20271873474121,-15.432479858398438,19.33294105529785,-17.128097534179688,-63.26557159423828,-20.08604621887207,46.00422286987305,34.680763244628906,-24.488996505737305,45.32766342163086,-22.281444549560547,-11.731440544128418,-27.44853973388672,38.44429397583008,-27.762680053710938,-23.952747344970703,-17.314407348632812,-26.808156967163086,-18.771530151367188,-53.94510269165039,42.24270248413086,-24.954538345336914,-13.532787322998047,-15.139580726623535,40.69081115722656,-26.91058349609375,36.561885833740234,-19.47007179260254,-17.62967300415039,-20.099720001220703,-17.296140670776367,-22.39940071105957,35.028682708740234,-27.833105087280273,-28.791234970092773,41.99864959716797,-20.431041717529297,5.3943891525268555,-6.727566242218018,-0.6247214078903198,17.10700798034668,38.55531692504883,-50.9931640625,-22.784223556518555,-2.17290997505188,-25.500905990600586,-57.79002380371094,-60.665042877197266,-21.040178298950195,19.603464126586914,-52.76457595825195,-14.283281326293945,41.08689498901367,-25.58724594116211,2.3802831172943115,-2.9352967739105225,-0.42526939511299133,30.034770965576172,-26.84615135192871,-25.408132553100586,-29.97756576538086,25.53912353515625,25.53896141052246,15.32450008392334,3.4739367961883545,-22.489227294921875,20.964324951171875,-56.1369514465332,-25.74477195739746,11.127909660339355,-8.88124942779541,-7.502642631530762,21.816617965698242,9.199389457702637,28.48992156982422,0.3542543947696686,38.995357513427734,27.58635902404785,-4.874173641204834,-21.286216735839844,33.05067443847656,24.375022888183594,21.05438804626465,-21.47734832763672,-13.177207946777344,-21.187435150146484,-21.967477798461914,-64.2061538696289,39.4149169921875,-20.098379135131836,33.0137939453125,-65.2273178100586,-28.007728576660156,-1.944238305091858,38.6177864074707,0.33983737230300903,-24.489831924438477,38.51447677612305,4.427491188049316,-66.21006774902344,-2.396744966506958,-20.848615646362305,-9.894509315490723,-69.4068374633789,5.3546648025512695,-13.431654930114746,12.589476585388184,-55.446258544921875,6.58777379989624,36.0488166809082,-66.44457244873047,44.755306243896484,-22.761137008666992,-23.89756202697754,-15.496719360351562,37.29360580444336,38.42756271362305,35.76206970214844,1.7106956243515015,34.455322265625,-3.2047536373138428,-28.660541534423828,-7.665094375610352,10.917576789855957,-26.843149185180664,36.130043029785156,46.3590087890625,-31.079303741455078,-25.345746994018555,-23.75832176208496,35.72799301147461,33.64323806762695,5.621639728546143,3.5640954971313477,49.293243408203125,39.543495178222656,18.887765884399414,-14.498861312866211,-20.993053436279297,-18.706939697265625,24.024076461791992,-55.98064041137695,34.169185638427734,9.373144149780273,-11.920001983642578,-70.8888168334961,-59.10162353515625,42.86065673828125,-59.3581428527832,-3.5993754863739014,6.4809770584106445,-16.344335556030273,-10.646965980529785,-13.11429214477539,-28.96070671081543,-21.444416046142578,44.62174987792969,-15.805213928222656,32.33123779296875,-70.51428985595703,18.706270217895508,-1.7107508182525635,-58.23237228393555,26.093393325805664,26.9063663482666,48.521018981933594,41.00559616088867,-51.572654724121094,36.7720832824707,9.517199516296387,-6.741023540496826,-5.738818645477295,-3.2430837154388428,12.464457511901855,-53.29230880737305,27.076961517333984,-54.96255111694336,-51.38904571533203,-20.606088638305664,-23.77410316467285,-1.1414622068405151,29.467435836791992,-8.27759075164795,44.102962493896484,-25.27076530456543,-8.98659610748291,-31.86907386779785,47.52057647705078,-19.123300552368164,-21.44131088256836,-33.182655334472656,19.78844451904297,23.83241844177246,-66.70057678222656,-22.00864601135254,31.13185691833496,-63.36207962036133,9.63113784790039,-0.1252315193414688,9.45502758026123,28.50421142578125,5.500022888183594,-6.563591957092285,40.173648834228516,20.745290756225586,-0.3080117404460907,26.82040023803711,-65.37924194335938,30.93882942199707,-28.308378219604492,40.759498596191406,-21.127283096313477,-54.933189392089844,-8.815516471862793,32.96034240722656,42.22870635986328,-13.610224723815918,-58.32481002807617,35.6544075012207,32.45856857299805,-26.545000076293945,-26.21400260925293,-19.12448501586914,-27.534578323364258,21.509798049926758,8.846389770507812,36.04062271118164,-0.5264748334884644,20.205890655517578,23.05367660522461,25.36896324157715,-1.7014751434326172,-14.140608787536621,-2.813594102859497,-58.842735290527344,25.520265579223633,-11.694758415222168,-13.628693580627441,-14.194936752319336,-13.628703117370605,32.187435150146484,-22.941062927246094,15.418797492980957,-16.565622329711914,-15.428451538085938,1.5273898839950562,11.383964538574219,28.122894287109375,-11.697965621948242,-23.88793182373047,-54.12024688720703,33.26582717895508,-19.068613052368164,34.46537780761719,-7.24530029296875,41.44791793823242,35.04505157470703,-27.070417404174805,-16.37193489074707,-69.4501724243164,-57.37413024902344,-33.65017318725586,-12.338310241699219,23.310592651367188,23.39305877685547,30.367958068847656,5.495140552520752,16.707008361816406,47.38563537597656,2.7493491172790527,32.475120544433594,43.75121307373047,12.312578201293945,1.9004846811294556,7.665441036224365,-10.972383499145508,-13.858681678771973,-14.784382820129395,22.677501678466797,25.771013259887695,-61.99153137207031,36.39848327636719,-29.913820266723633,28.169883728027344,30.14518165588379,-23.871742248535156,24.347003936767578,-25.1122989654541,37.748382568359375,30.063678741455078,-66.95420837402344,18.16703987121582,-10.480048179626465,-14.032695770263672,-6.802354335784912,31.90069007873535,19.874143600463867,-20.274614334106445,-12.778326988220215,-16.20901107788086,45.96781539916992,32.60321044921875,-29.896207809448242,-50.8218994140625,-20.274614334106445,34.2017707824707,-68.53362274169922,-14.451314926147461,30.54259490966797,5.325404644012451,23.16613006591797,26.393936157226562,28.157899856567383,-9.307491302490234,33.42784881591797,-29.89557647705078,-12.255599975585938,30.145158767700195,23.262392044067383,27.645763397216797,-61.85649871826172,-57.977989196777344,-54.56349182128906,-52.046913146972656,-13.012539863586426,-56.40434265136719,-17.374858856201172,36.86442565917969,41.52362823486328,-15.983685493469238,-3.5117790699005127,10.294462203979492,11.775315284729004,-9.657424926757812,-12.76593017578125,35.482784271240234,9.583505630493164,-61.631935119628906,-9.470157623291016,-12.446900367736816,-54.95671081542969,-17.90378189086914,-22.177446365356445,-8.104537010192871,27.83297348022461,38.22235107421875,-24.093639373779297,-50.02618408203125,-58.524696350097656,-0.2826659083366394,-60.788665771484375,-63.81339645385742,-59.72148132324219,-70.75977325439453,50.00927734375,-12.995806694030762,-20.145055770874023,-2.5716280937194824,23.162385940551758,39.97380828857422,47.466861724853516,38.901329040527344,33.426795959472656,37.003353118896484,37.545654296875,47.468482971191406,5.640007972717285,16.605857849121094,-29.728294372558594,-9.315901756286621,18.335100173950195,25.57143211364746,6.779286861419678,26.56646156311035,-14.478006362915039,32.80935287475586,-15.790051460266113,-18.777530670166016,-1.6921545267105103,29.183866500854492,-12.76791763305664,23.958765029907227,-17.970916748046875,-0.8663933873176575,-9.26574420928955,-29.197996139526367,-35.719844818115234,-35.054443359375,39.63041687011719,47.471900939941406,-35.21957778930664,46.30437469482422,35.33970260620117,14.717769622802734,29.764564514160156,22.921276092529297,-0.4792952239513397,34.2130126953125,-25.39427947998047,13.821375846862793,36.27483367919922,-2.714702844619751,36.01536178588867,-62.54094696044922,-20.623117446899414,40.95127868652344,43.629329681396484,44.73427963256836,-65.75428009033203,45.10332489013672,-61.0168342590332,-65.7472915649414,-25.827089309692383,22.59623908996582,-29.615453720092773,-8.841890335083008,-2.1073622703552246,36.884422302246094,-16.949050903320312,36.1542854309082,-4.474401473999023,43.867679595947266,-30.043991088867188,32.11310577392578,-2.6105055809020996,38.40523147583008,36.90654373168945,-6.227607250213623,27.876506805419922,-16.46216583251953,48.546600341796875,35.349979400634766,17.403257369995117,50.125179290771484,28.534912109375,18.912288665771484,1.5860569477081299,-12.55846118927002,-8.796289443969727,24.865625381469727,-59.002986907958984,-67.38219451904297,48.28998947143555,-65.10071563720703,-15.402909278869629,-17.38412857055664,-19.593477249145508,21.57758140563965,-25.95758819580078,27.118179321289062,2.785872220993042,-18.390409469604492,-15.991063117980957,38.03948211669922,25.285032272338867,-14.134452819824219,-25.89249038696289,-72.85855865478516,11.301857948303223,-10.139917373657227,36.05571365356445,-29.245981216430664,-25.410888671875,-8.166156768798828,15.862998008728027,33.39201354980469,-3.826143741607666,32.210697174072266,-70.67312622070312,-47.66077423095703,12.944437026977539,13.453012466430664,-30.488109588623047,14.887094497680664,36.1265983581543,25.78853988647461,-27.423885345458984,7.998791217803955,-10.860461235046387,-20.717052459716797,-4.842300891876221,-18.431949615478516,-11.050354957580566,-24.12009620666504,-9.964322090148926,42.50510787963867,27.128705978393555,35.98371124267578,-3.789369583129883,50.524383544921875,12.750325202941895,-72.66632843017578,47.19953918457031,-2.774690628051758,6.7480597496032715,1.6592819690704346,-0.4572603702545166,19.337261199951172,-55.53453826904297,-19.673030853271484,37.23907470703125,30.947668075561523,1.120179533958435,-10.224764823913574,-8.805497169494629,-7.539823055267334,30.7303524017334,28.882080078125,27.910486221313477,-61.721492767333984,50.009010314941406,36.646053314208984,-32.7188606262207,-15.121367454528809,24.781749725341797,-62.08081817626953,27.02745246887207,-16.50908660888672,-55.99623107910156,-8.784062385559082,38.415035247802734,35.40765380859375,-17.435640335083008,-58.23859786987305,33.91340637207031,-31.90819549560547,37.45254135131836,40.216453552246094,45.83036804199219,45.83252716064453,-5.29798698425293,-8.921515464782715,-13.268190383911133,31.795211791992188,-55.28264617919922,-12.185540199279785,19.254655838012695,-68.89703369140625,15.21291446685791,-56.758567810058594,-15.874907493591309,-32.718692779541016,-32.71961212158203,18.167041778564453,-14.729425430297852,30.727741241455078,-21.257137298583984,36.25853729248047,-60.76516342163086,23.58544921875,38.439300537109375,-25.20612907409668,36.78961181640625,35.312294006347656,36.543006896972656,40.47309875488281,13.323892593383789,40.2353515625,36.2263298034668,-30.561899185180664,37.164615631103516,40.60126876831055,36.506011962890625,40.96000289916992,38.093170166015625,8.362082481384277,-27.416284561157227,41.923221588134766,7.072683334350586,-57.04486846923828,38.98219680786133,29.09244155883789,37.06545639038086,-0.9899892210960388,26.85237693786621,32.538455963134766,13.856132507324219,46.77023696899414,10.541205406188965,43.73704528808594,-9.757299423217773,37.9484748840332,-9.49866008758545,-17.108823776245117,19.15567398071289,37.86856460571289,-8.067018508911133,44.85682678222656,-18.40438461303711,-24.15178871154785,9.887046813964844,-25.70545768737793,-10.027665138244629,27.746997833251953,28.376914978027344,27.242067337036133,-24.390417098999023,10.495905876159668,35.7730598449707,-28.761302947998047,36.596351623535156,-57.17597579956055,-17.63822364807129,-56.16950607299805,-9.290306091308594,-65.10075378417969,47.20488739013672,-5.668455123901367,11.196579933166504,11.766178131103516,-52.86454391479492,-3.7386953830718994,50.09565353393555,-59.056060791015625,-49.31812286376953,37.68186569213867,-48.61089324951172,-52.124752044677734,-1.4232895374298096,-53.50844192504883,-53.658241271972656,38.93058395385742,5.074208736419678,46.23728561401367,-24.975257873535156,44.433258056640625,25.626026153564453,-21.682199478149414,-61.02275085449219,-16.063968658447266,44.3432502746582,-6.129604816436768,-14.446216583251953,-66.60736846923828,-56.65101623535156,-15.303215980529785,-18.204065322875977,-33.53729248046875,32.74763107299805,44.06691360473633,-21.49492073059082,-26.558515548706055,-27.769489288330078,-11.60196304321289,32.68741989135742,-27.91732406616211],\"xaxis\":\"x\",\"y\":[54.795249938964844,41.69188690185547,-17.16655921936035,45.016910552978516,-10.186371803283691,1.365790843963623,-24.024944305419922,-47.10125732421875,34.99964141845703,32.825801849365234,16.276506423950195,-26.571624755859375,-16.987224578857422,61.29839324951172,41.308292388916016,-7.284549236297607,-40.37464904785156,-2.224163770675659,24.391016006469727,8.6353120803833,-9.791443824768066,-12.671640396118164,-44.40155792236328,34.809059143066406,25.967653274536133,-45.77375793457031,-37.150177001953125,51.39398956298828,13.771773338317871,-46.372859954833984,-41.26946258544922,16.652278900146484,-37.1676025390625,-27.286975860595703,-25.129770278930664,21.73967742919922,-42.76523971557617,14.904938697814941,-19.328353881835938,-28.479503631591797,-10.111002922058105,-39.004432678222656,-51.839412689208984,19.8553524017334,1.1494357585906982,-22.465665817260742,16.81769561767578,-34.824317932128906,-29.281381607055664,-13.404081344604492,-38.73698043823242,-7.589272975921631,-10.201827049255371,-20.75016212463379,-8.490859985351562,-47.08934783935547,-14.952963829040527,4.578596115112305,-33.8382682800293,-26.494915008544922,2.3576719760894775,-26.944299697875977,25.45906639099121,43.90717315673828,3.5335023403167725,-1.1505718231201172,16.411094665527344,8.668766021728516,-27.792917251586914,49.02945327758789,23.65093421936035,7.428220748901367,59.485076904296875,57.88903045654297,60.10248565673828,58.279510498046875,51.95741271972656,32.8858642578125,16.046960830688477,47.51221466064453,35.94062423706055,52.1695442199707,1.9242039918899536,43.28044891357422,51.757320404052734,3.110689640045166,32.61102294921875,-2.710362434387207,51.191349029541016,37.841156005859375,-17.010053634643555,-16.312786102294922,-4.647227764129639,-6.44280481338501,-4.214984893798828,-8.516500473022461,6.807062149047852,-8.20380973815918,50.59403991699219,-33.79645538330078,40.55623245239258,43.59459686279297,33.477237701416016,31.713977813720703,-19.380598068237305,28.075387954711914,45.499080657958984,31.944032669067383,-48.62228012084961,-5.456031322479248,-39.54804229736328,-8.259295463562012,-46.59011459350586,-48.56837844848633,-52.030723571777344,-25.210914611816406,-34.39508819580078,2.165391445159912,-42.07162857055664,16.797929763793945,-3.2730979919433594,56.90789031982422,-7.2638373374938965,-35.15519714355469,-8.499397277832031,53.919044494628906,-24.347333908081055,-27.009471893310547,-36.49711608886719,51.66744613647461,-32.52638244628906,-42.11701965332031,-42.23286819458008,-32.53926467895508,-14.723065376281738,-54.687156677246094,59.980613708496094,3.5335023403167725,-36.28208541870117,16.443817138671875,24.7657527923584,16.443817138671875,-18.221721649169922,-12.40032958984375,26.50662612915039,-26.387760162353516,-31.03923797607422,-26.321025848388672,-4.229935169219971,-22.52515411376953,56.19154739379883,-53.1982307434082,53.09225082397461,55.15721893310547,40.75106430053711,-28.5640926361084,20.162996292114258,21.258962631225586,-26.38955307006836,-29.5360107421875,-20.44091796875,-24.80584716796875,-7.895334720611572,-15.59842586517334,-22.57196044921875,13.382831573486328,0.2882815897464752,-29.324811935424805,-30.212717056274414,-8.384828567504883,-22.95623207092285,-2.831758975982666,27.49156379699707,-33.09795379638672,-33.64069366455078,16.158754348754883,-24.78083038330078,-40.55754852294922,-14.693882942199707,55.39598846435547,60.894775390625,58.27995300292969,29.723371505737305,51.48808288574219,19.653627395629883,29.265296936035156,5.691646575927734,57.66959762573242,47.08995819091797,2.9687743186950684,-38.166961669921875,35.57948684692383,13.07931900024414,-37.12236022949219,-50.22045135498047,-49.274715423583984,62.25003433227539,42.7999382019043,54.04338073730469,-20.950496673583984,44.543922424316406,17.884756088256836,38.863548278808594,-20.48342514038086,39.55194091796875,-9.523290634155273,-6.167150020599365,49.926124572753906,48.07402801513672,46.9854850769043,54.060279846191406,-44.05088424682617,-1.5484275817871094,-51.637733459472656,-51.8090934753418,-35.98869705200195,48.609771728515625,45.88953399658203,41.139488220214844,52.06543731689453,41.92067337036133,58.271183013916016,-45.65397262573242,38.159698486328125,-8.148655891418457,41.020755767822266,47.841800689697266,49.988067626953125,42.736568450927734,48.90946578979492,-10.070384979248047,52.69792175292969,48.05685043334961,34.10996627807617,-22.30595588684082,-5.678097724914551,-12.489967346191406,-38.819427490234375,17.405155181884766,-20.32349967956543,-42.52471923828125,-42.53705596923828,-47.411861419677734,11.210878372192383,-2.219322443008423,-41.5072021484375,20.2186336517334,-12.948253631591797,-26.852577209472656,-4.344961643218994,-34.17341613769531,-34.17429733276367,44.156341552734375,-24.362573623657227,-25.150827407836914,-21.948617935180664,19.250886917114258,19.250761032104492,62.697052001953125,41.07883834838867,14.235638618469238,14.628785133361816,-9.271696090698242,-12.620468139648438,11.616120338439941,42.76213073730469,-5.95196533203125,20.80703353881836,31.58611488342285,35.66032791137695,6.8839006423950195,-34.28881072998047,50.8588752746582,-48.9969596862793,-50.7481575012207,0.026786046102643013,37.82710647583008,45.622886657714844,-35.06475830078125,46.37055206298828,44.102134704589844,-13.099713325500488,15.010568618774414,62.389747619628906,17.37276840209961,18.120681762695312,-47.17786407470703,6.182983875274658,18.154996871948242,18.80899429321289,-0.2531645894050598,8.717963218688965,-1.8160109519958496,8.434678077697754,18.808998107910156,3.0470643043518066,14.927634239196777,-15.98716926574707,42.8465461730957,-42.89032745361328,32.34926986694336,16.54559326171875,-9.497035026550293,-35.616573333740234,-16.570667266845703,-13.2410888671875,38.071868896484375,-30.537288665771484,21.77358055114746,44.544490814208984,8.548568725585938,7.827920436859131,-13.064687728881836,32.5760498046875,-0.9871823787689209,2.999711036682129,-33.0494270324707,-21.910228729248047,-5.614048004150391,-5.627227306365967,-21.533145904541016,-37.5306396484375,-8.820691108703613,46.0722770690918,7.890542984008789,-29.595338821411133,-20.35343360900879,58.18021774291992,62.38959884643555,35.287635803222656,5.605755805969238,63.31729507446289,59.65640640258789,-41.234283447265625,47.881622314453125,58.624027252197266,40.086856842041016,-18.41423225402832,11.360947608947754,-33.52280807495117,-42.265193939208984,3.036776542663574,11.360881805419922,-0.5592086911201477,35.610618591308594,-14.632203102111816,-38.686676025390625,-32.89598083496094,12.908236503601074,28.990564346313477,11.360955238342285,9.648115158081055,-18.00210189819336,-18.13276481628418,46.772850036621094,-29.548675537109375,-15.570486068725586,-27.140975952148438,29.456859588623047,10.26784610748291,-38.12716293334961,-28.91756248474121,-2.8455941677093506,-37.38682174682617,-46.212398529052734,52.35830307006836,58.39799880981445,-49.813236236572266,55.52429962158203,51.285091400146484,-0.16169343888759613,-17.901655197143555,-8.497344970703125,9.58426570892334,-18.892635345458984,-17.875,-40.104591369628906,-0.4006209969520569,52.6162223815918,56.646766662597656,6.268505096435547,-14.691811561584473,-1.8480136394500732,-27.153329849243164,48.766727447509766,4.261111736297607,-13.955296516418457,-43.86433792114258,-47.65483856201172,-45.16243362426758,-30.438386917114258,-18.61613655090332,1.430977702140808,-37.880531311035156,-11.17866039276123,-7.277538776397705,-33.22078323364258,-42.11273193359375,7.8922953605651855,25.10079002380371,-2.5339701175689697,40.43199920654297,31.797639846801758,-0.5799612998962402,-8.401681900024414,2.9972054958343506,32.885719299316406,-47.11161804199219,18.176944732666016,-45.24240493774414,42.02522277832031,37.25151443481445,-23.63504409790039,55.32334518432617,28.90632438659668,-43.47551727294922,1.2509154081344604,-26.032184600830078,-20.732643127441406,-46.05963134765625,41.16328811645508,52.72822952270508,46.55488967895508,59.851478576660156,-14.705267906188965,-27.197139739990234,-12.321683883666992,-10.901814460754395,-19.402620315551758,24.740718841552734,44.856170654296875,-0.9493651390075684,10.399394989013672,-41.25901794433594,-9.773465156555176,-29.28132438659668,-19.645870208740234,-8.313395500183105,20.66556739807129,-35.893123626708984,-11.723577499389648,-6.977451801300049,25.908512115478516,-28.977333068847656,-7.621816158294678,-8.044580459594727,43.993709564208984,-7.7445173263549805,-4.305136680603027,-1.6630147695541382,27.72271156311035,-11.968689918518066,42.8144416809082,-12.426665306091309,-3.9318323135375977,-26.464405059814453,-16.688058853149414,8.621576309204102,-0.8964853286743164,-7.6319804191589355,-10.540775299072266,39.227046966552734,52.271392822265625,7.83704948425293,-7.385445594787598,-31.81096649169922,-35.58354949951172,43.89206314086914,40.37107467651367,43.91756057739258,-53.58845520019531,54.34431838989258,59.97398376464844,61.366397857666016,6.629167556762695,-18.848031997680664,44.76755142211914,-12.498083114624023,44.80240249633789,17.38670539855957,-45.13469314575195,-31.644418716430664,40.343021392822266,48.86260986328125,-0.4381115436553955,53.02561569213867,41.421390533447266,-6.139725208282471,56.66879653930664,-4.291826248168945,-6.7250871658325195,-18.7789306640625,-36.704410552978516,-4.526974678039551,-11.98939323425293,29.167818069458008,-12.966203689575195,39.803489685058594,20.756105422973633,-40.42226791381836,-11.620257377624512,-6.938364505767822,32.521602630615234,-40.40652084350586,16.758249282836914,23.18960952758789,-20.56125831604004,-11.387602806091309,0.003183657769113779,-42.510433197021484,-42.52391052246094,-7.336827278137207,-46.483768463134766,26.03730010986328,-34.31334686279297,-9.832415580749512,-32.552921295166016,-32.74864959716797,-4.6329169273376465,-36.48151779174805,26.51996421813965,25.962984085083008,-36.58295440673828,-8.093888282775879,59.4647216796875,44.3585090637207,-5.141860008239746,-51.243560791015625,-26.14672088623047,-9.775346755981445,6.315359592437744,-13.886835098266602,-19.44741439819336,45.02450180053711,61.71274185180664,60.176979064941406,21.227703094482422,-3.395728588104248,23.136188507080078,-4.253145217895508,-9.530172348022461,51.13412094116211,-17.136001586914062,-4.485023498535156,45.025291442871094,46.41997146606445,41.80859375,-32.173240661621094,52.447139739990234,43.13718795776367,-7.725249290466309,54.8611946105957,-2.029571294784546,5.741129398345947,21.457744598388672,-7.390869617462158,-24.89299201965332,-40.54083251953125,-26.207035064697266,-0.018907755613327026,-3.8078207969665527,-25.682764053344727,-24.606550216674805,2.3872084617614746,-19.89052391052246,44.346092224121094,-7.302585124969482,-42.88230514526367,-5.2449798583984375,43.97211837768555,-21.335472106933594,-40.928871154785156,-48.360107421875,-44.41514205932617,-15.975144386291504,-18.355575561523438,27.59095573425293,-34.127899169921875,42.010555267333984,-10.172871589660645,-32.49197769165039,24.545406341552734,44.3285026550293,-25.300987243652344,-8.61573600769043,32.2525520324707,-14.52208423614502,54.495182037353516,42.779090881347656,6.330066204071045,53.748634338378906,29.137710571289062,24.589839935302734,-39.214115142822266,-42.009979248046875,33.929874420166016,11.153470039367676,-9.532754898071289,-22.55722427368164,30.771404266357422,-11.265036582946777,52.645137786865234,-12.883152961730957,-13.188016891479492,3.3051342964172363,2.9736454486846924,55.097625732421875,-8.278468132019043,-47.70344543457031,-5.888643741607666,44.40422439575195,37.22783660888672,-47.008758544921875,32.27227020263672,3.2758049964904785,2.1561665534973145,-42.8995246887207,-35.523075103759766,33.97746658325195,-0.2016659528017044,-10.859126091003418,-41.404693603515625,57.63426971435547,-29.309097290039062,-5.85304069519043,-39.12902069091797,35.60346221923828,-40.327232360839844,-48.2501220703125,58.60374450683594,-3.443413257598877,54.51149368286133,57.110233306884766,59.1403923034668,52.106224060058594,59.21642303466797,45.5506706237793,60.2814826965332,53.251312255859375,61.692325592041016,61.275516510009766,57.090633392333984,2.6302170753479004,55.643306732177734,55.342071533203125,56.6064338684082,51.94548034667969,58.03250503540039,62.29041290283203,48.328670501708984,-1.8553277254104614,55.092498779296875,55.11190414428711,47.08021545410156,2.4287116527557373,40.67290115356445,-0.7959203720092773,11.194536209106445,-48.865299224853516,-34.09330749511719,13.644036293029785,-43.47361373901367,-35.58258819580078,-44.88984298706055,-32.107566833496094,-0.5570967197418213,-39.35767364501953,-26.523855209350586,-35.382545471191406,-16.31971549987793,31.94291877746582,3.603332042694092,49.772216796875,24.22662925720215,43.96360778808594,0.33842796087265015,-13.44636344909668,-47.012229919433594,59.48529052734375,58.33652877807617,48.38395309448242,-26.971158981323242,-11.240626335144043,-29.13161849975586,46.92644500732422,44.528419494628906,-0.6947048306465149,50.728885650634766,44.3071174621582,33.22132110595703,-11.862848281860352,20.462125778198242,-50.35261154174805,-43.995296478271484,20.319765090942383,8.07772159576416,-14.50796890258789,3.0733752250671387,-28.520267486572266,33.31727600097656,38.33427429199219,-27.693912506103516,33.7663459777832,-27.08690643310547,-31.596927642822266,-27.14712905883789,-40.16404724121094,31.675920486450195,-13.892017364501953,-37.612022399902344,0.8232555389404297,50.45811080932617,-29.782196044921875,-29.782182693481445,-2.1290485858917236,-43.43070983886719,-2.2846786975860596,-36.990970611572266,-48.320560455322266,11.775274276733398,43.90101623535156,-48.398345947265625,-48.05020523071289,-51.20396423339844,-47.21097183227539,-40.962738037109375,27.366886138916016,23.772390365600586,-47.66162109375,-46.68876266479492,-12.420001029968262,-34.56255340576172,35.30743408203125,-46.48149108886719,18.243501663208008,-49.4161262512207,-46.44422912597656,-0.00687779113650322,-15.298437118530273,36.03873825073242,58.73095703125,58.556636810302734,48.01662063598633,-1.4751750230789185,49.63347244262695,15.072199821472168,-23.572418212890625,-27.84415626525879,-35.1900749206543,-3.6424429416656494,-44.03971481323242,-22.557281494140625,0.6885694265365601,57.262054443359375,7.638636112213135,43.9419059753418,16.077503204345703,49.14605712890625,5.636114597320557,16.85352897644043,-8.385587692260742,-4.925756931304932,-31.570228576660156,-15.222406387329102,-4.925692558288574,35.80502700805664,-11.56074333190918,38.291011810302734,-34.33625030517578,-2.880549669265747,-20.12952995300293,24.62746810913086,12.393086433410645,50.54789733886719,-2.1076242923736572,7.400843143463135,0.26665472984313965,-40.07175064086914,-17.286958694458008,-11.839031219482422,-4.682193756103516,-2.9516470432281494,28.680160522460938,8.748846054077148,8.580588340759277,-4.42445707321167,-29.0748233795166,2.3805930614471436,-1.2098956108093262,7.364449977874756,20.116832733154297,1.595491886138916,33.516578674316406,14.90368366241455,0.7125045657157898,-9.392912864685059,-32.39602279663086,-0.7053412199020386,-40.48861312866211,-43.73847579956055,53.1444091796875,21.089441299438477,-24.086774826049805,-12.23170280456543,11.752976417541504,-30.043058395385742,-39.14314651489258,4.541130542755127,-43.213783264160156,-0.8000702261924744,-48.89275360107422,17.522031784057617,-0.6857720613479614,-29.3983211517334,-41.13639450073242,43.41878890991211,42.82157516479492,17.421737670898438,-14.206283569335938,28.419754028320312,-11.223217964172363,-0.3416067361831665,35.155517578125,-8.364764213562012,-25.165536880493164,-47.70509719848633,39.86228561401367,-12.734251022338867,4.207028388977051,-0.6709558367729187,-19.985692977905273,-8.43282413482666,-40.72892761230469,-51.519386291503906,33.09284210205078,-40.836669921875,35.21429443359375,60.25570297241211,-49.64645004272461,-35.949737548828125,41.45302200317383,-28.53080940246582,34.66956329345703,6.8839006423950195,24.097515106201172,-41.04966354370117,9.653103828430176,40.72350311279297,-39.42695999145508,-24.67327117919922,-25.724245071411133,-26.40964126586914,1.149344801902771,31.011167526245117,-2.3158018589019775,20.011497497558594,-43.28662109375,-12.968825340270996,-46.63435363769531,-25.58578872680664,-4.903620719909668,13.608299255371094,39.870113372802734,33.89872741699219,-3.874377489089966,-42.9461784362793,37.351810455322266,12.952861785888672,47.915225982666016,-43.451416015625,-44.63330078125,-42.09181213378906,19.535337448120117,-9.80465316772461,-41.196250915527344,41.842464447021484,-0.29304972290992737,-12.090293884277344,20.26802635192871,-48.89767837524414,-37.22083282470703,-15.958579063415527,7.193789005279541,0.3325408399105072,-5.772149085998535,53.04997253417969,-5.537903785705566,9.293228149414062,6.805627346038818,2.18266224861145,54.537254333496094,-40.5678825378418,-11.060734748840332,49.91263961791992,45.44502639770508,0.9909447431564331,-12.000886917114258,-40.7164192199707,6.037435054779053,12.162814140319824,43.26569366455078,3.4737555980682373,0.29102981090545654,56.907325744628906,-28.543411254882812,-10.097756385803223,-32.622779846191406,3.5335023403167725,-51.58891677856445,-1.0491764545440674,19.706401824951172,-1.6942585706710815,62.04004669189453,-3.9356017112731934,-11.348053932189941,-20.324167251586914,30.660585403442383,-45.58189010620117,-19.17766761779785,0.787971556186676,14.894913673400879,11.340164184570312,24.708362579345703,26.24745750427246,17.061189651489258,-41.76070785522461,13.170373916625977,-33.909786224365234,41.05656814575195,-4.342167854309082,59.22712707519531,59.274871826171875,52.37486267089844,51.53797149658203,-50.91359329223633,58.26820755004883,-25.75738525390625,-1.0362759828567505,-47.46175765991211,-36.758365631103516,-20.937891006469727,46.74795150756836,-5.613205432891846,-3.0209360122680664,-6.132474899291992,50.02915954589844,-1.5682544708251953,-39.69743728637695,4.295118808746338,-21.827091217041016,21.88313865661621,49.741336822509766,17.19413185119629,-23.019067764282227,4.973985195159912,-36.527793884277344,-38.220333099365234,4.21298360824585,-12.46036434173584,-38.65825653076172,-41.689815521240234,-6.089719772338867,-4.809055805206299,-2.150930643081665,-47.86185073852539,1.0921720266342163,15.38544750213623,-18.644676208496094,-12.656399726867676,20.98836326599121,-26.450952529907227,-4.6305460929870605,-0.2931898534297943,-7.916121006011963,1.0267925262451172,-38.146095275878906,-4.255621910095215,50.800662994384766,21.002567291259766,50.217857360839844,35.66373825073242,43.52952194213867,19.824251174926758,-1.9835525751113892,31.36393165588379,48.91181182861328,-39.882747650146484,63.48293685913086,-0.6857719421386719,-12.420689582824707,-6.493087291717529,-4.999799728393555,25.469327926635742,6.484645366668701,49.94944381713867,41.82670974731445,5.150360107421875,-20.562599182128906,11.39635181427002,-16.99953269958496,15.176324844360352,-32.59270477294922,-55.50148391723633,25.708351135253906,45.359107971191406,6.992569446563721,55.56132507324219,44.90704345703125,12.15588665008545,-11.769240379333496,40.63328552246094,-24.266721725463867,17.84088706970215,0.0703825056552887,-1.4261043071746826,-7.005481243133545,-7.767545700073242,1.4226020574569702,36.95341110229492,-9.606550216674805,1.4474260807037354,19.30950927734375,14.227432250976562,42.973663330078125,-21.317310333251953,-13.401165962219238,-18.752031326293945,44.236873626708984,25.420949935913086,55.73691940307617,52.675941467285156,-11.37215518951416,29.642993927001953,-20.64784049987793,-21.013851165771484,-11.841933250427246,22.884674072265625,-37.19749069213867,-43.699520111083984,34.715782165527344,51.66143035888672,-48.53538131713867,-10.785409927368164,9.081418991088867,-30.941722869873047,6.291782855987549,36.66608810424805,62.30128860473633,-51.7746467590332,-1.5122729539871216,26.808889389038086,-37.25735855102539,36.6504020690918,35.76383590698242,54.874359130859375,48.010963439941406,-30.4468936920166,-12.518369674682617,2.951472520828247,-20.800752639770508,-14.438333511352539,-11.643228530883789,-28.531509399414062,-12.33364486694336,20.7561092376709,50.86659240722656,35.63168716430664,-56.56695556640625,-47.861454010009766,-48.37466812133789,47.226707458496094,-11.104097366333008,-17.146814346313477,-49.60491943359375,-49.60785675048828,-1.4569369554519653,49.85978317260742,-27.923070907592773,-6.9830732345581055,-39.21723175048828,-9.701231002807617,47.399818420410156,44.746150970458984,-43.01939392089844,48.084720611572266,61.23353576660156,-20.436185836791992,-3.5110552310943604,-7.256433010101318,-41.99457550048828,8.410856246948242,-24.61492347717285,-21.855091094970703,45.2219352722168,-3.5109429359436035,35.958187103271484,53.15335464477539,51.827449798583984,-9.038082122802734,13.996475219726562,8.35567855834961,-47.435447692871094,-34.201168060302734,53.40214157104492,5.191200256347656,47.85463333129883,-39.736026763916016,12.059661865234375,-5.583470344543457,8.708466529846191,18.91217803955078,-7.698150157928467,-42.24736404418945,57.24797821044922,18.593704223632812,11.865427017211914,2.063260793685913,-21.657533645629883,32.59606170654297,-38.19844436645508,11.887314796447754,-34.26296615600586,16.565256118774414,-0.25565728545188904,-18.525970458984375,-21.63693618774414,27.570737838745117,-39.00046920776367,-7.992400646209717,-37.351280212402344,-47.0562629699707,-5.464084148406982,-27.430391311645508,3.079878091812134,-25.930587768554688,-52.74765396118164,48.11212921142578,63.477928161621094,-45.26288604736328,20.652729034423828,-45.92670822143555,-42.343177795410156,-0.584285318851471,3.789083480834961,-7.118372440338135,3.734678268432617,-1.1077851057052612,-30.53904914855957,24.944202423095703,4.8033061027526855,-6.549304962158203,-43.9670295715332,-29.927753448486328,-10.993369102478027,50.293975830078125,58.59579849243164,58.15275955200195,-4.941876411437988,20.2618465423584,16.65601348876953,3.075883626937866,21.2429256439209,-36.168025970458984,44.47138214111328,-2.6393187046051025,21.32370948791504,-9.225959777832031,54.59149932861328,58.825496673583984,-25.406707763671875,-29.831527709960938,-48.878883361816406,17.25433349609375,-34.3499641418457,58.374549865722656,-18.412240982055664,58.37565231323242,55.91511535644531,42.83144760131836,-18.511516571044922,-1.6878496408462524,-17.00790023803711,-41.352352142333984,19.51643943786621,-4.126628398895264,44.32167053222656,11.616120338439941,-37.11497116088867,2.3789515495300293,0.021708786487579346,-34.1163215637207,-26.500730514526367,-11.031278610229492,0.828138530254364,-19.874174118041992,-29.15949249267578,25.305837631225586,9.410188674926758,-29.110715866088867,54.04069137573242,39.4078483581543,-2.513462543487549,-28.592802047729492,-13.49533748626709,39.409912109375,-45.24121856689453,6.665058612823486,-25.7802791595459,3.0531699657440186,21.940587997436523,-36.21727752685547,22.3333797454834,18.278324127197266,15.355901718139648,6.412444591522217,21.301809310913086,-34.20284652709961,-9.134296417236328,8.015464782714844,35.504215240478516,44.504127502441406,34.82107162475586,45.543243408203125,4.808585166931152,46.39676284790039,33.54628372192383,34.77244567871094,55.0733757019043,-30.577180862426758,1.9447249174118042,38.783851623535156,-3.8975555896759033,-39.88085174560547,3.68849515914917,1.3176342248916626,-48.20927810668945,-48.19548034667969,21.135337829589844,18.031639099121094,-18.355859756469727,-18.925695419311523,-2.9259164333343506,31.69057846069336,42.48947525024414,49.20267868041992,34.83021545410156,28.55525016784668,-6.2568864822387695,48.45128631591797,-16.222999572753906,34.91799545288086,46.22330093383789,-28.17960548400879,40.30063247680664,-12.136819839477539,26.65153694152832,21.811681747436523,45.309112548828125,-26.49001693725586,-18.976768493652344,46.01777648925781,-4.680286407470703,-5.790773868560791,43.887203216552734,0.13420838117599487,2.5681962966918945,-44.87398910522461,-7.981648921966553,-47.828269958496094,-7.022073268890381,-3.923750162124634,12.09167766571045,-32.85312271118164,32.956146240234375,42.218345642089844,42.761863708496094,47.56243896484375,48.9041862487793,51.22148513793945,51.865482330322266,41.507877349853516,-46.00482940673828,-35.81228256225586,53.736549377441406,-34.60151290893555,-41.079627990722656,-42.966793060302734,-13.90973949432373,20.10340690612793,43.96788024902344,48.638309478759766,37.215511322021484,-46.0108528137207,-36.22686004638672,-37.47872543334961,-41.6102180480957,8.28984260559082,40.698760986328125,59.527305603027344,55.605308532714844,61.21267318725586,60.65597152709961,59.52703857421875,48.586204528808594,-3.0721728801727295,-16.008623123168945,-12.932228088378906,11.840888023376465,-9.019128799438477,-9.01913070678711,39.30415725708008,42.80326461791992,-27.649147033691406,-8.061657905578613,0.8267230987548828,9.892315864562988,-19.464765548706055,-44.36698913574219,-49.164878845214844,-56.621124267578125,48.78486251831055,29.137712478637695,55.75475311279297,56.61833953857422,57.734947204589844,62.069244384765625,6.089211940765381,-3.5892751216888428,50.60483932495117,50.60498046875,6.089211940765381,-6.901581287384033,-28.890413284301758,-46.880741119384766,62.6840705871582,35.20764923095703,42.90438461303711,-7.325608730316162,-1.1965745687484741,-27.063528060913086,-11.906952857971191,7.802053928375244,-6.847209453582764,-7.313381195068359,-4.635512351989746,33.857295989990234,46.14710235595703,54.37053298950195,43.279823303222656,24.122045516967773,-32.37201690673828,49.206268310546875,-25.34429931640625,43.42861557006836,34.189151763916016,-43.10411071777344,-5.037378311157227,-28.612878799438477,29.237268447875977,9.011249542236328,-9.563495635986328,-23.899917602539062,-7.612512588500977,-9.092142105102539,-21.20572853088379,-34.69414138793945,-3.430285930633545,-25.485363006591797,-41.08913803100586,-26.439931869506836,-2.3077452182769775,-21.178180694580078,-7.117485046386719,-26.522371292114258,-24.961557388305664,-8.002211570739746,-28.25847625732422,6.738720417022705,-27.68633270263672,-26.07244300842285,-20.487194061279297,-6.858381748199463,-7.4037184715271,-23.67281723022461,-35.15612030029297,-22.55733299255371,29.092172622680664,-27.807693481445312,60.3090705871582,-17.180055618286133,7.232059001922607,-32.25484085083008,-15.70190715789795,-16.803089141845703,-2.8437469005584717,7.102445125579834,42.547088623046875,-26.802942276000977,16.60130500793457,16.546293258666992,2.8706812858581543,-19.93515396118164,8.472993850708008,3.3700027465820312,0.540919840335846,2.3199217319488525,1.3298105001449585,1.0949203968048096,-33.07307815551758,54.15287399291992,28.341066360473633,50.29971694946289,-11.119771957397461,8.546311378479004,45.948001861572266,-15.586241722106934,-27.70113754272461,49.966026306152344,23.555633544921875,-22.96930503845215,29.306921005249023,-25.245182037353516,-1.9976511001586914,29.13773536682129,37.55266189575195,2.347926139831543,57.20160675048828,57.69308853149414,54.646728515625,-36.49287414550781,-9.439760208129883,-31.260025024414062,-8.855399131774902,-12.467965126037598,-0.5266596078872681,-10.907292366027832,52.88346862792969,59.415435791015625,42.658321380615234,52.92881393432617,-9.602595329284668,61.57594299316406,57.99346923828125,-3.443403482437134,20.33399772644043,18.68301773071289,18.68301773071289,-30.48050880432129,53.42824172973633,35.0537223815918,36.527889251708984,18.683061599731445,54.010398864746094,-1.8137385845184326,58.530845642089844,57.940101623535156,-8.33372974395752,25.06068229675293,40.71493148803711,-2.127727508544922,58.632835388183594,52.685787200927734,54.172889709472656,43.51088333129883,-0.3486928641796112,52.48686218261719,5.303867816925049,-33.62104415893555,20.19020652770996,-9.070446014404297,51.79171371459961,-19.471263885498047,-11.221284866333008,-23.638105392456055,-5.111885070800781,-7.842487812042236,-4.648341178894043,-38.114837646484375,-16.810707092285156,-3.1151201725006104,25.30242919921875,-7.076223373413086,-2.4852726459503174,-37.641143798828125,-38.06222152709961,11.149812698364258,1.2009872198104858,-20.627473831176758,-9.854463577270508,-36.48541259765625,47.08268356323242,57.228546142578125,60.220237731933594,53.17725372314453,-11.521673202514648,42.09177017211914,-30.862592697143555,-1.1100772619247437,7.661515235900879,-27.964054107666016,0.7031629085540771,-15.146798133850098,16.149320602416992,42.091766357421875,0.7641583681106567,-6.528507709503174,-1.172000527381897,3.535959482192993,-14.542692184448242,-3.9585654735565186,-5.03857946395874,15.678889274597168,-4.469290733337402,-15.486581802368164,-5.161057949066162,-6.368256092071533,-4.192659854888916,-1.7937458753585815,-15.319864273071289,25.302387237548828,9.979474067687988,-0.5698386430740356,32.22218704223633,60.648277282714844,41.225746154785156,-27.264572143554688,-38.917850494384766,44.192256927490234,48.761817932128906,42.17298126220703,-34.65061950683594,45.10576629638672,38.526668548583984,43.853370666503906,29.550168991088867,45.12713623046875,45.786582946777344,44.566375732421875,3.1765167713165283,5.294976234436035,4.570799350738525,46.278221130371094,45.3425407409668,9.0122652053833,48.5840950012207,2.563722848892212,5.665641784667969,44.88191223144531,-1.2839728593826294,43.20286560058594,-37.07296371459961,3.2460055351257324,43.63423156738281,46.47880935668945,33.35329055786133,43.76337814331055,50.31098937988281,40.041908264160156,44.134552001953125,41.465797424316406,-12.031838417053223,57.44756317138672,11.292078018188477,27.72048568725586,22.132980346679688,-46.53215408325195,-41.82761764526367,40.39856719970703,21.981334686279297,38.20810317993164,-7.256433486938477,-32.20307922363281,-33.975276947021484,20.544334411621094,19.870075225830078,-38.575340270996094,36.09102249145508,36.08377456665039,-45.77867889404297,36.161746978759766,-42.02841567993164,31.717506408691406,-19.261308670043945,-13.404143333435059,-11.889727592468262,8.027791023254395,-3.8229129314422607,-29.625940322875977,-15.540873527526855,10.688432693481445,39.58909606933594,10.754247665405273,-30.576303482055664,32.0253791809082,28.610116958618164,-23.590099334716797,-39.88617706298828,-32.38102722167969,-44.83584976196289,53.2098503112793,-30.017887115478516,-27.430368423461914,-2.404902935028076,32.340755462646484,-23.232999801635742,51.02692413330078,53.24844741821289,54.29987335205078,27.137807846069336,47.61740493774414,48.45391845703125,62.475074768066406,22.703927993774414,-35.43265914916992,-26.238082885742188,-32.459197998046875,-39.499488830566406,45.30489730834961,37.75505065917969,-31.490224838256836,-26.090578079223633,-24.05596160888672,47.30033493041992,19.1302433013916,33.49252700805664,29.50701141357422,-2.3322012424468994,58.97550582885742,-35.38649368286133,-37.957611083984375,-32.652870178222656,59.947017669677734,-29.883529663085938,-11.225275039672852,47.385250091552734,-46.34739685058594,-40.21559143066406,-46.295894622802734,-45.61407470703125,4.5701398849487305,-30.432802200317383,-31.040098190307617,-37.363975524902344,37.00072479248047,-31.746747970581055,5.122524261474609,-33.76155471801758,8.603586196899414,-20.126928329467773,0.6329134702682495,-48.757957458496094,-32.464256286621094,55.09757614135742,49.61039352416992,-5.736390113830566,33.76691818237305,3.1408095359802246,-9.349238395690918,-30.703327178955078,46.3955078125,-15.923789978027344,57.406646728515625,-9.736254692077637,-1.396299123764038,-17.150894165039062,-14.890968322753906,-11.681727409362793,1.1232305765151978,-24.822315216064453,-7.064481258392334,-9.45502758026123,-51.775108337402344,-9.569808959960938,37.457603454589844,-4.974485874176025,-8.820158958435059,8.550281524658203,31.558412551879883,-26.591506958007812,-43.559356689453125,7.123686790466309,-23.56121063232422,2.2895278930664062,46.629249572753906,-2.9963247776031494,-40.5003776550293,43.818115234375,-2.937291383743286,47.37084197998047,37.418216705322266,-32.21421432495117,55.6839485168457,-3.588994264602661,-14.367929458618164,-4.818949222564697,-10.260985374450684,-43.88142776489258,-4.541825294494629,20.389774322509766,-2.484527111053467,45.63685989379883,-9.07353687286377,44.200340270996094,-31.165771484375,-11.527366638183594,-2.332465410232544,-15.811080932617188,-5.016500473022461,-48.40342330932617,-13.990793228149414,-3.627002716064453,44.666656494140625,-37.01835632324219,36.00825500488281,45.25497055053711,-30.928468704223633,-11.075823783874512,-54.610992431640625,32.7233772277832,-21.58690643310547,-7.342432975769043,16.20456314086914,38.64644241333008,63.83346176147461,0.4485972821712494,7.799991130828857,53.85774612426758,-3.957261323928833,-22.274585723876953,-18.52058219909668,-22.431520462036133,-39.708518981933594,-3.0996925830841064,-4.6042704582214355,-0.7211149334907532,-5.906954288482666,0.2356816679239273,-8.651738166809082,22.253271102905273,-4.340179443359375,-10.9554443359375,-39.005306243896484,-5.594220161437988,-42.092464447021484,-4.152608394622803,40.8968620300293,19.25356674194336,24.39101219177246,-29.7762451171875,36.985252380371094,-51.03505325317383,-52.17231369018555,-42.10274124145508,3.604123115539551,6.71451473236084,0.8157979249954224,11.360895156860352,-12.829890251159668,-19.50335693359375,-41.897308349609375,63.708946228027344,-33.55619430541992,-19.394624710083008,-29.824508666992188,-5.084984302520752,-32.36720275878906,-15.077960014343262,27.7801456451416,-52.6697883605957,-38.54283905029297,-41.4095573425293,-49.99052810668945,17.293258666992188,-26.64777183532715,1.268606185913086,41.60846710205078,54.216102600097656,28.075305938720703,28.609573364257812,26.55854034423828,-3.287823438644409,40.08783721923828,-29.364635467529297,-6.210872173309326,18.181442260742188,-4.622678279876709,7.521853923797607,-24.533605575561523,-0.022118087857961655,-6.357840538024902,51.55891418457031,-35.589298248291016,-2.2595818042755127,-4.027849197387695,-37.88218688964844,-31.988718032836914,-38.51215362548828,-23.628358840942383,47.2629508972168,0.8937569260597229,25.604000091552734,-19.683202743530273,-34.082149505615234,-36.39777755737305,-24.586149215698242,-43.31436538696289,-26.970077514648438,-19.475879669189453,-25.576778411865234,-27.10331153869629,-31.365543365478516,-36.4655876159668,50.59502029418945,44.53266143798828,-46.239131927490234,57.86332321166992,-4.661479949951172,19.26692771911621,12.602083206176758,-25.801563262939453,26.305150985717773,-1.9616647958755493,-31.441694259643555,43.634464263916016,-5.609965801239014,-7.107576370239258,15.188138961791992,-25.84709930419922,37.608360290527344,-2.9822840690612793,-2.98219633102417,27.21152114868164,-26.20580291748047,47.221778869628906,-19.56659507751465,-7.385371208190918,-2.9259164333343506,-29.480852127075195,52.69618606567383,-9.847790718078613,-12.068363189697266,1.8196115493774414,31.56585121154785,23.02033042907715,-38.67700958251953,33.40824508666992,-37.256351470947266,63.80516052246094,18.043811798095703,-56.6213264465332,-44.63787078857422,-4.194148063659668,-36.536380767822266,-6.380025863647461,59.265830993652344,48.60769271850586,-38.948753356933594,-49.02590560913086,-50.45388412475586,-39.6236572265625,-48.23662567138672,33.76793670654297,-34.158206939697266,-8.850190162658691,-16.494844436645508,40.05857467651367,-50.16474533081055,32.43178939819336,-33.14176940917969,-48.752952575683594,40.049842834472656,35.60383224487305,40.77144241333008,-9.716586112976074,-3.298638343811035,34.423519134521484,5.3074951171875,23.799055099487305,-53.37533950805664,40.69982147216797,6.345091819763184,51.699462890625,29.93473243713379,1.30838942527771,0.8245129585266113,30.516887664794922,-3.0495266914367676,-33.56571960449219,-11.84390926361084,-9.169855117797852,-13.974934577941895,47.56859588623047,-40.49296569824219,48.03963088989258,-33.63310623168945,44.64995574951172,35.86933517456055,12.064956665039062,-29.153472900390625,6.739762306213379,36.211299896240234,-27.921846389770508,12.65894889831543,-26.74609375,44.12914276123047,41.453243255615234,2.8823180198669434,5.796365737915039,6.579358100891113,-46.78364562988281,-3.6462934017181396,-25.483165740966797,-9.558805465698242,-18.9442138671875,29.05270004272461,1.4538120031356812,54.1140022277832,32.72348403930664,-18.490327835083008,29.987850189208984,35.896419525146484,35.89661407470703,-22.594070434570312,-16.683387756347656,15.76863956451416,-35.94598388671875,-12.231563568115234,44.27107238769531,43.680912017822266,-8.164088249206543,15.374929428100586,-0.7709810137748718,-11.945661544799805,-20.42658805847168,-22.091657638549805,52.36362838745117,-37.0166015625,-4.481175899505615,-1.7558279037475586,-4.429154396057129,-35.83540725708008,-43.45806121826172,33.054508209228516,-40.80105972290039,-36.78127670288086,42.55131912231445,-37.1098747253418,-19.139511108398438,-35.5572624206543,3.4633469581604004,-35.26445007324219,-7.555622577667236,-35.2034797668457,-12.420028686523438,1.557059645652771,-32.72455596923828,49.10789108276367,-8.39584732055664,-7.554723262786865,13.903188705444336,-33.304264068603516,-13.825899124145508,24.929222106933594,-20.210594177246094,20.73996353149414,33.5906867980957,-44.0954704284668,-33.86079406738281,2.880722999572754,3.9120230674743652,4.5734477043151855,61.58964538574219,58.24961853027344,34.45291519165039,23.6219425201416,54.48606872558594,-2.0302207469940186,55.23091506958008,51.18390655517578,-11.0291748046875,-50.025203704833984,-48.73414611816406,-5.327961444854736,-35.16399383544922,-3.4881863594055176,-9.780966758728027,-8.58348274230957,-8.821503639221191,-18.53281593322754,0.49784308671951294,-30.033845901489258,4.598394870758057,48.253726959228516,56.86225891113281,46.49284362792969,18.808998107910156,48.74064254760742,21.411027908325195,-24.088706970214844,48.1572380065918,18.97861099243164,24.244409561157227,24.3496036529541,-6.666405200958252,6.254777431488037,25.51878547668457,-9.14537525177002,29.317596435546875,-49.59040451049805,-14.766904830932617,-9.102775573730469,-38.799903869628906,-44.096126556396484,55.1710319519043,-21.665006637573242,7.464398384094238,-12.185476303100586,-15.110569953918457,-7.003548622131348,-35.21598815917969,1.5702176094055176,49.741004943847656,-11.581872940063477,-10.003220558166504,-45.178070068359375,-16.560142517089844,-11.797654151916504,-50.55231475830078,36.16285705566406,-7.439176082611084,7.087301254272461,-9.544370651245117,-36.9443244934082,-26.39061164855957,-43.88123321533203,-4.788938999176025,51.132022857666016,-3.790628433227539,-0.2576315999031067,6.661663055419922,-29.571792602539062,-0.25771364569664,-22.78145980834961,-4.662224769592285,-33.40977096557617,-20.29102897644043,-14.0883207321167,-24.55809211730957,55.13209915161133,-41.65697479248047,-10.650263786315918,-0.20734772086143494,29.150815963745117,15.951249122619629,-32.86520004272461,-14.361661911010742,-39.993675231933594,-37.87047576904297,-41.99431228637695,8.604150772094727,-19.69185447692871,33.26703643798828,41.478904724121094,50.71973419189453,-23.5310115814209,4.158828258514404,-32.56791305541992,-28.00617790222168,55.09559631347656,53.00754165649414,-2.027834892272949,-0.7097442150115967,52.27024459838867,-6.511958599090576,-3.8770575523376465,58.02241516113281,51.98172378540039,1.9086848497390747,45.26688003540039,4.808623313903809,-2.576429605484009,-1.7115086317062378,57.25742721557617,54.336185455322266,28.845224380493164,40.03116226196289,54.80921936035156,-3.287647247314453,-19.67543601989746,-15.583580017089844,26.174455642700195,-33.08937454223633,41.686702728271484,10.708884239196777,-13.949787139892578,-8.811050415039062,43.68830871582031,52.740543365478516,4.6404242515563965,-41.086551666259766,5.69143009185791,-48.49890899658203,19.208158493041992,5.463819980621338,44.554996490478516,19.70513343811035,41.183380126953125,28.07540512084961,-19.122848510742188,-32.31594467163086,-55.42559814453125,48.611812591552734,-12.845096588134766,-37.326377868652344,-33.69259262084961,-25.91506004333496,0.8697419762611389,-33.48299026489258,-40.21607971191406,-13.53172492980957,32.233707427978516,18.70814323425293,-34.45966339111328,-38.75088882446289,37.132022857666016,-17.781843185424805,-35.94382858276367,-29.11244773864746,-44.35359573364258,-39.50873947143555,-50.20206069946289,44.397701263427734,40.9521369934082,32.89305114746094,-29.55099105834961,45.35381317138672,36.06639099121094,-50.11894607543945,-12.729440689086914,-22.612459182739258,-2.5432307720184326,34.85026168823242,-5.2894816398620605,-8.72743034362793,35.82523727416992,-48.891151428222656,-31.092464447021484,-29.918296813964844,-37.600128173828125,-26.47365951538086,-7.145045280456543,0.8449569344520569,-3.0950326919555664,45.49538040161133,26.97713279724121,60.125099182128906,54.5765266418457,48.99276351928711,40.03273010253906,56.19438171386719,32.68709945678711,-8.188840866088867,-17.657604217529297,26.977127075195312,-47.03864288330078,41.964820861816406,18.27208137512207,-39.38715362548828,52.479862213134766,24.522459030151367,-30.449277877807617,-31.628643035888672,-4.391438961029053,-27.11885643005371,-12.301758766174316,21.040727615356445,-7.135537624359131,-32.25124740600586,-2.0745441913604736,25.54498863220215,19.980356216430664,-6.73457145690918,-49.90822982788086,-17.893829345703125,-28.304712295532227,-26.8302001953125,-40.03187561035156,-39.27848815917969,-26.204198837280273,-29.94261360168457,-10.807427406311035,-30.932777404785156,-21.383621215820312,-10.09328842163086,-40.65528869628906,-39.047340393066406,48.824310302734375,6.616959095001221,2.795832633972168,28.21975326538086,-23.7154483795166,-42.78500747680664,8.757843971252441,-8.60662841796875,60.044918060302734,-43.31222915649414,-43.2574348449707,0.20159703493118286,1.3675789833068848,0.9827156662940979,0.42590630054473877,62.64027404785156,0.6231952905654907,-34.653709411621094,-24.67123031616211,2.604297399520874,59.16510009765625,-6.544463634490967,-27.472076416015625,-3.4204792976379395,-21.774791717529297,10.931780815124512,-0.7199633717536926,-29.071929931640625,63.07948303222656,-53.38167953491211,-0.8482077121734619,-29.803857803344727,-15.721521377563477,16.12854766845703,4.239545822143555,-3.065404176712036,13.942745208740234,8.122872352600098,6.78474235534668,-13.40137767791748,-0.2414918690919876,20.034198760986328,-1.932924509048462,6.398579120635986,4.624507427215576,25.422786712646484,-0.6807869672775269,9.356087684631348,10.341564178466797,-2.447420835494995,-36.291053771972656,54.8611946105957,-14.596504211425781,-7.61604642868042,3.030553102493286,1.835973858833313,2.301025390625,-18.872228622436523,-46.88673400878906,-30.594566345214844,7.174168586730957,-26.815994262695312,-27.666484832763672,-2.4326460361480713,-11.02903938293457,-0.9246825575828552,-36.214935302734375,-31.1495418548584,-27.83099937438965,-11.714059829711914,33.93929672241211,22.319982528686523,27.50432777404785,-0.7752967476844788,-0.05766023322939873,-0.6624656915664673,-5.154274940490723,-7.916160583496094,-38.948848724365234,-40.54116439819336,2.4215052127838135,44.945335388183594,39.53285217285156,4.436207294464111,-5.058145046234131,-47.80160903930664,-27.66758155822754,-31.348772048950195,-37.22547912597656,37.552650451660156,-30.184139251708984,-32.32523727416992,52.496978759765625,51.84071731567383,42.2779655456543,7.516971588134766,-10.228419303894043,-43.44512939453125,-42.29806137084961,-45.615936279296875,-31.90046501159668,-27.258804321289062,-45.61637878417969,-39.64190673828125,-38.932735443115234,-6.40900993347168,7.827920436859131,53.118892669677734,-16.24427032470703,-35.77579116821289,-40.77561569213867,9.665848731994629,-9.283148765563965,-2.8309619426727295,2.3156824111938477,25.753883361816406,35.1458854675293,-12.484980583190918,-26.20359992980957,-28.429292678833008,-40.64896011352539,-38.124507904052734,-41.94445037841797,-43.69916534423828,-39.41093063354492,-33.73892593383789,-13.631633758544922,19.805065155029297,-47.15611267089844,-50.2281379699707,-1.8080799579620361,50.431396484375,-41.294837951660156,-15.980119705200195,-31.00370216369629,-19.08163833618164,20.563032150268555,39.44361877441406,-48.70113754272461,37.67409896850586,-0.09160682559013367,19.638742446899414,-22.706308364868164,20.738737106323242,2.6846840381622314,26.70441246032715,-44.87476348876953,-44.815486907958984,-46.11589813232422,-23.703325271606445,-18.925695419311523,8.60710334777832,-35.41497802734375,-30.894058227539062,-29.941295623779297,6.299299716949463,29.115257263183594,5.7512125968933105,-25.06778907775879,-32.10395050048828,-47.63187026977539,34.95867156982422,-51.249874114990234,-20.209766387939453,-42.458412170410156,-41.92456817626953,35.93136215209961,-49.87458801269531,60.73912811279297,6.332236289978027,48.61174392700195,-35.75265121459961,45.675880432128906,6.695690631866455,-28.834482192993164,-40.50334167480469,-39.365447998046875,-2.724609375,2.875472068786621,34.41857147216797,-29.912818908691406,1.8574981689453125,19.723798751831055,-22.606555938720703,32.478721618652344,62.294586181640625,57.85812759399414,-17.92059326171875,-14.323189735412598,34.547874450683594,31.704191207885742,33.96186065673828,-15.973962783813477,-15.972896575927734,54.63126754760742,59.45839309692383,24.883464813232422,-22.35132598876953,-15.11398983001709,33.281307220458984,58.58937454223633,-10.766480445861816,7.737447261810303,-36.289371490478516,61.62234878540039,36.28592300415039,-33.89857482910156,3.5729072093963623,-27.661596298217773,-27.886249542236328,-45.68782043457031,-44.26300811767578,-35.58903503417969,-38.823402404785156,-45.777610778808594,-44.49318313598633,-45.60677719116211,-44.13307189941406,-15.191296577453613,48.63847732543945,-50.99256896972656,27.531660079956055,-12.390460014343262,29.1455020904541,-29.064067840576172,7.993370532989502,-30.61528778076172,-28.082923889160156,43.26951599121094,50.78999328613281,-6.617160320281982,-25.099210739135742,26.420461654663086,-25.871912002563477,-9.621601104736328,42.320594787597656,-22.437089920043945,45.90374755859375,-0.6211826205253601,-40.54116439819336,3.129852533340454,0.8088911771774292,-2.817061424255371,-34.88987731933594,-33.21290969848633,-20.30682945251465,-47.712791442871094,-43.73686981201172,-4.2256269454956055,-35.27735137939453,-27.240711212158203,-41.650856018066406,28.193410873413086,5.5541863441467285,60.076751708984375,-40.60172653198242,27.825828552246094,41.51762771606445,-41.79047775268555,30.796239852905273,29.40513038635254,-34.61085510253906,51.74934768676758,56.569007873535156,46.84712600708008,42.19414138793945,5.170716762542725,-27.063701629638672,-25.52994728088379,30.66208839416504,25.08308982849121,1.478434681892395,-13.540337562561035,8.556414604187012,20.597183227539062,-50.7030143737793,-4.956455707550049,-3.504040241241455,-11.513288497924805,-11.957274436950684,53.61980438232422,59.713905334472656,-46.38228225708008,-35.24012756347656,-36.481632232666016,12.760847091674805,14.868759155273438,-2.0376698970794678,-47.35411071777344,-8.709695816040039,-11.395630836486816,38.99871826171875,-0.8560640811920166,2.017932415008545,-18.212709426879883,-11.501593589782715,-7.118895053863525,-0.12208190560340881,-2.767868757247925,0.5487402081489563,20.553619384765625,6.042140960693359,-48.2284049987793,16.128751754760742,-20.37078857421875,0.024162963032722473,7.085071086883545,-3.323349714279175,5.740995407104492,30.040138244628906,-40.387271881103516,-39.61275100708008,-17.716930389404297,-28.012155532836914,34.75556564331055,-39.700077056884766,-22.000598907470703,-41.4683952331543,38.00452423095703,-47.19343948364258,-36.69911575317383,29.1376953125,-28.3734188079834,-29.21764373779297,-13.655832290649414,9.300833702087402,43.309810638427734,-15.912506103515625,20.076257705688477,56.88898468017578,19.90522003173828,-22.6593017578125,42.99165725708008,-27.92426872253418,49.704891204833984,-37.77934646606445,-31.24008560180664,-38.1139030456543,-14.90597152709961,-34.38178253173828,16.90258026123047,-10.578807830810547,20.279813766479492,-4.919740676879883,22.50168228149414,-21.0870418548584,7.96889066696167,-47.12417221069336,-13.35689926147461,-43.31023025512695,-2.9241714477539062,-36.65932083129883,-41.91964340209961,-42.83677291870117,22.447696685791016,-21.948612213134766,19.84454917907715,45.42576599121094,48.758506774902344,8.570706367492676,36.662193298339844,52.186885833740234,52.54317855834961,18.223876953125,-34.39463424682617,-6.23493766784668,-28.857765197753906,21.59075164794922,27.371963500976562,-33.82889175415039,27.371938705444336,-30.844114303588867,-26.850215911865234,49.17064666748047,-30.600250244140625,-30.609437942504883,-0.05304395407438278,-11.059073448181152,8.582298278808594,7.232059001922607,10.288813591003418,5.336291790008545,53.12773132324219,27.791584014892578,46.530086517333984,-29.460205078125,-2.4913382530212402,46.16225814819336,31.2844295501709,-28.885574340820312,-2.7184622287750244,-7.980432510375977,27.907535552978516,-27.163145065307617,0.5567700266838074,0.649707019329071,-6.642772197723389,47.028255462646484,-32.01513671875,-0.13132190704345703,52.33065414428711,44.46736145019531,40.90736389160156,47.25870895385742,55.33908462524414,58.01017761230469,-41.375404357910156,29.331707000732422,33.97911071777344,-28.554834365844727,33.857215881347656,-15.650710105895996,1.9241281747817993,-35.01229476928711,-11.353157043457031,-11.392210960388184,-47.26179504394531,-30.68701171875,-40.7396240234375,-3.598956346511841,-18.75208854675293,-1.810013771057129,5.495441436767578,51.95353317260742,-28.358596801757812,-46.27933120727539,-2.9392035007476807,-1.9836437702178955,31.83988380432129,-25.497678756713867,22.470111846923828,-2.707449436187744,0.15931455790996552,-26.61554718017578,-6.479884147644043,31.839881896972656,-21.619586944580078,-2.770428419113159,-23.646820068359375,-17.38058853149414,48.027217864990234,36.844627380371094,-3.7088112831115723,8.068196296691895,20.691219329833984,-30.803232192993164,-26.61566925048828,19.61222267150879,-11.392026901245117,6.900418758392334,-24.280805587768555,-5.665826320648193,-6.351811408996582,7.38530969619751,-0.7007158994674683,-22.922147750854492,-6.458784580230713,12.167679786682129,44.137939453125,40.567203521728516,14.59034538269043,15.76397705078125,60.92811584472656,44.22836685180664,20.98727798461914,-21.603050231933594,5.728905200958252,50.606990814208984,0.13767676055431366,22.205352783203125,17.8546085357666,6.523880958557129,-37.83975601196289,-35.79933547973633,-13.430779457092285,42.84901809692383,40.219398498535156,-48.89125061035156,-15.862853050231934,-13.302408218383789,46.115882873535156,3.431067943572998,-10.71812915802002,-7.548141002655029,-5.590607643127441,36.38359069824219,-27.363529205322266,-20.12683868408203,-34.95395278930664,-36.0975341796875,40.957427978515625,42.79219055175781,37.553104400634766,-11.597034454345703,39.46549606323242,40.263587951660156,2.986609697341919,-1.5599576234817505,1.3027489185333252,-33.107784271240234,18.329242706298828,3.9663145542144775,9.005332946777344,-1.3025598526000977,-27.795429229736328,-52.67262649536133,-31.485143661499023,-48.63214111328125,-32.124942779541016,-32.082706451416016,12.53207778930664,-48.484718322753906,-29.00775146484375,-26.613637924194336,-37.468318939208984,-32.86907958984375,-37.29132080078125,-39.74127960205078,-39.30242919921875,46.20785903930664,34.90456008911133,-39.42485809326172,-19.935705184936523,47.250038146972656,52.46672058105469,-2.207369565963745,-1.7930207252502441,-42.23963928222656,49.669921875,27.010746002197266,2.5061628818511963,38.18570327758789,52.769691467285156,52.43535614013672,-5.533543109893799,19.941381454467773,37.59867477416992,44.77482223510742,32.82686233520508,-20.523595809936523,40.38063049316406,-13.64197826385498,-21.42346954345703,-49.83079528808594,-36.711570739746094,-39.76089096069336,10.422411918640137,5.122928619384766,-6.333341598510742,-45.72267150878906,-41.95103454589844,-33.651180267333984,-16.015268325805664,-27.516145706176758,-39.37841033935547,-36.90768814086914,-41.941444396972656,-37.281429290771484,-34.63207244873047,-39.0913200378418,21.34629249572754,1.1829769611358643,4.593007564544678,-36.00651931762695,38.95090103149414,34.80009460449219,-20.945335388183594,-38.50933074951172,-46.631629943847656,-21.330718994140625,-29.67813491821289,-10.855856895446777,-19.895708084106445,41.507686614990234,6.345187664031982,-43.76518249511719,10.016812324523926,-51.38427734375,-39.128562927246094,30.26944923400879,33.211360931396484,60.55820083618164,21.231903076171875,5.307531356811523,47.68904113769531,49.41996383666992,43.56388854980469,33.670066833496094,-11.785297393798828,-10.635238647460938,11.15556526184082,-47.25090789794922,-35.126487731933594,27.086347579956055,48.6785888671875,-27.430397033691406,45.851234436035156,-32.9985466003418,-28.581308364868164,-5.988040924072266,-2.046488046646118,-21.142688751220703,-21.941240310668945,24.392040252685547,-9.067455291748047,-1.4372225999832153,6.845688819885254,12.726301193237305,0.5560054779052734,-26.759185791015625,18.774017333984375,-30.411962509155273,-23.141342163085938,21.518192291259766,8.86192512512207,-25.833017349243164,-3.30806303024292,-13.630538940429688,5.370422840118408,-40.2225456237793,-2.4673237800598145,1.7078149318695068,-4.880904197692871,0.04628344997763634,51.51439666748047,54.74646759033203,59.568199157714844,-1.020181655883789,-35.653839111328125,3.1353232860565186,-49.0397834777832,-41.04116439819336,-21.791839599609375,-33.2527961730957,52.740501403808594,25.391183853149414,11.893117904663086,-30.089143753051758,-38.83964157104492,-9.619200706481934,-4.547956466674805,36.38405227661133,54.47478103637695,22.596872329711914,-50.64078903198242,-35.96338653564453,-7.848862171173096,3.0006296634674072,-22.692012786865234,-7.245293617248535,-24.750286102294922,-41.33366775512695,-29.835599899291992,13.756810188293457,-5.971255779266357,30.186145782470703,-46.65288162231445,34.52205276489258,3.2155938148498535,-6.839936256408691,41.19443130493164,-34.01105880737305,-46.17336654663086,-48.786537170410156,-31.377666473388672,-13.466007232666016,48.66419219970703,-11.845452308654785,-17.103897094726562,58.764827728271484,8.494192123413086,31.042879104614258,22.596946716308594,22.59653663635254,5.49544095993042,34.452911376953125,4.25879430770874,-50.854278564453125,38.90359115600586,-11.202954292297363,53.5526008605957,34.07376480102539,-1.477227807044983,5.083206653594971,53.34212112426758,52.685550689697266,32.90531921386719,48.098838806152344,41.79595947265625,50.50379943847656,28.14019203186035,52.82914352416992,36.82669448852539,51.91908645629883,41.169734954833984,34.330265045166016,58.54705047607422,34.54975128173828,49.21568298339844,57.131771087646484,-7.205683708190918,-41.806156158447266,-44.65343475341797,-35.89888381958008,-31.87312126159668,-10.78686809539795,-8.429451942443848,50.29943084716797,-5.505934715270996,52.753517150878906,39.85970687866211,-40.76541519165039,47.65119934082031,25.832910537719727,18.64820098876953,-37.28055953979492,38.571510314941406,45.439735412597656,45.114707946777344,-26.76404571533203,-46.652099609375,19.669301986694336,14.586770057678223,45.60177993774414,-17.54498291015625,-15.37747859954834,-15.974459648132324,37.76581954956055,-14.053071022033691,-46.572303771972656,20.798688888549805,-46.558349609375,-14.167991638183594,24.350051879882812,-4.630621433258057,-41.34107971191406,6.345008373260498,39.134063720703125,59.72233200073242,42.74464416503906,61.83856201171875,-0.47485893964767456,-23.773069381713867,-9.244203567504883,-10.444233894348145,-5.660778999328613,-8.970778465270996,-2.6274757385253906,0.9474111795425415,52.05967330932617,-10.739832878112793,-10.448554039001465,-6.401972770690918,-36.003822326660156,-2.730686664581299,-26.00567626953125,38.21133041381836,-6.668050289154053,-38.46078109741211,-12.20246410369873,40.08174133300781,40.841609954833984,57.59054183959961,48.25299072265625,-6.748989582061768,-1.108373999595642,-44.44689178466797,-30.141883850097656,30.280920028686523,2.180391550064087,-12.941308975219727,11.545987129211426,-35.625614166259766,18.620447158813477,-44.739784240722656,35.986473083496094,-43.647056579589844],\"yaxis\":\"y\",\"type\":\"scattergl\"}],                        {\"template\":{\"data\":{\"bar\":[{\"error_x\":{\"color\":\"#2a3f5f\"},\"error_y\":{\"color\":\"#2a3f5f\"},\"marker\":{\"line\":{\"color\":\"#E5ECF6\",\"width\":0.5},\"pattern\":{\"fillmode\":\"overlay\",\"size\":10,\"solidity\":0.2}},\"type\":\"bar\"}],\"barpolar\":[{\"marker\":{\"line\":{\"color\":\"#E5ECF6\",\"width\":0.5},\"pattern\":{\"fillmode\":\"overlay\",\"size\":10,\"solidity\":0.2}},\"type\":\"barpolar\"}],\"carpet\":[{\"aaxis\":{\"endlinecolor\":\"#2a3f5f\",\"gridcolor\":\"white\",\"linecolor\":\"white\",\"minorgridcolor\":\"white\",\"startlinecolor\":\"#2a3f5f\"},\"baxis\":{\"endlinecolor\":\"#2a3f5f\",\"gridcolor\":\"white\",\"linecolor\":\"white\",\"minorgridcolor\":\"white\",\"startlinecolor\":\"#2a3f5f\"},\"type\":\"carpet\"}],\"choropleth\":[{\"colorbar\":{\"outlinewidth\":0,\"ticks\":\"\"},\"type\":\"choropleth\"}],\"contour\":[{\"colorbar\":{\"outlinewidth\":0,\"ticks\":\"\"},\"colorscale\":[[0.0,\"#0d0887\"],[0.1111111111111111,\"#46039f\"],[0.2222222222222222,\"#7201a8\"],[0.3333333333333333,\"#9c179e\"],[0.4444444444444444,\"#bd3786\"],[0.5555555555555556,\"#d8576b\"],[0.6666666666666666,\"#ed7953\"],[0.7777777777777778,\"#fb9f3a\"],[0.8888888888888888,\"#fdca26\"],[1.0,\"#f0f921\"]],\"type\":\"contour\"}],\"contourcarpet\":[{\"colorbar\":{\"outlinewidth\":0,\"ticks\":\"\"},\"type\":\"contourcarpet\"}],\"heatmap\":[{\"colorbar\":{\"outlinewidth\":0,\"ticks\":\"\"},\"colorscale\":[[0.0,\"#0d0887\"],[0.1111111111111111,\"#46039f\"],[0.2222222222222222,\"#7201a8\"],[0.3333333333333333,\"#9c179e\"],[0.4444444444444444,\"#bd3786\"],[0.5555555555555556,\"#d8576b\"],[0.6666666666666666,\"#ed7953\"],[0.7777777777777778,\"#fb9f3a\"],[0.8888888888888888,\"#fdca26\"],[1.0,\"#f0f921\"]],\"type\":\"heatmap\"}],\"heatmapgl\":[{\"colorbar\":{\"outlinewidth\":0,\"ticks\":\"\"},\"colorscale\":[[0.0,\"#0d0887\"],[0.1111111111111111,\"#46039f\"],[0.2222222222222222,\"#7201a8\"],[0.3333333333333333,\"#9c179e\"],[0.4444444444444444,\"#bd3786\"],[0.5555555555555556,\"#d8576b\"],[0.6666666666666666,\"#ed7953\"],[0.7777777777777778,\"#fb9f3a\"],[0.8888888888888888,\"#fdca26\"],[1.0,\"#f0f921\"]],\"type\":\"heatmapgl\"}],\"histogram\":[{\"marker\":{\"pattern\":{\"fillmode\":\"overlay\",\"size\":10,\"solidity\":0.2}},\"type\":\"histogram\"}],\"histogram2d\":[{\"colorbar\":{\"outlinewidth\":0,\"ticks\":\"\"},\"colorscale\":[[0.0,\"#0d0887\"],[0.1111111111111111,\"#46039f\"],[0.2222222222222222,\"#7201a8\"],[0.3333333333333333,\"#9c179e\"],[0.4444444444444444,\"#bd3786\"],[0.5555555555555556,\"#d8576b\"],[0.6666666666666666,\"#ed7953\"],[0.7777777777777778,\"#fb9f3a\"],[0.8888888888888888,\"#fdca26\"],[1.0,\"#f0f921\"]],\"type\":\"histogram2d\"}],\"histogram2dcontour\":[{\"colorbar\":{\"outlinewidth\":0,\"ticks\":\"\"},\"colorscale\":[[0.0,\"#0d0887\"],[0.1111111111111111,\"#46039f\"],[0.2222222222222222,\"#7201a8\"],[0.3333333333333333,\"#9c179e\"],[0.4444444444444444,\"#bd3786\"],[0.5555555555555556,\"#d8576b\"],[0.6666666666666666,\"#ed7953\"],[0.7777777777777778,\"#fb9f3a\"],[0.8888888888888888,\"#fdca26\"],[1.0,\"#f0f921\"]],\"type\":\"histogram2dcontour\"}],\"mesh3d\":[{\"colorbar\":{\"outlinewidth\":0,\"ticks\":\"\"},\"type\":\"mesh3d\"}],\"parcoords\":[{\"line\":{\"colorbar\":{\"outlinewidth\":0,\"ticks\":\"\"}},\"type\":\"parcoords\"}],\"pie\":[{\"automargin\":true,\"type\":\"pie\"}],\"scatter\":[{\"marker\":{\"colorbar\":{\"outlinewidth\":0,\"ticks\":\"\"}},\"type\":\"scatter\"}],\"scatter3d\":[{\"line\":{\"colorbar\":{\"outlinewidth\":0,\"ticks\":\"\"}},\"marker\":{\"colorbar\":{\"outlinewidth\":0,\"ticks\":\"\"}},\"type\":\"scatter3d\"}],\"scattercarpet\":[{\"marker\":{\"colorbar\":{\"outlinewidth\":0,\"ticks\":\"\"}},\"type\":\"scattercarpet\"}],\"scattergeo\":[{\"marker\":{\"colorbar\":{\"outlinewidth\":0,\"ticks\":\"\"}},\"type\":\"scattergeo\"}],\"scattergl\":[{\"marker\":{\"colorbar\":{\"outlinewidth\":0,\"ticks\":\"\"}},\"type\":\"scattergl\"}],\"scattermapbox\":[{\"marker\":{\"colorbar\":{\"outlinewidth\":0,\"ticks\":\"\"}},\"type\":\"scattermapbox\"}],\"scatterpolar\":[{\"marker\":{\"colorbar\":{\"outlinewidth\":0,\"ticks\":\"\"}},\"type\":\"scatterpolar\"}],\"scatterpolargl\":[{\"marker\":{\"colorbar\":{\"outlinewidth\":0,\"ticks\":\"\"}},\"type\":\"scatterpolargl\"}],\"scatterternary\":[{\"marker\":{\"colorbar\":{\"outlinewidth\":0,\"ticks\":\"\"}},\"type\":\"scatterternary\"}],\"surface\":[{\"colorbar\":{\"outlinewidth\":0,\"ticks\":\"\"},\"colorscale\":[[0.0,\"#0d0887\"],[0.1111111111111111,\"#46039f\"],[0.2222222222222222,\"#7201a8\"],[0.3333333333333333,\"#9c179e\"],[0.4444444444444444,\"#bd3786\"],[0.5555555555555556,\"#d8576b\"],[0.6666666666666666,\"#ed7953\"],[0.7777777777777778,\"#fb9f3a\"],[0.8888888888888888,\"#fdca26\"],[1.0,\"#f0f921\"]],\"type\":\"surface\"}],\"table\":[{\"cells\":{\"fill\":{\"color\":\"#EBF0F8\"},\"line\":{\"color\":\"white\"}},\"header\":{\"fill\":{\"color\":\"#C8D4E3\"},\"line\":{\"color\":\"white\"}},\"type\":\"table\"}]},\"layout\":{\"annotationdefaults\":{\"arrowcolor\":\"#2a3f5f\",\"arrowhead\":0,\"arrowwidth\":1},\"autotypenumbers\":\"strict\",\"coloraxis\":{\"colorbar\":{\"outlinewidth\":0,\"ticks\":\"\"}},\"colorscale\":{\"diverging\":[[0,\"#8e0152\"],[0.1,\"#c51b7d\"],[0.2,\"#de77ae\"],[0.3,\"#f1b6da\"],[0.4,\"#fde0ef\"],[0.5,\"#f7f7f7\"],[0.6,\"#e6f5d0\"],[0.7,\"#b8e186\"],[0.8,\"#7fbc41\"],[0.9,\"#4d9221\"],[1,\"#276419\"]],\"sequential\":[[0.0,\"#0d0887\"],[0.1111111111111111,\"#46039f\"],[0.2222222222222222,\"#7201a8\"],[0.3333333333333333,\"#9c179e\"],[0.4444444444444444,\"#bd3786\"],[0.5555555555555556,\"#d8576b\"],[0.6666666666666666,\"#ed7953\"],[0.7777777777777778,\"#fb9f3a\"],[0.8888888888888888,\"#fdca26\"],[1.0,\"#f0f921\"]],\"sequentialminus\":[[0.0,\"#0d0887\"],[0.1111111111111111,\"#46039f\"],[0.2222222222222222,\"#7201a8\"],[0.3333333333333333,\"#9c179e\"],[0.4444444444444444,\"#bd3786\"],[0.5555555555555556,\"#d8576b\"],[0.6666666666666666,\"#ed7953\"],[0.7777777777777778,\"#fb9f3a\"],[0.8888888888888888,\"#fdca26\"],[1.0,\"#f0f921\"]]},\"colorway\":[\"#636efa\",\"#EF553B\",\"#00cc96\",\"#ab63fa\",\"#FFA15A\",\"#19d3f3\",\"#FF6692\",\"#B6E880\",\"#FF97FF\",\"#FECB52\"],\"font\":{\"color\":\"#2a3f5f\"},\"geo\":{\"bgcolor\":\"white\",\"lakecolor\":\"white\",\"landcolor\":\"#E5ECF6\",\"showlakes\":true,\"showland\":true,\"subunitcolor\":\"white\"},\"hoverlabel\":{\"align\":\"left\"},\"hovermode\":\"closest\",\"mapbox\":{\"style\":\"light\"},\"paper_bgcolor\":\"white\",\"plot_bgcolor\":\"#E5ECF6\",\"polar\":{\"angularaxis\":{\"gridcolor\":\"white\",\"linecolor\":\"white\",\"ticks\":\"\"},\"bgcolor\":\"#E5ECF6\",\"radialaxis\":{\"gridcolor\":\"white\",\"linecolor\":\"white\",\"ticks\":\"\"}},\"scene\":{\"xaxis\":{\"backgroundcolor\":\"#E5ECF6\",\"gridcolor\":\"white\",\"gridwidth\":2,\"linecolor\":\"white\",\"showbackground\":true,\"ticks\":\"\",\"zerolinecolor\":\"white\"},\"yaxis\":{\"backgroundcolor\":\"#E5ECF6\",\"gridcolor\":\"white\",\"gridwidth\":2,\"linecolor\":\"white\",\"showbackground\":true,\"ticks\":\"\",\"zerolinecolor\":\"white\"},\"zaxis\":{\"backgroundcolor\":\"#E5ECF6\",\"gridcolor\":\"white\",\"gridwidth\":2,\"linecolor\":\"white\",\"showbackground\":true,\"ticks\":\"\",\"zerolinecolor\":\"white\"}},\"shapedefaults\":{\"line\":{\"color\":\"#2a3f5f\"}},\"ternary\":{\"aaxis\":{\"gridcolor\":\"white\",\"linecolor\":\"white\",\"ticks\":\"\"},\"baxis\":{\"gridcolor\":\"white\",\"linecolor\":\"white\",\"ticks\":\"\"},\"bgcolor\":\"#E5ECF6\",\"caxis\":{\"gridcolor\":\"white\",\"linecolor\":\"white\",\"ticks\":\"\"}},\"title\":{\"x\":0.05},\"xaxis\":{\"automargin\":true,\"gridcolor\":\"white\",\"linecolor\":\"white\",\"ticks\":\"\",\"title\":{\"standoff\":15},\"zerolinecolor\":\"white\",\"zerolinewidth\":2},\"yaxis\":{\"automargin\":true,\"gridcolor\":\"white\",\"linecolor\":\"white\",\"ticks\":\"\",\"title\":{\"standoff\":15},\"zerolinecolor\":\"white\",\"zerolinewidth\":2}}},\"xaxis\":{\"anchor\":\"y\",\"domain\":[0.0,1.0],\"title\":{\"text\":\"x\"}},\"yaxis\":{\"anchor\":\"x\",\"domain\":[0.0,1.0],\"title\":{\"text\":\"y\"}},\"coloraxis\":{\"colorbar\":{\"title\":{\"text\":\"cluster\"}},\"colorscale\":[[0.0,\"#0d0887\"],[0.1111111111111111,\"#46039f\"],[0.2222222222222222,\"#7201a8\"],[0.3333333333333333,\"#9c179e\"],[0.4444444444444444,\"#bd3786\"],[0.5555555555555556,\"#d8576b\"],[0.6666666666666666,\"#ed7953\"],[0.7777777777777778,\"#fb9f3a\"],[0.8888888888888888,\"#fdca26\"],[1.0,\"#f0f921\"]]},\"legend\":{\"tracegroupgap\":0},\"margin\":{\"t\":60}},                        {\"responsive\": true}                    ).then(function(){\n",
       "                            \n",
       "var gd = document.getElementById('c89ab587-ba59-4a64-b4ca-6228bacbb0f1');\n",
       "var x = new MutationObserver(function (mutations, observer) {{\n",
       "        var display = window.getComputedStyle(gd).display;\n",
       "        if (!display || display === 'none') {{\n",
       "            console.log([gd, 'removed!']);\n",
       "            Plotly.purge(gd);\n",
       "            observer.disconnect();\n",
       "        }}\n",
       "}});\n",
       "\n",
       "// Listen for the removal of the full notebook cells\n",
       "var notebookContainer = gd.closest('#notebook-container');\n",
       "if (notebookContainer) {{\n",
       "    x.observe(notebookContainer, {childList: true});\n",
       "}}\n",
       "\n",
       "// Listen for the clearing of the current output cell\n",
       "var outputEl = gd.closest('.output');\n",
       "if (outputEl) {{\n",
       "    x.observe(outputEl, {childList: true});\n",
       "}}\n",
       "\n",
       "                        })                };                });            </script>        </div>"
      ]
     },
     "metadata": {},
     "output_type": "display_data"
    }
   ],
   "source": [
    "from sklearn.manifold import TSNE\n",
    "\n",
    "tsne_pipeline = Pipeline([('scaler', StandardScaler()), ('tsne', TSNE(n_components=2, verbose=1))])\n",
    "genre_embedding = tsne_pipeline.fit_transform(X)\n",
    "projection = pd.DataFrame(columns=['x', 'y'], data=genre_embedding)\n",
    "projection['genres'] = data_by_genre['genres']\n",
    "projection['cluster'] = data_by_genre['cluster']\n",
    "\n",
    "fig = px.scatter(projection, x='x', y='y', color='cluster', hover_data=['x', 'y', 'genres'])\n",
    "fig.show()"
   ]
  },
  {
   "cell_type": "code",
   "execution_count": 54,
   "id": "aae6f322",
   "metadata": {},
   "outputs": [
    {
     "data": {
      "text/html": [
       "<div>\n",
       "<style scoped>\n",
       "    .dataframe tbody tr th:only-of-type {\n",
       "        vertical-align: middle;\n",
       "    }\n",
       "\n",
       "    .dataframe tbody tr th {\n",
       "        vertical-align: top;\n",
       "    }\n",
       "\n",
       "    .dataframe thead th {\n",
       "        text-align: right;\n",
       "    }\n",
       "</style>\n",
       "<table border=\"1\" class=\"dataframe\">\n",
       "  <thead>\n",
       "    <tr style=\"text-align: right;\">\n",
       "      <th></th>\n",
       "      <th>valence</th>\n",
       "      <th>year</th>\n",
       "      <th>acousticness</th>\n",
       "      <th>artists</th>\n",
       "      <th>danceability</th>\n",
       "      <th>duration_ms</th>\n",
       "      <th>energy</th>\n",
       "      <th>explicit</th>\n",
       "      <th>id</th>\n",
       "      <th>instrumentalness</th>\n",
       "      <th>key</th>\n",
       "      <th>liveness</th>\n",
       "      <th>loudness</th>\n",
       "      <th>mode</th>\n",
       "      <th>name</th>\n",
       "      <th>popularity</th>\n",
       "      <th>release_date</th>\n",
       "      <th>speechiness</th>\n",
       "      <th>tempo</th>\n",
       "      <th>cluster</th>\n",
       "    </tr>\n",
       "  </thead>\n",
       "  <tbody>\n",
       "    <tr>\n",
       "      <th>0</th>\n",
       "      <td>0.0594</td>\n",
       "      <td>1921</td>\n",
       "      <td>0.98200</td>\n",
       "      <td>['Sergei Rachmaninoff', 'James Levine', 'Berli...</td>\n",
       "      <td>0.279</td>\n",
       "      <td>831667</td>\n",
       "      <td>0.211</td>\n",
       "      <td>0</td>\n",
       "      <td>4BJqT0PrAfrxzMOxytFOIz</td>\n",
       "      <td>0.878000</td>\n",
       "      <td>10</td>\n",
       "      <td>0.6650</td>\n",
       "      <td>-20.096</td>\n",
       "      <td>1</td>\n",
       "      <td>Piano Concerto No. 3 in D Minor, Op. 30: III. ...</td>\n",
       "      <td>4</td>\n",
       "      <td>1921</td>\n",
       "      <td>0.0366</td>\n",
       "      <td>80.954</td>\n",
       "      <td>9</td>\n",
       "    </tr>\n",
       "    <tr>\n",
       "      <th>1</th>\n",
       "      <td>0.9630</td>\n",
       "      <td>1921</td>\n",
       "      <td>0.73200</td>\n",
       "      <td>['Dennis Day']</td>\n",
       "      <td>0.819</td>\n",
       "      <td>180533</td>\n",
       "      <td>0.341</td>\n",
       "      <td>0</td>\n",
       "      <td>7xPhfUan2yNtyFG0cUWkt8</td>\n",
       "      <td>0.000000</td>\n",
       "      <td>7</td>\n",
       "      <td>0.1600</td>\n",
       "      <td>-12.441</td>\n",
       "      <td>1</td>\n",
       "      <td>Clancy Lowered the Boom</td>\n",
       "      <td>5</td>\n",
       "      <td>1921</td>\n",
       "      <td>0.4150</td>\n",
       "      <td>60.936</td>\n",
       "      <td>1</td>\n",
       "    </tr>\n",
       "    <tr>\n",
       "      <th>2</th>\n",
       "      <td>0.0394</td>\n",
       "      <td>1921</td>\n",
       "      <td>0.96100</td>\n",
       "      <td>['KHP Kridhamardawa Karaton Ngayogyakarta Hadi...</td>\n",
       "      <td>0.328</td>\n",
       "      <td>500062</td>\n",
       "      <td>0.166</td>\n",
       "      <td>0</td>\n",
       "      <td>1o6I8BglA6ylDMrIELygv1</td>\n",
       "      <td>0.913000</td>\n",
       "      <td>3</td>\n",
       "      <td>0.1010</td>\n",
       "      <td>-14.850</td>\n",
       "      <td>1</td>\n",
       "      <td>Gati Bali</td>\n",
       "      <td>5</td>\n",
       "      <td>1921</td>\n",
       "      <td>0.0339</td>\n",
       "      <td>110.339</td>\n",
       "      <td>2</td>\n",
       "    </tr>\n",
       "    <tr>\n",
       "      <th>3</th>\n",
       "      <td>0.1650</td>\n",
       "      <td>1921</td>\n",
       "      <td>0.96700</td>\n",
       "      <td>['Frank Parker']</td>\n",
       "      <td>0.275</td>\n",
       "      <td>210000</td>\n",
       "      <td>0.309</td>\n",
       "      <td>0</td>\n",
       "      <td>3ftBPsC5vPBKxYSee08FDH</td>\n",
       "      <td>0.000028</td>\n",
       "      <td>5</td>\n",
       "      <td>0.3810</td>\n",
       "      <td>-9.316</td>\n",
       "      <td>1</td>\n",
       "      <td>Danny Boy</td>\n",
       "      <td>3</td>\n",
       "      <td>1921</td>\n",
       "      <td>0.0354</td>\n",
       "      <td>100.109</td>\n",
       "      <td>8</td>\n",
       "    </tr>\n",
       "    <tr>\n",
       "      <th>4</th>\n",
       "      <td>0.2530</td>\n",
       "      <td>1921</td>\n",
       "      <td>0.95700</td>\n",
       "      <td>['Phil Regan']</td>\n",
       "      <td>0.418</td>\n",
       "      <td>166693</td>\n",
       "      <td>0.193</td>\n",
       "      <td>0</td>\n",
       "      <td>4d6HGyGT8e121BsdKmw9v6</td>\n",
       "      <td>0.000002</td>\n",
       "      <td>3</td>\n",
       "      <td>0.2290</td>\n",
       "      <td>-10.096</td>\n",
       "      <td>1</td>\n",
       "      <td>When Irish Eyes Are Smiling</td>\n",
       "      <td>2</td>\n",
       "      <td>1921</td>\n",
       "      <td>0.0380</td>\n",
       "      <td>101.665</td>\n",
       "      <td>8</td>\n",
       "    </tr>\n",
       "    <tr>\n",
       "      <th>...</th>\n",
       "      <td>...</td>\n",
       "      <td>...</td>\n",
       "      <td>...</td>\n",
       "      <td>...</td>\n",
       "      <td>...</td>\n",
       "      <td>...</td>\n",
       "      <td>...</td>\n",
       "      <td>...</td>\n",
       "      <td>...</td>\n",
       "      <td>...</td>\n",
       "      <td>...</td>\n",
       "      <td>...</td>\n",
       "      <td>...</td>\n",
       "      <td>...</td>\n",
       "      <td>...</td>\n",
       "      <td>...</td>\n",
       "      <td>...</td>\n",
       "      <td>...</td>\n",
       "      <td>...</td>\n",
       "      <td>...</td>\n",
       "    </tr>\n",
       "    <tr>\n",
       "      <th>170648</th>\n",
       "      <td>0.6080</td>\n",
       "      <td>2020</td>\n",
       "      <td>0.08460</td>\n",
       "      <td>['Anuel AA', 'Daddy Yankee', 'KAROL G', 'Ozuna...</td>\n",
       "      <td>0.786</td>\n",
       "      <td>301714</td>\n",
       "      <td>0.808</td>\n",
       "      <td>0</td>\n",
       "      <td>0KkIkfsLEJbrcIhYsCL7L5</td>\n",
       "      <td>0.000289</td>\n",
       "      <td>7</td>\n",
       "      <td>0.0822</td>\n",
       "      <td>-3.702</td>\n",
       "      <td>1</td>\n",
       "      <td>China</td>\n",
       "      <td>72</td>\n",
       "      <td>2020-05-29</td>\n",
       "      <td>0.0881</td>\n",
       "      <td>105.029</td>\n",
       "      <td>7</td>\n",
       "    </tr>\n",
       "    <tr>\n",
       "      <th>170649</th>\n",
       "      <td>0.7340</td>\n",
       "      <td>2020</td>\n",
       "      <td>0.20600</td>\n",
       "      <td>['Ashnikko']</td>\n",
       "      <td>0.717</td>\n",
       "      <td>150654</td>\n",
       "      <td>0.753</td>\n",
       "      <td>0</td>\n",
       "      <td>0OStKKAuXlxA0fMH54Qs6E</td>\n",
       "      <td>0.000000</td>\n",
       "      <td>7</td>\n",
       "      <td>0.1010</td>\n",
       "      <td>-6.020</td>\n",
       "      <td>1</td>\n",
       "      <td>Halloweenie III: Seven Days</td>\n",
       "      <td>68</td>\n",
       "      <td>2020-10-23</td>\n",
       "      <td>0.0605</td>\n",
       "      <td>137.936</td>\n",
       "      <td>7</td>\n",
       "    </tr>\n",
       "    <tr>\n",
       "      <th>170650</th>\n",
       "      <td>0.6370</td>\n",
       "      <td>2020</td>\n",
       "      <td>0.10100</td>\n",
       "      <td>['MAMAMOO']</td>\n",
       "      <td>0.634</td>\n",
       "      <td>211280</td>\n",
       "      <td>0.858</td>\n",
       "      <td>0</td>\n",
       "      <td>4BZXVFYCb76Q0Klojq4piV</td>\n",
       "      <td>0.000009</td>\n",
       "      <td>4</td>\n",
       "      <td>0.2580</td>\n",
       "      <td>-2.226</td>\n",
       "      <td>0</td>\n",
       "      <td>AYA</td>\n",
       "      <td>76</td>\n",
       "      <td>2020-11-03</td>\n",
       "      <td>0.0809</td>\n",
       "      <td>91.688</td>\n",
       "      <td>4</td>\n",
       "    </tr>\n",
       "    <tr>\n",
       "      <th>170651</th>\n",
       "      <td>0.1950</td>\n",
       "      <td>2020</td>\n",
       "      <td>0.00998</td>\n",
       "      <td>['Eminem']</td>\n",
       "      <td>0.671</td>\n",
       "      <td>337147</td>\n",
       "      <td>0.623</td>\n",
       "      <td>1</td>\n",
       "      <td>5SiZJoLXp3WOl3J4C8IK0d</td>\n",
       "      <td>0.000008</td>\n",
       "      <td>2</td>\n",
       "      <td>0.6430</td>\n",
       "      <td>-7.161</td>\n",
       "      <td>1</td>\n",
       "      <td>Darkness</td>\n",
       "      <td>70</td>\n",
       "      <td>2020-01-17</td>\n",
       "      <td>0.3080</td>\n",
       "      <td>75.055</td>\n",
       "      <td>6</td>\n",
       "    </tr>\n",
       "    <tr>\n",
       "      <th>170652</th>\n",
       "      <td>0.6420</td>\n",
       "      <td>2020</td>\n",
       "      <td>0.13200</td>\n",
       "      <td>['KEVVO', 'J Balvin']</td>\n",
       "      <td>0.856</td>\n",
       "      <td>189507</td>\n",
       "      <td>0.721</td>\n",
       "      <td>1</td>\n",
       "      <td>7HmnJHfs0BkFzX4x8j0hkl</td>\n",
       "      <td>0.004710</td>\n",
       "      <td>7</td>\n",
       "      <td>0.1820</td>\n",
       "      <td>-4.928</td>\n",
       "      <td>1</td>\n",
       "      <td>Billetes Azules (with J Balvin)</td>\n",
       "      <td>74</td>\n",
       "      <td>2020-10-16</td>\n",
       "      <td>0.1080</td>\n",
       "      <td>94.991</td>\n",
       "      <td>6</td>\n",
       "    </tr>\n",
       "  </tbody>\n",
       "</table>\n",
       "<p>170653 rows × 20 columns</p>\n",
       "</div>"
      ],
      "text/plain": [
       "        valence  year  acousticness  \\\n",
       "0        0.0594  1921       0.98200   \n",
       "1        0.9630  1921       0.73200   \n",
       "2        0.0394  1921       0.96100   \n",
       "3        0.1650  1921       0.96700   \n",
       "4        0.2530  1921       0.95700   \n",
       "...         ...   ...           ...   \n",
       "170648   0.6080  2020       0.08460   \n",
       "170649   0.7340  2020       0.20600   \n",
       "170650   0.6370  2020       0.10100   \n",
       "170651   0.1950  2020       0.00998   \n",
       "170652   0.6420  2020       0.13200   \n",
       "\n",
       "                                                  artists  danceability  \\\n",
       "0       ['Sergei Rachmaninoff', 'James Levine', 'Berli...         0.279   \n",
       "1                                          ['Dennis Day']         0.819   \n",
       "2       ['KHP Kridhamardawa Karaton Ngayogyakarta Hadi...         0.328   \n",
       "3                                        ['Frank Parker']         0.275   \n",
       "4                                          ['Phil Regan']         0.418   \n",
       "...                                                   ...           ...   \n",
       "170648  ['Anuel AA', 'Daddy Yankee', 'KAROL G', 'Ozuna...         0.786   \n",
       "170649                                       ['Ashnikko']         0.717   \n",
       "170650                                        ['MAMAMOO']         0.634   \n",
       "170651                                         ['Eminem']         0.671   \n",
       "170652                              ['KEVVO', 'J Balvin']         0.856   \n",
       "\n",
       "        duration_ms  energy  explicit                      id  \\\n",
       "0            831667   0.211         0  4BJqT0PrAfrxzMOxytFOIz   \n",
       "1            180533   0.341         0  7xPhfUan2yNtyFG0cUWkt8   \n",
       "2            500062   0.166         0  1o6I8BglA6ylDMrIELygv1   \n",
       "3            210000   0.309         0  3ftBPsC5vPBKxYSee08FDH   \n",
       "4            166693   0.193         0  4d6HGyGT8e121BsdKmw9v6   \n",
       "...             ...     ...       ...                     ...   \n",
       "170648       301714   0.808         0  0KkIkfsLEJbrcIhYsCL7L5   \n",
       "170649       150654   0.753         0  0OStKKAuXlxA0fMH54Qs6E   \n",
       "170650       211280   0.858         0  4BZXVFYCb76Q0Klojq4piV   \n",
       "170651       337147   0.623         1  5SiZJoLXp3WOl3J4C8IK0d   \n",
       "170652       189507   0.721         1  7HmnJHfs0BkFzX4x8j0hkl   \n",
       "\n",
       "        instrumentalness  key  liveness  loudness  mode  \\\n",
       "0               0.878000   10    0.6650   -20.096     1   \n",
       "1               0.000000    7    0.1600   -12.441     1   \n",
       "2               0.913000    3    0.1010   -14.850     1   \n",
       "3               0.000028    5    0.3810    -9.316     1   \n",
       "4               0.000002    3    0.2290   -10.096     1   \n",
       "...                  ...  ...       ...       ...   ...   \n",
       "170648          0.000289    7    0.0822    -3.702     1   \n",
       "170649          0.000000    7    0.1010    -6.020     1   \n",
       "170650          0.000009    4    0.2580    -2.226     0   \n",
       "170651          0.000008    2    0.6430    -7.161     1   \n",
       "170652          0.004710    7    0.1820    -4.928     1   \n",
       "\n",
       "                                                     name  popularity  \\\n",
       "0       Piano Concerto No. 3 in D Minor, Op. 30: III. ...           4   \n",
       "1                                 Clancy Lowered the Boom           5   \n",
       "2                                               Gati Bali           5   \n",
       "3                                               Danny Boy           3   \n",
       "4                             When Irish Eyes Are Smiling           2   \n",
       "...                                                   ...         ...   \n",
       "170648                                              China          72   \n",
       "170649                        Halloweenie III: Seven Days          68   \n",
       "170650                                                AYA          76   \n",
       "170651                                           Darkness          70   \n",
       "170652                    Billetes Azules (with J Balvin)          74   \n",
       "\n",
       "       release_date  speechiness    tempo  cluster  \n",
       "0              1921       0.0366   80.954        9  \n",
       "1              1921       0.4150   60.936        1  \n",
       "2              1921       0.0339  110.339        2  \n",
       "3              1921       0.0354  100.109        8  \n",
       "4              1921       0.0380  101.665        8  \n",
       "...             ...          ...      ...      ...  \n",
       "170648   2020-05-29       0.0881  105.029        7  \n",
       "170649   2020-10-23       0.0605  137.936        7  \n",
       "170650   2020-11-03       0.0809   91.688        4  \n",
       "170651   2020-01-17       0.3080   75.055        6  \n",
       "170652   2020-10-16       0.1080   94.991        6  \n",
       "\n",
       "[170653 rows x 20 columns]"
      ]
     },
     "execution_count": 54,
     "metadata": {},
     "output_type": "execute_result"
    }
   ],
   "source": [
    "song_cluster_pipeline = Pipeline([('scaler', StandardScaler()), ('kmeans', KMeans(n_clusters=18))])\n",
    "X = data.select_dtypes(np.number)\n",
    "cluster_pipeline.fit(X)\n",
    "data['cluster'] = cluster_pipeline.predict(X)\n",
    "data"
   ]
  },
  {
   "cell_type": "code",
   "execution_count": null,
   "id": "475e8eaf",
   "metadata": {},
   "outputs": [
    {
     "name": "stderr",
     "output_type": "stream",
     "text": [
      "C:\\Users\\disha\\anaconda3\\lib\\site-packages\\sklearn\\manifold\\_t_sne.py:780: FutureWarning:\n",
      "\n",
      "The default initialization in TSNE will change from 'random' to 'pca' in 1.2.\n",
      "\n",
      "C:\\Users\\disha\\anaconda3\\lib\\site-packages\\sklearn\\manifold\\_t_sne.py:790: FutureWarning:\n",
      "\n",
      "The default learning rate in TSNE will change from 200.0 to 'auto' in 1.2.\n",
      "\n"
     ]
    },
    {
     "name": "stdout",
     "output_type": "stream",
     "text": [
      "[t-SNE] Computing 91 nearest neighbors...\n",
      "[t-SNE] Indexed 170653 samples in 0.009s...\n"
     ]
    }
   ],
   "source": [
    "tsne_pipeline = Pipeline([('scaler', StandardScaler()), ('tsne', TSNE(n_components=2, verbose=1))])\n",
    "genre_embedding = tsne_pipeline.fit_transform(X)\n",
    "projection = pd.DataFrame(columns=['x', 'y'], data=genre_embedding)\n",
    "projection['genres'] = data['genres']\n",
    "projection['cluster'] = data['cluster']\n",
    "\n",
    "fig = px.scatter(projection, x='x', y='y', color='cluster', hover_data=['x', 'y', 'genres'])\n",
    "fig.show()"
   ]
  }
 ],
 "metadata": {
  "kernelspec": {
   "display_name": "Python 3 (ipykernel)",
   "language": "python",
   "name": "python3"
  },
  "language_info": {
   "codemirror_mode": {
    "name": "ipython",
    "version": 3
   },
   "file_extension": ".py",
   "mimetype": "text/x-python",
   "name": "python",
   "nbconvert_exporter": "python",
   "pygments_lexer": "ipython3",
   "version": "3.9.12"
  }
 },
 "nbformat": 4,
 "nbformat_minor": 5
}
